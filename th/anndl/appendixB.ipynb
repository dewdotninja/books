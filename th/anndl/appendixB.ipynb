{
 "cells": [
  {
   "cell_type": "markdown",
   "metadata": {},
   "source": [
    "# ภาคผนวก B การติดตั้งซอฟต์แวร์\n",
    "\n",
    "ในการศึกษาการเรียนรู้เชิงลึกทั้งหมดในหนังสือนี้อาศัยโปรแกรมและไลบรารีสำหรับภาษาไพธอน \n",
    "โดยทดสอบโค้ดบนสมุดบันทึกจูปิเตอร์ (Jupyter notebook) ไลบรารีหลักที่ใช้คือเทนเซอร์โฟลว์ \n",
    "(TensorFlow) โดยในหนังสือจะเรียกย่อว่า TF ในการพัฒนายังต้องการไลบรารีสนับสนุนไพธอนทั่วไป \n",
    "เช่น numpy, matplotlib, scipy ภาคผนวกนี้ยังรวมการติดตั้งโปรแกรมสนับสนุนอื่นที่ใช้ในหนังสือ \n"
   ]
  },
  {
   "cell_type": "markdown",
   "metadata": {},
   "source": [
    "## B.1 โปรแกรม GNU wget\n",
    "\n",
    "[GNU Wget](https://www.gnu.org/software/wget/) เป็นแพ็กเกจซอฟต์แวร์ฟรีที่เผยแพร่ภายใต้ \n",
    "[ลิขสิทธ์สาธารณะทั่วไปของ GNU](https://www.gnu.org/licenses/gpl-3.0.html)\n",
    "สำหรับช่วยให้ดาวน์โฟลดไฟล์จากอินเทอร์เน็ตโดยโปรโตคอลต่างๆ ได้สะดวกขึ้น \n",
    "โดยเฉพาะเมื่อใช้งานในเซลล์สมุดบันทึก การติดตั้ง wget ทำได้ทั้งระบบปฏิบัติการ Windows, Mac-OSX \n",
    "หรือ Linux รายละเอียดการติดตั้งสามารถอ่านได้จากแหล่งออนไลน์ทั่วไป ในกรณีของ Ubuntu พบว่าติดตั้งให้โดยอัตโนมัติ\n",
    "ดังนั้นจะสรุปขั้นตอนเฉพาะ Windows และ Mac\n",
    "\n",
    "**การติดตั้งสำหรับ Windows**\n",
    "\n",
    "* [ดาวน์โหลดตัวติดตั้ง](https://sourceforge.net/projects/gnuwin32/files/wget/1.11.4-1/wget-1.11.4-1-setup.exe/download?use_mirror=excellmedia) \n",
    "* คลิกที่ไฟล์ติดตั้งที่ดาวน์โหลดมาเพื่อติดตั้งโปรแกรม (สามารถเลือกค่าโดยปริยายทั้งหมด)\n",
    "* หลังติดตั้งแล้ว หากต้องการให้ใช้งานได้โดยไม่ต้องเข้าไปที่ไดเรคทอรีที่ติดตั้งโปรแกรม \n",
    "ต้องเพิ่มตัวแปรสภาพแวดล้อม (environment variable) อ่านขั้นตอนได้จาก [ลิงก์นี้](https://techcult.com/how-to-download-install-and-use-wget-for-windows-10/)\n",
    "\n",
    "**การติดตั้งสำหรับ Mac-OSX**\n",
    "\n",
    "* หากยังไม่ได้ติดตั้งซอฟต์แวร์ [Homebrew](https://brew.sh/) ให้ติดตั้งเสียก่อน\n",
    "* เปิดหน้าต่าง Terminal พิมพ์  brew install wget \n",
    "\n",
    "\n",
    "หลังการติดตั้ง ทดลองโดยเปิดหน้าต่าง Command Prompt (Windows) หรือ Terminal (Mac) \n",
    "แล้วพิมพ์ wget --version หรือเปิดสมุดบันทึกนี้ใหม่และรันเซลล์ด้านล่างนี้ \n",
    "จะเห็นข้อความแสดงเวอร์ชันของซอฟต์แวร์ "
   ]
  },
  {
   "cell_type": "code",
   "execution_count": 3,
   "metadata": {},
   "outputs": [
    {
     "name": "stdout",
     "output_type": "stream",
     "text": [
      "GNU Wget 1.11.4\n",
      "\n",
      "Copyright (C) 2008 Free Software Foundation, Inc.\n",
      "License GPLv3+: GNU GPL version 3 or later\n",
      "<http://www.gnu.org/licenses/gpl.html>.\n",
      "This is free software: you are free to change and redistribute it.\n",
      "There is NO WARRANTY, to the extent permitted by law.\n",
      "\n",
      "Originally written by Hrvoje Niksic <hniksic@xemacs.org>.\n",
      "Currently maintained by Micah Cowan <micah@cowan.name>.\n"
     ]
    },
    {
     "name": "stderr",
     "output_type": "stream",
     "text": [
      "SYSTEM_WGETRC = c:/progra~1/wget/etc/wgetrc\n",
      "syswgetrc = C:\\Program Files (x86)\\GnuWin32/etc/wgetrc\n"
     ]
    }
   ],
   "source": [
    "!wget --version"
   ]
  },
  {
   "cell_type": "markdown",
   "metadata": {},
   "source": [
    "## B.2 การติดตั้ง TF และไลบรารีสนับสนุน\n",
    "\n",
    "การศึกษาและพัฒนาโมเดลการเรียนรู้เชิงลึกในหนังสือนี้จะใช้แพ็กเกจเทนเซอร์โฟลว์ (TF) ร่วมกับไลบรารีสนับสนุนของไพธอน เช่น \n",
    "numpy, matplotlib โดยตัวอย่างจะทำงานบนสมุดบันทึกจูปิเตอร์ (Jupyter notebook) \n",
    "หากจะกล่าวถึงการติดตั้งซอฟต์แวร์ทั้งหมดจะเป็นขั้นตอนที่ยาวและซับซ้อน ที่สำคัญคือปัญหาความไม่เข้ากันของไลบรารีที่แต่ละตัวถูกพัฒนาเป็นเอกเทศ \n",
    "เวอร์ชันล่าสุดของไลบรารีสนับสนุนอาจสร้างปัญหาให้กับตัวหลักคือ TF ทำให้ต้องกลับไปใช้เวอร์ชันก่อนหน้า ปัญหาลักษณะนี้จะมีพลวัตของตัวเอง \n",
    "ซึ่งหนทางที่ดีที่สุดคือติดตั้งจากคำแนะนำล่าสุดจากแหล่งความรู้ในอินเทอร์เน็ต จากประสบการณ์ผู้เขียนใช้วิธีการของ Jeff Heaton, Ph.D. จาก \n",
    "Washington University in St.Louis ซึ่งเผยแพร่ใน Youtube และมีการอัพเดตอย่างสม่ำเสมอ มีวีดีโอแยกสำหรับระบบปฏิบัติการ \n",
    "Windows, Mac-OSX (Intel และ Apple M1) และ Linux ตามลิงก์ดังนี้\n",
    "\n",
    "* [Windows](https://youtu.be/RgO8BBNGB8w)\n",
    "* [Mac-Intel](https://youtu.be/LnzgQr14p7s)\n",
    "* [Mac-M1](https://youtu.be/_CO-ND1FTOU)\n",
    "* [Linux](https://youtu.be/dj-Jntz-74g)\n",
    "\n",
    "ใช้ประกอบกับสมุดบันทึกออนไลน์ https://github.com/jeffheaton/t81_558_deep_learning/tree/master/install\n",
    "\n",
    "หากทำตามขั้นตอนในวีดีโอจะได้การติดตั้งซอฟต์แวร์ที่สมบูรณ์พร้อมรันตัวอย่างทั้งหมดในหนังสือนี้ \n",
    "(มีบางตัวอย่างที่ต้องดาวน์โหลดชุดข้อมูลจากเว็บที่ระบุมาใส่ในไดเรคทอรีของเครื่อง)\n",
    "\n",
    "\n",
    "\n"
   ]
  },
  {
   "cell_type": "code",
   "execution_count": null,
   "metadata": {},
   "outputs": [],
   "source": []
  },
  {
   "cell_type": "code",
   "execution_count": null,
   "metadata": {},
   "outputs": [],
   "source": []
  },
  {
   "cell_type": "code",
   "execution_count": null,
   "metadata": {},
   "outputs": [],
   "source": []
  },
  {
   "cell_type": "code",
   "execution_count": null,
   "metadata": {},
   "outputs": [],
   "source": []
  },
  {
   "cell_type": "code",
   "execution_count": null,
   "metadata": {},
   "outputs": [],
   "source": []
  },
  {
   "cell_type": "code",
   "execution_count": null,
   "metadata": {},
   "outputs": [],
   "source": []
  },
  {
   "cell_type": "code",
   "execution_count": null,
   "metadata": {},
   "outputs": [],
   "source": []
  },
  {
   "cell_type": "code",
   "execution_count": null,
   "metadata": {},
   "outputs": [],
   "source": []
  },
  {
   "cell_type": "code",
   "execution_count": null,
   "metadata": {},
   "outputs": [],
   "source": []
  },
  {
   "cell_type": "code",
   "execution_count": null,
   "metadata": {},
   "outputs": [],
   "source": []
  },
  {
   "cell_type": "code",
   "execution_count": null,
   "metadata": {},
   "outputs": [],
   "source": []
  },
  {
   "cell_type": "code",
   "execution_count": null,
   "metadata": {},
   "outputs": [],
   "source": []
  },
  {
   "cell_type": "code",
   "execution_count": null,
   "metadata": {},
   "outputs": [],
   "source": []
  },
  {
   "cell_type": "code",
   "execution_count": null,
   "metadata": {},
   "outputs": [],
   "source": []
  },
  {
   "cell_type": "code",
   "execution_count": null,
   "metadata": {},
   "outputs": [],
   "source": []
  },
  {
   "cell_type": "markdown",
   "metadata": {},
   "source": [
    "<p align=\"center\">\n",
    "<img src=\"https://drive.google.com/thumbnail?id=13bzT7Rmy3bzvE7TiS0yfQo94kpxMuipF\" alt=\"dewninja\"/>\n",
    "</p>\n",
    "<div align=\"center\">dew.ninja 2022</div>"
   ]
  },
  {
   "cell_type": "code",
   "execution_count": null,
   "metadata": {},
   "outputs": [],
   "source": []
  }
 ],
 "metadata": {
  "kernelspec": {
   "display_name": "Python 3.8 (tensorflow)",
   "language": "python",
   "name": "tensorflow"
  },
  "language_info": {
   "codemirror_mode": {
    "name": "ipython",
    "version": 3
   },
   "file_extension": ".py",
   "mimetype": "text/x-python",
   "name": "python",
   "nbconvert_exporter": "python",
   "pygments_lexer": "ipython3",
   "version": "3.8.13"
  }
 },
 "nbformat": 4,
 "nbformat_minor": 4
}
