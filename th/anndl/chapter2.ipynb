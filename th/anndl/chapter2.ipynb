{
 "cells": [
  {
   "cell_type": "markdown",
   "metadata": {},
   "source": [
    "#### โครงข่ายประสาทเทียมและการเรียนรู้เชิงลึก (Artificial Neural Networks and Deep Learning)\n",
    "**ดร.วโรดม ตู้จินดา**\n",
    "<br>ภาควิชาวิศวกรรมเครื่องกล มหาวิทยาลัยเกษตรศาสตร์"
   ]
  },
  {
   "cell_type": "markdown",
   "metadata": {},
   "source": [
    "***\n",
    "## บทที่ 2. คณิตศาสตร์พื้นฐานของโครงข่ายประสาทเทียม\n",
    "\n",
    "เนื้่อหาในบทนี้เป็นการศึกษาหลักการทางคณิตศาสตร์ของการเรียนรู้เชิงลึก\n",
    "เริ่มตั้งแต่การพยากรณ์เอาต์พุตที่เป็นสเกลาร์โดยโมเดลอย่างง่ายที่มีเพียงเซลล์ประสาทเดียว \n",
    "แนวทางของการเรียนรู้โดยมีผู้สอนคือการปรับค่าของพารามิเตอร์โมเดลเพื่อทำให้เอาต์พุตจากการพยากรณ์มีค่าเข้าสู่ค่าจริง \n",
    "\n",
    "ต่อมาจะกล่าวถึงปัญหาหนึ่งที่ได้รับความสนใจอย่างมากในการเรียนรู้เชิงลึก หรือในสาขาการเรียนรู้ของเครื่องโดยทั่วไปคือ \n",
    "การจำแนกประเภท (classification) ซึ่งเริ่มจากปัญหาขั้นพื้นฐานที่สุดคือการจำแนกทวิภาค (binary) \n",
    "เช่นการตรวจสอบว่ามีมนุษย์อยู่ในภาพหรือไม่ การจำแนกระหว่างสัตว์สองชนิด จนถึงการจำแนกหลายประเภท \n",
    "(multiclass) เช่นการตัดสินภาพของผลไม้ว่าเป็นองุ่น สัปปะรด กล้วยหอม หรือลูกไหน \n",
    "\n",
    "เมื่อพิจารณาปัญหาที่มนุษย์ประสบในชีวิตประจำวันจะพบว่ามีจำนวนไม่น้อยที่ต้องการการตัดสินใจ โดยเฉพาะปัญหาเชิงทวิภาค \n",
    "เช่นการเลือกอีเมล์ที่มีเนื้อหาสำคัญออกจากขยะ สภาพอากาศวันนี้เหมาะสมกับการตากผ้าหรือไม่ \n",
    "สภาพของเครื่องจักรกลในสายงานผลิตต้องการการบำรุงรักษาแล้วหรือยัง \n",
    "มีขั้นตอนวิธีด้านการเรียนรู้ของเครื่องที่สามารถช่วยแก้ปัญหาดังกล่าวได้อย่างเหมาะสม เช่นการแบ่งกลุ่ม (clustering)\n",
    "ต้นไม้การตัดสินใจ (decision tree) หรือ ซัพพอร์ตเวกเตอร์แมชชีน (support vector machine) ที่นิยมเรียกโดยย่อว่า SVM \n",
    "อย่างไรก็ตามวิธีการเหล่านี้มักจะด้อยประสิทธิภาพลงเมื่อข้อมูลมีจำนวนมาก ซึ่งเป็นเหตุผลสำคัญประการหนึ่งที่ทำให้โครงข่ายประสาทเทียม\n",
    "ได้รับความสนใจมากขึ้นในปัจจุบัน\n",
    "\n",
    "นำเข้าไลบรารีของไพธอนทั้งหมดที่ใช้งานในบทนี้ "
   ]
  },
  {
   "cell_type": "code",
   "execution_count": 1,
   "metadata": {},
   "outputs": [],
   "source": [
    "import numpy as np\n",
    "import matplotlib.pyplot as plt\n",
    "import tensorflow as tf\n",
    "import sklearn\n",
    "import sklearn.datasets\n",
    "import sklearn.linear_model"
   ]
  },
  {
   "cell_type": "markdown",
   "metadata": {},
   "source": [
    "### 2.1 การถดถอยเชิงเส้น\n",
    "\n",
    "อาจกล่าวได้ว่าการถดถอยเชิงเส้น (linear regression) คือปัญหาขั้นพื้นฐานที่สุดสำหรับการเรียนรู้เชิงลึก \n",
    "เป็นแนวทางเชิงเส้นในการโมเดลความสัมพันธ์ระหว่างผลตอบสนองสเกลาร์ (เอาต์พุต) กับตัวแปรอิสระที่อาจมีมากกว่าหนึ่งตัว \n",
    "ในกรณีที่เอาต์พุตมีมากกว่าหนึ่งจะเรียกว่า การถดถอยเชิงเส้นหลายตัวแปร (multivariable linear regression) \n",
    "ซึ่งจะไม่กล่าวถึงในหัวข้อนี้\n",
    "\n",
    "ปัญหาการถดถอยเชิงเส้นพื้นฐานที่ประกอบด้วยอินพุตสเกลาร์ $x$ เอาต์พุตสเกลาร์ $y$ สามารถโมเดลได้โดยสมการสัมพรรค \n",
    "$y = wx+b$ โดยค่าสเกลาร์ $w, b$ คือพารามิเตอร์ของโมเดล การหาค่าที่เหมาะที่สุดของ $w, b$ อาจทำได้โดยวิธีการทางสถิติ \n",
    "หรือวิธีกำลังสองน้อยสุด แต่สำหรับการศึกษาในบทนี้ต้องการต่อยอดไปยังการเรียนรู้เชิงลึก ดังนั้นจะใช้การฝึกโมเดลจากชุดข้อมูล\n",
    "\n",
    "เราสามารถใช้ขั้นตอนวิธีการถดถอยเชิงเส้นในการพยากรณ์ปัญหาพื้นฐานในชีวิตจริง เช่นราคาบ้าน การแพร่ระบาดของโรคติดต่อ \n",
    "แต่เพื่อความเข้าใจหลักการและสามารถต่อยอดไปยังโครงข่ายที่ซับซ้อนขึ้น จะยกตัวอย่างปัญหาจากข้อมูลสังเคราะห์ \n",
    "\n",
    "##### ตัวอย่าง 2.1\n",
    "\n",
    "สมมุติว่ามีระบบเชิงเส้นที่มีค่าพารามิเตอร์ดังนี้\n",
    "\n",
    "$$\n",
    "y = 2x - 3\n",
    "$$\n",
    "\n",
    "กำเนิดข้อมูล $(x,y)$ จำนวน 10 ตัวอย่างสำหรับใช้ในการฝึก \n"
   ]
  },
  {
   "cell_type": "code",
   "execution_count": 8,
   "metadata": {},
   "outputs": [
    {
     "name": "stdout",
     "output_type": "stream",
     "text": [
      "xs =  [ 1.  2.  3.  4.  5.  6.  7.  8.  9. 10.]\n",
      "ys =  [-1.  1.  3.  5.  7.  9. 11. 13. 15. 17.]\n"
     ]
    }
   ],
   "source": [
    "xs = np.arange(1, 11, dtype=float)\n",
    "ys = 2*xs - 3\n",
    "print(\"xs = \", xs)\n",
    "print(\"ys = \", ys)"
   ]
  },
  {
   "cell_type": "markdown",
   "metadata": {},
   "source": [
    "สร้างโครงข่ายประสาทเทียมอย่างง่ายสุดที่มีเพียงชั้นเดียวและเซลล์ประสาทเดียว และรูปร่างของอินพุตมีเพียง 1 ค่า"
   ]
  },
  {
   "cell_type": "code",
   "execution_count": 21,
   "metadata": {},
   "outputs": [],
   "source": [
    "model = tf.keras.Sequential([tf.keras.layers.Dense(units=1, input_shape=[1])])"
   ]
  },
  {
   "cell_type": "markdown",
   "metadata": {},
   "source": [
    "ในการคอมไพล์โมเดล จะต้องกำหนดฟังก์ชันการสูญเสีย (loss function) และตัวหาค่าเหมาะที่สุด (optimizer) \n",
    "ที่ต้องการใช้ สำหรับปัญหาการถดถอยเชิงเส้น เหมาะสมที่จะใช้ฟังก์ชันการสูญเสียแบบ ค่าผิดพลาดกำลังสองเฉลี่ย \n",
    "(mean squared error) และตัวหาค่าเหมาะที่สุดแบบลดค่าเกรเดียนต์สโทแคสติก (stochastic gradient descent) \n",
    "ซึ่งจะได้อธิบายเพิ่มเติมภายหลัง ในขั้นนี้เราเพียงใส่อาร์กิวเมนต์ตามรูปแบบที่ไลบรารีกำหนด"
   ]
  },
  {
   "cell_type": "code",
   "execution_count": 22,
   "metadata": {},
   "outputs": [],
   "source": [
    "model.compile(optimizer='sgd', loss='mean_squared_error')"
   ]
  },
  {
   "cell_type": "code",
   "execution_count": null,
   "metadata": {},
   "outputs": [],
   "source": [
    "หลังจากคอมไพล์แล้ว ขั้นตอนต่อไปคือการฝึกโมเดลโดยเรียก model.fit() ใส่อาร์กิวเมนต์เป็นแอเรย์อินพุต เอาต์พุต \n",
    "จำนวนรอบที่ต้องการฝึก เราจะลองแสดงเอาต์พุดจากการฝึก 10 รอบ"
   ]
  },
  {
   "cell_type": "code",
   "execution_count": 23,
   "metadata": {},
   "outputs": [
    {
     "name": "stdout",
     "output_type": "stream",
     "text": [
      "Epoch 1/10\n",
      "1/1 [==============================] - 0s 335ms/step - loss: 366.7484\n",
      "Epoch 2/10\n",
      "1/1 [==============================] - 0s 3ms/step - loss: 19.2155\n",
      "Epoch 3/10\n",
      "1/1 [==============================] - 0s 3ms/step - loss: 3.2502\n",
      "Epoch 4/10\n",
      "1/1 [==============================] - 0s 3ms/step - loss: 2.4978\n",
      "Epoch 5/10\n",
      "1/1 [==============================] - 0s 5ms/step - loss: 2.4436\n",
      "Epoch 6/10\n",
      "1/1 [==============================] - 0s 5ms/step - loss: 2.4216\n",
      "Epoch 7/10\n",
      "1/1 [==============================] - 0s 3ms/step - loss: 2.4012\n",
      "Epoch 8/10\n",
      "1/1 [==============================] - 0s 3ms/step - loss: 2.3811\n",
      "Epoch 9/10\n",
      "1/1 [==============================] - 0s 2ms/step - loss: 2.3611\n",
      "Epoch 10/10\n",
      "1/1 [==============================] - 0s 3ms/step - loss: 2.3413\n"
     ]
    },
    {
     "data": {
      "text/plain": [
       "<keras.callbacks.History at 0x2b1350dd3a0>"
      ]
     },
     "execution_count": 23,
     "metadata": {},
     "output_type": "execute_result"
    }
   ],
   "source": [
    "model.fit(xs, ys, epochs=10)"
   ]
  },
  {
   "cell_type": "markdown",
   "metadata": {},
   "source": [
    "จากเอาต์พุตจะเห็นว่าค่าการสูญเสียลดลง หมายความว่าตัวหาค่าเหมาะที่สุดทำงานอย่างถูกต้องเพื่อทำให้การพยากรณ์มีค่าเข้าใกล้ค่าจริงมากขึ้น \n",
    "กล่าวคือโมเดลกำลังเรียนรู้จากชุดข้อมูลที่ใช้ในการฝึก\n",
    "\n",
    "ต้องการฝึกโมเดลต่ออีก 1000 รอบ หากไม่ต้องการดูเอาต์พุตสามารถกำหนด verbose = 0 "
   ]
  },
  {
   "cell_type": "code",
   "execution_count": 24,
   "metadata": {},
   "outputs": [
    {
     "data": {
      "text/plain": [
       "<keras.callbacks.History at 0x2b136242fa0>"
      ]
     },
     "execution_count": 24,
     "metadata": {},
     "output_type": "execute_result"
    }
   ],
   "source": [
    "model.fit(xs, ys, epochs=1000,verbose=0)"
   ]
  },
  {
   "cell_type": "markdown",
   "metadata": {},
   "source": [
    "เมื่อฝึกจำนวนรอบตามต้องการแล้ว หากต้องการพยากรณ์เอาต์พุตสำหรับค่าอินพุตค่าหนึ่ง ใช่คำสั่ง model.predict() \n",
    "ตัวอย่างเช่นพยากรณ์ค่า $y$ สำหรับ $x = 20$"
   ]
  },
  {
   "cell_type": "code",
   "execution_count": 25,
   "metadata": {},
   "outputs": [
    {
     "name": "stdout",
     "output_type": "stream",
     "text": [
      "ค่า y จากการพยากรณ์ =  [[36.908337]]\n"
     ]
    }
   ],
   "source": [
    "y_hat = model.predict([20.0])\n",
    "print(\"ค่า y จากการพยากรณ์ = \",y_hat)"
   ]
  },
  {
   "cell_type": "markdown",
   "metadata": {},
   "source": [
    "เปรียบเทียบกับค่าจริงจาก $y = 2x - 3$ "
   ]
  },
  {
   "cell_type": "code",
   "execution_count": 26,
   "metadata": {},
   "outputs": [
    {
     "name": "stdout",
     "output_type": "stream",
     "text": [
      "ค่า y จากสมการจริง =  37.0\n"
     ]
    }
   ],
   "source": [
    "y_true = 2*20.0 - 3\n",
    "print(\"ค่า y จากสมการจริง = \",y_true)"
   ]
  },
  {
   "cell_type": "markdown",
   "metadata": {},
   "source": [
    "จะเห็นว่าค่าที่พยากรณ์มีค่าใกล้เคียงกับค่าจริง แต่ไม่เท่ากันโดยสมบูรณ์ หากต้องการแสดงค่าพารามิเตอร์ของโมเดลหลังจากการฝึกใช้คำสั่ง"
   ]
  },
  {
   "cell_type": "code",
   "execution_count": 27,
   "metadata": {
    "scrolled": true
   },
   "outputs": [
    {
     "data": {
      "text/plain": [
       "[array([[1.9929696]], dtype=float32), array([-2.9510565], dtype=float32)]"
      ]
     },
     "execution_count": 27,
     "metadata": {},
     "output_type": "execute_result"
    }
   ],
   "source": [
    "model.get_weights()"
   ]
  },
  {
   "cell_type": "markdown",
   "metadata": {},
   "source": [
    "ซึ่งมีความแตกต่างเล็กน้อยจากพารามิเตอร์จริงคือ $w = 2, b = -3$"
   ]
  },
  {
   "cell_type": "markdown",
   "metadata": {},
   "source": [
    "### 2.2 การถดถอยลอจิสติก\n",
    "\n",
    "พื้นฐานสำคัญทางคณิตศาสตร์ที่ช่วยทำให้เข้าใจการจำแนกประเภททวิภาคโดยโครงข่ายประสาทเทียมได้ดีขึ้นคือ การถดถอยลอจิสติก \n",
    "(logistic regression) ซึ่งแตกต่างจากการถดถอยเชิงเส้นในหัวข้อก่อนหน้านี้ \n",
    "ที่เป็นการพยากรณ์ค่าของตัวแปรเลขจำนวนจริง การถดถอยลอจิสติกเป็นการพยากรณ์ความน่าจะเป็นของ\n",
    "ผลลัพธ์ในช่วง [0,1] ซึ่งสอดคล้องกับปัญหาการจำแนกทวิภาค \n",
    "\n",
    "ก่อนจะเริ่มต้นศึกษาการถดถอยลอจิสติก จำเป็นต้องกล่าวถึงสัญกรณ์ที่ใช้ในการกำหนดขนาดของอินพุตและเอาต์พุต \n",
    "พิจารณาตัวอย่างปัญหาการจำแนกทวิภาคของข้อมูลภาพดังแสดงในรูปที่ 2.1 โจทย์คือต้องการตรวจสอบภาพอินพุตหนึ่งและให้เอาต์พุตเป็น \n",
    "0 หากไม่มีแมวในภาพ หรือเป็น 1 หากตรวจพบแมว \n",
    "\n",
    "<p />  \n",
    "<p align=\"center\">\n",
    "<img src=\"https://drive.google.com/uc?id=1Jk4KeX6OeIuzvGO9i_Nj0940KBtidAin\" width=600 />\n",
    "</p>\n",
    "<div align=\"center\">รูปที่ 2.1 การจัดรูปแบบข้อมูลภาพในการจำแนกทวิภาค</div>\n",
    "\n",
    "สมมุติว่าภาพมีขนาดความกว้างและความยาวเท่ากับ 64 พิกเซล และเป็นภาพสีที่แทนด้วย RGB (แดง เขียว น้ำเงิน) \n",
    "ดังนั้นจำนวนจุดข้อมูลทั้งหมดของอินพุตคือ 64 x 64 x 3 = 12,288 จุด ในการประมวลผลโดยโครงข่ายประสาทเทียม \n",
    "จะจัดเรียงจุดข้อมูลเหล่านี้เป็นเวกเตอร์อินพุต เริ่มจากจุดสมาชิกของสีแดง ต่อด้วยสีเขียว และสีน้ำเงิน ดังในรูปที่ 2.1 "
   ]
  },
  {
   "cell_type": "markdown",
   "metadata": {},
   "source": [
    "ในการกำหนดสัญกรณ์ที่ใช้ในหนังสือนี้ สำหรับข้อมูลตัวอย่างหนึ่งภาพ $(x,y)$ ประกอบด้วยภาพอินพุต $X \\in \\mathbf{R}^{n_x}$ \n",
    "และเลเบล $Y \\in \\{0,1\\}$ สำหรับกรณีภาพไม่มีหรือมีแมว กำหนดจำนวนข้อมูลที่ใช้ในการฝึก $m$ ตัวอย่างเขียนได้ในรูป \n",
    "$(x^{(1)},y^{(1)}),(x^{(2)},y^{(2)}),\\ldots,(x^{(m)},y^{(m)})$ \n",
    "โดยสังเกตว่าจะใช้เลขยกกำลังในวงเล็บแทนดัชนีของตัวอย่าง \n",
    "\n",
    "ในการฝึกข้อมูลจำนวน $m$ ตัวอย่าง นิยามเมทริกซ์อินพุต $X \\in \\mathbf{R}^{n_x \\times m}$\n",
    "\n",
    "$$\n",
    "X = \\begin{bmatrix}\n",
    "\\vdots & \\vdots & \\vdots & \\vdots \\\\\n",
    "X^{(1)} & X^{(2)} & \\ldots & X^{(m)} \\\\\n",
    "\\vdots & \\vdots & \\vdots & \\vdots \\\\\n",
    "\\end{bmatrix} \\tag{2.1}\n",
    "$$\n",
    "\n",
    "และเวกเตอร์เอาต์พุต $Y \\in \\mathbf{R}^{1 \\times m}$\n",
    "\n",
    "$$\n",
    "Y = \\begin{bmatrix} \n",
    "y^{(1)} & y^{(2)} & \\ldots & y^{(m)} \n",
    "\\end{bmatrix} \\tag{2.2}\n",
    "$$\n",
    "\n",
    "ดังนั้นสำหรับสัญกรณ์ที่กำหนดนี้ สามารถสรุปปัญหาการถดถอยลอจิสติกได้คือ สำหรับข้อมูลอินพุต $X \\in \\mathbf{R}^{n_x}$ ตัวอย่างหนึ่ง เช่นรูปภาพที่ต้องการตัดสินว่ามีแมวอยู่หรือไม่ \n",
    "ต้องการให้ขั้นตอนวิธีพยากรณ์ผลลัพธ์ $\\hat{y} = P(y=1|x)$ คือความน่าจะเป็นที่ภาพนี้จะเป็นภาพแมว \n",
    "\n",
    "ในการคำนวณเอาต์พุตจากพารามิเตอร์ของขั้นตอนวิธีคือ $w \\in \\mathbf{R}^{n_x}$ และ $b \\in \\mathbf{R}$ ต้องการประมาณค่า $\\hat{y}$ \n",
    "พบว่าแนวทางอย่างง่ายคือใช้ฟังก์ชันสัมพรรค $\\hat{y} = w^Tx + b$ ไม่เหมาะสมเนื่องจากไม่สามารถจำกัดเอาต์พุตให้อยู่ในช่วง 0 - 1 ได้ \n",
    "วิธีแก้คือส่งเอาต์พุตผ่านฟังก์ชันกระตุ้นแบบไม่เป็นเชิงเส้น \n",
    "\n",
    "$$\n",
    "\\hat{y} = \\sigma(w^Tx + b) \\tag{2.3}\n",
    "$$\n",
    "\n",
    "โดยฟังก์ชันซิกมอยด์ $\\sigma()$ มีนิยามดังนี้\n",
    "\n",
    "$$\n",
    "\\sigma(z) = \\frac{1}{1+e^{-z}} \\tag{2.4}\n",
    "$$\n",
    "\n",
    "สามารถพล็อตกราฟของ $\\sigma()$ โดยโค้ดไพธอนได้ดังรูปที่ 2.2 "
   ]
  },
  {
   "cell_type": "code",
   "execution_count": 1,
   "metadata": {},
   "outputs": [
    {
     "data": {
      "image/png": "[encoded data removed]",
      "text/plain": [
       "<Figure size 432x288 with 1 Axes>"
      ]
     },
     "metadata": {
      "needs_background": "light"
     },
     "output_type": "display_data"
    }
   ],
   "source": [
    "z = np.linspace(-10, 10, 100)\n",
    "y = 1/(1 + np.exp(-z))\n",
    "  \n",
    "plt.plot(z,y)\n",
    "plt.xlabel(\"z\")\n",
    "plt.ylabel(\"Sigmoid(z)\")\n",
    "plt.grid() \n",
    "plt.show()"
   ]
  },
  {
   "cell_type": "markdown",
   "metadata": {},
   "source": [
    "รูปที่ 2.2 กราฟของฟังก์ชันซิกมอยด์\n",
    "\n",
    "ทดลองเปลี่ยนย่านของตัวแปร $z$ ให้กว้างขึ้น จะพบว่าเมื่อ $z$ มีค่ามาก $\\sigma(z)$ จะลู่เข้าสู่ค่า 1 ส่วนเมื่อ $z$ มีค่ามากทางด้านลบ \n",
    "$\\sigma(z)$ จะลู่เข้าสู่ค่า 0 ดังนั้นการประมาณค่าความน่าจะเป็นโดย (2.3) จึงมีค่าอยู่ในช่วง $[0,1]$ ตามต้องการ\n",
    "\n",
    "#### 2.2.1 ฟังก์ชันมูลค่า\n",
    "\n",
    "สรุปโจทย์ปัญหาของการถดถอยลอจิสติกได้ว่า เมื่อกำหนดข้อมูล $(x^{(1)},y^{(1)}),(x^{(2)},y^{(2)}),\\ldots,(x^{(m)},y^{(m)})$ \n",
    "ต้องการพยากรณ์ $\\hat{y}^{(i)} \\approx y^{i}$ โดย $\\hat{y}^{(i)} = \\sigma(w^Tx^{(i)} + b)$ \n",
    "และ $\\sigma(z^{(i)}) = \\frac{1}{1+e^{-z^{(i)}}}$\n",
    "\n",
    "ก่อนที่จะฝึกขั้นตอนวิธี จะต้องนิยามฟังก์ชันมูลค่า (cost function) โดยเริ่มจากหาฟังก์ชันที่คำนวณค่าผิดพลาด เรียกว่าฟังก์ชันการสูญเสีย \n",
    "(loss function) ซึ่งเป็นตัวชี้วัดว่าการพยากรณ์ใกล้เคียงมากน้อยเพียงใด ตัวอย่างหนึ่งของฟังก์ชันการสูญเสียที่ใช้ในการพยากรณ์รูปแบบอื่นคือค่าผิดพลาดกำลังสอง \n",
    "$\\mathcal{L}(\\hat{y},y)=\\frac{1}{2}(\\hat{y}-y)^2$ แต่จะพบว่าไม่เหมาะสมสำหรับปัญหาการถดถอยลอจิสติกเพราะทำให้การหาค่าเหมาะที่สุดไม่เป็นแบบคอนเวกซ์\n",
    "ผลคือไม่สามารถหาค่าต่ำสุดครอบคลุม (global minimum) ของฟังก์ชันได้ \n",
    "\n",
    "ดังนั้นสำหรับปัญหาการถดถอยลอจิสติกจะใช้ฟังก์ชันการสูญเสียที่ทำให้การหาค่าเหมาะุที่สุดเป็นแบบคอนเวกซ์ นิยามได้เป็นดังนี้\n",
    "\n",
    "$$\n",
    "\\mathcal{L}(\\hat{y},y)= -(y\\; log \\hat{y}+(1-y)log (1-\\hat{y})) \\tag{2.5}\n",
    "$$\n",
    "\n",
    "เมื่อลองวิเคราะห์แบบง่ายจะเข้าใจว่าทำไมฟังก์ชันนี้ถึงมีความเหมาะสม ในกรณี $y = 1$ ฟังก์ชันการสูญเสียจะลดเหลือ \n",
    "$\\mathcal{L}(\\hat{y},y)= -log \\hat{y}$ หากต้องการลดค่าการสูญเสียเหลือน้อยสุด $log \\hat{y}$ จะต้องมีค่ามาก \n",
    "กล่าวคือ $\\hat{y}$ มีค่ามาก แต่ค่าสูงสุดของฟังก์ชันซิกมอยด์คือ 1 ดังนั้น $\\hat{y} \\rightarrow 1$ ส่วนในกรณี $y = 0$ \n",
    "จะได้ว่า $\\mathcal{L}(\\hat{y},y)= -log (1- \\hat{y})$ ค่าการสูญเสียจะน้อยเมือ $log (1 - \\hat{y})$ มีค่ามาก คือ \n",
    "$\\hat{y}$ มีค่าน้อย ซึ่งจากค่าน้อยสุดของฟังก์ชันซิกมอยด์ $\\hat{y} \\rightarrow 0$\n",
    "\n",
    "สังเกตว่าฟังก์ชันการสูญเสียนี้ถูกนิยามสำหรับข้อมูลการฝึกเพียงตัวอย่างเดียว เราต้องการนิยามฟังก์ชันมูลค่าสำหรับเซตข้อมูลการฝึกทั้งหมด\n",
    "\n",
    "$$\n",
    "J(w,b) = \\frac{1}{m} \\sum_{i=1}^m \\mathcal{L}(\\hat{y}^{(i)}, y^{(i)}) = -\\frac{1}{m}\\sum_{i=1}^m [y^{(i)} log \\hat{y}^{(i)}+(1-y^{(i)})log (1-\\hat{y}^{(i)})] \\tag{2.6}\n",
    "$$\n",
    "\n",
    "ในส่วนท้ายของหัวข้อย่อยนี้จะอธิบายเพิ่มเติมสำหรับผู้อ่านที่สนใจที่มาของฟังก์ชันการสูญเสียและฟังก์ชันมูลค่าสำหรับปัญหาการถดถอยลอจิสติก ในการพยากรณ์เอาต์พุต \n",
    "$\\hat{y} = \\sigma(w^Tx+b)$ ตีความได้ว่า $\\hat{y} = p(y=1|x)$ คือความน่าจะเป็นที่จะได้ค่าเอาต์พุตเป็น 1 สำหรับอินพุตที่กำหนด \n",
    "หรืออาจกล่าวได้ว่าสำหรับค่า $y \\in \\{0, 1\\}$\n",
    "\n",
    "$$\n",
    "y = 1 \\rightarrow p(y|x) = \\hat{y} \n",
    "$$\n",
    "\n",
    "$$\n",
    "y = 0 \\rightarrow p(y|x) = 1 - \\hat{y}\n",
    "$$\n",
    "\n",
    "ต้องการรวมสองเงื่อนไขนี้ให้อยู่ในสมการเดียวกัน จะเขียนได้เป็นดังนี้\n",
    "\n",
    "$$\n",
    "p(y|x) = \\hat{y}^y(1-\\hat{y})^{(1-y)}\n",
    "$$\n",
    "\n",
    "ตรวจสอบได้โดยการแทนค่า $y \\in \\{0, 1\\}$ ในขั้นตอนต่อมาพิจารณาฟังก์ชัน log() ที่เป็นแบบฟังก์ชันทางเดียว (monotonic) และมีคุณสมบัติ\n",
    "\n",
    "$$\n",
    "log \\; p(y|x) = log \\; (\\hat{y}^y(1-\\hat{y})^{(1-y)}) = y\\; log \\hat{y}+(1-y)log (1-\\hat{y})\n",
    "$$\n",
    "\n",
    "ซึ่งสอดคล้องกับพจน์ทางด้านขวาของฟังก์ชันการสูญเสีย (2.5) การที่ใช้เป็นค่าลบเนื่องจากในการฝึกต้องการให้ฟังก์ชันมีค่าน้อยสุด \n",
    "เป็นผลทำให้ค่าลอการิทึมของความน่าจะเป็นมีค่ามากสุด \n",
    "\n",
    "จากฟังก์ชันการสูญเสียของหนึ่งตัวอย่างสามารถขยายไปสู่ฟังก์ชันมูลค่าของตัวอย่างทั้งหมด พิจารณาความน่าจะเป็นของเลเบลทั้งหมดในการฝึก \n",
    "เขียนแทนโดย $p(Y|X)$ ที่ต้องการทำให้มีค่ามากสุด\n",
    "\n",
    "$$\n",
    "p(Y|X) = \\prod_{i=1}^m\\; p(y^{(i)}|x^{(i)})\n",
    "$$\n",
    "\n",
    "ใส่ฟังก์ชันลอการิทึมทั้งสองด้านไม่ทำให้การหาค่าเหมาะที่สุดเปลี่ยน เพราะ log() เป็นฟังก์ชันทางเดียว\n",
    "\n",
    "$$\n",
    "log \\;p(Y|X) = log \\; \\prod_{i=1}^m\\; p(y^{(i)}|x^{(i)}) = \\sum_{i=1}^m\\; log \\; p(y^{(i)}|x^{(i)}) = -\\sum_{i=1}^m \\mathcal{L}(\\hat{y}^{(i)}, y^{(i)})\n",
    "$$\n",
    "\n",
    "โดยใช้คุณสมบัติลอการิทึมของผลคูณเท่ากับผลบวกของลอการิทึม ดังนั้นจึงเป็นที่มาของฟังก์ชันมูลค่า (2.6) \n",
    "โดยละทิ้งเครื่องหมายลบเนื่องจากการต้องการลดค่า $J(w,b)$ เพื่อเพิ่มค่าความน่าจะเป็น $p(Y|X)$ สำหรับการเพิ่มพจน์ $1/m$ \n",
    "ก็เพื่อความเหมาะสมในการปรับมาตราส่วนเท่นั้น โดยไม่มีผลกับขั้นตอนวิธีการหาค่าเหมาะที่สุด\n",
    "\n",
    "#### 2.2.2 ขั้นตอนวิธีลดค่าเกรเดียนต์\n",
    "\n",
    "หลังจากที่ได้นิยามฟังก์ชันมูลค่าแล้ว การฝึกโครงข่ายประสาทเทียมเพื่อเรียนรู้การจำแนกกระทำได้โดยใช้ขั้นตอนวิธีหาค่าเหมาะที่สุดเพื่อลดค่าของฟังก์ชันมูลค่า (2.6) \n",
    "กล่าวคือ ต้องการหาค่า $w,b$ เพื่อลดค่า $J(w,b)$ ให้เหลือน้อยที่สุด ขั้นตอนวิธีรูปแบบหนึ่งที่เป็นพื้นฐา่นและเข้าใจได้ง่ายเรียกว่า การลดค่าเกรเดียนต์ (gradient descent) \n",
    "\n",
    "ในความเป็นจริง มิติของ $J(w,b)$ ขึ้นกับข้อมูล แต่เพื่อให้มองเห็นภาพจะแสดงโดยฟังก์ชันคอนเว็กซ์ใน 3 มิติดังเช่นในรูปที่ 2.2 \n",
    "ก่อนเริ่มต้นการฝึก $J(w,b)$ ถูกตั้งค่าเป็นจุดใดๆ บนพื้นที่ผิวของกราฟ \n",
    "(แสดงโดยตัวอักษร A ในรูปที่ 2.2) ในแต่ละขั้น ค่าเกรเดียนต์หรือความชันจะถูกคำนวณและขั้นตอนวิธีจะปรับตำแหน่งของ $J(w,b)$ \n",
    "ในทิศทางตรงกันข้ามกับค่าความชันสูงสุด เปรียบได้กับการไต่ลงจากหน้าผาในทิศทางที่ชันที่สุดนั่นเอง ดังนั้นหากฟังก์ชันเป็นแบบคอนเวกซ์ \n",
    "ค่าของ $J(w,b)$ จะเคลื่อนที่ลงจนในที่สุดเข้าสู่จุด O ซึ่งเป็นค่าต่ำสุดครอบคลุม\n",
    "\n",
    "<p />  \n",
    "<p align=\"center\">\n",
    "<img src=\"https://drive.google.com/uc?id=1A8wHCD7JVaZQias8Rf-UKvr18--EMvSe\" width=600 />\n",
    "</p>\n",
    "<div align=\"center\">รูปที่ 2.2 การทำงานของขั้นตอนวิธีลดค่าเกรเดียนต์</div>\n",
    "\n",
    "ในการอธิบายการทำงานของการลดค่าเกรเดียนต์ให้เข้าใจได้ง่ายขึ้น จะลดมิติของฟังก์ชันมูลค่าลงเหลือ 2 มิติโดยพิจารณาเพียงพารามิเตอร์ \n",
    "$w$ เท่านั้นดังแสดงในรูปที่ 2.3 ขั้นตอนวิธีสำหรับปรับค่าพารามิเตอร์จะอยู่ในรูป\n",
    "\n",
    "*Repeat :*\n",
    "$$\n",
    "w := w - \\alpha \\; dw \\tag{2.7}\n",
    "$$\n",
    "\n",
    "<p />  \n",
    "<p align=\"center\">\n",
    "<img src=\"https://drive.google.com/uc?id=1uCRs0tac9Wm5q_I3G0BILp1y47AherL2\" width=600 />\n",
    "</p>\n",
    "<div align=\"center\">รูปที่ 2.3 ขั้นตอนวิธีลดค่าเกรเดียนต์ใน 2 มิติ</div>\n",
    "\n",
    "โดยลักษณะคำสั่งนี้เขียน $dw$ แทน $\\frac{dJ(w)}{dw}$ เพื่อความง่าย เครื่องหมาย := \n",
    "คือการแทนค่าด้านซ้ายด้วยผลการคำนวณทางด้านขวา คำสั่งนี้จะถูกวนรอบจนกว่าค่าแตกต่างจากจุดต่ำสุดอยู่ในเกณฑ์ที่พอใจ \n",
    "ตัวแปร $\\alpha$ แทนอัตราการเรียนรู้ซึ่งเป็นตัวควบคุมขนาดของขั้นในการปรับค่าแต่ละครั้งของการวนรอบ\n",
    "\n",
    "**หมายเหตุ :** ในการตั้งชื่อตัวแปรสำหรับการแพร่กระจายย้อนหลัง (back propagation) \n",
    "สมมุติว่าตัวแปร $u,\\; v$ คือเอาต์พุตที่เกิดขึ้นในระหว่างชั้นของโครงข่ายประสาทเทียมและ $J$ \n",
    "คือเอาต์พุตขั้นสุดท้าย เราจะใช้ชื่อ <code>du, dv</code>\n",
    "แทน $\\frac{dJ}{du},\\; \\frac{dJ}{dv}$ \n",
    "เนื่องจากส่วน $dJ$ จะอยู่ในทุกพจน์ที่ใช้กฎลูกโซ่ของแคลคูลัสในการคำนวณ\n",
    "การตั้งชื่อยาวเช่น <code>dJdu, dJdv</code> ทำให้โค้ดอ่านยากขึ้น\n",
    "    \n",
    "\n",
    "พิจารณากรณีจุดเริ่มต้น L อยู่ทางซ้ายของจุดต่ำสุด O เมื่อคำนวณอนุพันธ์ (ความชัน) ที่จุด L จะได้ว่า $dw_L <0$ ดังนั้นจาก \n",
    "(2.6) ค่าของ $w$ จะถูกปรับให้มีค่าเพิ่มขึ้น คือเคลื่อนที่ในทิศทางด้านขวาตามลูกศรเข้าสู่จุด O สำหรับกรณีจุดเริ่มต้น R ที่อยู่ทางขวาของ O \n",
    "จะได้ $dw_R > 0$ ดังนั้น $w$ จะเคลื่อนที่ในทิศทางด้านซ้ายตามลูกศรเข้าสู่จุด O สรุปได้ว่าเมื่อ $J(w)$ เป็นฟังก์ชันคอนเวกซ์ \n",
    "ขั้นตอนวิธีลดค่าเกรเดียนต์จะทำให้ฟังก์ชันมูลค่าเข้าสู่จุดต่ำสุดครอบคลุมได้เสมอ \n",
    "เว้นแต่ว่าค่าของอัตราการเรียนรู้สูงเกินไปอาจทำให้ขั้นตอนวิธีไม่เสถียร\n",
    "\n",
    "เราสามารถใช้คำอธิบายข้างต้นกับพารามิเตอร์ $b$ โดยขั้นตอนวิธี\n",
    "\n",
    "*Repeat :* \n",
    "$$\n",
    "b := b - \\alpha \\; db \\tag{2.8}\n",
    "$$\n",
    "\n",
    "และขยายไปถึงกรณีหลายมิติทั่วไปที่ไม่สามารถแสดงรูปภาพได้ \n",
    "และสำหรับผู้ที่เคร่งในสัญกรณ์ทางคณิตศาสตร์ อนุพันธ์จะต้องถูกแทนด้วยอนุพันธ์ย่อย $\\frac{\\partial J(w,b)}{\\partial w}$ \n",
    "และ $\\frac{\\partial J(w,b)}{\\partial b}$ แต่ในการเขียนโค้ดเราจะยังคงแทนด้วย $dw$ และ $db$ ตามลำดับ \n",
    "ดังเช่นในขั้นตอนวิธี (2.6), (2.7)\n",
    "\n"
   ]
  },
  {
   "cell_type": "markdown",
   "metadata": {},
   "source": [
    "#### 2.2.3 การลดค่าเกรเดียนต์สำหรับการถดถอยลอจิสติก\n",
    "\n",
    "ในหัวข้อย่อยนี้เป็นการศึกษาแนวทางการใช้ขั้นตอนวิธีลดค่าเกรเดียนต์สำหรับปัญหาการถดถอย โดยเริ่มต้นจากการเขียนโค้ดจากสมการคณิตศาสตร์โดยตรง \n",
    "ในการพัฒนาโครงข่ายประสาทเทียมขั้นพื้นฐานจะใช้เครื่องมือที่เรียกว่าแผนภาพเชิงคำนวณ (computational graph) \n",
    "ซึ่งมีข้อดีคือช่วยทำให้เข้าใจการไหลทั้งด้านเดินหน้าและย้อนหลังได้ง่าย (ถึงแม้ว่า TF เวอร์ชัน 2.x จะไม่ได้ใช้เป็นเครื่องมือหลักแล้วก็ตาม) \n",
    "เพื่อให้เข้าใจถึงคณิตศาสตร์ภายในของโครงข่ายประสาทเทียมและการเรียนรู้เชิงลึกดีขึ้น เราจะลองเขียนโค้ดโดยใช้แผนภาพเชิงคำนวณ\n",
    "\n",
    "ต้องการให้สัญกรณ์สอดคล้องกับชื่อตัวแปรในโปรแกรม โดยหลีกเลี่ยงสัญลักษณ์พิเศษเช่น $\\hat{y}$ เราจะกำหนดโดยใช้อักขระดังนี้\n",
    "$$\n",
    "z = w^Tx + b \\tag{2.9}\n",
    "$$\n",
    "$$\n",
    "\\hat{y} = a = \\sigma(z) \\tag{2.10}\n",
    "$$\n",
    "$$\n",
    "\\mathcal{L}(a,y) = -(y\\;log(a) + (1-y)log(1-a)) \\tag{2.11}\n",
    "$$\n",
    "\n",
    "ในการอธิบายจะใช้ ANN สองอินพุต ซึ่งเมื่อเข้าใจแล้วสามารถขยายไปยัง ANN ทั่วไปที่มีจำนวนอินพุตเท่ากับ\n",
    "$n_x$ รูปที่ 2.4 แสดงแผนภาพเชิงคำนวณสำหรับ 1 ข้อมูลตัวอย่างที่จะใช้ในการเขียนโปรแกรม ประกอบด้วยการคำนวณในทิศทางข้างหน้า (2.9) - (2.11)\n",
    "เพื่อหาค่าฟังก์ชันการสูญเสียจากอินพุตและพารามิเตอร์ของ ANN และการแพร่กระจายย้อนหลังเพื่อปรับค่าของพารามิเตอร์ \n",
    "\n",
    "<p />  \n",
    "<p align=\"center\">\n",
    "<img src=\"https://drive.google.com/uc?id=1-Lvnj4KyFFT0o6Y4TnB57hf_N0gRVkfG\" width=600 />\n",
    "</p>\n",
    "<div align=\"center\">รูปที่ 2.4 แผนภาพเชิงคำนวณของโครงข่ายประสาทเทียม 2 อินพุต</div>\n",
    "\n",
    "**หมายเหตุ :** การแสดงรายละเอียดของการแพร่กระจายย้อนกลับนี้จะค่อนข้างซับซ้อน ในทางปฏิบัติจะถูกจัดการโดยไลบรารีเช่น TF \n",
    "\n",
    "ในการคำนวณการแพร่กระจายย้อนหลังจะใช้หลักการของแคลคูลัสร่วมกับกฎลูกโซ่ \n",
    "เริ่มจากการหาอนุพันธ์ของฟังก์ชันการสูญเสีย (2.5) ทิ้งให้เป็นแบบฝึกหัดในการแสดงว่า\n",
    "\n",
    "$$\n",
    "\\frac{d\\mathcal{L}(a,y)}{da} = -\\frac{y}{a} + \\frac{1-y}{1-a} \\tag{2.12}\n",
    "$$\n",
    "\n",
    "ในโค้ดจะเรียกตัวแปรนี้ว่า <code>da</code> ต่อมาแพร่กระจายค่านี้ย้อนหลังจะได้ว่า\n",
    "\n",
    "$$\n",
    "d\\frac{d\\mathcal{L}(a,y)}{dz} = \\frac{\\mathcal{L}(a,y)}{da}\\frac{da}{dz} = a-y \\tag{2.13}\n",
    "$$\n",
    "\n",
    "โดยสามารถตรวจสอบได้โดยใช้ (2.12) ร่วมกับ $\\frac{da}{dz} = a(1-a)$ ตั้งชื่อตัวแปร <code>dz</code>สำหรับ (2.13) \n",
    "สุดท้ายคือการแพร่กระจายย้อนกลับไปยัง \n",
    "$\\frac{\\partial \\mathcal{L}(a,y)}{\\partial w_1}, \\; \\frac{\\partial\\mathcal{L}(a,y)}{\\partial w_2}, \\; \\frac{\\partial \\mathcal{L}(a,y)}{\\partial b}$\n",
    " ตั้งชื่อตัวแปรว่า <code>dw1, dw2, db</code> ตามลำดับ ได้ความสัมพันธ์ดังนี้\n",
    "<code>\n",
    "dw1 = x1dz\n",
    "dw2 = x2dz\n",
    "db = dz\n",
    "</code>\n",
    "โดย <code>dz</code> คำนวณได้จาก (2.13) หลังจากนั้นอัพเดทค่าของตัวแปร\n",
    "<code>\n",
    "w1 := w1 - αdw1\n",
    "w2 := w2 - αdw2\n",
    "b := b - αdb\n",
    "</code>\n",
    "โดย α คือค่าอัตราการเรียนรู้ สังเกตว่าโค้ดตรงส่วนนี้เหมาะสมที่จะใช้การวนรอบในกรณีที่พารามิเตอร์มีจำนวนมากขึ้น\n",
    "\n",
    "เมื่อได้โค้ดสำหรับข้อมูล 1 ตัวอย่างแล้ว สามารถขยายไปยังการเขียนโค้ดสำหรับตัวอย่างการฝึกทั้งหมดคือ $m$ ตัวอย่าง \n",
    "เมื่อพิจารณาอนุพันธ์ย่อยของฟังก์ชันมูลค่าเทียบพารามิเตอร์ $w_1$ จาก (2.6) จะได้ว่า\n",
    "$$\n",
    "\\frac{\\partial J(w,b)}{\\partial w_1} = \\frac{1}{m}\\sum_{i=1}^m \\frac{\\partial \\mathcal{L}(a^{(i)},y^{(i)})}{\\partial w_1} \\tag{2.14}\n",
    "$$\n",
    "ซึ่งพจน์อนุพันธ์ย่อยขวาสุดในเครื่องหมายรวมคือ <code>dw1</code> สำหรับตัวอย่าง $i$ ซึ่งเราได้แสดงความสัมพันธ์สำหรับอัพเดทแล้ว \n",
    "ในทำนองเดียวกันสามารถแสดงความสัมพันธ์สำหรับพารามิเตอร์ $b$ สรุปขั้นตอนวิธีสำหรับ $m$ ตัวอย่างจะมีโครงสร้างดังนี้"
   ]
  },
  {
   "cell_type": "markdown",
   "metadata": {},
   "source": [
    "ตั้งค่าเริ่มต้นของตัวแปรที่ใช้ เช่นให้เป็นศูนย์ทั้งหมด\n",
    "<code>\n",
    "J = 0; dw1 = 0; dw1 = 0; db = 0\n",
    "</code>\n",
    "\n",
    "สร้างเงื่อนไขการวนรอบสำหรับ $m$ ตัวอย่าง\n",
    "<code>\n",
    "for i in range(m):\n",
    "    zi = np.dot(w.T,x) + b\n",
    "    ai = sigma(zi)\n",
    "    J+= -(yi\\*np.log(ai) + (1-yi)\\*np.log(1-ai))\n",
    "    dzi = ai - yi\n",
    "    dw1 += x1i\\*dzi # --- โค้ดส่วนนี้จะแทนด้วยการวนรอบเมื่อพารามิเตอร์มีจำนวนมาก ---\n",
    "    dw2 += x2i\\*dzi\n",
    "    db += dzi\n",
    "J /= m\n",
    "dw1 /=m\n",
    "dw2 /=m\n",
    "db /= m\n",
    "w1 -= α\\*dw1\n",
    "w2 -= α\\*dw2\n",
    "b -= α\\*db\n",
    "</code>\n",
    "\n",
    "**หมายเหตุ :** โค้ดนี้แสดงเพียงโครงสร้าง โดยละเว้นรายละเอียดของตัวแปรและฟังก์ชันที่ไม่ใช่เนื้อหาหลักของการอธิบาย\n"
   ]
  },
  {
   "cell_type": "markdown",
   "metadata": {},
   "source": [
    "#### 2.2.4 เพิ่มสมรรถนะการประมวลผลโดยการคำนวณในรูปเวกเตอร์\n",
    "\n",
    "ข้อด้อยของการเขียนโค้ดจากแผนภาพการคำนวณโดยตรงดังเช่นด้านบนคือ ในกรณีทั่วไปจะต้องใช้เงื่อนไขการวนรอบ 2 วงคือ \n",
    "การวนรอบตามจำนวนของอินพุต $n_x$ (ในตัวอย่างด้านบนไม่มีเนื่องจากมีอินพุตเพียง 2 ตัว) และการวนรอบตามจำนวนตัวอย่าง $m$ \n",
    "การเขียนโค้ดในลักษณะวนรอบจะมีประสิทธิภาพต่ำและไม่สามารถใช้ประโยชน์จากฮาร์ดแวร์ประมวลผลเสริมเช่น GPU ได้อย่างเต็มที่ \n",
    "โดยเฉพาะเมื่อขนาดของ ANN และข้อมูลใหญ่ขึ้น ซึ่งเป็นแนวโน้มของการเรียนรู้เชิงลึกในปัจจุบัน \n",
    "วิธีการเขียนโค้ดที่มีสมรรถนะดีกว่าคือใช้การคำนวณในรูปเวกเตอร์ ดังเช่นบรรทัดที่มีคำสั่ง <code>np.dot(w,x)</code> \n",
    "เราสามารถใช้การเขียนในลักษณะนี้แทนเงื่อนไขการวนรอบได้\n",
    "\n",
    "เริ่มต้นจากในส่วนการตั้งค่า กำหนดตัวแปร <code>dw</code> เป็นแบบเวกเตอร์\n",
    "<code>\n",
    "dw = np.zeros((n_x,1))\n",
    "</code>\n",
    "ดังนั้นในส่วนการปรับค่าพารามิเตอร์สามารถเขียนได้เป็น\n",
    "<code>\n",
    "dw += xi\\*dzi\n",
    "</code>\n",
    "โดยสังเกตว่าเครื่องหมาย \\* ในภาษาไพธอนคือการคูณแต่ละสมาชิกของเวกเตอร์ (element-by-element) \n",
    "\n",
    "สำหรับการวนรอบตามจำนวนตัวอย่าง $m$ ในส่วนการคำนวณข้างหน้า สามารถใช้เมทริกซ์ $X$ ตามนิยาม (2.1)\n",
    "เพื่อคำนวณเวกเตอร์เอาต์พุต $z$ และ $a$ ได้ในขั้นตอนเดียว โดยสังเกตว่า\n",
    "$$\n",
    "Z = \\begin{bmatrix}\n",
    "z^{(1)} & z^{(2)} & \\ldots & z^{(m)} \n",
    "\\end{bmatrix} = w^TX + \\begin{bmatrix}\n",
    "b & b & \\ldots &b \\end{bmatrix} \\tag{2.15}\n",
    "$$\n",
    "ซึ่งในการเขียนโค้ดภาษาไพธอน ใช้คำสั่ง\n",
    "<code>\n",
    "Z = np.dot(w.T,X) + b\n",
    "</code>\n",
    "ซึ่งค่าของ <code>b</code> ที่เป็นตัวแปรสเกลาร์ จะถูกแพร่ (broadcast) เป็นเวกเตอร์ขนาด $1 \\times m$ โดยอัตโนมัติ \n",
    "สำหรับเวกเตอร์ $a$ เราสามารถเขียนฟังก์ชัน sigmoid() ที่รับและคืนค่าเป็นเวกเตอร์ได้โดยง่าย \n",
    "\n",
    "ส่วนทางด้านการแพร่กระจายย้อนหลัง สามารถแสดงได้ว่าการคำนวณ <code>dw</code> และ <code>db</code>\n",
    "ในรูปเวกเตอร์จะทำได้ดังนี้\n",
    "<code>\n",
    "dw = (1/m)\\*np.dotX()\n",
    "</code>\n",
    "\n",
    "โค้ดที่เปลี่ยนเป็นใช้การคำนวณในรูปเวกเตอร์จะมีโครงสร้างดังนี้\n",
    "<code>\n",
    "Z = np.dot(w.T,X) + b\n",
    "A = sigmoid(Z)\n",
    "dZ = A - Y\n",
    "dw = (1/m)\\*np.dot(X,dZ.T)\n",
    "db = (1/m)\\*np.sum(dZ)\n",
    "w = w - α\\*dw\n",
    "b = b - α\\*db\n",
    "</code>"
   ]
  },
  {
   "cell_type": "markdown",
   "metadata": {},
   "source": [
    "#### ตัวอย่าง 2.2 \n",
    "\n",
    "ถึงแม้ว่าไลบรารีเช่น TF จะช่วยให้เราสร้างโมเดลสำหรับปัญหาการถดถอยลอจิสติกได้โดยง่าย \n",
    "แต่สำหรับผู้อ่านที่ต้องการศึกษาการเรียนรู้เชิงลึกอย่างถ่องแท้สามารถทดลองเขียนโค้ดตามที่ได้อธิบายเพื่อสร้างโมเดลสำหรับปัญหาพื้นฐาน\n",
    "เช่นการจำแนกภาพว่ามีแมวอยู่หรือไม่ ซึ่งสามารถทดสอบกับข้อมูลภาพที่หาได้จากอินเทอร์เน็ต หรือลงทะเบียนเรียนออนไลน์คอร์ส \n",
    "Neural Networks and Deep Learning โดย Prof. Andrew Ng (DeepLearning.AI) ที่ coursera ซึ่งเป็นคอร์สแรกใน 5 คอร์สของชุด\n",
    "Deep Learing Speciilizaion ที่ผู้เขียนได้ลงเรียนแล้วทั้งหมดและขอแนะนำว่าเป็นประโยชน์อย่างยิ่งในการศึกษาการเรียนรู้เชิงลึก \n",
    "\n",
    "เนื่องจากโค้ดและข้อมูลเป็นลิขสิทธิ์ของ Coursera จึงไม่สามารถนำเสนอในที่นี้ โดยจะกล่าวอธิบายเพียงภาพรวมเท่านั้น \n",
    "ในงานที่มอบหมายสำหรับสัปดาห์ที่สองของคอร์ส ผู้เรียนจะต้องเขียนโมเดลการถดถอยลอจิสติกและฝึกโดยใช้ข้อมูลภาพจำนวน 209 \n",
    "ภาพที่คละกันระหว่างภาพที่มีแมวและไม่มีแมว และมีเลเบลกำกับดังเช่นในรูปที่ 2.5 ในชุดข้อมูลยังประกอบด้วยภาพสำหรับทดสอบ 50 ภาพ\n",
    "\n",
    "<p />  \n",
    "<p align=\"center\">\n",
    "<img src=\"https://drive.google.com/uc?id=1wKF-AGiV-40TmPLKFHtqs4X3LGNydlPm\" width=600 />\n",
    "</p>\n",
    "<div align=\"center\">รูปที่ 2.5 ข้อมูลภาพที่ใช้ในการฝึกโมเดล</div>\n",
    "\n",
    "ผู้เรียนจะต้องเขียนโค้ดในฟังก์ชัน propagate() ตามแผนภาพการคำนวณทั้งทางข้างหน้าและย้อนหลัง \n",
    "และขั้นตอนวิธีลดค่าเกรเดียนต์ในฟังก์ชัน optimize() ตามโครงสร้างโค้ดที่แสดงด้านบน หลังจากนั้นสร้างฟังก์ชัน \n",
    "model() ที่รวมฟังก์ชันย่อยเข้าด้วยกันเป็นโมเดลสำหรับฝึก หากไม่มีข้อผิดพลาดในการเขียนโค้ด \n",
    "เมื่อทำการฝึกตามจำนวนรอบที่กำหนดเช่น 2000 รอบ จะได้เอาต์พุดดังแสดงในรูปที่ 2.6 \n",
    "โดยจะเห็นว่าค่าเอาต์พุตจากฟังก์ชันมูลค่ามีค่าลดลงตามจำนวนรอบการฝึกตามที่แสดงในรูปที่ 2.7 หลังจาก 2000 รอบการฝึก \n",
    "ความแม่นยำจากการฝึกมีค่าสูงถึง 99 % ขณะที่ความแม่นยำจากการทดสอบได้เพียง 70 % \n",
    "ซึ่งจากตัวเลขนี้สามารถพิจารณาได้ว่าโมเดลมีการฟิตเกิน (overfitting) ซึ่งเราจะได้ศึกษาวิธีการแก้ไขต่อไป \n",
    "\n",
    "<p />  \n",
    "<p align=\"center\">\n",
    "<img src=\"https://drive.google.com/uc?id=1qJkABh0lppOt_uVUppVUypO4wwxxHplP\" width=600 />\n",
    "</p>\n",
    "<div align=\"center\">รูปที่ 2.6 เอาต์พุตจากการฝึกโมเดล</div>\n",
    "\n",
    "<p />  \n",
    "<p align=\"center\">\n",
    "<img src=\"https://drive.google.com/uc?id=1jSvxHBjTczc8f8UF1oCjKCjbApriBACo\" width=450 />\n",
    "</p>\n",
    "<div align=\"center\">รูปที่ 2.7 ค่าของฟังก์ชันมูลค่าตามจำนวนรอบการฝึก</div>\n",
    "\n",
    "หลังจากฝึกโมเดลแล้วคือขั้นตอนการตรวจสอบ โดยให้โมเดลพยากรณ์ภาพจากชุดทดสอบ 50 ภาพที่ไม่ได้ใช้ในการฝึก \n",
    "ผลการทดสอบพบว่ามีทั้งที่พยากรณ์ถูกและผิดดังแสดงในรูปที่ 2.8 โดยสอดคล้องกับค่าความแม่นยำที่คำนวณได้คือ 70 % \n",
    "\n",
    "<p />  \n",
    "<p align=\"center\">\n",
    "<img src=\"https://drive.google.com/uc?id=155aA2r5gpL_BKKO7dC12hH8PGb1qJRpX\" width=600 />\n",
    "</p>\n",
    "<div align=\"center\">รูปที่ 2.8 ผลจากการพยากรณ์โดยโมเดลการถดถอยลอจิสติก</div>\n",
    "\n",
    "ในส่วนท้ายของแบบฝึกหัดนี้ยังมีเซลล์สำหรับอัพโหลดรูปของเราเองเพื่อพยากรณ์ รูปที่ 2.9 คือแมวของผู้เขียนชื่อดอลล่าร์ \n",
    "โมเดลพยากรณ์ว่าไม่ใช่แมว สังเกตว่าภาพตัวอย่างนี้มีรายละเอียดค่อนข้างมาก ซึ่งต้องการโมเดลการจำแนกที่มีประสิทธิภาพมากกว่านี้\n",
    "\n",
    "<p />  \n",
    "<p align=\"center\">\n",
    "<img src=\"https://drive.google.com/uc?id=1crSrfTGHg87t597KZTuFqMFPzB8dev_A\" width=600 />\n",
    "</p>\n",
    "<div align=\"center\">รูปที่ 2.9 ผลการพยากรณ์ภาพถ่ายที่อัพโหลดเอง</div>\n",
    "\n",
    "นอกจากนั้นยังมีการทดสอบเบื้องต้นเกี่ยวกับผลของอัตราการเรียนรู้ 3 ค่า $\\alpha = 0.01, 0.001, 0.0001$ ผลที่ได้แสดงในรูปที่ 2.10 \n",
    "จะเห็นว่าเมื่ออัตราการเรียนรู้มีค่าสูง  $\\alpha = 0.01$ ทำให้ค่าของฟังก์ชันมูลค่าแกว่ง ซึ่งอาจจะลู่ออกได้ในที่สุด \n",
    "แต่สำหรับปัญหานี้กลับได้ค่ามูลค่าที่น้อยที่สุด เมื่อปรับอัตราการเรียนรู้น้อยลงทำให้ขั้นตอนวิธีไม่ได้ค่าน้อยที่สุด อย่างไรก็ตามกราฟนี้เป็นการทดสอบเบื้องต้นเท่านั้น \n",
    "การได้ฟังก์ชันมูลค่าน้อยสุดไม่ได้หมายความว่าเป็นโมเดลที่ดีที่สุดเพราะอาจเกิดการฟิตเกิน\n",
    "\n",
    "<p />  \n",
    "<p align=\"center\">\n",
    "<img src=\"https://drive.google.com/uc?id=1Wt1MmbiQZf1y_iqkYggbwC9YjWooI1VV\" width=500 />\n",
    "</p>\n",
    "<div align=\"center\">รูปที่ 2.10 ผลจากค่าอัตราการเรียนรู้</div>"
   ]
  },
  {
   "cell_type": "markdown",
   "metadata": {},
   "source": [
    "### 2.3 โครงข่ายประสาทเทียมเชิงลึก\n",
    "\n",
    "โมเดลการถดถอยเชิงเส้นและลอจิสติกที่กล่าวมาในหัวข้อก่อนหน้านี้จัดอยู่ในประเภทโครงข่ายประสาทเทียมเชิงตื้น \n",
    "(shallow ANN) เนื่องจากประกอบด้วยชั้นอินพุตและเอาต์พุตเท่านั้น \n",
    "นิยามของโครงข่ายประสาทเทียมเชิงลึก (ต่อไปจะเรียกโดยย่อว่า DNN) ที่ใช้ในหนังสือนี้คือต้องมีชั้นแฝง (hidden layer) \n",
    "คั่นระหว่างอินพุตและเอาต์พุตอย่างน้อย 1 ชั้น \n",
    "ถึงแม้ว่าการใช้คำว่าตื้นและลึกกับโมเดล ANN นั้นค่อนข้างเป็นอัตวิสัย ในหัวข้อนี้จะเริ่มโดยการเพิ่มชั้นแฝงเดี่ยวให้กับโมเดล \n",
    "หลังจากนั้นจึงขยายเป็น DNN ทั่วไป\n",
    "\n",
    "#### 2.3.1 แผนภาพการคำนวณสำหรับ DNN ชั้นแฝงเดี่ยว\n",
    "\n",
    "จากโมเดลการถดถอยลอจิสติก หากเราเพิ่มชั้นแฝงขั้นระหว่างอินพุตและเอาต์พุต จะได้ ANN ที่มีลักษณะดังรูปที่ 2.11 \n",
    "โดยตัวอย่างนี้จะกำหนดเซลล์ประสาทจำนวน 4 เซลล์ในชั้นแฝง ข้อสังเกตและสัญกรณ์ที่เพิ่มเติมจากเดิมคือ\n",
    "* ตัวเลขยกกำลังในวงเล็บสี่เหลี่ยมแทนหมายเลขของชั้น โดยชั้นของอินพุตกำหนดเป็นหมายเลขศูนย์ \n",
    "* หมายเลขของชั้นเอาต์พุตสุดท้ายอาจละทิ้งได้ เช่น $\\hat{y} = a^{[2]}$ หรือ $\\hat{y} = a$\n",
    "* เลขตัวห้อยแทนหมายเลขของเซลล์ในชั้น เช่น $a_2^{[1]}$ คือเซลล์หมายเลข 2 ในชั้นที่ 1 โดยจะยังคงใช้สัญกรณ์นี้กับ DNN หลายชั้นแฝง\n",
    "* ต้องไม่สับสนระหว่างเลขยกกำลังในวงเล็บสี่หลี่ยม (หมายเลขของชั้น) และวงเล็บปกติ (หมายเลขของตัวอย่างข้อมูล) ที่อาจใช้ร่วมกัน \n",
    "\n",
    "<p />  \n",
    "<p align=\"center\">\n",
    "<img src=\"https://drive.google.com/uc?id=1tadoeaS9jEkKx3sHC8-aJAzAOhL7DKCZ\" width=500 />\n",
    "</p>\n",
    "<div align=\"center\">รูปที่ 2.11 ตัวอย่างของ DNN ชั้นแฝงเดี่ยว </div>\n",
    "\n",
    "หากพิจารณาแต่ละเซลล์ในชั้นแฝง ตัวอย่างเช่นเมื่อขยายเซลล์แรกดังในรูปที่ 2.12 สามารถแบ่งแยกการคำนวณออกเป็นด้านอินพุต \n",
    "คือฟังก์ชันเชิงเส้นของพารามิเตอร์ หลังจากนั้่นส่งต่อให้กับฟังก์ชันกระตุ้นแบบไม่เป็นเชิงเส้น ซึ่งในโมเดลการถดถอยลอจิสติกใช้ฟังก์ชันซิกมอยด์ \n",
    "แต่ในกรณีของชั้นแฝงใน DNN นั้นพบว่ามีตัวเลือกของฟังก์ชันกระตุ้นอื่นที่เหมาะสมกว่า ดังนั้นจึงแทนด้วย $g^{[1]}$ คือฟังก์ชันไม่เป็นเชิงเส้นใดๆ\n",
    "การใช้ตัวยกกำลังในวงเล็บสี่เหลี่ยมมีความหมายว่าฟังก์ชันกระตุ้นจะขึ้นกับหมายเลขของชั้นด้วย ซึ่งพร้อมจะขยายไปยังโมเดลที่มีหลายชั้นแฝง\n",
    "\n",
    "<p />  \n",
    "<p align=\"center\">\n",
    "<img src=\"https://drive.google.com/uc?id=1m6l_SKBM05Rxa3c_x-W6EcC3ddZgk5Kf\" width=500 />\n",
    "</p>\n",
    "<div align=\"center\">รูปที่ 2.12 รายละเอียดการคำนวณในแต่ละเซลล์</div>\n",
    "\n",
    "โดยสัญกรณ์นี้ จะได้แผนภาพการคำนวณข้างหน้าของชั้นแฝงเป็น\n",
    "\n",
    "$$\n",
    "z_k^{[1]} = w_k^{[1]T}x + b_k^{[1]} \\tag{2.16} \n",
    "$$\n",
    "\n",
    "$$\n",
    "a_k^{[1]} = g^{[1]}(z_k^{[1]}) \\tag{2.17}\n",
    "$$\n",
    "\n",
    "โดย $k = 1,\\ldots,4$ คือตัวชี้หมายเลขเซลล์ในชั้นแฝง จาก (2.16), (2.17) เราสามารถเขียนโค้ดในลักษณะวนรอบได้ \n",
    "แต่เพื่อเพิ่มสมรรถนะการประมวลผลจะใช้การคำนวณเชิงเวกเตอร์ โดยซ้อนค่าน้ำหนักทั้งหมดในรูปเมทริกซ์\n",
    "\n",
    "$$\n",
    "W^{[1]} = \\begin{bmatrix}\n",
    "\\ldots & w_1^{[1]T} & \\ldots \\\\\n",
    "\\ldots & w_2^{[1]T} & \\ldots \\\\\n",
    "\\ldots & w_3^{[1]T} & \\ldots \\\\\n",
    "\\ldots & w_4^{[1]T} & \\ldots \n",
    "\\end{bmatrix} \\tag{2.18}\n",
    "$$\n",
    "\n",
    "และเวกเตอร์ค่าเอนเอียง เอาต์พุตเชิงเส้น และเอาต์พุตจากฟังก์ชันกระตุ้น\n",
    "\n",
    "$$\n",
    "b^{[1]} = [b_1^{[1]}, \\; b_2^{[1]}, \\; b_3^{[1]}, \\; b_4^{[1]}]^T  \\tag{2.19}\n",
    "$$\n",
    "\n",
    "$$\n",
    "z^{[1]} = [z_1^{[1]}, \\; z_2^{[1]}, \\;z_3^{[1]}, \\; z_4^{[1]}]^T  \\tag{2.20}\n",
    "$$\n",
    "\n",
    "$$\n",
    "a^{[1]} = [a_1^{[1]}, \\; a_2^{[1]}, \\; a_3^{[1]}, \\; a_4^{[1]}]^T  \\tag{2.21}\n",
    "$$\n",
    "\n",
    "จากสัญกรณ์เหล่านี้ สามารถเขียนการคำนวณสำหรับชั้นแฝงได้เป็น\n",
    "$$\n",
    "z^{[1]} = W^{[1]}a^{[0]} + b^{[1]} \\tag{2.22} \n",
    "$$\n",
    "\n",
    "$$\n",
    "a^{[1]} = g^{[1]}(z^{[1]}) \\tag{2.23}\n",
    "$$\n",
    "\n",
    "โดยสังเกตว่าเราแทนอินพุต $x$ ด้วย $a^{[0]}$ เสมือนว่าอินพุตคือเอาต์พุตจากชั้น 0 การกำหนดเช่นนี้จะช่วยให้การเขียนขั้นตอนวิธีง่ายขึ้น \n",
    "ในทำนองเดียวกันสามารถเขียนแผนภาพการคำนวณข้างหน้าสำหรับชั้นเอาต์พุตได้เป็น\n",
    "\n",
    "$$\n",
    "z^{[2]} = W^{[2]}a^{[1]} + b^{[2]} \\tag{2.24} \n",
    "$$\n",
    "\n",
    "$$\n",
    "\\hat{y} = a^{[2]} = g^{[2]}(z^{[2]}) \\tag{2.25}\n",
    "$$\n",
    "\n",
    "โดย $z^{[2]},\\;b^{[2]},\\;a^{[2]}$ เป็นสเกลาร์ และ $W^{[2]},\\;a^{[1]}$ มีขนาด $1 \\times 4$ และ $4 \\times 1$ ตามลำดับ \n",
    "สำหรับปัญหาการจำแนกทวิภาคจะใช้ฟังก์ชันซิกมอยด์ที่เอาต์พุต $g^{[2]}() = \\sigma ()$\n"
   ]
  },
  {
   "cell_type": "markdown",
   "metadata": {},
   "source": [
    "#### 2.3.2 การคำนวณเชิงเวกเตอร์สำหรับทั้งชุดตัวอย่าง \n",
    "\n",
    "สมการ (2.22) - (2.25) คือการคำนวณข้างหน้าของ DNN ชั้นแฝงเดี่ยวเมื่อข้อมูลอินพุตคือหนึ่งตัวอย่าง \n",
    "ในหนึ่งรอบของการฝึกโมเดลเราต้องการประมวลผลข้อมูล $m$ ตัวอย่างพร้อมกันโดยใช้การคำนวณเชิงเวกเตอร์ \n",
    "ที่ผ่านมาเราใช้ตัวเลขยกกำลังในวงเล็บปกติแทนหมายเลขของตัวอย่าง ซึ่งจะยังคงใช้ได้สำหรับ DNN \n",
    "เช่นสัญกรณ์ $a^{[l](i)}$ แทนเวกเตอร์เอาต์พุตของชั้น $l$ เมื่ออินพุตเป็นตัวอย่าง $i$ สัญกรณ์นี้แม้จะดูเหมือนซับซ้อนแต่ก็เข้าใจได้ไม่ยาก \n",
    "\n",
    "เช่นเดียวกับกรณีโมเดลการถดถอยลอจิสติกเชิงตื้น เราต้องการใช้การคำนวณเชิงเวกเตอร์แทนการเขียนเงื่อนไขวน $m$ รอบสำหรับขั้นตอนวิธี (2.22) - (2.25)\n",
    "โดยใช้เมทริกซ์อินพุต $X$ นิยามไว้เดิมจาก (2.1) และเอาต์พุตจากการพยากรณ์ \n",
    "\n",
    "$$\n",
    "\\hat{Y} = \\begin{bmatrix} \n",
    "\\hat{y}^{(1)} & \\hat{y}^{(2)} & \\ldots & \\hat{y}^{(m)} \n",
    "\\end{bmatrix} \\tag{2.26}\n",
    "$$\n",
    "\n",
    "นิยามเมทริกซ์ของเอาต์พุตสำหรับเวกเตอร์ $l$ เพิ่มเติมดังนี้\n",
    "\n",
    "$$\n",
    "Z^{[l]} = \\begin{bmatrix}\n",
    "\\vdots & \\vdots & \\vdots & \\vdots \\\\\n",
    "z^{[l](1)} & z^{[l](2)} & \\ldots & z^{[l](m)} \\\\\n",
    "\\vdots & \\vdots & \\vdots & \\vdots \\\\\n",
    "\\end{bmatrix} \\tag{2.27}\n",
    "$$\n",
    "\n",
    "$$\n",
    "A^{[1]} = \\begin{bmatrix}\n",
    "\\vdots & \\vdots & \\vdots & \\vdots \\\\\n",
    "a^{[l](1)} & a^{[l](2)} & \\ldots & a^{[l](m)} \\\\\n",
    "\\vdots & \\vdots & \\vdots & \\vdots \\\\\n",
    "\\end{bmatrix} \\tag{2.28}\n",
    "$$\n",
    "\n",
    "โดยนิยามเหล่านี้ สมการ (2.22) - (2.25) จะถูกปรับเพื่อคำนวณเชิงเวกเตอร์ได้เป็น\n",
    "\n",
    "$$\n",
    "Z^{[1]} = W^{[1]}X + b^{[1]} \\tag{2.29} \n",
    "$$\n",
    "\n",
    "$$\n",
    "A^{[1]} = g^{[1]}(Z^{[1]}) \\tag{2.30}\n",
    "$$\n",
    "\n",
    "$$\n",
    "Z^{[2]} = W^{[2]}A^{[1]} + b^{[2]} \\tag{2.31} \n",
    "$$\n",
    "\n",
    "$$\n",
    "\\hat{Y} = A^{[2]} = g^{[2]}(Z^{[2]}) \\tag{2.32}\n",
    "$$\n"
   ]
  },
  {
   "cell_type": "markdown",
   "metadata": {},
   "source": [
    "#### 2.3.3 ฟังก์ชันกระตุ้นแบบไม่เป็นเชิงเส้น\n",
    "\n",
    "จะเห็นว่าในเอาต์พุตของแต่ละชั้นของ DNN จะมีการส่งเอาต์พุตจากฟังก์ชันเชิงเส้น $z^{[l]}$ ผ่านฟังก์ชันกระตุ้นแบบไม่เป็นเชิงเส้น $g^{[l]}$ \n",
    "มีสองประเด็นที่เราต้องการอธิบายเพิ่มคือ 1. ทำไมเราจึงต้องมีฟังก์ชันกระตุ้นแบบไม่เป็นเชิงเส้นในโมเดล \n",
    "DNN และ 2. แนวทางในการเลือกฟังก์ชันกระตุ้นที่เหมาะสม \n",
    "\n",
    "ในหัวข้อแรกของบทนี้ได้กล่าวถึงโมเดลถดถอยเชิงเส้น ซึ่งเป็นโมเดลแบบตื้นที่ไม่มีฟังก์ชันกระตุ้นแบบไม่เป็นเชิงเส้นที่เอาต์พุต\n",
    "ทั้งนี้เนื่องจากเอาต์พุตจากการพยากรณ์เป็นค่าจำนวนจริงที่เป็นฟังก์ชันสัมพรรคของอินพุตและพารามิเตอร์ \n",
    "ดังนั้นโมเดลการถดถอยเชิงเส้นจึงไม่ต้องการฟังก์ชันกระตุ้นแบบไม่เป็นเชิงเส้น\n",
    "แต่เมื่อเราศึกษาปัญหาการถดถอยลอจิสติกจะพบว่าจำเป็นต้องใช้ฟังก์ชันซิกมอยด์เพื่อบีบให้เอาต์พุตอยู่ในช่วง $[0, 1]$ \n",
    "ซึ่งเป็นค่าของความน่าจะเป็นที่เอาต์พุตจากการพยากรณ์จะถูกจำแนกเป็นประเภท เช่นในภาพมีแมวหรือไม่ \n",
    "ฟังก์ชันซิกมอยด์ $\\sigma()$ คือฟังก์ชันกระตุ้นแบบไม่เป็นเชิงเส้นชนิดหนึ่งที่ใช้ในการจำแนกทวิภาคทั่วไป\n",
    "\n",
    "ดังนั้นคำตอบเบื้องต้นของประเด็นแรกคือ ฟังก์ชันกระตุ้นแบบไม่เป็นเชิงเส้นช่วยทำให้โมเดลสามารถจำแนกประเภทได้อย่างมีประสิทธิภาพมากขึ้น \n",
    "เราสามารถขยายความไปยังกลุ่มของข้อมูลที่ปะปนกันในลักษณะไม่สามารถจำแนกโดยเส้นตรงหรือระนาบได้ \n",
    "\n",
    "นอกจากนั้นในกรณ๊ DNN สามารถแสดงได้โดยง่ายว่า (โจทย์ปัญหาข้อ 2.2) หากชั้นแฝงไม่มีฟังก์ชันกระตุ้นแบบไม่เป็นเชิงเส้นแล้ว \n",
    "เราสามารถยุบโมเดล DNN นั้นเหลือเป็นโมเดล ANN เชิงตื้นได้ กล่าวคือความลึกของโมเดลเป็นการเพิ่มความซับซ้อนในการคำนวณโดยไม่มีผลดีเกิดขึ้น\n",
    "\n",
    "สำหรับในประเด็นที่สองคือการเลือกใช้ฟังก์ชันกระตุ้นที่เหมาะสมกับปัญหานั้นอาจไม่มีคำตอบที่ชัดเจน เราจะกล่าวถึงแนวทางปฏิบัติโดยทั่วไปเท่านั้น \n",
    "ในบางครั้งการทดสอบกับโจทย์ปัญหาจริงจะเป็นตัวตัดสินใจได้ดีกว่า เราได้กล่าวแล้วว่าฟังก์ชันซิกมอยด์มีความเหมาะสมสำหรับปัญหาการจำแนกทวิภาค \n",
    "โดยจะใช้ที่เอาต์พุตชั้นสุดท้ายเท่านั้น การใช้ซิกมอยด์ในเอาต์พุตของชั้นแฝงกลับไม่เหมาะสม ทั้งนี้เนื่องจากเอาต์พุตถูกบีบอยู่ในช่วง $[0, 1]$ \n",
    "ซึ่งเป็นช่วงที่แคบและไม่สามารถเป็นค่าลบได้ \n",
    "\n",
    "ฟังก์ชันกระตุ้นที่มีกราพคล้ายกับซิกมอยด์ แต่แกว่งได้ในช่วง $[-1, 1]$ คือ ไฮเพอร์โบลิกแทนเจนต์ (hyperbolic tangent) เขียนแทนด้วย \n",
    "$tanh()$ มีนิยามคือ\n",
    "$$\n",
    "tanh(z) = \\frac{e^z - e^{-z}}{e^z+e^{-z}} \\tag{2.33}\n",
    "$$\n",
    "\n",
    "ข้อดีของฟังก์ชัน $tanh()$ คือมีค่าเฉลี่ยอยู่ที่ 0 จึงเหมาะสมโดยเฉพาะเมื่อข้อมูลในการฝึกมีการทำให้ค่ากลางอยู่ที่ศูนย์ \n",
    "การพล็อตฟังก์ชันทำได้โดยเขียนโค้ดไพธอนคล้ายกับซิกมอยด์ หรือใช้ไลบรารี numpy ซึ่งจะได้เอาต์พุตดังแสดงในรูปที่ 2.13"
   ]
  },
  {
   "cell_type": "code",
   "execution_count": 3,
   "metadata": {},
   "outputs": [
    {
     "data": {
      "image/png": "[encoded data removed]",
      "text/plain": [
       "<Figure size 432x288 with 1 Axes>"
      ]
     },
     "metadata": {
      "needs_background": "light"
     },
     "output_type": "display_data"
    }
   ],
   "source": [
    "z = np.linspace(-10, 10, 100)\n",
    "y = np.tanh(z)\n",
    "plt.plot(z,y)\n",
    "plt.xlabel(\"z\")\n",
    "plt.ylabel(\"tanh(z)\")\n",
    "plt.grid() \n",
    "plt.show()"
   ]
  },
  {
   "cell_type": "markdown",
   "metadata": {},
   "source": [
    "รูปที่ 2.13 กราฟของฟังก์ชันไฮเพอร์โบลิกแทนเจนต์\n",
    "\n",
    "ปัญหาประการหนึ่งของการใช้ฟังก์ชันซิกมอยด์หรือไฮเพอร์โบลิกแทนเจนต์คือเมื่อ $z$ มีค่ามาก ค่าอนุพันธ์จะมีค่าเข้าใกล้ศูนย์ \n",
    "ทำให้แต่ละขั้นของการปรับค่าพารามิเตอร์โดยขั้นตอนวิธีการลดค่าเกรเดียนต์มีค่าน้อย ผลคือโมเดลเรียนรู้ช้า ปัญหานี้รู้จักกันในชื่อ\n",
    "การหายไปของเกรเดียนต์ (vanishing gradient)\n",
    "ในการแก้ปัญหานี้ ฟังก์ชันกระตุ้นรูปแบบหนึ่งที่นิยมใช้ในชั้นแฝงของโมเดล DNN คือ ReLU ย่อมาจาก rectifier linear units มีนิยามดังนี้\n",
    "\n",
    "$$\n",
    "f(z) = max(0,z) \\tag{2.34}\n",
    "$$\n",
    "\n",
    "สามารถพล็อตฟังก์ชัน ReLU ได้ดังรูปที่ 2.14"
   ]
  },
  {
   "cell_type": "code",
   "execution_count": 4,
   "metadata": {},
   "outputs": [
    {
     "data": {
      "image/png": "[encoded data removed]",
      "text/plain": [
       "<Figure size 432x288 with 1 Axes>"
      ]
     },
     "metadata": {
      "needs_background": "light"
     },
     "output_type": "display_data"
    }
   ],
   "source": [
    "def ReLU(z):\n",
    "    return z*(z>0)\n",
    "\n",
    "z = np.linspace(-10, 10, 100)\n",
    "y = ReLU(z)\n",
    "plt.plot(z,y)\n",
    "plt.xlabel(\"z\")\n",
    "plt.ylabel(\"ReLU(z)\")\n",
    "plt.grid() \n",
    "plt.show()\n"
   ]
  },
  {
   "cell_type": "markdown",
   "metadata": {},
   "source": [
    "รูปที่ 2.14 กราฟของฟังก์ชัน ReLU\n",
    "\n",
    "เหตุผลที่ ReLU ได้รับความนิยมเพราะความง่ายในการคำนวณสำหรับขั้นตอนการแพร่กระจายย้อนหลัง และมีความต้านทานต่อปัญหาการหายไปของเกรเดียนต์ \n",
    "ถึงแม้ว่าในเชิงวิเคราะห์ทางทฤษฎี ฟังก์ชัน ReLU มีจุดที่ไม่ต่อเนื่องที่ $z = 0$ \n",
    "ทำให้ไม่สามารถหาค่าอนุพันธ์ได้ที่จุดนั้น แต่ในทางปฏิบัติแล้วการที่ค่าของ $z$ จะเท่ากับศูนย์อย่างสมบูรณ์นั้นแทบเป็นไปไม่ได้เลย ตัวอย่างเช่นค่าที่ใกล้เคียงศูนย์ \n",
    "เช่น $10^{-16},\\; -10^{-14}$สามารถหาอนุพันธ์ได้เท่ากับ 1 และ 0 ตามลำดับ\n",
    "\n",
    "สังเกตว่าอนุพันธ์ของ ReLU สำหรับค่า $z$ ที่เป็นลบจะมีค่าเท่ากับศูนย์ เวอร์ชันหนึ่งของ ReLU ที่ไม่ต้องการค่าอนุพันธ์ที่เป็นศูนย์เรียกว่า Leaky ReLU \n",
    "มีนิยามคือ\n",
    "\n",
    "$$\n",
    "f(z) = max(\\alpha z,z) \\tag{2.35}\n",
    "$$\n",
    "\n",
    "โดย $\\alpha$ มีค่าน้อย ตัวอย่างกราฟของ Leaky ReLU เมื่อ $\\alpha = 0.01$  แสดงดังในรูปที่ 2.15"
   ]
  },
  {
   "cell_type": "code",
   "execution_count": 6,
   "metadata": {},
   "outputs": [
    {
     "data": {
      "image/png": "[encoded data removed]",
      "text/plain": [
       "<Figure size 432x288 with 1 Axes>"
      ]
     },
     "metadata": {
      "needs_background": "light"
     },
     "output_type": "display_data"
    }
   ],
   "source": [
    "def LeakyReLU(z):\n",
    "    return np.where(z>0, z, z*0.01)\n",
    "z = np.linspace(-10, 10, 100)\n",
    "y = LeakyReLU(z)\n",
    "plt.plot(z,y)\n",
    "plt.xlabel(\"z\")\n",
    "plt.ylabel(\"Leaky ReLU(z)\")\n",
    "plt.grid() \n",
    "plt.show()\n"
   ]
  },
  {
   "cell_type": "markdown",
   "metadata": {},
   "source": [
    "รูปที่ 2.15 กราฟของฟังก์ชัน Leaky ReLU\n",
    "\n",
    "#### 2.3.4 อนุพันธ์ของฟังก์ชันกระตุ้น\n",
    "\n",
    "ในแผนภาพการแพร่กระจายย้อนหลังจะต้องมีการคำนวณอนุพันธ์ของฟังก์ชันกระตุ้น ดังนั้นในหัวข้อย่อยนี้จะเป็นการศึกษาอนุพันธ์ของฟังก์ชันกระตุ้นทั้ง 4 \n",
    "ประเภทที่กล่าวถึงก่อนหน้านี้ โดยจะใช้สัญลักษณ์ $g'(z)$ แทน $\\frac{dg(z)}{dz}$\n",
    "\n",
    "เริ่มจากฟังก์ชันซิกมอยด์ $\\sigma()$ (2.4) สามารถแสดงโดยแคลคูลัสได้อนุพันธ์ดังนี้\n",
    "\n",
    "$$\n",
    "g'(z) = \\frac{1}{1+e^{-z}}\\bigg(1 - \\frac{1}{1+e^{-z}}\\bigg) = g(z)(1-g(z)) = a(1-a) \\tag{2.36}\n",
    "$$\n",
    "\n",
    "โดยด้านขวาสุดของ (2.36) มาจากการใช้สัญกรณ์ $a = g(z)$ \n",
    "\n",
    "กรณีฟังก์ชัน $tanh()$ (2.33) ได้อนุพันธ์เท่ากับ\n",
    "\n",
    "$$\n",
    "g'(z) = 1 - (tanh(z))^2 = 1 - g^2(z) = 1 - a^2 \\tag{2.37}\n",
    "$$\n",
    "\n",
    "สำหรับฟังก์ชัน ReLU (2.34)\n",
    "\n",
    "$$\n",
    "g'(z) = \\left\\{ \\begin{matrix}\n",
    "0 & \\textrm{if} & z<0 \\\\\n",
    "1 & \\textrm{if} & z>0 \n",
    "\\end{matrix} \\right. \\tag{2.38}\n",
    "$$\n",
    "\n",
    "และสำหรับ Leaky ReLU (2.35)\n",
    "\n",
    "$$\n",
    "g'(z) = \\left\\{ \\begin{matrix}\n",
    "\\alpha & \\textrm{if} & z<0 \\\\\n",
    "1 & \\textrm{if} & z>0 \n",
    "\\end{matrix} \\right. \\tag{2.39}\n",
    "$$\n",
    "\n",
    "โดยทางทฤษฎีคณิตศาสตร์ อนุพันธ์จะไม่นิยามถ้า $z=0$ ใน (2.38), (2.39) \n",
    "แต่เราได้ละทิ้งกรณีดังกล่าวเนื่องจาก $z=0$ โดยสมบูรณ์จะไม่เกิดขึ้นในทางปฏิบัติ"
   ]
  },
  {
   "cell_type": "markdown",
   "metadata": {},
   "source": [
    "#### 2.3.5 การลดค่าเกรเดียนต์สำหรับ DNN ชั้นแฝงเดี่ยว\n",
    "\n",
    "ก่อนจะอธิบายแผนภาพการคำนวณในส่วนการแพร่กระจายย้อนกลับเพื่อลดค่าเกรเดียนต์สำหรับ DNN ชั้นแฝงเดี่ยว จะสรุปสัญกรณ์ที่ใช้อีกครั้งหนึ่ง \n",
    "จากเดิมที่เราใช้ $n_x$ แทนจำนวนของอินพุต หลังจากได้ใช้วงเล็บสี่เหลี่ยมยกกำลังในการระบุหมายเลขชั้น จะยังคงใช้อักขระ $n$ \n",
    "แทนจำนวนของอินพุต เซลล์ในชั้นแฝง และเอาต์พุต ซึ่งแทนด้วย $n^{[0]},\\;n^{[1]},\\;n^{[2]}$ ตามลำดับ \n",
    "\n",
    "พารามิเตอร์ของ DNN คือค่าน้ำหนักและค่าเอนเอียงในรูปเมทริกซ์/เวกเตอร์  $W^{[1]},\\;b^{[1]},\\;W^{[2]},\\;b^{[2]}$ \n",
    "มีขนาด $n^{[1]} \\times n^{[0]},\\; n^{[1]} \\times 1,\\;n^{[2]} \\times n^{[1]},\\; n^{[2]} \\times 1$ \n",
    "ตามลำดับ จากปัญหาการจำแนกทวิภาคที่กำลังกล่าวถึงอยู่ขณะนี้จะได้ว่า $n^{[0]} = n_x$ และ $n^{[2]}=1$\n",
    "\n",
    "ฟังก์ชันมูลค่าเขียนบรรยายได้เป็น\n",
    "\n",
    "$$\n",
    "J(W^{[1]},b^{[1]},W^{[2]},b^{[2]}) = \\frac{1}{m}\\sum_{i=1}^m\\mathcal{L}(\\hat{y},y) \\tag{2.40}\n",
    "$$\n",
    "\n",
    "เริ่มต้นขั้นตอนวิธีโดยกำหนดค่าเริ่มต้นของค่าน้ำหนักและค่าเอนเอียงแบบสุ่ม (ห้ามกำหนดเป็นศูนย์เพราะความสมมาตรจะทำให้โมเดลไม่เรียนรู้) \n",
    "ใน 1 รอบของการฝึกประกอบด้วยการแพร่กระจายข้างหน้า\n",
    "\n",
    "$$\n",
    "\\begin{split}\n",
    "Z^{[1]} &= W^{[1]}X + b^{[1]} \\\\\n",
    "A^{[1]} &= g^{[1]}(Z^{[1]}) \\\\\n",
    "Z^{[2]} &= W^{[2]}A^{[1]} + b^{[2]} \\\\\n",
    "A^{[2]} &= g^{[2]}(Z^{[2]}) = \\sigma(Z^{[2]})\n",
    "\\end{split}\n",
    "$$\n",
    "\n",
    "เขียนเป็นคำสั่งไพธอนตามขั้นตอนวิธี 2.1 โดยตั้งชื่อตัวแปร <code>Zl, Wl, bl, Al, gl</code> \n",
    "แทน $Z^{[l]},\\;W^{[l]},\\;b^{[l]},\\;A^{[l]},\\;g^{[l]}$ ตามลำดับ โดยค่าของ <code>gl</code> \n",
    "คือเอาต์พุตของฟังก์ชันกระตุ้นของชั้น $l$ เช่น <code>g1 = ReLU(z1), g2 = sigmoid(Z2)</code>\n",
    "\n",
    "<code>\n",
    "Z1 = W1@X + b1\n",
    "A1 = g1\n",
    "Z2 = W2@A1 + b2\n",
    "A2 = g2\n",
    "</code>\n",
    "\n",
    "ขั้นตอนวิธี 2.1 การแพร่กระจายข้างหน้าสำหรับ DNN ชั้นแฝงเดี่ยว\n",
    "\n",
    "และการแพร่กระจายย้อนหลัง เขียนเป็นคำสั่งไพธอนได้ตามขั้นตอนวิธี 2.2 โดยตั้งชื่อตัวแปร \n",
    "<code>dZl = </code>$\\frac{\\partial J}{\\partial Z^{[l]}}$, <code>dWl = </code>$\\frac{\\partial J}{\\partial W^{[l]}}$\n",
    "<code>dbl = </code>$\\frac{\\partial J}{\\partial b^{[l]}}$, <code>gprimel = </code>$g'^{[l]}(z^{[l]})$\n",
    "\n",
    "<code>\n",
    "dZl = A2 - Y \n",
    "dW2 = (1/m)\\*dZ2@A1.T\n",
    "db2 = (1/m)\\*np.sum(dZ2, axis=1, keepdims=True)\n",
    "dZ1 = W2.T@dZ2\\*gprime1\n",
    "dW1 = (1/m)\\*dZ1@X.T\n",
    "db1 = (1/m)\\*np.sum(dZ1, axis=1, keepdims=True)\n",
    "</code>\n",
    "\n",
    "ขั้นตอนวิธี 2.2 การแพร่กระจายย้อนหลังสำหรับ DNN ชั้นแฝงเดี่ยว\n",
    "\n",
    "\n",
    "รายละเอียดการคำนวณอนุพันธ์สำหรับการแพร่กระจายย้อนหลังทิ้งให้เป็นแบบฝึกหัดสำหรับผู้อ่าน"
   ]
  },
  {
   "cell_type": "markdown",
   "metadata": {},
   "source": [
    "##### ตัวอย่าง 2.3\n",
    "\n",
    "ในตัวอย่างนี้จะแสดงการสร้าง DNN ชั้นแฝงเดี่ยวโดยเขียนโค้ดภาษาไพธอนเพื่อจำแนกข้อมูล 2 ชนิดที่เป็นจุดปะปนกันในระนาบ\n",
    "2 มิติ โดยแสดงความแตกต่างอย่างเด่นชัดเมื่อเปรียบเทียบกับการใช้โมเดลการถดถอยเชิงเส้น \n",
    "สำหรับการกำเนิดข้อมููลจะใช้ไลบรารี sklearn ซึ่งได้นำเข้าในโค้ดเซลล์แรกของบทนี้ ไลบรารีนี้มีข้อมูลให้ทดลองหลายชนิด \n",
    "ในตัวอย่างนี้เลือก Gaussian quantiles ลักษณะของจุดข้อมูล 400 ตัวอย่างเป็นดังรูปที่ 2.16 "
   ]
  },
  {
   "cell_type": "code",
   "execution_count": 2,
   "metadata": {},
   "outputs": [
    {
     "data": {
      "image/png": "[encoded data removed]",
      "text/plain": [
       "<Figure size 432x288 with 1 Axes>"
      ]
     },
     "metadata": {
      "needs_background": "light"
     },
     "output_type": "display_data"
    }
   ],
   "source": [
    "N = 200\n",
    "gaussian_quantiles = sklearn.datasets.make_gaussian_quantiles(mean=None, cov=0.5, \n",
    "            n_samples=N, n_features=2, n_classes=2, shuffle=True, random_state=None)\n",
    "X, Y = gaussian_quantiles\n",
    "X, Y = X.T, Y.reshape(1, Y.shape[0])\n",
    "# Visualize the data\n",
    "plt.scatter(X[0, :], X[1, :], c=Y, s=40, cmap=plt.cm.Spectral);"
   ]
  },
  {
   "cell_type": "markdown",
   "metadata": {},
   "source": [
    "รูปที่ 2.16 ข้อมูล Gaussian quantiles ที่ต้องการจำแนกประเภท\n",
    "\n",
    "จากตำแหน่งของข้อมูลจะเห็นว่าจุดสีแดงรวมตัวอยู่ส่วนกลาง ส่วนสีน้ำเงินกระจายอยู่โดยรอบ โดย $X$ คือพิกัดของจุดข้อมูลใน \n",
    "2 มิติ และ $Y$ คือเลเบลทวิภาคที่แทนด้วยสี (0 = แดง, 1 = น้ำเงิน)\n",
    "\n",
    "ในขั้นแรกจะทดลองจำแนกประเภทโดยใช้โมเดลการถดถอยลอจิสติก ซึ่งสามารถสร้างได้โดยฟังก์ชันจากไลบรารี sklearn \n",
    "ใช้โค้ดดังนี้ในการสร้างและฝึกโมเดล"
   ]
  },
  {
   "cell_type": "code",
   "execution_count": 3,
   "metadata": {},
   "outputs": [],
   "source": [
    "LR_model = sklearn.linear_model.LogisticRegressionCV();\n",
    "LR_model.fit(X.T, Y.T.reshape(-1));"
   ]
  },
  {
   "cell_type": "markdown",
   "metadata": {},
   "source": [
    "ใช้ฟังก์ชันสนับสนุน plot_decision_boundary() เพื่อแสดงเส้นแบ่งเขตการจำแนกโดยโมเดลการถดถอยลอจิสติก \n",
    "ได้ผลดังแสดงในรูปที่ 2.17"
   ]
  },
  {
   "cell_type": "code",
   "execution_count": 4,
   "metadata": {},
   "outputs": [],
   "source": [
    "def plot_decision_boundary(model, X, y):\n",
    "    # Set min and max values and give it some padding\n",
    "    x_min, x_max = X[0, :].min() - 1, X[0, :].max() + 1\n",
    "    y_min, y_max = X[1, :].min() - 1, X[1, :].max() + 1\n",
    "    h = 0.01\n",
    "    # Generate a grid of points with distance h between them\n",
    "    xx, yy = np.meshgrid(np.arange(x_min, x_max, h), np.arange(y_min, y_max, h))\n",
    "    # Predict the function value for the whole grid\n",
    "    Z = model(np.c_[xx.ravel(), yy.ravel()])\n",
    "    Z = Z.reshape(xx.shape)\n",
    "    # Plot the contour and training examples\n",
    "    plt.contourf(xx, yy, Z, cmap=plt.cm.Spectral)\n",
    "    plt.ylabel('x2')\n",
    "    plt.xlabel('x1')\n",
    "    plt.scatter(X[0, :], X[1, :], c=y, cmap=plt.cm.Spectral)\n"
   ]
  },
  {
   "cell_type": "code",
   "execution_count": 5,
   "metadata": {},
   "outputs": [
    {
     "name": "stdout",
     "output_type": "stream",
     "text": [
      "Accuracy of logistic regression: 51 % \n"
     ]
    },
    {
     "data": {
      "image/png": "[encoded data removed]",
      "text/plain": [
       "<Figure size 432x288 with 1 Axes>"
      ]
     },
     "metadata": {
      "needs_background": "light"
     },
     "output_type": "display_data"
    }
   ],
   "source": [
    "# Plot the decision boundary for logistic regression\n",
    "plot_decision_boundary(lambda x: LR_model.predict(x), X, Y)\n",
    "plt.title(\"Logistic Regression\")\n",
    "\n",
    "# Print accuracy\n",
    "LR_predictions = LR_model.predict(X.T)\n",
    "print ('Accuracy of logistic regression: %d ' % float((np.dot(Y,LR_predictions) + np.dot(1-Y,1-LR_predictions))/float(Y.size)*100) +\n",
    "       '% ' )"
   ]
  },
  {
   "cell_type": "markdown",
   "metadata": {},
   "source": [
    "รูปที่ 2.17 เส้นแบ่งเขตการจำแนกข้อมูลจากโมเดลการถดถอยลอจิสติก\n",
    "\n",
    "จากรูปที่ 2.17 จะเห็นว่าการถดถอยลอจิสติกพื้นฐานไม่สามารถแก้ปัญหานี้ได้อย่างมีประสิทธิภาพ ทั้งนี้เนื่องจากข้อมูลมีลักษณะที่ไม่เป็นเชิงเส้น \n",
    "จะทดลองใช้ DNN ที่มีเซลล์ประสาท 4 หน่วยคล้ายดังในรูปที่ 2.11 เพียงแต่ในโจทย์นี้จำนวนอินพุตเท่ากับ 2 \n",
    "เลือกฟังก์ชันกระตุ้นที่เอาต์พุตชั้นแฝงเป็นแบบ tanh() และที่เอาต์พุตขั้นสุดท้ายเป็น $\\sigma()$ \n",
    "\n",
    "หาค่าจำนวนของอินพุตและเอาต์พุตจากข้อมูล และกำหนดจำนวนเซลล์ของชั้นแฝง ตั้งชื่อตัวแปรเป็น \n",
    "<code>n_x, n_y, n_h</code>ตามลำดับ"
   ]
  },
  {
   "cell_type": "code",
   "execution_count": 6,
   "metadata": {},
   "outputs": [
    {
     "name": "stdout",
     "output_type": "stream",
     "text": [
      "n_x = 2, n_h = 4, n_y = 1\n"
     ]
    }
   ],
   "source": [
    "n_x = X.shape[0] # input layer size\n",
    "n_h = 4 # neurons in hidden layer\n",
    "n_y = Y.shape[0] # output layer size\n",
    "print(\"n_x = {}, n_h = {}, n_y = {}\".format(n_x,n_h,n_y))"
   ]
  },
  {
   "cell_type": "markdown",
   "metadata": {},
   "source": [
    "ตั้งค่าเริ่มต้นให้กับพารามิเตอร์โมเดล โดยค่าน้ำหนักจะตั้งค่าแบบสุ่มและลดค่าโดยคูณด้วยค่าน้อยเช่น 0.01\n",
    "ส่วนค่าเอนเอียงสามารถตั้งเป็นศูนย์ได้ (หากตั้งค่าน้ำหนักเริ่มต้นเป็นศูนย์ จะเกิดปัญหาจากความสมมาตรของโครงข่าย) \n",
    "เขียนเป็นฟังก์ชัน init_params() ที่คืนค่าเป็นดิกชันนารีของพารามิเตอร์ดังนี้"
   ]
  },
  {
   "cell_type": "code",
   "execution_count": 7,
   "metadata": {},
   "outputs": [],
   "source": [
    "def init_params(n_x, n_h, n_y):\n",
    "    W1 = np.random.randn(n_h, n_x) * 0.01 \n",
    "    b1 = np.zeros((n_h, 1))\n",
    "    W2 = np.random.randn(n_y, n_h) * 0.01\n",
    "    b2 = np.zeros((n_y, 1))\n",
    "    parameters = {\"W1\": W1,\n",
    "                  \"b1\": b1,\n",
    "                  \"W2\": W2,\n",
    "                  \"b2\": b2}\n",
    "    return parameters    "
   ]
  },
  {
   "cell_type": "code",
   "execution_count": 8,
   "metadata": {},
   "outputs": [],
   "source": [
    "params = init_params(n_x, n_h, n_y)"
   ]
  },
  {
   "cell_type": "markdown",
   "metadata": {},
   "source": [
    "สำหรับฟังก์ชันกระตุ้นที่ใช้ในชั้นแฝงได้จากไลบรารี np.tanh() เหลือเพียงเขียนฟังก์ชันกระตุ้น sigmoid() \n",
    "เพื่อใช้ในเอาต์พุตขั้นสุดท้ายของโมเดล  "
   ]
  },
  {
   "cell_type": "code",
   "execution_count": 9,
   "metadata": {},
   "outputs": [],
   "source": [
    "def sigmoid(z):\n",
    "    y = 1/(1+np.exp(-z))\n",
    "    return y"
   ]
  },
  {
   "cell_type": "markdown",
   "metadata": {},
   "source": [
    "มาถึงขั้นนี้เราพร้อมที่จะเขียนโค้ดสำหรับแผนภาพการคำนวณในแต่ละรอบการฝึก \n",
    "เริ่มจากเขียนฟังก์ชัน fw_prop() สำหรับคำนวณการแพร่กระจายข้างหน้าโดยใช้เค้าโครงของโค้ดตามขั้นตอนวิธี 2.1 \n",
    "โดยฟังก์ชันนี้รับอาร์กิวเมนต์เป็นข้อมูลอินพุต <code>X</code> และดิกชันนารีของพารามิเตอร์ <code>parameters</code>\n",
    "เมื่อคำนวณการแพร่กระจายข้างหน้าแล้วจะคืนค่าเอาต์พุตของชั้นสุดท้าย <code>A2</code> และดิกชันนารี <code>cache</code> \n",
    "ที่ใช้ในการคำนวณการแพร่กระจายย้อนหลัง"
   ]
  },
  {
   "cell_type": "code",
   "execution_count": 10,
   "metadata": {},
   "outputs": [],
   "source": [
    "def fw_prop(X, parameters):\n",
    "    # Retrieve each parameter from the dictionary \"parameters\"\n",
    "    W1 = parameters['W1']\n",
    "    b1 = parameters['b1']\n",
    "    W2 = parameters['W2']\n",
    "    b2 = parameters['b2']\n",
    "    ### END CODE HERE ###\n",
    "    \n",
    "    # Implement Forward Propagation to calculate A2 (probabilities)\n",
    "    Z1 = W1@X + b1\n",
    "    A1 = np.tanh(Z1)\n",
    "    Z2 = W2@A1 + b2\n",
    "    A2 = sigmoid(Z2)\n",
    "    cache = {\"Z1\": Z1,\n",
    "             \"A1\": A1,\n",
    "             \"Z2\": Z2,\n",
    "             \"A2\": A2}\n",
    "    return A2, cache"
   ]
  },
  {
   "cell_type": "markdown",
   "metadata": {},
   "source": [
    "เมื่อได้เอาต์พุต <code>A2</code> ซึ่งเป็นการคำนวณแบบเวกเตอร์ที่รวมทุกตัวอย่างในการฝึก เราสามารถคำนวณฟังก์ชันมูลค่า (2.6) โดยเขียนเป็นฟังก์ชัน \n",
    "<code>compute_cost()</code>ดังนี้"
   ]
  },
  {
   "cell_type": "code",
   "execution_count": 19,
   "metadata": {},
   "outputs": [],
   "source": [
    "def compute_cost(A2, Y, parameters):\n",
    "    m = Y.shape[1] # number of example\n",
    "    logprobs = Y@np.log(A2).T + (1-Y)@np.log(1-A2).T\n",
    "    cost = np.squeeze(np.float64(-logprobs /m))\n",
    "    return cost\n",
    "    "
   ]
  },
  {
   "cell_type": "markdown",
   "metadata": {},
   "source": [
    "สำหรับขั้นตอนวิธีการแพร่กระจายย้อนหลัง ซึ่งเป็นส่วนที่มีความซับซ้อนเชิงคณิตศาสตร์ที่สุดสำหรับปัญหาการเรียนรู้เชิงลึก จะใช้เค้าโครงตามขั้นตอนวิธี 2.2 \n",
    "เขียนเป็นฟังก์ชัน <code>bw_prop()</code> ได้ดังนี้"
   ]
  },
  {
   "cell_type": "code",
   "execution_count": 12,
   "metadata": {},
   "outputs": [],
   "source": [
    "def bw_prop(parameters, cache, X, Y):\n",
    "    m = X.shape[1]\n",
    "\n",
    "    W1 = parameters['W1']\n",
    "    W2 = parameters['W2']\n",
    "    A1 = cache['A1']\n",
    "    A2 = cache['A2']\n",
    "    \n",
    "    # Backward propagation: calculate dW1, db1, dW2, db2. \n",
    "    avg_m = 1/m \n",
    "    dZ2 = A2 - Y\n",
    "    dW2 = avg_m*dZ2@A1.T\n",
    "    db2 = avg_m*np.sum(dZ2, axis=1, keepdims=True)\n",
    "    dZ1 = (W2.T@dZ2) * (1 - np.power(A1, 2))\n",
    "    dW1 = avg_m*dZ1@X.T\n",
    "    db1 = avg_m*np.sum(dZ1, axis=1, keepdims=True)\n",
    "    \n",
    "    grads = {\"dW1\": dW1,\n",
    "             \"db1\": db1,\n",
    "             \"dW2\": dW2,\n",
    "             \"db2\": db2}\n",
    "    \n",
    "    return grads    "
   ]
  },
  {
   "cell_type": "markdown",
   "metadata": {},
   "source": [
    "โดยสังเกตว่า <code>bw_prop()</code> จะต้องการอาร์กิวเมนต์ <code>cache</code> ที่เป็นเอาต์พุตของ \n",
    "<code>fw_prop()</code> เมื่อคำนวณค่าการเปลี่ยนแปลงของพารามิเตอร์ในแต่ละขั้นได้แล้ว เขียนฟังก์ชัน <code>update_params()</code> \n",
    "เพื่อปรับค่าพารามิเตอร์ โดยมีอาร์กิวเมนต์สำหรับปรับค่าอัตราการเรียนรู้"
   ]
  },
  {
   "cell_type": "code",
   "execution_count": 14,
   "metadata": {},
   "outputs": [],
   "source": [
    "def update_params(parameters, grads, learning_rate = 1.2):\n",
    "    W1 = parameters['W1']\n",
    "    b1 = parameters['b1']\n",
    "    W2 = parameters['W2']\n",
    "    b2 = parameters['b2']\n",
    "    dW1 = grads['dW1']\n",
    "    db1 = grads['db1']\n",
    "    dW2 = grads['dW2']\n",
    "    db2 = grads['db2']\n",
    "    W1 = W1 - learning_rate * dW1\n",
    "    b1 = b1 - learning_rate * db1\n",
    "    W2 = W2 - learning_rate * dW2\n",
    "    b2 = b2 - learning_rate * db2\n",
    "    parameters = {\"W1\": W1,\n",
    "                  \"b1\": b1,\n",
    "                  \"W2\": W2,\n",
    "                  \"b2\": b2}   \n",
    "    return parameters"
   ]
  },
  {
   "cell_type": "markdown",
   "metadata": {},
   "source": [
    "รวมฟังก์ชันย่อยทั้งหมดเพื่อสร้างโมเดล เขียนเป็นฟังก์ชัน <code>dnn1l_model()</code> \n",
    "ในตัวอย่างนี้เราจะให้จำนวนเซลล์ของชั้นแฝงเป็นอาร์กิวเมนต์เพื่อสามารถดูผลการจำแนกเมื่อแปรค่าจำนวนเซลล์ "
   ]
  },
  {
   "cell_type": "code",
   "execution_count": 16,
   "metadata": {},
   "outputs": [],
   "source": [
    "def dnn1l_model(X, Y, n_h, num_iterations = 10000, print_cost=False):\n",
    "    n_x = X.shape[0] # input layer size\n",
    "    n_y = Y.shape[0] # output layer size    \n",
    "\n",
    "    parameters = init_params(n_x, n_h, n_y)\n",
    "    W1 = parameters['W1']\n",
    "    b1 = parameters['b1']\n",
    "    W2 = parameters['W2']\n",
    "    b2 = parameters['b2']\n",
    "\n",
    "    for i in range(0, num_iterations):\n",
    "        A2, cache = fw_prop(X, parameters) # forward propagation\n",
    "        cost = compute_cost(A2, Y, parameters)\n",
    "        grads = bw_prop(parameters, cache, X, Y) # backward propagation\n",
    "        parameters = update_params(parameters, grads) # parameter update\n",
    " \n",
    "        # Print the cost every 1000 iterations\n",
    "        if print_cost and i % 1000 == 0:\n",
    "            print (\"Cost after iteration %i: %f\" %(i, cost))\n",
    "\n",
    "    return parameters"
   ]
  },
  {
   "cell_type": "markdown",
   "metadata": {},
   "source": [
    "ฟังก์ชันสุดท้ายคือ <code>predict()</code>สำหรับการพยากรณ์เอาต์พุต ตามเงื่อนไขดังนี้\n",
    "\n",
    "$$\n",
    "\\hat{y} = \\left\\{ \\begin{matrix}\n",
    "1 & a^{[2]}>0.5 \\\\\n",
    "0 &  \\textrm{otherwise} \\end{matrix} \\right.              \n",
    "$$"
   ]
  },
  {
   "cell_type": "code",
   "execution_count": 21,
   "metadata": {},
   "outputs": [],
   "source": [
    "def predict(parameters, X):\n",
    "    A2, cache = fw_prop(X, parameters)\n",
    "    predictions = (A2 > .5)\n",
    "    return predictions"
   ]
  },
  {
   "cell_type": "markdown",
   "metadata": {},
   "source": [
    "เมื่อเขียนฟังก์ชันย่อยครบทั้งหมดแล้ว เราพร้อมที่จะทดสอบโมเดลกับข้อมูล Gaussian quantiles ในรูปที่ 2.16 โดยเริ่มจากโมเดลที่มีจำนวนเซลล์ในชั้นแฝงเท่ากับ 4 \n",
    "สร้างโมเดลและฝึกโดยข้อมูล <code>X,Y</code> โดยใช้ฟังก์ชัน <code>dnn1l_model()</code> ซึ่งจะุคืนค่าตัวแปร <code>parameters</code> \n",
    "เพื่อนำมาพยากรณ์ ทั้งหมดเขียนเป็นโค้ดได้ดังเซลล์ด้านล่าง ซึ่งจะพล็อตผลการจำแนกในรูปที่ 2.18"
   ]
  },
  {
   "cell_type": "code",
   "execution_count": 23,
   "metadata": {},
   "outputs": [
    {
     "name": "stdout",
     "output_type": "stream",
     "text": [
      "Cost after iteration 0: 0.693148\n",
      "Cost after iteration 1000: 0.111000\n",
      "Cost after iteration 2000: 0.079602\n",
      "Cost after iteration 3000: 0.069821\n",
      "Cost after iteration 4000: 0.083793\n",
      "Cost after iteration 5000: 0.079697\n",
      "Cost after iteration 6000: 0.080613\n",
      "Cost after iteration 7000: 0.081600\n",
      "Cost after iteration 8000: 0.079600\n",
      "Cost after iteration 9000: 0.080615\n"
     ]
    },
    {
     "data": {
      "text/plain": [
       "[]"
      ]
     },
     "execution_count": 23,
     "metadata": {},
     "output_type": "execute_result"
    },
    {
     "data": {
      "image/png": "[encoded data removed]",
      "text/plain": [
       "<Figure size 432x288 with 1 Axes>"
      ]
     },
     "metadata": {
      "needs_background": "light"
     },
     "output_type": "display_data"
    }
   ],
   "source": [
    "parameters = dnn1l_model(X, Y, n_h = 4, num_iterations = 10000, print_cost=True)\n",
    "\n",
    "# Plot the decision boundary\n",
    "plot_decision_boundary(lambda x: predict(parameters, x.T), X, Y)\n",
    "plt.title(\"Decision Boundary for hidden layer size \" + str(n_h))\n",
    "plt.plot()"
   ]
  },
  {
   "cell_type": "markdown",
   "metadata": {},
   "source": [
    "รูปที่ 2.18 ผลการจำแนกข้อมูลจากโมเดล DNN ชั้นแฝงเดี่ยว\n",
    "\n",
    "เมื่อตรวจสอบค่าของฟังก์ชันมูลค่าที่ถูกพิมพ์ออกทุก 1000 รอบการฝึก จะเห็นว่าลดลงจากค่าเริ่มต้นจนกระทั่งเริ่มเข้าสู่ค่าน้อยและแกว่งอยู่ประมาณค่านั้น \n",
    "แสดงว่าขั้นตอนวิธีการลดค่าเกรเดียนต์ทำงานได้ตามที่คาดหวัง อย่างไรก็ตามการปรับค่าอัตราการเรียนรู้จะทำให้ได้ผลที่แตกต่างกัน \n",
    "หรืออาจทำให้ขั้นตอนวิธีไม่เสถียรก็ได้\n",
    "\n",
    "เมื่อเปรียบเทียบผลการจำแนกข้อมูลจากการพยากรณ์โดยโมเดล DNN ชั้นแฝงเดี่ยวในรูปที่ 2.18 กับผลจากโมเดลการถดถอยลอจิสติกในรูปที่ 2.17 \n",
    "จะแสดงได้ถึงข้อได้เปรียบในการเพิ่มชั้นแฝงให้กับโมเดล โดยจากข้อมูลจุดสีแดงจะกระจุกตัวอยู่บริเวณใจกลางของระนาบ ส่วนจุดสีฟ้าจะกระจายอยู่โดยรอบ \n",
    "การแบ่งขอบเขตจากโมเดล DNN สามารถจำแนกพื้นที่บนระนาบที่มีข้อมูลจุดสีแดงและสีฟ้าได้อย่างเหมาะสม \n",
    "ในขณะที่การจำแนกโดยโมเดลการถดถอยลอจิสติกจะได้ขอบเขตเป็นเส้นตรงที่ไม่สอดคล้องกับตัวอย่างข้อมูลแต่อย่างใด\n",
    "\n",
    "\n"
   ]
  },
  {
   "cell_type": "code",
   "execution_count": null,
   "metadata": {},
   "outputs": [],
   "source": []
  },
  {
   "cell_type": "code",
   "execution_count": null,
   "metadata": {},
   "outputs": [],
   "source": []
  },
  {
   "cell_type": "code",
   "execution_count": null,
   "metadata": {},
   "outputs": [],
   "source": []
  },
  {
   "cell_type": "code",
   "execution_count": null,
   "metadata": {},
   "outputs": [],
   "source": []
  },
  {
   "cell_type": "code",
   "execution_count": null,
   "metadata": {},
   "outputs": [],
   "source": []
  },
  {
   "cell_type": "code",
   "execution_count": null,
   "metadata": {},
   "outputs": [],
   "source": []
  },
  {
   "cell_type": "code",
   "execution_count": null,
   "metadata": {},
   "outputs": [],
   "source": []
  },
  {
   "cell_type": "code",
   "execution_count": null,
   "metadata": {},
   "outputs": [],
   "source": []
  },
  {
   "cell_type": "code",
   "execution_count": null,
   "metadata": {},
   "outputs": [],
   "source": []
  },
  {
   "cell_type": "markdown",
   "metadata": {},
   "source": [
    "##### โจทย์ปัญหา\n",
    "\n",
    "2-1 ทดลองฝึกโมเดลในตัวอย่าง 2.1 เป็นจำนวนรอบมากขึ้น ตรวจสอบความแม่นยำของโมเดลว่าเพิ่มขึ้นมากน้อยเพียงใด\n",
    "\n",
    "2-2 ใช้ตัวอย่างโมเดลอย่างง่าย เช่นมี 2 อินพุต และชั้นแฝงเดี่ยวประกอบด้วย 2 เซลล์ เพื่อแสดงให้เห็นว่า หากชั้นแฝงไม่มีฟังก์ชันกระตุ้นแบบไม่เป็นเชิงเส้นแล้ว\n",
    "เราสามารถยุบโมเดล DNN นั้นเหลือเป็นโมเดล ANN เชิงตื้นได้ \n",
    "\n",
    "2-3 แสดงรายละเอียดการคำนวณอนุพันธ์สำหรับการแพร่กระจายย้อนหลังของโมเดล DNN ชั้นแฝงเดี่ยว\n",
    "\n"
   ]
  },
  {
   "cell_type": "code",
   "execution_count": null,
   "metadata": {},
   "outputs": [],
   "source": []
  },
  {
   "cell_type": "markdown",
   "metadata": {},
   "source": [
    "<p align=\"center\">\n",
    "<img src=\"https://drive.google.com/thumbnail?id=13bzT7Rmy3bzvE7TiS0yfQo94kpxMuipF\" alt=\"dewninja\"/>\n",
    "</p>\n",
    "<div align=\"center\">dew.ninja 2022</div>"
   ]
  }
 ],
 "metadata": {
  "kernelspec": {
   "display_name": "Python 3.8 (tensorflow)",
   "language": "python",
   "name": "tensorflow"
  },
  "language_info": {
   "codemirror_mode": {
    "name": "ipython",
    "version": 3
   },
   "file_extension": ".py",
   "mimetype": "text/x-python",
   "name": "python",
   "nbconvert_exporter": "python",
   "pygments_lexer": "ipython3",
   "version": "3.8.11"
  }
 },
 "nbformat": 4,
 "nbformat_minor": 4
}
