{
 "cells": [
  {
   "cell_type": "code",
   "execution_count": 1,
   "metadata": {
    "tags": [
     "remove_cell"
    ]
   },
   "outputs": [],
   "source": [
    "import warnings;\n",
    "warnings.filterwarnings('ignore');"
   ]
  },
  {
   "cell_type": "markdown",
   "metadata": {
    "id": "IIq8HJwp4Il1"
   },
   "source": [
    "<div style=\"page-break-after: always;\"></div>\n",
    "\n",
    "# บทที่ 5. โครงข่ายประสาทเทียมวกกลับ\n",
    "\n",
    "ปัญหาการเรียนรู้เชิงลึกที่เราได้ศึกษาจนถึงบทนี้จะเห็นว่าข้อมูลแต่ละตัวอย่างไม่มีความสัมพันธ์กัน \n",
    "เช่นการจำแนกภาพสุนัขและแมวที่โมเดลรับอินพุตแต่ละภาพเป็นเอกเทศ \n",
    "ในบทนี้จะพิจารณากรณีข้อมูลมีลักษณะเป็นลำดับ (sequence) เช่นชุดของภาพแมวที่ถ่ายจากวีดีโอขณะกำลังวิ่ง \n",
    "และต้องการให้โมเดลเรียนรู้การเคลื่อนไหวของวัตถุในภาพ หากอินพุตเป็นภาพแมวเพียงภาพเดียว \n",
    "เราอาจไม่ทราบได้ว่าแมวจะเคลื่อนไหวอย่างไรต่อไป แต่ถ้าเป็นลำดับของภาพชุดหนึ่งของแมววิ่งจากซ้ายไปขวา \n",
    "โมเดลสามารถจำแนกได้ว่าเป็นกิจกรรมการวิ่ง หรือพยากรณ์ตำแหน่งต่อไปของแมวได้\n",
    "\n",
    "ปัญหาที่เกี่ยวข้องกับข้อมูลลำดับเป็นโจทย์สำคัญด้านการเรียนรู้เชิงลึกที่ครอบคลุมการใช้งานหลายรูปแบบ \n",
    "เช่นการประมวลผลภาษาธรรมชาติ (natural language processing นิยมเรียกโดยย่อว่า NLP) การแปลภาษาโดยเครื่อง\n",
    "การรู้จำเสียงพูด (speech recognition) การกำเนิดดนตรี การจำแนกอารมณ์ (sentiment classification) \n",
    "การวิเคราะห์ลำดับ DNA การรู้จำกิจกรรมจากลำดับภาพวีดีโอ เป็นต้น\n",
    "\n",
    "โดยลักษณะของโจทย์ปัญหาที่แตกต่างนี้ทำให้สถาปัตยกรรมโครงข่ายประสาทเทียมแบบ DNN หรือ CNN มีข้อด้อยสองประการคือ \n",
    "\n",
    "<ol>\n",
    "<li />ไม่สามารถเรียนรู้และใช้ประโยชน์จากความสัมพันธ์ของข้อมูลลำดับ\n",
    "<li />อินพุตมีลักษณะที่มีขนาดไม่คงที่ เช่นจำนวนอักขระในแต่ละคำ\n",
    "</ol>\n",
    "\n",
    "ในบทนี้เราจะนำเสนอโมเดลที่เหมาะสมสำหรับงานในรูปแบบนี้\n",
    "\n",
    "## 5.1 สัญกรณ์สำหรับข้อมูลลำดับ\n",
    "\n",
    "ก่อนเริ่มต้นการศึกษาในบทนี้จะนิยามสัญกรณ์เพิ่มเติมสำหรับข้อมูลลำดับ โดยยกตัวอย่างคำภาษาอังกฤษที่ประกอบเป็นประโยค \n",
    "ซึ่งหลักการสามารถประยุกต์กับภาษาโดยทั่วไป กรณีที่เป็นภาษาไทยจะมีความซับซ้อนเพิ่มขึ้นจากการตัดคำในประโยค \n",
    "ซึ่งมิใช่ส่วนที่ต้องการเน้นในด้านการเรียนรู้เชิงลึก\n",
    "\n",
    "สมมุติว่าต้องการสร้างโมเดลลำดับเพื่อรับประโยคอินพุตดังนี้\n",
    "\n",
    "X : Yngwie Malmsteen and Steve Vai performed together in Boston.\n",
    "    \n",
    "และต้องการให้โมเดลจำแนกว่าคำใดบ้างที่เป็นชื่อของคน ดังนั้นต้องการเอาต์พุต y มีค่าเป็น 1 หากคำนั้นเป็นส่วนของชื่อคน \n",
    "(ชื่อหรือนามสกุล) หากไม่ใช่ให้มีค่าเป็น 0 ดังนั้นจากประโยคอินพุตนี้จะได้เอาต์พุตเท่ากับ\n",
    "\n",
    "$$\n",
    "Y =  [1, 1, 0, 1, 1, 0, 0, 0, 0] \n",
    "$$    \n",
    "\n",
    "ต้องการแทนแต่ละคำในประโยคของอินพุตด้วยสัญกรณ์โดย $x^{<t>}$ ซึ่ง $t$ คือตัวชี้ตำแหน่งของคำในประโยค \n",
    "ดังนั้นอินพุตจากประโยคด้านบนแทนได้เป็นดังนี้\n",
    "\n",
    "$$\n",
    "X = [x^{<1>}, x^{<2>}, \\ldots, x^{<t>}, \\ldots, x^{<9>}]\n",
    "$$\n",
    "\n",
    "และเอาต์พุต\n",
    "\n",
    "$$\n",
    "Y = [y^{<1>}, y^{<2>}, \\ldots, y^{<t>}, \\ldots, y^{<9>}]\n",
    "$$\n",
    "\n",
    "ให้ $T_x, T_y$ แทนจำนวนสมาชิกของอินพุตและเอาต์พุตตามลำดับ จากตัวอย่างนี้มีจำนวนเท่ากันคือ $9$ \n",
    "แต่โดยทั่วไปแล้วไม่จำเป็นต้องเท่ากัน \n",
    "\n",
    "ทบทวนจากสัญกรณ์เดิมเราใช้ $x^{(i)}, y^{(i)}$ แทนอินพุตและเอาต์พุตตัวอย่างที่ $i$ ดังนั้น \n",
    "$x^{(i)<t>}, y^{(i)<t>}$ แทนอินพุตและเอาต์พุตสมาชิกลำดับ \n",
    "$t$ ของตัวอย่าง $i$ ซึ่งจำนวนสมาชิกของแต่ละอินพุต/เอาต์พุต $T_x^{(i)}, T_y^{(i)}$ \n",
    "ในแต่ละตัวอย่างไม่จำเป็นต้องเท่ากัน\n",
    "\n",
    "ต่อมาเราพิจารณาแต่ละสมาชิกของอินพุตในตัวอย่างหนึ่งที่อยู่ในรูปคำภาษาอังกฤษ \n",
    "การที่จะจะประมวลผลโดยโมเดลได้จะต้องแปลงให้อยู่ในรูปที่สามารถดำเนินการทางคณิตศาสตร์ได้ \n",
    "วิธีการพื้นฐานคือสร้างลิสต์สำหรับเก็บคำศัพท์ หรือดิกชันนารีที่เรียงคำศัพท์ตามอักขระตั้งแต่ a-z \n",
    "เช่นตัวชี้แรกเป็นคำนำหน้านาม \"a\" ตัวสุดท้ายเป็นคำว่า \"zulu\" ดิกชันนารีนี้ครอบคลุมทุกคำศัพท์ที่ใช้เป็นอินพุตของโมเดล \n",
    "สำหรับคำที่ไม่มีอาจนิยามเป็น \"\\<unk\\>\" (unknown) \n",
    "ดังนั้นแต่ละคำในประโยคอินพุตของตัวอย่างหนึ่งจะถูกแทนด้วยตัวเลขที่เป็นตัวชี้ในดิกชันนารี เช่นจากประโยคด้านบนอาจแทนโดย\n",
    "\n",
    "$$\n",
    "X = [9240, 5321, 127, 7441, 8739, 6716, 7913, 4471, 942]\n",
    "$$\n",
    "\n",
    "ขนาดของดิกชันนารีขึ้นกับจำนวนคำศัพท์ที่ต้องการ โจทย์ขนาดเล็กอาจมีสมาชิกหลักหมื่น \n",
    "ขณะที่การใช้งานให้ครอบคลุมทุกคำที่มีใช้ในอินเทอร์เน็ตอาจมีขนาดเป็นหลักล้านหรือมากกว่า \n",
    "จากตัวอย่างที่นำเสนอด้านบนสมมุติว่าใช้ดิกชันนารีขนาด 10,000 คำศัพท์ \n",
    "วิธีการอย่างง่ายคือแทนคำศัพท์เหล่านี้ในรูปแบบที่เรียกกันว่า <em>วันฮ็อต (one-hot)</em> \n",
    "คือเป็นเวกเตอร์ที่มีสมาชิกเพียงตัวเดียวเท่ากับหนึ่งที่เหลือเป็นศูนย์หมด เช่นคำว่า \"Yngwie\" \n",
    "อยู่ตำแหน่งที่ 9240 ในดิกชันนารี (อาจต้องเพิ่มคำนี้เข้าไปเพราะมิใช่ชื่อที่ใช้กันโดยทั่วไป)\n",
    "ดังนั้นแทนด้วยเวกเตอร์ความยาวเท่ากับขนาดของดิกชันนารี คือ 10,000 \n",
    "มีสมาชิกทุกตัวเท่ากับ 0 ยกเว้นสมาชิกตำแหน่งที่ 9240 เท่านั้นที่มีค่าเท่ากับ 1 คำว่า \"and\" \n",
    "มีเพียงสมาชิกตำแหน่งที่ 127 เท่ากับ 1 เป็นต้น"
   ]
  },
  {
   "cell_type": "markdown",
   "metadata": {
    "id": "nCUiPesZ4Il6"
   },
   "source": [
    "## 5.2 โครงข่ายประสาทเทียมวกกลับ\n",
    "\n",
    "จากข้อจำกัด 2 ประการของโมเดล DNN หรือ CNN ที่เราได้ศึกษาก่อนหน้านี้ทำให้ไม่สามารถใช้งานกับข้อมูลลำดับได้อย่างเหมาะสม \n",
    "ดังนั้นจึงมีการนำเสนอสถาปัตยกรรมอีกรูปแบบหนึ่งที่กลายเป็นต้นแบบสำหรับโมเดลที่ใช้กับข้อมูลลำดับเรียกว่า \n",
    "<em>โครงข่ายประสาทเทียมวกกลับ (recurrent neural network)</em> เรียกโดยย่อว่า RNN รูปที่ 5.1 แสดงแผนภาพของโมเดล RNN \n",
    "แบบที่มีการไหลของสถานะในทิศทางเดียว (unidirectional) โดยมีลักษณะการแสดง 2 รูปแบบที่สมนัยกัน \n",
    "ทางด้านซ้ายคือการคลี่โมเดลออก (unroll) ให้เห็นถึงโครงสร้างภายในอย่างชัดเจน ส่วนทางด้านขวาคือการเขียนให้กระชับขึ้น \n",
    "ในหนังสือนี้จะยึดแผนภาพทางด้านซ้ายเป็นหลัก พารามิเตอร์การเรียนรู้ในแผนภาพแสดงเพียงค่าน้ำหนัก $W$ \n",
    "โดยละค่าเอนเอียงไว้เพื่อลดความหนาแน่นของสัญกรณ์ในภาพลง แผนภาพของโมเดล RNN ในรูปที่ 5.1 ที่มีค่า $T_x = T_y$\n",
    "เป็นเพียงหนึ่งในหลายรูปแบบที่จะกล่าวถึงต่อไป\n",
    "\n",
    "<p />  \n",
    "<p align=\"center\">\n",
    "<img src=\"https://drive.google.com/uc?id=1y3xgInzVINn5AgjDc_MKLXnqGQ1FfTux\" width=650 />\n",
    "</p>\n",
    "<div align=\"center\">รูปที่ 5.1 แผนภาพโครงข่ายประสาทเทียมวกกลับ (RNN)</div>\n",
    "\n",
    "เมือพิจารณาแผนภาพด้านซ้ายในรูปที่ 5.1 แท่งสี่เหลี่ยมในแนวตั้งแทน DNN ที่มีจำนวนชั้นตามที่กำหนด มีอินพุตคือ $x$ \n",
    "และเอาต์พุต $\\hat{y}$ เหมือนที่ได้ศึกษาในบทที่ 2 แต่จะมีตัวชี้ของลำดับข้อมูลกำกับอยู่ \n",
    "สังเกตว่าโมเดลในแนวตั้งมีเพียงตัวเดียว แต่คลี่ออกให้เห็นการทำงานตามลำดับ\n",
    "สิ่งที่แตกต่างสำหรับโมเดล RNN คือจะมีการส่งผ่านสถานะ $h$ จากลำดับก่อนหน้ายังลำดับต่อไป \n",
    "หากมองการทำงานของโมเดลเป็นขั้นของเวลาอาจทำให้เข้าใจได้ง่ายขึ้น เมื่อกำหนดสถานะเริ่มต้น $h^{<0>} = 0$ \n",
    "โมเดลรับอินพุตเป็นสมาชิกแรกของลำดับคือ $x^{<1>}$ ผ่านชั้นของ DNN ได้เอาต์พุต $\\hat{y}^{<1>}$ \n",
    "ขณะเดียวกันคำนวณสถานะ $h^{<1>}$ เพื่อนำมาใช้ในขั้นเวลาต่อไป \n",
    "โดยการทำงานที่ซ้ำเดิมเช่นนี้จึงเป็นที่มาของชื่อ \"โครงข่ายประสาทเทียมวกกลับ\"\n",
    "\n",
    "### 5.2.1 การแพร่กระจายข้างหน้าของ RNN\n",
    "\n",
    "การแพร่กระจายข้างหน้าของ RNN ดังในรูปที่ 5.2 ในแต่ละขั้นเวลาสามารถบรรยายโดยสมการคณิตศาสตร์ดังนี้\n",
    "\n",
    "<p />  \n",
    "<p align=\"center\">\n",
    "<img src=\"https://drive.google.com/uc?id=1DwB8cmb608zjWpjn6jvngwNnxrCy492p\" width=650 />\n",
    "</p>\n",
    "<div align=\"center\">รูปที่ 5.2 การแพร่กระจายข้างหน้าของ RNN</div>\n",
    "<p />\n",
    "$$\n",
    "h^{<t>} = f(W_{hh}h^{<t-1>} + W_{hx}x^{<t>}+b_h) \\tag{5.1}\n",
    "$$\n",
    "\n",
    "$$\n",
    "\\hat{y}^{<t>} = g(W_{yh}h^{<t>}+b_y) \\tag{5.2}\n",
    "$$\n",
    "\n",
    "โดยกำหนดค่าเริ่มต้นของสถานะ $h^{<0>} = 0$ และใช้พารามิเตอร์น้ำหนักและค่าเอนเอียงชุดเดียวตลอดทั้งแผนภาพ\n",
    "ฟังก์ชันกระตุ้น $f()$ สำหรับสถานะ นิยมใช้ฟังก์ชัน <code>tanh()</code> หรืออาจพบเห็นการใช้ <code>ReLU()</code> \n",
    "ในบางกรณี ส่วนฟังก์ชันกระตุ้น $g()$ สำหรับพยากรณ์เอาต์พุตจะเหมือนกับที่ใช้ใน DNN ปกติ คือ <code>sigmoid()</code> \n",
    "ในการจำแนกทวิภาคและ <code>softmax()</code> ในการจำแนกหลายประเภท \n",
    "\n",
    "เราสามารถทำสมการ (5.1) ให้กระชับขึ้นโดยนิยาม\n",
    "\n",
    "$$\n",
    "W_h = \\begin{bmatrix}\n",
    "W_{hh} & W_{hx} \n",
    "\\end{bmatrix} \\;\\;\\text{(5.3)}\n",
    "$$\n",
    "\n",
    "$$\n",
    "[h^{<t-1>}, x^{<t>}] = \\begin{bmatrix}\n",
    "h^{<t-1>} \\\\\n",
    "x^{<t>}\n",
    "\\end{bmatrix} \\;\\;\\text{(5.4)}\n",
    "$$\n",
    "\n",
    "ดังนั้น (5.1) สามารถเขียนใหม่ได้เป็น\n",
    "\n",
    "$$\n",
    "h^{<t>} = f(W_{h}[h^{<t-1>}, x^{<t>}] + b_h) \\tag{5.5}\n",
    "$$"
   ]
  },
  {
   "cell_type": "markdown",
   "metadata": {
    "id": "ESuelu4W4Il7"
   },
   "source": [
    "### 5.2.2 การแพร่กระจายย้อนหลังของ RNN\n",
    "\n",
    "\n",
    "แผนภาพการแพร่กระจายย้อนหลังแสดงได้ดังรูปที่ 5.3 จากเอาต์พุต $\\hat{y}^{<t>}$ ที่พยากรณ์ได้จากการแพร่กระจายข้างหน้า สามารถคำนวณค่าสูญเสีย \n",
    "$\\mathcal{L}^{<t>}$ โดยเปรียบเทียบกับเอาต์พุตค่าจริง $y^{<t>}$ ตัวอย่างเช่นปัญหาการจำแนกทวิภาคสามารถนิยามฟังก์ชันสูญเสียในแต่ละขั้นเวลาแบบการถดถอยลอจิสติก\n",
    "หรือที่เรียกว่า ครอสเอนโทรปี\n",
    "\n",
    "$$\n",
    "\\mathcal{L}^{<t>}(\\hat{y}^{<t>},y^{<t>}) = -y^{<t>}log(\\hat{y}^{<t>}) - (1-y^{<t>})log (1-\\hat{y}^{<t>}) \\tag{5.6} \n",
    "$$\n",
    "\n",
    "ค่าสูญเสียรวมนิยามได้เป็นผลรวมของค่าสูญเสียในแต่ละขั้นของเวลา\n",
    "\n",
    "$$\n",
    "\\mathcal{L}(\\hat{y},y) = \\sum_{t=1}^{T_y}\\mathcal{L}^{<t>}(\\hat{y}^{<t>},y^{<t>}) \\tag{5.7} \n",
    "$$\n",
    "\n",
    "<p />  \n",
    "<p align=\"center\">\n",
    "<img src=\"https://drive.google.com/uc?id=1KBmLL9GEujp47-jbjbORajeColfYiTQ8\" width=650 />\n",
    "</p>\n",
    "<div align=\"center\">รูปที่ 5.3 การแพร่กระจายย้อนหลังของ RNN</div>\n",
    "\n",
    "จากค่าสูญเสียนี้ทำให้เราสามารถคำนวณอนุพันธ์เทียบกับค่าพารามิเตอร์เพื่อใช้ในการปรับค่าให้เข้าสู่ค่าสูญเสียต่ำสุดเหมือนดังที่ได้เคยศึกษาแล้ว \n",
    "อย่างไรก็ตามในการกระจายย้อนหลังของโมเดล RNN มีส่วนที่น่าสนใจคือการไหลในทิศทางแนวนอนจากขวามาซ้ายในรูปที่ 5.3 \n",
    "มีชื่อเรียกว่า <em>\"การกระจายย้อนหลังผ่านเวลา\" (back propagatin through time)</em>\n",
    "ซึ่งให้ความรู้สึกเหมือนการเดินทางผ่านเวลาในภาพยนต์นิยายวิทยาศาสตร์ "
   ]
  },
  {
   "cell_type": "markdown",
   "metadata": {
    "id": "Ffbz8qc_4Il8"
   },
   "source": [
    "### 5.2.3 สถาปัตยกรรมของ RNN จำแนกตามจำนวนอินพุตและเอาต์พุต\n",
    "\n",
    "จากโมเดล RNN ที่ยกตัวอย่างในรูปที่ 5.1 เป็นกรณีที่จำนวนลำดับของอินพุตกับเอาต์พุตเท่ากัน ซึ่งเป็นประเภทหนึ่งในหลายประเภทของสถาปัตยกรรม RNN \n",
    "ที่แสดงในรูปที่ 5.4 คืออยู่ในประเภท (d) \n",
    "\n",
    "\n",
    "<p />  \n",
    "<p align=\"center\">\n",
    "<img src=\"https://drive.google.com/uc?id=1WstYfkuTTMoA4GyfbECmPwSfDP_rUrHh\" width=650 />\n",
    "</p>\n",
    "<div align=\"center\">รูปที่ 5.4 สถาปัตยกรรมของ RNN</div>\n",
    "\n",
    "สถาปัตยกรรมในรูปที่ 5.4 จะละเว้นกรณีที่โมเดลมีเพียงหนึ่งอินพุตหนึ่งเอาต์พุต ซึ่งจะกลายเป็นโมเดล DNN ธรรมดา \n",
    "สำหรับประเภท (a) - (d)  อธิบายได้ดังนี้\n",
    "\n",
    "(a) <u>โมเดลหลายอินพุตหนึ่งเอาต์พุต</u> ใช้ในปัญหาการจำแนกประเภทของอินพุตที่อาจเป็นประโยคข้อความ เสียง หรือข้อมูลอันดับอื่น \n",
    "โมเดลจะให้ค่าของเอาต์พุตเป็นประเภทของการจำแนก หรือการตัดสินแบบทวิภาค \n",
    "ตัวอย่างเช่นการตัดสินอารมณ์ของของลูกค้าว่าพอใจหรือไม่พอใจในสินค้า/บริการ หรือการตรวจสอบเสียงพูดของผู้ใช้งานว่าตรงกับคำสั่งที่กำหนดไว้หรือไม่ \n",
    "\n",
    "(b) <u>โมเดลหนึ่งอินพุตหลายเอาต์พุต</u> ในกรณีนี้รวมถึงกรณีที่ไม่มีอินพุตเลย ตัวอย่างเช่นการกำเนิดดนตรี เราอาจป้อนอินพุตเป็นตัวเลขที่แทนประเภทของดนตรี \n",
    "หรือกำหนดโน้ตตัวแรกของเพลง หรือไม่กำหนดค่าใดเลย คือ $x = \\emptyset$\n",
    "ในโมเดลนี้มักมีการป้อนเอาต์พุตของขั้นเวลาก่อนหน้าเป็นอินพุตของขั้นเวลาต่อมา\n",
    "\n",
    "(c) <u>โมเดลหลายอินพุตหลายเอาต์พุต</u> ที่จำนวนอินพุต $T_x$ และจำนวนเอาต์พุต $T_y$ อาจแตกต่างกัน ตัวอย่างเช่นการแปลภาษาโดยเครื่อง \n",
    "สมมุติว่าต้องการสร้างโมเดลแปลจากภาษาอังกฤษเป็นเยอรมัน เราอาจเริ่มต้นโดยการอ่านประโยคอินพุตภาษาอังกฤษเข้ามาจนหมดก่อน \n",
    "เรียกว่า <em>ส่วนเข้ารหัส (encoder)</em> หลังจากนั้น <em>ส่วนถอดรหัส (decoder)</em> จึงทำหน้าที่ส่งเอาต์พุตภาษาเยอรมันออกไป\n",
    "\n",
    "(d) <u>โมเดลหลายอินพุตหลายเอาต์พุต</u> มีจำนวนอินพุตและเอาต์พุตเท่ากัน $T_x = T_y$\n",
    "\n",
    "</ul>"
   ]
  },
  {
   "cell_type": "markdown",
   "metadata": {
    "id": "5jopxNwa4Il9"
   },
   "source": [
    "## 5.3 โมเดลลำดับขั้นสูงที่พัฒนาจาก RNN\n",
    "\n",
    "ในบทที่ 3 เราได้อธิบายเกี่ยวกับปัญหาการที่เกรเดียนต์มีค่าสูงมาก (exploding gradients) หรือน้อยมากจนเรียกว่าการหายไปของเกรเดียนต์ \n",
    "(vanishing gradinets) \n",
    "ซึ่งเป็นปัญหาของโมเดลที่มีจำนวนชั้นแฝงมาก ปํญหานี้จะยิ่งทวีความรุนแรงสำหรับโมเดล RNN เนื่องจากมีลำดับขั้นเวลาเข้ามาเกี่ยวข้อง \n",
    "เสมือนกับว่าเพิ่มความลึกของโมเดลมากขึ้นอีก ระหว่างขอบเขตสองทิศทางของเกรเดียนต์นี้ \n",
    "ปัญหาเกรเดียนต์ค่าสูงจะแก้ไขได้ง่ายกว่าเพราะหากตรวจพบเราสามารถใช้ <em>วิธีการจำกัดค่าเกรเดียนต์ (gradient clipping)</em> \n",
    "แต่ในกรณีการหายไปของเกรเดียนต์เป็นเหตุผลหลักที่ทำให้โมเดล RNN ไม่สามารถเรียนรู้ลำดับที่มีความยาวและมีข้อมูลสำคัญอยู่ห่างกัน \n",
    "\n",
    "จะลองยกตัวอย่างภาษาไทยดูบ้าง สมมุติว่าเราต้องการสร้างโมเดลในการเรียนรู้ความคิดเห็นของลูกค้าที่โพสต์ในเพจของร้านอาหารร้านหนึ่ง \n",
    "และตัดสินว่าเป็นการชมหรือตำหนิเมนูอาหารของร้าน (โมเดล (a) ในรูปที่ 5.4) อินพุตเป็นข้อความดังนี้\n",
    "\n",
    "\"วันนี้ลองสั่ง<u>บะหมี่หมูกรอบ</u> ก่อนอื่นต้องขอกล่าวในฐานะที่ตัวเองเป็นคนดีและนักชิมอาหารตัวยงที่เดินทางไปทั่วประเทศไทยอันเป็นที่รักยิ่ง \n",
    "ถึงแม้ว่าได้วางแผนใช้ชีวิตหลังเกษียณในต่างประเทศ แต่เห็นว่าในโลกนี้ไม่มีที่ใหนดีเท่าประเทศไทยอีกแล้ว มาพบร้านนี้โดยบังเอิญ\n",
    "และไม่ได้รู้จักกับเจ้าของร้านเป็นการส่วนตัว ต้องขอบอกว่า<u>รสชาติไม่ถูกปาก</u>\"\n",
    "\n",
    "สังเกตว่าในส่วนต้นของข้อความนี้ \"บะหมี่หมูกรอบ\" มีความสำคัญเพราะกล่าวถึงอาหารรายการหนึ่งที่ร้านอาหารนี้จำหน่าย \n",
    "แต่หลังจากนั้่นโมเดลจะรับอินพุตเป็นข้อความที่ยาวมากและไม่มีความสำคัญต่อการตัดสินใจ จนกระทั่งใกล้จบจึงพบคำว่า \"รสชาติไม่ถูกปาก\" \n",
    "ซึ่งประมวลได้เป็นผลด้านลบต่ออาหารรายการนี้ของร้าน อินพุตในลักษณะนี้สามารถทำให้เกิดปัญหาการหายไปของเกรเดียนต์ \n",
    "โมเดลต้องจำคำว่า \"บะหมี่หมูกรอบ\" นานหลายขั้นเวลามากก่อนจะถึงคำที่มีความสำคัญอีกคำหนึ่ง \n",
    "กล่าวได้ว่าขาดสมรรถนะด้านความจำในระยะยาว \n",
    "วิธีแก้ไขคือเพิ่มกลไกที่ช่วยให้โมเดลสามารถเรียนรู้และจดจำอินพุตที่มีความสำคัญได้จนถึงเวลาที่ต้องการใช้ \n",
    "ซึ่งโมเดลที่มีการนำเสนอใช้กลไกในรูปแบบของเกต (gate) และพารามิเตอร์การเรียนรู้ให้เปิด/ปิดข้อมูลในส่วนที่ต้องการ \n",
    "\n",
    "ปัจจุบันโมเดลที่ต่อยอดจาก RNN และใช้กันแพร่หลายคือ <em>GRU (gated recurrent unit)</em> และ \n",
    "<em>LSTM (long short term memory)</em> \n",
    "ซึ่งต่อไปจะแทนโดยชื่อย่อ ถึงแม้ว่า LSTM จะถูกนำเสนอก่อน แต่เนื่องจาก GRU มีความซับซ้อนน้อยกว่าดังนั้นจะกล่าวถึงเป็นลำดับแรก"
   ]
  },
  {
   "cell_type": "markdown",
   "metadata": {
    "id": "90az3oBF4Il9"
   },
   "source": [
    "### 5.3.1 โมเดล GRU \n",
    "\n",
    "หลักการของโมเดล GRU {cite}`cho2014properties`,{cite}`chung2014empirical` คือใช้เกต 2 ตัวเป็นกลไกเพื่อกำหนดว่าเมื่อไรต้องการจำหรือลืมข้อมูลสำคัญ และเลือกที่จะถ่ายทอดสถานะสำคัญนั้นผ่านขั้นเวลา \n",
    "หรือผ่านสถานะปกติ นิยาม <em>เกตสำหรับอัพเดต (update gate)</em>\n",
    "\n",
    "$$\n",
    "\\Gamma_u^{<t>} = \\sigma(W_u[h^{<t-1>}, x^{<t>}]+b_u) \\tag{5.8}\n",
    "$$\n",
    "\n",
    "และ <em>เกตสำหรับรีเซต (reset gate)</em>\n",
    "\n",
    "$$\n",
    "\\Gamma_r^{<t>} = \\sigma(W_r[h^{<t-1>}, x^{<t>}]+b_r) \\tag{5.9}\n",
    "$$\n",
    "\n",
    "โดย GRU มีพารามิเตอร์การเรียนรู้เพิ่มขึ้นคือ $W_u, b_u, W_r, b_r$ ข้อสังเกตจากกราฟของฟังก์ชันซิกมอยด์คือมีค่าเข้าสู่ระดับ 0 หรือ 1 เมื่ออินพุตมีค่ามากขึ้นด้านลบหรือบวก ดังนั้นเกตทั้งสองนี้จะทำงานในลักษณะปิด/เปิดเป็นส่วนใหญ่ \n",
    "คือเมื่อเกตมีค่าศูนย์ก็จะปิดกั้นไม่ให้อินพุตผ่าน ส่วนกรณีมีค่าเป็นหนึ่งก็จะให้อินพุตผ่านได้ นิยามสถานะที่เป็นทางเลือกคือ\n",
    "\n",
    "$$\n",
    "\\tilde{h}^{<t>} = \\tanh(W_{h}[\\Gamma_r^{<t>}*h^{<t-1>}, x^{<t>}] + b_h) \\tag{5.10}\n",
    "$$\n",
    "\n",
    "โดยเราจะใช้เครื่องหมาย \\* แทนการคูณสมาชิกต่อสมาชิก สุดท้ายคือนิยามค่าสถานะที่จะส่งผ่านไปยังขั้นเวลาต่อไป\n",
    "\n",
    "$$\n",
    "h^{<t>} = \\Gamma_u^{<t>}*\\tilde{h}^{<t>} + (1-\\Gamma_u^{<t>})*h^{<t-1>} \\tag{5.11}\n",
    "$$\n",
    "\n",
    "จะเห็นว่าเมื่อ $\\Gamma_u^{<t>} \\approx 1$ คือต้องการอัพเดต (พบข้อมูลสำคัญและต้องการส่งผ่านความจำระยะยาว) \n",
    "สถานะที่ส่งผ่านคือ $\\tilde{h}^{<t>}$ เนื่องจาก $(1-\\Gamma_u^{<t>}) \\approx 0$ \n",
    "ทำให้สถานะก่อนหน้า $h^{<t-1>}$ ถูกปิดกั้น ขณะเดียวกันในสมการ (5.10) ค่าของ $\\Gamma_r^{<t>}$ \n",
    "เป็นตัวกำหนดว่าสถานะก่อนหน้ามีความสำคัญมากน้อยเพียงใด \n",
    "ส่วนอีกกรณีหนึ่งคือเมื่อ $\\Gamma_u^{<t>} \\approx 0$ สถานะที่ส่งผ่านคือสถานะก่อนหน้านี้เช่นเดียวกับโมเดล RNN ปกติ แผนภาพในรูปที่ 5.5 \n",
    "แสดงการทำงานของกลไกใน GRU (ละเว้นส่วนเอาต์พุตเพื่อเน้นเฉพาะการส่งผ่านสถานะ)\n",
    "\n",
    "<p />  \n",
    "<p align=\"center\">\n",
    "<img src=\"https://drive.google.com/uc?id=1GCIC815fihF6JhuDPpaT9wn5MtYAXKG5\" width=550 />\n",
    "</p>\n",
    "<div align=\"center\">รูปที่ 5.5 กลไกการส่งผ่านสถานะในโมเดล GRU</div>"
   ]
  },
  {
   "cell_type": "markdown",
   "metadata": {
    "id": "hOnqWHJI4Il-"
   },
   "source": [
    "### 5.3.2 โมเดล LSTM\n",
    "\n",
    "LSTM {cite}`hochreiter1997long`เป็นโมเดลอีกรูปแบบหนึ่งที่ต่อยอดจาก RNN โดยเพิ่มกลไกในการบริหารความจำระยะยาว \n",
    "ถูกนำเสนอก่อนหน้า GRU มีความซับซ้อนมากกว่าเพราะประกอบด้วยเกต 3 ตัวทำหน้าที่สำหรับลืม อัพเดต \n",
    "และส่งค่าออกเอาต์พุตสถานะ โครงสร้างของ LSTM แสดงได้ดังในรูปที่ 5.6 \n",
    "\n",
    "<p />  \n",
    "<p align=\"center\">\n",
    "<img src=\"https://drive.google.com/uc?id=1m-7VVo9Hb2jsT-5CorN3uznK8F5eyOFv\" width=550 />\n",
    "</p>\n",
    "<div align=\"center\">รูปที่ 5.6 โครงสร้างภายในของโมเดล LSTM</div>\n",
    "\n",
    "หลักการของโมเดล LSTM คือเพิ่มเส้นทางสำหรับความจำระยะยาวแยกต่างหากจากสถานะเดิมของ RNN \n",
    "มักเรียกสถานะนี้ว่า \"เซลล์ความจำ\" หรือสั้นลงเพียง \"เซลล์\" แทนด้วย $c^{<t>}$ \n",
    "ตัวเลือกในการส่งผ่านคือค่าเซลล์ความจำก่อนหน้า $c^{<t-1>}$ หรือค่าใหม่ที่คำนวณดังนี้\n",
    "\n",
    "$$\n",
    "\\tilde{c}^{<t>} = \\tanh(W_{c}[h^{<t-1>}, x^{<t>}] + b_c) \\tag{5.12}\n",
    "$$\n",
    "\n",
    "เกตที่ทำหน้าที่อัพเดตข้อมูลสู่เซลล์ความจำจะมีรูปแบบเหมือนกับ GRU \n",
    "\n",
    "$$\n",
    "\\Gamma_u^{<t>} = \\sigma(W_u[h^{<t-1>}, x^{<t>}]+b_u) \\tag{5.13}\n",
    "$$\n",
    "\n",
    "แต่สำหรับ LSTM จะใช้เกตอีกตัวหนึ่งคือ $\\Gamma_f^{<t>}$ เพื่อทำให้หยุดจำ (คือสั่งให้ลืมนั่นเอง)\n",
    "\n",
    "$$\n",
    "\\Gamma_f^{<t>} = \\sigma(W_f[h^{<t-1>}, x^{<t>}]+b_f) \\tag{5.14}\n",
    "$$\n",
    "\n",
    "สุดท้ายคือเกตเอาต์พุต $\\Gamma_o^{<t>}$\n",
    "\n",
    "$$\n",
    "\\Gamma_o^{<t>} = \\sigma(W_o[h^{<t-1>}, x^{<t>}]+b_o) \\tag{5.15}\n",
    "$$\n",
    "\n",
    "ค่าที่อัพเดตไปยังเซลล์ความจำคำนวณได้ดังนี้\n",
    "\n",
    "$$\n",
    "c^{<t>} = \\Gamma_u^{<t>}*\\tilde{c}^{<t>} + \\Gamma_f^{<t>})*c^{<t-1>} \\tag{5.16}\n",
    "$$\n",
    "\n",
    "โดย \\* แทนการคูณสมาชิกต่อสมาชิก ดังนั้นเซลล์ความจำของขั้นเวลาปัจจุบัน $c^{<t>}$ \n",
    "คือการเลือกระหว่างค่าเซลล์ความจำในขั้นเวลาก่อนหน้า $c^{<t-1>}$ หรือว่าค่าอัพเดต \n",
    "$\\tilde{c}^{<t>}$ จาก (5.12) ขึ้นกับค่าของเกต $\\Gamma_u^{<t>}$ และ $\\Gamma_f^{<t>}$\n",
    "\n",
    "สำหรับการส่งค่าสถานะ $h^{<t>}$ ถูกควบคุมโดยเกตเอาต์พุต $\\Gamma_o^{<t>}$\n",
    "\n",
    "$$\n",
    "h^{<t>} = \\Gamma_o^{<t>}*\\tanh(c^{<t>}) \\tag{5.17}\n",
    "$$\n",
    "\n",
    "การทำงานของ LSTM จะเป็นดังแผนภาพรูปที่ 5.7 โดยเส้นทางของเซลล์ความจำระยะยาว $c^{<t>}$ จะอยู่ด้านบน \n",
    "แยกจากสถานะ $h^{<t>}$ ซึ่งเมื่อพิจารณาว่าอินพุตมีความสำคัญ เช่นคำว่า \"บะหมี่หมูกรอบ\" ในตัวอย่างด้านบน \n",
    "$c^{<t>}$ จะถูกอัพเดต หลังจากนั้นถูกส่งผ่านขั้นเวลาหลายขั้นตามต้องการจนกว่าจะถูกสั่งให้ลืมคำนั้น \n",
    "ซึ่งการทำงานของเกตจะเรียนรู้ผ่านการฝึกโมเดล\n",
    "\n",
    "<p />  \n",
    "<p align=\"center\">\n",
    "<img src=\"https://drive.google.com/uc?id=1B78MNr3yEySqREWiQkJlsQ9RUto99H5E\" width=850 />\n",
    "</p>\n",
    "<div align=\"center\">รูปที่ 5.7 แผนภาพคลี่ของ LSTM</div>\n",
    "\n",
    "บางครั้งจะพบเห็นการใส่ค่าของเซลล์ความจำเข้าที่อินพุตของเกต เช่น\n",
    "\n",
    "$$\n",
    "\\Gamma_o^{<t>} = \\sigma(W_o[h^{<t-1>}, x^{<t>},c^{<t-1>}]+b_o) \\tag{5.18}\n",
    "$$\n",
    "\n",
    "รวมถึงเกต $\\Gamma_u^{<t>}, \\; \\Gamma_f^{<t>}$ วิธีการนี้มีชื่อเรียกว่า <em>การเชื่อมต่อช่องมอง \n",
    "(peephole connection)</em>"
   ]
  },
  {
   "cell_type": "markdown",
   "metadata": {
    "id": "vZHVEV1o4Il_"
   },
   "source": [
    "### 5.3.3 โมเดล RNN สองทิศทาง\n",
    "\n",
    "โมเดลลำดับทั้งหมดที่กล่าวมาข้างต้นมีข้อจำกัดคือการส่งสถานะจะเป็นแบบทิศทางเดียว \n",
    "จึงไม่สามารถเรียนรู้ในกรณีข้อมูลลำดับมีส่วนสำคัญอยู่ในขั้นที่อยู่หลังอินพุตปัจจุบัน ยกตัวอย่างสองประโยคนี้\n",
    "\n",
    "* คนทั่วไปรู้จัก \"วัตสัน\" \"ว่าเป็นนามสกุลของดาราหญิงที่มีชื่อเสียง\n",
    "* คนทั่วไปรู้จัก \"วัตสัน\" ว่าเป็นร้านขายอุปกรณ์เสริมสุขภาพและความงาม\n",
    "\n",
    "หากโมเดลต้องการพยากรณ์คำว่า \"วัตสัน\" เป็นส่วนของชื่อคนหรือไม่ จะต้องรอการประมวลผลในส่วนหลังของประโยค \n",
    "ซึ่งเกิดขึ้นในขั้นเวลาภายหลัง และส่งสถานะย้อนกลับมา สถาปัตยกรรมที่เหมาะสมในกรณีนี้คือโมเดล \n",
    "RNN <em>สองทิศทาง (bidirectional)</em> ดังแสดงในรูปที่ 5.8\n",
    "โดย $h_f^{<t>}$ และ $h_b^{<t>}$ คือสถานะที่ถ่ายทอดในทิศทางข้างหน้าและย้อนหลังตามลำดับ\n",
    "\n",
    "<p />  \n",
    "<p align=\"center\">\n",
    "<img src=\"https://drive.google.com/uc?id=1pYGmdchKqZfNATC1e_QfdvRHCoPw9wC-\" width=550 />\n",
    "</p>\n",
    "<div align=\"center\">รูปที่ 5.8 โมเดล RNN สองทิศทาง</div>\n",
    "\n",
    "การพยากรณ์เอาต์พุตเขียนได้เป็นสมการดังนี้\n",
    "\n",
    "$$\n",
    "\\hat{y}^{<t>} = g(W_y[h_f^{<t>},h_b^{<t>}]+b_y) \\tag{5.19}\n",
    "$$\n",
    "\n",
    "ยกตัวอย่างการพยากรณ์เอาต์พุต $\\hat{y}^{<3>}$ เป็นฟังก์ชันของทั้งข้อมูล $x^{<1>},\\; x^{<2>},$ $x^{<3>}$ \n",
    "โดยการส่งผ่านสถานะในทิศทางข้างหน้ามายัง $h_f^{<3>}$ \n",
    "และข้อมูลจาก $x^{<4>}$ ส่งย้อนหลังมายัง $h_b^{<3>}$ การส่งสถานะสองทิศทางนี้สามารถขยายไปยังโมเดลลำดับขั้นสูงคือ \n",
    "GRU และ LSTM ได้เช่นเดียวกัน "
   ]
  },
  {
   "cell_type": "markdown",
   "metadata": {
    "id": "RazQzHDs4Il_"
   },
   "source": [
    "### 5.3.4 โมเดล RNN เชิงลึก\n",
    "\n",
    "จากเนื้อหาประกอบรูปที่ 5.1 เราได้อธิบายว่าแท่งสี่เหลี่ยมในแนวตั้งแทน DNN ที่มีจำนวนชั้นตามที่กำหนด ดังนั้นโดยตัวเองจึงเป็นโมเดลเชิงลึกอยู่แล้วในระดับหนึ่ง \n",
    "แต่สังเกตจากสถานะที่ส่งผ่านที่ใช้สัญกรณ์ $h^{<t>}$ จะเป็นเวกเตอร์ที่เป็นเอาต์พุตจากฟังก์ชันไม่เป็นเชิงเส้น (5.1) โดยมีอินพุตคือ $x^{<t>}$ และ \n",
    "$h^{<t-1>}$ \n",
    "\n",
    "โมเดล RNN เชิงลึกในหัวข้อย่อยนี้เป็นการขยายจากโมเดล RNN พื้นฐานในรูปที่ 5.1 เป็นโครงสร้างที่ซับซ้อนขึ้นดังแสดงในรูปที่ 5.9 จะใช้สัญกรณ์\n",
    "$a^{[l]<t>}$ แทนฟังก์ชันกระตุ้นที่เอาต์พุตของชั้น $l$ ณ ขั้นลำดับ $t$ ซึ่งสามารถถ่ายโอนเอาต์พุตของแต่ละชั้นไปยังขั้นลำดับต่อไป \n",
    "คำนวณได้ตามสมการดังนี้\n",
    "\n",
    "$$\n",
    "a^{[l]<t>} = g(W_a^{[l]}[a^{[l]<t-1>}, a^{[l-1]<t>}]+b_a^{[2]}) \\tag{5.20}\n",
    "$$\n",
    "\n",
    "โดย $g()$ คือฟังก์ชันกระตุ้นที่ต้องการใช้ \n",
    "ในทางอุดมคติเราอาจต้องการสร้างโมเดลเชิงลึก 100 ชั้นแฝงแล้วถ่ายโอนเอาต์พุต $a^{[l]<t>}$ ของแต่ละชั้นแฝงเป็นสถานะลำดับ \n",
    "แต่ในทางปฏิบัติจะมีความซับซ้อนในการประมวลผลมากเกินกว่าจะใช้งานได้ ดังนั้นอาจเลือกส่งเอาต์พุต $a^{[l]<t>}$ เพียงชั้นแฝงต้นจำนวนไม่มาก \n",
    "ส่วนชั้นแฝงที่เหลือทำงานเป็น DNN ปกติเหมือนในรูปที่ 5.9 \n",
    "\n",
    "<p />  \n",
    "<p align=\"center\">\n",
    "<img src=\"https://drive.google.com/uc?id=15zxO6fw6TndhpQ84Th5wYnXfY0UbSwVM\" width=750 />\n",
    "</p>\n",
    "<div align=\"center\">รูปที่ 5.9 โมเดล RNN เชิงลึก</div>\n",
    "\n",
    "แน่นอนว่าเราสามารถผสมผสานโมเดลที่กล่าวถึงทั้งหมดเข้าด้วยกัน เช่นโมเดล LSTM สองทิศทางแบบเชิงลึก "
   ]
  },
  {
   "cell_type": "markdown",
   "metadata": {
    "id": "-VJPjHDY4ImA"
   },
   "source": [
    "## 5.4 สร้างโมเดลลำดับโดยไลบรารี TF\n",
    "\n",
    "ในหัวข้อนี้เป็นการศึกษาวิธีการสร้างโมเดล RNN และ LSTM บนกรอบการทำงานของ TF \n",
    "โดยใช้ข้อมูลสังเคราะห์ที่อธิบายในภาคผนวก A \n",
    "\n",
    "**ตัวอย่าง 5.1**\n",
    "\n",
    "จากภาคผนวก A เราได้ใช้โมเดล DNN พยากรณ์ข้อมูลอนุกรมเวลาสังเคราะห์ โดยได้สมรรถนะที่ดีในระดับหนึ่ง \n",
    "คือค่าผิดพลาด mse=298.72, mae = 13.63 (ค่าอาจแตกต่างกันไปบ้างในการรันแต่ละครั้ง) \n",
    "ในตัวอย่างนี้ต้องการสร้างโมเดลโดยใช้ RNN เพื่อพยากรณ์ข้อมูลเดิม \n",
    "เพื่อความสะดวกได้นำเอาโค้ดสำหรับสร้างอนุกรมเวลาสังเคราะห์มาใส่ในเซลล์ด้านล่างนี้ \n",
    "รวมถึงโค้ดสำหรับแบ่งข้อมูลฝึกและตรวจสอบ และจัดรูปข้อมูลฝึก\n",
    "(อ่านคำอธิบายได้ในภาคผนวก A)"
   ]
  },
  {
   "cell_type": "code",
   "execution_count": 2,
   "metadata": {
    "id": "Tx75jpaF4ImB"
   },
   "outputs": [],
   "source": [
    "import numpy as np\n",
    "import matplotlib.pyplot as plt\n",
    "import tensorflow as tf\n",
    "from tensorflow import keras"
   ]
  },
  {
   "cell_type": "code",
   "execution_count": 3,
   "metadata": {
    "tags": [
     "remove_cell"
    ]
   },
   "outputs": [],
   "source": [
    "tf.compat.v1.logging.set_verbosity(tf.compat.v1.logging.ERROR) #suppress logging output for book publishing"
   ]
  },
  {
   "cell_type": "code",
   "execution_count": 5,
   "metadata": {
    "id": "Hq2_Igjn4ImC"
   },
   "outputs": [],
   "source": [
    "def plot_series(time, series, format=\"-\", start=0, end=None, label=None,xlabel=\"time (days)\",ylabel=\"value\"):\n",
    "    plt.plot(time[start:end], series[start:end], format, label=label)\n",
    "    plt.xlabel(xlabel)\n",
    "    plt.ylabel(ylabel)\n",
    "    if label:\n",
    "        plt.legend(fontsize=14)\n",
    "    plt.grid(True)\n",
    "    \n",
    "def trend(t, slope=0):\n",
    "    return slope * t\n",
    "\n",
    "def seasonal_pattern(season_time):\n",
    "    return np.where(season_time < 0.4,\n",
    "                    -np.cos(season_time * 2.8 * np.pi),\n",
    "                    -0.1*np.exp(2.3*season_time))\n",
    "\n",
    "def seasonality(time, period, amplitude=1, phase=0):\n",
    "    season_time = ((time + phase) % period) / period\n",
    "    return amplitude * seasonal_pattern(season_time)\n",
    "\n",
    "def noise(time, noise_level=1):\n",
    "    return np.random.randn(len(time)) * noise_level\n",
    "\n"
   ]
  },
  {
   "cell_type": "code",
   "execution_count": 6,
   "metadata": {
    "id": "nA_8MbPb4ImC"
   },
   "outputs": [],
   "source": [
    "baseline = 50\n",
    "amplitude = 50\n",
    "slope = 0.04\n",
    "noise_level=15\n",
    "sample_time = np.arange(4 * 365 + 1)\n",
    "sample_series = baseline + trend(sample_time, slope) + seasonality(sample_time, period=365, amplitude=amplitude)+noise(sample_time, noise_level)\n",
    "#plot_series(sample_time, sample_series)"
   ]
  },
  {
   "cell_type": "code",
   "execution_count": 7,
   "metadata": {
    "id": "AcsmnSUo4ImD"
   },
   "outputs": [],
   "source": [
    "split_time = 365*3\n",
    "time_train = sample_time[:split_time]\n",
    "x_train = sample_series[:split_time]\n",
    "time_valid = sample_time[split_time:]\n",
    "x_valid = sample_series[split_time:]"
   ]
  },
  {
   "cell_type": "code",
   "execution_count": 8,
   "metadata": {
    "id": "1OqkyeaQ4ImD"
   },
   "outputs": [],
   "source": [
    "def windowed_dataset(series, window_size, batch_size, shuffle_buffer):\n",
    "    dataset = tf.data.Dataset.from_tensor_slices(series)\n",
    "    dataset = dataset.window(window_size + 1, shift=1, drop_remainder=True)\n",
    "    dataset = dataset.flat_map(lambda window: window.batch(window_size + 1))\n",
    "    dataset = dataset.shuffle(shuffle_buffer).map(lambda window: (window[:-1], window[-1]))\n",
    "    dataset = dataset.batch(batch_size).prefetch(1)\n",
    "    return dataset"
   ]
  },
  {
   "cell_type": "code",
   "execution_count": 9,
   "metadata": {
    "id": "tvE18JAy4ImD"
   },
   "outputs": [],
   "source": [
    "window_size = 20\n",
    "batch_size = 32\n",
    "shuffle_buffer_size = 1000"
   ]
  },
  {
   "cell_type": "code",
   "execution_count": 10,
   "metadata": {
    "id": "40bWEJac4ImE"
   },
   "outputs": [],
   "source": [
    "train_dataset = windowed_dataset(x_train, window_size, batch_size, shuffle_buffer_size)"
   ]
  },
  {
   "cell_type": "markdown",
   "metadata": {
    "id": "Y2EUCt424ImE"
   },
   "source": [
    "สร้างโมเดลลำดับโดยใช้ชั้น <code>SimpleRNN()</code> ซ้อนกัน 2 ชั้น โดยในชั้นแรกจะต้องใช้อาร์กิวเมนต์ \n",
    "<code>return_sequence = True</code> ให้ลำดับทั้งหมดออกที่เอาต์พุตของชั้นแรกเพื่อเป็นอินพุตของชั้นที่สอง \n",
    "สำหรับชั้นที่สองมีเอาต์พุตเดียว ใช้ชั้น <code>Dense(1)</code> รองรับ ส่วนชั้น <code>Lambda()</code> \n",
    "ชั้นบนสุดทำหน้าที่ปรับรูปของอินพุตจากฟังก์ชัน <code>windowed_dataset()</code> ให้สอดคล้องกับโมเดล \n",
    "ชั้น <code>Lambda()</code> สุดท้ายทำหน้าที่ปรับมาตราส่วนให้เหมาะสม โค้ดในการสร้างโมเดลเป็นดังนี้ "
   ]
  },
  {
   "cell_type": "code",
   "execution_count": 11,
   "metadata": {
    "id": "9S02AE7S4ImE"
   },
   "outputs": [],
   "source": [
    "rnn_model = tf.keras.models.Sequential([\n",
    "    tf.keras.layers.Lambda(lambda x: tf.expand_dims(x, axis=-1),\n",
    "                      input_shape=[None]),\n",
    "    tf.keras.layers.SimpleRNN(40, return_sequences=True),\n",
    "    tf.keras.layers.SimpleRNN(40),\n",
    "    tf.keras.layers.Dense(1),\n",
    "    tf.keras.layers.Lambda(lambda x: x * 100.0)\n",
    "])"
   ]
  },
  {
   "cell_type": "markdown",
   "metadata": {
    "id": "MnH0m6VZ54GK"
   },
   "source": [
    "คอมไพล์โดยกำหนดอัตราการเรียนรู้ที่เหมาะสม (อาจต้องมีการทดลองปรับหลายครั้ง) และใช้ตัวหาค่าเหมาะที่สุดแบบ <code>Adam</code>\n",
    "และตั้งค่าสูญเสียเป็นแบบ [Huber](https://en.wikipedia.org/wiki/Huber_loss) \n",
    "ที่มีความไวต่อการรบกวนน้อยกว่าแบบ <code>mse</code>"
   ]
  },
  {
   "cell_type": "code",
   "execution_count": 12,
   "metadata": {
    "id": "5SCRggtf4ImE"
   },
   "outputs": [],
   "source": [
    "optimizer = tf.keras.optimizers.Adam(learning_rate=5e-5)\n"
   ]
  },
  {
   "cell_type": "code",
   "execution_count": 13,
   "metadata": {
    "id": "tCS_u9np4ImE"
   },
   "outputs": [],
   "source": [
    "rnn_model.compile(loss=tf.keras.losses.Huber(),\n",
    "              optimizer=optimizer,\n",
    "              metrics=[\"mae\"])"
   ]
  },
  {
   "cell_type": "markdown",
   "metadata": {},
   "source": [
    "ฝึกโมเดลโดยข้อมูลที่จัดรูปแล้วเป็นจำนวน 400 รอบ (หากต้องการแสดงผลเอาต์พุตในระหว่างฝึก ตั้งค่า <code>verbose</code> ไม่เป็นศูนย์)"
   ]
  },
  {
   "cell_type": "code",
   "execution_count": 14,
   "metadata": {
    "colab": {
     "base_uri": "https://localhost:8080/"
    },
    "id": "AcgkUgck4ImE",
    "outputId": "0956769c-a963-4f80-ba21-356db1fd7512"
   },
   "outputs": [],
   "source": [
    "rnn_history = rnn_model.fit(train_dataset,epochs=400,verbose=0)"
   ]
  },
  {
   "cell_type": "markdown",
   "metadata": {
    "id": "jNLfYhPy8Kea"
   },
   "source": [
    "ดูผลการพยากรณ์จากโมเดลได้ดังรูปที่ 5.10"
   ]
  },
  {
   "cell_type": "code",
   "execution_count": 15,
   "metadata": {
    "colab": {
     "base_uri": "https://localhost:8080/",
     "height": 334
    },
    "id": "vZC4OiHx4ImF",
    "outputId": "f0f394ed-6af6-49c4-d3f3-b5efb8cbe372"
   },
   "outputs": [
    {
     "data": {
      "image/png": "[encoded data removed]",
      "text/plain": [
       "<Figure size 576x360 with 1 Axes>"
      ]
     },
     "metadata": {
      "needs_background": "light"
     },
     "output_type": "display_data"
    }
   ],
   "source": [
    "rnn_forecast=[]\n",
    "for time in range(len(sample_series) - window_size):\n",
    "    rnn_forecast.append(rnn_model.predict(sample_series[time:time + window_size][np.newaxis],verbose=0))\n",
    "\n",
    "rnn_forecast = rnn_forecast[split_time-window_size:]\n",
    "rnn_results = np.array(rnn_forecast)[:, 0, 0]\n",
    "\n",
    "\n",
    "plt.figure(figsize=(8, 5))\n",
    "\n",
    "plot_series(time_valid, x_valid)\n",
    "plot_series(time_valid, rnn_results)"
   ]
  },
  {
   "cell_type": "markdown",
   "metadata": {
    "id": "P7kZnQDv9giq"
   },
   "source": [
    "<div align=\"center\">รูปที่ 5.10 ผลการพยากรณ์จากโมเดล RNN</div>\n",
    "\n",
    "จากผลการพยากรณ์จะเห็นว่ามีค่าผิดพลาดมากในบริเวณส่วนยอดของข้อมูล\n",
    "ตรวจสอบค่าตัววัดเปรียบเทียบกับผลจากภาคผนวก A พบว่ามีค่าสูงกว่าเล็กน้อย "
   ]
  },
  {
   "cell_type": "code",
   "execution_count": 16,
   "metadata": {
    "colab": {
     "base_uri": "https://localhost:8080/"
    },
    "id": "Ao0Znu_m4ImF",
    "outputId": "12524985-7018-4fd3-c816-0673a54c45ef"
   },
   "outputs": [
    {
     "name": "stdout",
     "output_type": "stream",
     "text": [
      "285.60217\n",
      "13.305743\n"
     ]
    }
   ],
   "source": [
    "print(keras.metrics.mean_squared_error(x_valid, rnn_results).numpy())\n",
    "print(keras.metrics.mean_absolute_error(x_valid, rnn_results).numpy())"
   ]
  },
  {
   "cell_type": "markdown",
   "metadata": {
    "id": "k0CiJv924ImF"
   },
   "source": [
    "<div style=\".noindent\"><b>ตัวอย่าง 5.2</b></div>\n",
    "\n",
    "ในตัวอย่างนี้จะใช้ข้อมูลเดิมจากตัวอย่าง 5.1 แต่เปลี่ยนชั้น RNN ในโมเดลเป็นชั้น LSTM สองทิศทาง โค้ดสำหรับสร้างโมเดลเป็นดังนี้"
   ]
  },
  {
   "cell_type": "code",
   "execution_count": 17,
   "metadata": {
    "id": "Nn50DAoq4ImF"
   },
   "outputs": [],
   "source": [
    "lstm_model = tf.keras.models.Sequential([\n",
    "  tf.keras.layers.Lambda(lambda x: tf.expand_dims(x, axis=-1),\n",
    "                      input_shape=[None]),\n",
    "   tf.keras.layers.Bidirectional(tf.keras.layers.LSTM(32, return_sequences=True)),\n",
    "  tf.keras.layers.Bidirectional(tf.keras.layers.LSTM(32)),\n",
    "  tf.keras.layers.Dense(1),\n",
    "  tf.keras.layers.Lambda(lambda x: x * 100.0)\n",
    "])\n"
   ]
  },
  {
   "cell_type": "markdown",
   "metadata": {
    "id": "xbUSIrV44ImF"
   },
   "source": [
    "คอมไพล์โดยใช้อาร์กิวเมนต์เหมือนในตัวอย่าง 5.1 และฝึกจำนวนเท่ากัน"
   ]
  },
  {
   "cell_type": "code",
   "execution_count": 18,
   "metadata": {},
   "outputs": [],
   "source": [
    "lstm_model.compile(loss=tf.keras.losses.Huber(), optimizer=optimizer,metrics=[\"mae\"])"
   ]
  },
  {
   "cell_type": "code",
   "execution_count": 19,
   "metadata": {},
   "outputs": [],
   "source": [
    "lstm_history = lstm_model.fit(train_dataset,epochs=400,verbose=0)"
   ]
  },
  {
   "cell_type": "markdown",
   "metadata": {},
   "source": [
    "ดูผลการพยากรณ์จากโมเดลได้ดังรูปที่ 5.11"
   ]
  },
  {
   "cell_type": "code",
   "execution_count": 20,
   "metadata": {},
   "outputs": [
    {
     "data": {
      "image/png": "[encoded data removed]",
      "text/plain": [
       "<Figure size 576x360 with 1 Axes>"
      ]
     },
     "metadata": {
      "needs_background": "light"
     },
     "output_type": "display_data"
    }
   ],
   "source": [
    "lstm_forecast=[]\n",
    "for time in range(len(sample_series) - window_size):\n",
    "    lstm_forecast.append(lstm_model.predict(sample_series[time:time + window_size][np.newaxis],verbose=0))\n",
    "\n",
    "lstm_forecast = lstm_forecast[split_time-window_size:]\n",
    "lstm_results = np.array(lstm_forecast)[:, 0, 0]\n",
    "\n",
    "\n",
    "plt.figure(figsize=(8, 5))\n",
    "\n",
    "plot_series(time_valid, x_valid)\n",
    "plot_series(time_valid, lstm_results)"
   ]
  },
  {
   "cell_type": "markdown",
   "metadata": {},
   "source": [
    "<div align=\"center\">รูปที่ 5.11 ผลการพยากรณ์จากโมเดล LSTM</div>\n",
    "\n",
    "จากผลการพยากรณ์จะเห็นว่ามีการปรับปรุงขึ้นจากโมเดล RNN ตรวจสอบค่าผิดพลาดพบว่ามีค่าน้อยลง "
   ]
  },
  {
   "cell_type": "code",
   "execution_count": 21,
   "metadata": {},
   "outputs": [
    {
     "name": "stdout",
     "output_type": "stream",
     "text": [
      "260.38535\n",
      "12.540564\n"
     ]
    }
   ],
   "source": [
    "print(keras.metrics.mean_squared_error(x_valid, lstm_results).numpy())\n",
    "print(keras.metrics.mean_absolute_error(x_valid, lstm_results).numpy())"
   ]
  },
  {
   "cell_type": "markdown",
   "metadata": {},
   "source": [
    "<div style=\".noindent\"><b>ตัวอย่าง 5.3</b></div> \n",
    "\n",
    "เราสามารถใช้ชั้นสังวัตนาการมิติเดียวมาเป็นชั้นอินพุตของโมเดลก่อนหน้าชั้น RNN หรือ LSTM ได้ โดยต้องมีการแก้ไขฟังก์ชันจัดรูปข้อมูลฝึกเล็กน้อย\n",
    "ตามโค้ดด้านล่างนี้"
   ]
  },
  {
   "cell_type": "code",
   "execution_count": 22,
   "metadata": {},
   "outputs": [],
   "source": [
    "def windowed_dataset2(series, window_size, batch_size, shuffle_buffer):\n",
    "    series = tf.expand_dims(series, axis=-1)\n",
    "    ds = tf.data.Dataset.from_tensor_slices(series)\n",
    "    ds = ds.window(window_size + 1, shift=1, drop_remainder=True)\n",
    "    ds = ds.flat_map(lambda w: w.batch(window_size + 1))\n",
    "    ds = ds.shuffle(shuffle_buffer)\n",
    "    ds = ds.map(lambda w: (w[:-1], w[1:]))\n",
    "    return ds.batch(batch_size).prefetch(1)"
   ]
  },
  {
   "cell_type": "markdown",
   "metadata": {},
   "source": [
    "นิยามฟังก์ชันช่วยในการพยากรณ์"
   ]
  },
  {
   "cell_type": "code",
   "execution_count": 23,
   "metadata": {},
   "outputs": [],
   "source": [
    "def model_forecast(model, series, window_size):\n",
    "    ds = tf.data.Dataset.from_tensor_slices(series)\n",
    "    ds = ds.window(window_size, shift=1, drop_remainder=True)\n",
    "    ds = ds.flat_map(lambda w: w.batch(window_size))\n",
    "    ds = ds.batch(32).prefetch(1)\n",
    "    forecast = model.predict(ds,verbose=0)\n",
    "    return forecast"
   ]
  },
  {
   "cell_type": "markdown",
   "metadata": {},
   "source": [
    "จัดรูปข้อมูลฝึกโดยฟังก์ชันใหม่"
   ]
  },
  {
   "cell_type": "code",
   "execution_count": 24,
   "metadata": {},
   "outputs": [],
   "source": [
    "window_size = 30\n",
    "train_dataset2 = windowed_dataset2(x_train, window_size, batch_size=128, shuffle_buffer=shuffle_buffer_size)"
   ]
  },
  {
   "cell_type": "markdown",
   "metadata": {},
   "source": [
    "สร้างโมเดล <code>c1d_lstm_model</code> ที่มีชั้นสังวัตนาการมิติเดียวเป็นอินพุต"
   ]
  },
  {
   "cell_type": "code",
   "execution_count": 25,
   "metadata": {},
   "outputs": [],
   "source": [
    "c1d_lstm_model = tf.keras.models.Sequential([\n",
    "  tf.keras.layers.Conv1D(filters=32, kernel_size=5,\n",
    "                      strides=1, padding=\"causal\",\n",
    "                      activation=\"relu\",\n",
    "                      input_shape=[None, 1]),\n",
    "  tf.keras.layers.Bidirectional(tf.keras.layers.LSTM(32, return_sequences=True)),\n",
    "  tf.keras.layers.Bidirectional(tf.keras.layers.LSTM(32, return_sequences=True)),\n",
    "  tf.keras.layers.Dense(1),\n",
    "  tf.keras.layers.Lambda(lambda x: x * 100)\n",
    "])"
   ]
  },
  {
   "cell_type": "markdown",
   "metadata": {},
   "source": [
    "คอมไพล์โดยใช้ตัวเลือกเดิม และฝึกจำนวนเท่าเดิมแต่ใช้ข้อมูลที่จัดรูปใหม่"
   ]
  },
  {
   "cell_type": "code",
   "execution_count": 26,
   "metadata": {},
   "outputs": [],
   "source": [
    "c1d_lstm_model.compile(loss=tf.keras.losses.Huber(), optimizer=optimizer,metrics=[\"mae\"])"
   ]
  },
  {
   "cell_type": "code",
   "execution_count": 27,
   "metadata": {},
   "outputs": [],
   "source": [
    "c1d_lstm_history = c1d_lstm_model.fit(train_dataset2,epochs=400,verbose=0)"
   ]
  },
  {
   "cell_type": "markdown",
   "metadata": {},
   "source": [
    "หลังจากการฝึกแล้วเสร็จ พยากรณ์โดยใช้ฟังก์ชันที่นิยามด้านบน รูปที่ 5.12 แสดงผลการพยากรณ์"
   ]
  },
  {
   "cell_type": "code",
   "execution_count": 28,
   "metadata": {},
   "outputs": [],
   "source": [
    "c1d_lstm_forecast = model_forecast(c1d_lstm_model, sample_series[..., np.newaxis], window_size)\n",
    "c1d_lstm_forecast = c1d_lstm_forecast[split_time - window_size:-1, -1, 0]"
   ]
  },
  {
   "cell_type": "code",
   "execution_count": 29,
   "metadata": {},
   "outputs": [
    {
     "data": {
      "image/png": "[encoded data removed]",
      "text/plain": [
       "<Figure size 576x360 with 1 Axes>"
      ]
     },
     "metadata": {
      "needs_background": "light"
     },
     "output_type": "display_data"
    }
   ],
   "source": [
    "plt.figure(figsize=(8, 5))\n",
    "plot_series(time_valid, x_valid)\n",
    "plot_series(time_valid, c1d_lstm_forecast)"
   ]
  },
  {
   "cell_type": "markdown",
   "metadata": {},
   "source": [
    "<div align=\"center\">รูปที่ 5.12 ผลการพยากรณ์จากโมเดล Conv1D+LSTM</div>\n",
    "\n",
    "ตรวจสอบค่าผิดพลาด"
   ]
  },
  {
   "cell_type": "code",
   "execution_count": 30,
   "metadata": {},
   "outputs": [
    {
     "name": "stdout",
     "output_type": "stream",
     "text": [
      "303.06033\n",
      "13.68358\n"
     ]
    }
   ],
   "source": [
    "print(keras.metrics.mean_squared_error(x_valid, c1d_lstm_forecast).numpy())\n",
    "print(keras.metrics.mean_absolute_error(x_valid, c1d_lstm_forecast).numpy())"
   ]
  },
  {
   "cell_type": "markdown",
   "metadata": {},
   "source": [
    "## 5.5 การพัฒนางาน NLP โดย TF ขั้นพื้นฐาน\n",
    "\n",
    "ในหัวข้อนี้จะกล่าวถึงพื้นฐาน <em>การประมวลผลภาษาธรรมชาติ (NLP : natural language processing)</em> \n",
    "และการพัฒนาโมเดลลำดับโดยใช้ TF \n",
    "โดยตัวอย่างจะใช้ประโยคภาษาอังกฤษที่ไม่ซับซ้อนเพื่อความเข้าใจในหลักการเบื้องต้น ซึ่งสามารถประยุกต์ใช้กับภาษาไทยโดยผ่านขั้นตอนวิธีการตัดคำ \n",
    "\n",
    "ปัญหาหลักของการประมวลผลข้อมูลในรูปประโยคคือแต่ละประโยคประกอบด้วยคำ มีการเรียบเรียงและความยาวแตกต่างกัน \n",
    "แต่โมเดลเชิงลึกที่เราศึกษามาแต่ต้นจะประมวลผลข้อมูลที่เป็นค่าตัวเลข ดังนั้นจึงต้องแปลงคำในภาษาให้เป็นตัวเลขเสียก่อน \n",
    "ซึ่งจำนวนคำในภาษาที่ใช้งานทั่วไปอาจมีจำนวนมากเกินกว่าค่าที่เรากำหนดให้กับโมเดล ในส่วนเริ่มต้นจะกล่าวถึงการดำเนินการเหล่านี้\n",
    "\n",
    "### 5.5.1 การเข้ารหัสคำ\n",
    "\n",
    "การเข้ารหัส (encoding) สามารถทำได้ในระดับต่ำสุดคืออักขระ (character) ในรูปโค้ดแอสกี (ASCII code) หรือสูงขึ้นคือระดับคำ \n",
    "ซึ่งในหัวข้อย่อยนี้จะกล่าวถึงวิธีการหลัง \n",
    "\n",
    "ยกตัวอย่างประโยคอย่างง่าย \"I borrow money from my wife.\" ซึ่งอาจเปลี่ยนจาก \"wife\" เป็น \"friend\" การเข้ารหัสโดยใช้ API ของ TF \n",
    "ทำได้ดังนี้ เริ่มจากการนำเข้าไลบรารีที่ใช้งาน"
   ]
  },
  {
   "cell_type": "code",
   "execution_count": 31,
   "metadata": {},
   "outputs": [],
   "source": [
    "import tensorflow as tf\n",
    "from tensorflow import keras\n",
    "from tensorflow.keras.preprocessing.text import Tokenizer"
   ]
  },
  {
   "cell_type": "markdown",
   "metadata": {},
   "source": [
    "นิยามประโยคที่ต้องการแปลง"
   ]
  },
  {
   "cell_type": "code",
   "execution_count": 32,
   "metadata": {},
   "outputs": [],
   "source": [
    "sentences = [\n",
    "    'I borrow money from my wife.',\n",
    "    'I borrow money from my friend!'\n",
    "]"
   ]
  },
  {
   "cell_type": "markdown",
   "metadata": {},
   "source": [
    "เรียกใช้ <code>Tokenizer()</code> โดยกำหนดจำนวนคำ และสั่งให้แปลงประโยคในลิสต์"
   ]
  },
  {
   "cell_type": "code",
   "execution_count": 33,
   "metadata": {},
   "outputs": [],
   "source": [
    "tokenizer = Tokenizer(num_words = 100)\n",
    "tokenizer.fit_on_texts(sentences)"
   ]
  },
  {
   "cell_type": "markdown",
   "metadata": {},
   "source": [
    "แสดงดัชนีของคำได้โดยคำสั่ง"
   ]
  },
  {
   "cell_type": "code",
   "execution_count": 34,
   "metadata": {},
   "outputs": [
    {
     "name": "stdout",
     "output_type": "stream",
     "text": [
      "{'i': 1, 'borrow': 2, 'money': 3, 'from': 4, 'my': 5, 'wife': 6, 'friend': 7}\n"
     ]
    }
   ],
   "source": [
    "word_index = tokenizer.word_index\n",
    "print(word_index)"
   ]
  },
  {
   "cell_type": "markdown",
   "metadata": {},
   "source": [
    "สังเกตว่าคำใน word_index จะถูกแปลงเป็นตัวเล็กหมด คำที่ซ้ำกันจะถูกกำหนดดัชนีเดียวกัน และเครื่องหมายเช่น . ! ถูกตัดทิ้งไป กล่าวคือ \"friend\" \n",
    "หรือ \"friend!\" จะถูกกำหนดดัชนีเดียวกัน\n",
    "\n",
    "ทดลองเพิ่มประโยคในลิสต์เป็น"
   ]
  },
  {
   "cell_type": "code",
   "execution_count": 35,
   "metadata": {},
   "outputs": [],
   "source": [
    "sentences = [\n",
    "    'I borrow money from my wife.',\n",
    "    'I borrow money from my friend!',\n",
    "    'You borrow money from me',\n",
    "    'Do you think I am a rich person?'\n",
    "]"
   ]
  },
  {
   "cell_type": "markdown",
   "metadata": {},
   "source": [
    "แปลงคำในประโยคเป็นดัชนีตัวเลขโดยใช้โค้ดเดิม หลังจากนั้นแปลงแต่ละประโยคเป็นลำดับของตัวเลข ได้เอาต์พุตดังนี้"
   ]
  },
  {
   "cell_type": "code",
   "execution_count": 36,
   "metadata": {},
   "outputs": [
    {
     "name": "stdout",
     "output_type": "stream",
     "text": [
      "{'i': 1, 'borrow': 2, 'money': 3, 'from': 4, 'my': 5, 'you': 6, 'wife': 7, 'friend': 8, 'me': 9, 'do': 10, 'think': 11, 'am': 12, 'a': 13, 'rich': 14, 'person': 15}\n",
      "[[1, 2, 3, 4, 5, 7], [1, 2, 3, 4, 5, 8], [6, 2, 3, 4, 9], [10, 6, 11, 1, 12, 13, 14, 15]]\n"
     ]
    }
   ],
   "source": [
    "tokenizer = Tokenizer(num_words = 100)\n",
    "tokenizer.fit_on_texts(sentences)\n",
    "word_index = tokenizer.word_index\n",
    "sequences = tokenizer.texts_to_sequences(sentences)\n",
    "print(word_index)\n",
    "print(sequences)"
   ]
  },
  {
   "cell_type": "markdown",
   "metadata": {},
   "source": [
    "โดย <code>word_index</code> คือดิกชันนารีที่กำหนดดัชนีให้กับคำ และ <code>sequence</code> เป็นลำดับของตัวเลขดัชนีในแต่ละประโยค \n",
    "\n",
    "ปัญหาแรกที่เกิดขึ้นเมื่อทดสอบกับประโยคที่มีบางคำไม่ได้บรรจุไว้ในคลังศํพท์ปัจจุบันของเรา ตัวอย่างเช่น"
   ]
  },
  {
   "cell_type": "code",
   "execution_count": 37,
   "metadata": {},
   "outputs": [
    {
     "name": "stdout",
     "output_type": "stream",
     "text": [
      "[[1, 2, 3, 4, 5], [1, 12, 14]]\n"
     ]
    }
   ],
   "source": [
    "test_sentences = [\n",
    "    'I also borrow money from my sister',\n",
    "    'I am rich now.'\n",
    "]\n",
    "test_seq = tokenizer.texts_to_sequences(test_sentences)\n",
    "print(test_seq)"
   ]
  },
  {
   "cell_type": "markdown",
   "metadata": {},
   "source": [
    "จะพบว่า <code>'also' , 'sister'</code> และ <code>'now'</code>\n",
    "เป็นคำที่ไม่มีในดิกชันนารี <code>word_index</code> จึงไม่สามารถกำหนดค่าดัชนีได้ นอกเหนือจากการใส่คำที่ขาดใน \n",
    "<code>word_index</code> \n",
    "ทางแก้ในกรณีทั่วไปคือกำหนดดัชนีสำหรับคำที่ขาด เรียกว่า <code>'OOV = out of vocaborary'</code>"
   ]
  },
  {
   "cell_type": "code",
   "execution_count": 38,
   "metadata": {},
   "outputs": [
    {
     "name": "stdout",
     "output_type": "stream",
     "text": [
      "{'<OOV>': 1, 'i': 2, 'borrow': 3, 'money': 4, 'from': 5, 'my': 6, 'you': 7, 'wife': 8, 'friend': 9, 'me': 10, 'do': 11, 'think': 12, 'am': 13, 'a': 14, 'rich': 15, 'person': 16}\n",
      "[[2, 1, 3, 4, 5, 6, 1], [2, 13, 15, 1]]\n"
     ]
    }
   ],
   "source": [
    "tokenizer = Tokenizer(num_words = 100, oov_token='<OOV>')\n",
    "tokenizer.fit_on_texts(sentences)\n",
    "word_index = tokenizer.word_index\n",
    "test_seq = tokenizer.texts_to_sequences(test_sentences)\n",
    "print(word_index)\n",
    "print(test_seq)"
   ]
  },
  {
   "cell_type": "markdown",
   "metadata": {},
   "source": [
    "จะเห็นว่าในครั้งนี้ <code>'also','sister','now'</code> ถูกกำหนดค่าดัชนีเป็น 1 คือ <code>'\\<OOV\\>'</code>\n",
    "\n",
    "### 5.5.2 การเสริมเต็ม\n",
    "\n",
    "จากตัวอย่างที่ผ่านมาจะเห็นว่าโดยทั่วไปแต่ละประโยคจะมีความยาวแตกต่างกัน เปรียบได้กับขนาดภาพอินพุตที่แตกต่างกันในโมเดล CNN \n",
    "ที่จะต้องถูกปรับให้มีขนาดเท่ากันก่อนการฝึก การปรับขนาดของลำดับตัวเลขที่แทนแต่ละประโยคทำได้โดย \n",
    "<em>การเสริมเต็ม (padding)</em> ด้วย 0 \n",
    "ให้มีขนาดตามต้องการ ทำได้โดยเรียกใช้ <code>pad_sequences</code> ของ TF ดังนี้"
   ]
  },
  {
   "cell_type": "code",
   "execution_count": 39,
   "metadata": {},
   "outputs": [],
   "source": [
    "from tensorflow.keras.preprocessing.sequence import pad_sequences"
   ]
  },
  {
   "cell_type": "markdown",
   "metadata": {},
   "source": [
    "ทดลองเสริมเต็มลำดับ <code>sequences</code>"
   ]
  },
  {
   "cell_type": "code",
   "execution_count": 40,
   "metadata": {},
   "outputs": [
    {
     "name": "stdout",
     "output_type": "stream",
     "text": [
      "[[ 0  0  1  2  3  4  5  7]\n",
      " [ 0  0  1  2  3  4  5  8]\n",
      " [ 0  0  0  6  2  3  4  9]\n",
      " [10  6 11  1 12 13 14 15]]\n"
     ]
    }
   ],
   "source": [
    "padded = pad_sequences(sequences)\n",
    "print(padded)"
   ]
  },
  {
   "cell_type": "markdown",
   "metadata": {},
   "source": [
    "จะเห็นได้ว่าประโยคที่ 1-3 ถูกเสริมเต็มด้านหน้าด้วย 0 ให้มีความยาวเท่ากับประโยคสุดท้ายที่ยาวที่สุด เราสามารถเลือกเสริมเต็มทางด้านท้ายได้โดยใส่อาร์กิวเมนต์ดังนี้"
   ]
  },
  {
   "cell_type": "code",
   "execution_count": 41,
   "metadata": {},
   "outputs": [
    {
     "name": "stdout",
     "output_type": "stream",
     "text": [
      "[[ 1  2  3  4  5  7  0  0]\n",
      " [ 1  2  3  4  5  8  0  0]\n",
      " [ 6  2  3  4  9  0  0  0]\n",
      " [10  6 11  1 12 13 14 15]]\n"
     ]
    }
   ],
   "source": [
    "padded = pad_sequences(sequences, padding='post')\n",
    "print(padded)"
   ]
  },
  {
   "cell_type": "markdown",
   "metadata": {},
   "source": [
    "หรืออาจจกำหนดความยาวที่ต้องการ และเลือกว่าจะตัดข้อมูลด้านหน้าหรือด้านท้ายออกก็ได้"
   ]
  },
  {
   "cell_type": "code",
   "execution_count": 42,
   "metadata": {},
   "outputs": [
    {
     "name": "stdout",
     "output_type": "stream",
     "text": [
      "[[ 1  2  3  4  5  7  0]\n",
      " [ 1  2  3  4  5  8  0]\n",
      " [ 6  2  3  4  9  0  0]\n",
      " [10  6 11  1 12 13 14]]\n"
     ]
    }
   ],
   "source": [
    "padded = pad_sequences(sequences, padding='post',maxlen=7, truncating='post')\n",
    "print(padded)"
   ]
  },
  {
   "cell_type": "markdown",
   "metadata": {},
   "source": [
    "### 5.5.3 การฝังตรึงคำศัพท์\n",
    "\n",
    "ในการแทนคำศัพท์ทั้งหมดที่มีในคลังด้วยเลขดัชนี แนวคิดขั้นพื้นฐานคือใช้เวกเตอร์วันฮ็อต (one-hot) ตัวอย่างเช่นมีคำศัพท์ทั้งหมด 10000 คำ \n",
    "สมมุติว่า 'money' มีดัชนีเท่ากับ 6012 แทนได้โดยเวกเตอร์วันฮ็อตความยาว 10000 และมีเพียงสมาชิกตัวที่ 6012 มีค่าเป็น 1 ที่เหลือเป็น 0 ทั้งหมด \n",
    "เป็นที่มาของคำว่าวันฮ็อต ในการอิมพลิเมนต์โดยภาษาคอมพิวเตอร์หลักมักมีวิธีการจัดการกับข้อมูลในลักษณะนี้ที่มีเลขศูนย์เป็นส่วนใหญ่\n",
    "โดยจัดเก็บเพียงขนาดและตำแหน่งที่มีค่าหนึ่งเท่านั้นเพื่อประหยัดเนื้อที่หน่วยความจำ\n",
    "\n",
    "อย่างไรก็ตาม การใช้เวกเตอร์วันฮ็อตมีข้อด้อยสำคัญคือ ไม่เอื้ออำนวยต่อการหาความสัมพันธ์ของความหมายคำศัพท์ ตัวอย่างเช่นในการวิจารณ์สินค้าหรือบริการ \n",
    "คำว่า 'great', 'beautiful', 'perfect' มีความหมายเชิงบวกขณะที่ \n",
    "'poor', 'disappointed', 'bad' เป็นด้านลบ \n",
    "วิธีการหนึ่งที่นิยมใช้คือแทนค่าคำศัพท์ด้วยเวกเตอร์เช่น $u, v$ และคำนวณค่าโคไซน์ของมุม $\\theta$ ระหว่างเวกเตอร์\n",
    "\n",
    "$$\n",
    "\\cos \\theta = \\frac{u^Tv}{\\lVert u \\rVert \\lVert v \\rVert} \\tag{5.21}\n",
    "$$\n",
    "\n",
    "โดยคำที่มีความหมายใกล้เคียงกันจะมีค่า $\\cos \\theta$ เข้าใกล้ 1 แต่เมื่อแทนค่า $u, v$ เป็นแบบวันฮ็อตจะไม่สามารถใช้วิธีนี้ได้ \n",
    "เนื่องจากคุณสมบัติของเวกเตอร์วันฮ็อตคือทุกตัวตั้งฉากกันทำให้ $\\cos \\theta = 0$ ทั้งหมด ดังนั้นการกำหนดค่าเวกเตอร์ให้กับคำศัพท์ในคลังจะใช้วิธีการที่เรียกว่า\n",
    "<em>การฝังตรึงคำศํพท์ (word embeddings)</em> ซึ่ง TF มีเครื่องมือช่วยในการสร้างชั้นฝังตรึงให้กับโมเดล\n",
    "\n",
    "ในการใช้งานต้องนำเข้าไลบรารีดังนี้"
   ]
  },
  {
   "cell_type": "code",
   "execution_count": 43,
   "metadata": {},
   "outputs": [],
   "source": [
    "from tensorflow.keras.layers import Embedding"
   ]
  },
  {
   "cell_type": "markdown",
   "metadata": {},
   "source": [
    "สมมุติว่าต้องการสร้างชั้นฝังตรึงสำหรับคำศัพท์ 1000 คำ ให้เอาต์พุตเป็นเวกเตอร์ขนาด 32 เรียกว่า \n",
    "<em>ปริภูมิการฝังตรึง (embedding space)</em>\n",
    "และอาจกำหนดความยาวอินพุตเท่ากับ 64 คือจำนวนคำในประโยคหลังการเสริมเต็มและ/หรือตัดคำแล้ว \n",
    "การเลือกใส่อาร์กิวเมนต์นี้หรือไม่ขึ้นอยู่กับสถาปัตยกรรมของโครงข่ายที่ใช้"
   ]
  },
  {
   "cell_type": "code",
   "execution_count": 44,
   "metadata": {},
   "outputs": [],
   "source": [
    "embedding_layer = Embedding(1000, 32, input_length=64)"
   ]
  },
  {
   "cell_type": "markdown",
   "metadata": {},
   "source": [
    "จะลองสร้างตัวอย่างของเล่นเพื่อสาธิตการใช้งาน โดยสร้างอินพุตเป็นค่าสุ่มแทนเลขดัชนีของประโยคที่เป็นอินพุตจำนวน 16 ตัวอย่าง"
   ]
  },
  {
   "cell_type": "code",
   "execution_count": 45,
   "metadata": {},
   "outputs": [],
   "source": [
    "import numpy as np\n",
    "test_input = np.random.randint(1000, size=(16,64))\n",
    "embedded_inputs = embedding_layer(test_input)"
   ]
  },
  {
   "cell_type": "markdown",
   "metadata": {},
   "source": [
    "จะได้เอาต์พุตเป็นเทนเซอร์ขนาด (16,64,32) แทนจำนวนตัวอย่าง ความยาวประโยค และมิติของปริภูมิการฝังตรึงตามลำดับ"
   ]
  },
  {
   "cell_type": "code",
   "execution_count": 46,
   "metadata": {},
   "outputs": [
    {
     "data": {
      "text/plain": [
       "TensorShape([16, 64, 32])"
      ]
     },
     "execution_count": 46,
     "metadata": {},
     "output_type": "execute_result"
    }
   ],
   "source": [
    "embedded_inputs.shape"
   ]
  },
  {
   "cell_type": "markdown",
   "metadata": {},
   "source": [
    "<div style=\".noindent\"><b>ตัวอย่าง 5.4</b></div>\n",
    "\n",
    "เราจะสาธิตการใช้ TF ในงานด้าน NLP โดยใช้ชุดข้อมูลที่มีให้ในไลบรารีชื่อว่า <code>\"imdb_reviews\"</code> โดย \"imdb\"ย่อมาจาก \"internet movie database\" \n",
    "ในชุดข้อมูลนี้จะรวบรวมประโยคที่วิจารณ์ภาพยนต์บนอินเทอร์เน็ตจำนวน 50,000 ตัวอย่าง \n",
    "และมีเลเบลว่าเป็นด้านบวกหรือลบ ชุดข้อมูลนี้เป็นส่วนหนึ่งของแพ็กเกจ <code>tfds</code> ซึ่งมีติดตั้งไว้แล้วใน google colab \n",
    "แต่หากทดลองตัวอย่างนี้บนเครืองคอมพิวเตอร์ของตัวเองอาจต้องติดตั้งเพิ่มเติมโดยรันคำสั่งในเซลล์นี้ (-q คือ 'quiet' ไม่ต้องการแสดงเอาต์พุตจากการติดตั้ง)"
   ]
  },
  {
   "cell_type": "code",
   "execution_count": 47,
   "metadata": {
    "tags": [
     "remove_output"
    ]
   },
   "outputs": [
    {
     "name": "stdout",
     "output_type": "stream",
     "text": [
      "\u001b[31mERROR: pip's dependency resolver does not currently take into account all the packages that are installed. This behaviour is the source of the following dependency conflicts.\r\n",
      "tensorflow 2.8.2 requires libclang>=9.0.1, which is not installed.\r\n",
      "tensorflow 2.8.2 requires tensorflow-io-gcs-filesystem>=0.23.1, which is not installed.\r\n",
      "tensorflow 2.8.2 requires protobuf<3.20,>=3.9.2, but you have protobuf 3.20.3 which is incompatible.\u001b[0m\u001b[31m\r\n",
      "\u001b[0m"
     ]
    }
   ],
   "source": [
    " !pip install -q tensorflow-datasets"
   ]
  },
  {
   "cell_type": "markdown",
   "metadata": {},
   "source": [
    "นำเข้าไลบรารี TF และตรวจสอบเวอร์ชัน (ต้องเป็นเวอร์ชัน 2 ขึ้นไป)"
   ]
  },
  {
   "cell_type": "code",
   "execution_count": 48,
   "metadata": {},
   "outputs": [
    {
     "data": {
      "text/plain": [
       "'2.8.2'"
      ]
     },
     "execution_count": 48,
     "metadata": {},
     "output_type": "execute_result"
    }
   ],
   "source": [
    "import tensorflow as tf\n",
    "tf.__version__"
   ]
  },
  {
   "cell_type": "markdown",
   "metadata": {},
   "source": [
    "นำเข้า <code>tfds</code> และโหลด <code>\"imdb_reviews\"</code> โดยคำสั่งดังนี้"
   ]
  },
  {
   "cell_type": "code",
   "execution_count": 49,
   "metadata": {
    "tags": [
     "remove_output"
    ]
   },
   "outputs": [
    {
     "name": "stdout",
     "output_type": "stream",
     "text": [
      "\u001b[1mDownloading and preparing dataset Unknown size (download: Unknown size, generated: Unknown size, total: Unknown size) to /home/dew/tensorflow_datasets/imdb_reviews/plain_text/1.0.0...\u001b[0m\n"
     ]
    },
    {
     "data": {
      "application/vnd.jupyter.widget-view+json": {
       "model_id": "17d37e11d3b442bb8f1bd7fde0154fd4",
       "version_major": 2,
       "version_minor": 0
      },
      "text/plain": [
       "Dl Completed...: 0 url [00:00, ? url/s]"
      ]
     },
     "metadata": {},
     "output_type": "display_data"
    },
    {
     "data": {
      "application/vnd.jupyter.widget-view+json": {
       "model_id": "106efe8e68664d359074b9fb5119bab0",
       "version_major": 2,
       "version_minor": 0
      },
      "text/plain": [
       "Dl Size...: 0 MiB [00:00, ? MiB/s]"
      ]
     },
     "metadata": {},
     "output_type": "display_data"
    },
    {
     "data": {
      "application/vnd.jupyter.widget-view+json": {
       "model_id": "",
       "version_major": 2,
       "version_minor": 0
      },
      "text/plain": [
       "Generating splits...:   0%|          | 0/3 [00:00<?, ? splits/s]"
      ]
     },
     "metadata": {},
     "output_type": "display_data"
    },
    {
     "data": {
      "application/vnd.jupyter.widget-view+json": {
       "model_id": "",
       "version_major": 2,
       "version_minor": 0
      },
      "text/plain": [
       "Generating train examples...: 0 examples [00:00, ? examples/s]"
      ]
     },
     "metadata": {},
     "output_type": "display_data"
    },
    {
     "data": {
      "application/vnd.jupyter.widget-view+json": {
       "model_id": "",
       "version_major": 2,
       "version_minor": 0
      },
      "text/plain": [
       "Shuffling /home/dew/tensorflow_datasets/imdb_reviews/plain_text/1.0.0.incompleteKHYBIW/imdb_reviews-train.tfre…"
      ]
     },
     "metadata": {},
     "output_type": "display_data"
    },
    {
     "data": {
      "application/vnd.jupyter.widget-view+json": {
       "model_id": "",
       "version_major": 2,
       "version_minor": 0
      },
      "text/plain": [
       "Generating test examples...: 0 examples [00:00, ? examples/s]"
      ]
     },
     "metadata": {},
     "output_type": "display_data"
    },
    {
     "data": {
      "application/vnd.jupyter.widget-view+json": {
       "model_id": "",
       "version_major": 2,
       "version_minor": 0
      },
      "text/plain": [
       "Shuffling /home/dew/tensorflow_datasets/imdb_reviews/plain_text/1.0.0.incompleteKHYBIW/imdb_reviews-test.tfrec…"
      ]
     },
     "metadata": {},
     "output_type": "display_data"
    },
    {
     "data": {
      "application/vnd.jupyter.widget-view+json": {
       "model_id": "",
       "version_major": 2,
       "version_minor": 0
      },
      "text/plain": [
       "Generating unsupervised examples...: 0 examples [00:00, ? examples/s]"
      ]
     },
     "metadata": {},
     "output_type": "display_data"
    },
    {
     "data": {
      "application/vnd.jupyter.widget-view+json": {
       "model_id": "",
       "version_major": 2,
       "version_minor": 0
      },
      "text/plain": [
       "Shuffling /home/dew/tensorflow_datasets/imdb_reviews/plain_text/1.0.0.incompleteKHYBIW/imdb_reviews-unsupervis…"
      ]
     },
     "metadata": {},
     "output_type": "display_data"
    },
    {
     "name": "stdout",
     "output_type": "stream",
     "text": [
      "\u001b[1mDataset imdb_reviews downloaded and prepared to /home/dew/tensorflow_datasets/imdb_reviews/plain_text/1.0.0. Subsequent calls will reuse this data.\u001b[0m\n"
     ]
    }
   ],
   "source": [
    "import tensorflow_datasets as tfds\n",
    "imdb, info = tfds.load(\"imdb_reviews\", with_info=True, as_supervised=True)"
   ]
  },
  {
   "cell_type": "markdown",
   "metadata": {},
   "source": [
    "ข้อมูลถูกแยกเป็นสำหรับฝึกและทดสอบอย่างละ 25,000 ตัวอย่าง ใช้คำสั่งเพื่อแยกข้อมูลฝึกกับทดสอบ"
   ]
  },
  {
   "cell_type": "code",
   "execution_count": 50,
   "metadata": {},
   "outputs": [],
   "source": [
    "train_data, test_data = imdb['train'], imdb['test']"
   ]
  },
  {
   "cell_type": "markdown",
   "metadata": {},
   "source": [
    "จัดการข้อมูลเพิ่มเติมเพื่อให้อยู่ในรูปของประโยคและเลเบล"
   ]
  },
  {
   "cell_type": "code",
   "execution_count": 51,
   "metadata": {},
   "outputs": [],
   "source": [
    "import numpy as np\n",
    "\n",
    "training_sentences = []\n",
    "training_labels = []\n",
    "testing_sentences = []\n",
    "testing_labels = []\n",
    "for s,l in train_data:\n",
    "    training_sentences.append(s.numpy().decode('utf8'))\n",
    "    training_labels.append(l.numpy())\n",
    "for s,l in test_data:\n",
    "    testing_sentences.append(s.numpy().decode('utf8'))\n",
    "    testing_labels.append(l.numpy())\n",
    "training_labels_final = np.array(training_labels)\n",
    "testing_labels_final = np.array(testing_labels)"
   ]
  },
  {
   "cell_type": "markdown",
   "metadata": {},
   "source": [
    "การกำหนดเลเบลคือ 0 = วิจารณ์ด้านลบ, 1 = วิจารณ์ด้านบวก ขั้นต่อไปคือ <em>การทำโทเค็น (tokenize)</em> \n",
    "เพื่อสร้างคลังศัพท์จำนวน 10,000 คำ โดยกำหนดคำศัพท์ที่ไม่มีในคลังเป็น OOV\n",
    "และเสริมเต็มประโยคโดยวิธีการที่ได้กล่าวถึงก่อนหน้านี้ เลือกความยาวประโยคสูงสุด 120 \n",
    "โดยประโยคที่ยาวเกินจะถูกตัดออกทางด้านท้าย ส่วนประโยคที่สั้นกว่าจะถูกเสริมเต็มด้านหน้าด้วย 0 "
   ]
  },
  {
   "cell_type": "code",
   "execution_count": 52,
   "metadata": {},
   "outputs": [],
   "source": [
    "vocab_size = 10000\n",
    "max_length = 120\n",
    "trunc_type='post'\n",
    "oov_tok = \"<OOV>\"\n",
    "\n",
    "from tensorflow.keras.preprocessing.text import Tokenizer\n",
    "from tensorflow.keras.preprocessing.sequence import pad_sequences\n",
    "\n",
    "tokenizer = Tokenizer(num_words = vocab_size, oov_token=oov_tok)\n",
    "tokenizer.fit_on_texts(training_sentences)\n",
    "word_index = tokenizer.word_index\n",
    "sequences = tokenizer.texts_to_sequences(training_sentences)\n",
    "padded = pad_sequences(sequences,maxlen=max_length, truncating=trunc_type)\n",
    "\n",
    "testing_sequences = tokenizer.texts_to_sequences(testing_sentences)\n",
    "testing_padded = pad_sequences(testing_sequences,maxlen=max_length)"
   ]
  },
  {
   "cell_type": "markdown",
   "metadata": {},
   "source": [
    "การทดสอบเบื้องต้นจะสร้างโมเดลที่ประกอบด้วยชั้นฝังตรึงคำศัพท์ร่วมกับโครงข่ายประสาทเทียมเชิงลึกแบบธรรมดา \n",
    "โดยมีมิติฝังตรึงเท่ากับ 16 \n",
    "คอมไพล์โดยใช้ฟังก์ชันสูญเสียแบบ <code>'binary_crossentropy'</code>\n",
    "และใช้ตัวหาค่าเหมาะที่สุดแบบ <code>'adam'</code> ใช้ <code>model.summary()</code> \n",
    "เพื่อพิมพ์สรุปโครงสร้างของโมเดล"
   ]
  },
  {
   "cell_type": "code",
   "execution_count": 53,
   "metadata": {
    "scrolled": true,
    "tags": [
     "remove_output"
    ]
   },
   "outputs": [
    {
     "name": "stdout",
     "output_type": "stream",
     "text": [
      "Model: \"sequential_3\"\n",
      "_________________________________________________________________\n",
      " Layer (type)                Output Shape              Param #   \n",
      "=================================================================\n",
      " embedding_1 (Embedding)     (None, 120, 16)           160000    \n",
      "                                                                 \n",
      " flatten (Flatten)           (None, 1920)              0         \n",
      "                                                                 \n",
      " dense_3 (Dense)             (None, 6)                 11526     \n",
      "                                                                 \n",
      " dense_4 (Dense)             (None, 1)                 7         \n",
      "                                                                 \n",
      "=================================================================\n",
      "Total params: 171,533\n",
      "Trainable params: 171,533\n",
      "Non-trainable params: 0\n",
      "_________________________________________________________________\n"
     ]
    }
   ],
   "source": [
    "from tensorflow.keras import Sequential\n",
    "from tensorflow.keras.layers import Embedding, Flatten, Dense\n",
    "embedding_dim = 16\n",
    "model = Sequential([\n",
    "    Embedding(vocab_size, embedding_dim, input_length=max_length),\n",
    "    Flatten(),\n",
    "    Dense(6, activation='relu'),\n",
    "    Dense(1, activation='sigmoid')\n",
    "])\n",
    "model.compile(loss='binary_crossentropy',optimizer='adam',metrics=['accuracy'])\n",
    "model.summary()\n"
   ]
  },
  {
   "cell_type": "markdown",
   "metadata": {},
   "source": [
    "```\n",
    "Model: \"sequential_3\"\n",
    "_________________________________________________________________\n",
    " Layer (type)                Output Shape              Param #   \n",
    "=================================================================\n",
    " embedding_1 (Embedding)     (None, 120, 16)           160000    \n",
    "                                                                 \n",
    " flatten (Flatten)           (None, 1920)              0         \n",
    "                                                                 \n",
    " dense_3 (Dense)             (None, 6)                 11526     \n",
    "                                                                 \n",
    " dense_4 (Dense)             (None, 1)                 7         \n",
    "                                                                 \n",
    "=================================================================\n",
    "Total params: 171,533\n",
    "Trainable params: 171,533\n",
    "Non-trainable params: 0\n",
    "_________________________________________________________________\n",
    "```\n"
   ]
  },
  {
   "cell_type": "markdown",
   "metadata": {},
   "source": [
    "ใช้ <code>model.fit()</code> เพื่อฝึกโมเดลโดยกำหนดจำนวน 10 รอบ \n",
    "พบว่าจะได้ความแม่นยำจากข้อมูลฝึกใกล้เดียง 100% แต่ความแม่นยำจากข้อมูลตรวจสอบประมาณ \n",
    "80% แสดงถึงการฟิตเกิน "
   ]
  },
  {
   "cell_type": "code",
   "execution_count": 54,
   "metadata": {
    "scrolled": true,
    "tags": [
     "remove_output"
    ]
   },
   "outputs": [
    {
     "name": "stdout",
     "output_type": "stream",
     "text": [
      "Epoch 1/10\n",
      "782/782 [==============================] - 21s 26ms/step - loss: 0.5004 - accuracy: 0.7341 - val_loss: 0.3405 - val_accuracy: 0.8522\n",
      "Epoch 2/10\n",
      "782/782 [==============================] - 7s 9ms/step - loss: 0.2403 - accuracy: 0.9066 - val_loss: 0.3668 - val_accuracy: 0.8407\n",
      "Epoch 3/10\n",
      "782/782 [==============================] - 10s 13ms/step - loss: 0.0916 - accuracy: 0.9766 - val_loss: 0.4491 - val_accuracy: 0.8279\n",
      "Epoch 4/10\n",
      "782/782 [==============================] - 24s 30ms/step - loss: 0.0215 - accuracy: 0.9974 - val_loss: 0.5352 - val_accuracy: 0.8252\n",
      "Epoch 5/10\n",
      "782/782 [==============================] - 15s 20ms/step - loss: 0.0054 - accuracy: 0.9996 - val_loss: 0.5992 - val_accuracy: 0.8276\n",
      "Epoch 6/10\n",
      "782/782 [==============================] - 11s 14ms/step - loss: 0.0018 - accuracy: 1.0000 - val_loss: 0.6504 - val_accuracy: 0.8290\n",
      "Epoch 7/10\n",
      "782/782 [==============================] - 20s 26ms/step - loss: 8.5206e-04 - accuracy: 1.0000 - val_loss: 0.6871 - val_accuracy: 0.8303\n",
      "Epoch 8/10\n",
      "782/782 [==============================] - 9s 11ms/step - loss: 4.6532e-04 - accuracy: 1.0000 - val_loss: 0.7325 - val_accuracy: 0.8298\n",
      "Epoch 9/10\n",
      "782/782 [==============================] - 15s 19ms/step - loss: 2.6728e-04 - accuracy: 1.0000 - val_loss: 0.7693 - val_accuracy: 0.8296\n",
      "Epoch 10/10\n",
      "782/782 [==============================] - 10s 13ms/step - loss: 1.6083e-04 - accuracy: 1.0000 - val_loss: 0.8064 - val_accuracy: 0.8295\n"
     ]
    },
    {
     "data": {
      "text/plain": [
       "<keras.callbacks.History at 0x7fbec023ca60>"
      ]
     },
     "execution_count": 54,
     "metadata": {},
     "output_type": "execute_result"
    }
   ],
   "source": [
    "num_epochs = 10\n",
    "model.fit(padded, training_labels_final, epochs=num_epochs, validation_data=(testing_padded, testing_labels_final))"
   ]
  },
  {
   "cell_type": "markdown",
   "metadata": {},
   "source": [
    "```{admonition} ตัวอย่างเอาต์พุต\n",
    ":class: tip\n",
    "<div style=\"font-size: 12pt\">\n",
    "<br>Epoch 1/10\n",
    "<br>782/782 [===...===] - 21s 26ms/step - loss: 0.5004 - accuracy: 0.7341 - val_loss: 0.3405 - val_accuracy: 0.8522\n",
    "<br>Epoch 2/10\n",
    "<br>782/782 [===...===] - 7s 9ms/step - loss: 0.2403 - accuracy: 0.9066 - val_loss: 0.3668 - val_accuracy: 0.8407\n",
    "\n",
    "<br>:\n",
    "<br>Epoch 10/10\n",
    "<br>782/782 [===...===] - 10s 13ms/step - loss: 1.6083e-04 - accuracy: 1.0000 - val_loss: 0.8064 - val_accuracy: 0.8295\n",
    "</div>\n",
    "```"
   ]
  },
  {
   "cell_type": "markdown",
   "metadata": {},
   "source": [
    "ในการที่จะพล็อตดูการจับกลุ่มของคำที่มีความหมายด้านบวกหรือลบ เราจะเขียนฟังก์ชันช่วยเพื่อผกผันคำศัพท์และดัชนี "
   ]
  },
  {
   "cell_type": "code",
   "execution_count": 55,
   "metadata": {},
   "outputs": [],
   "source": [
    "reverse_word_index = dict([(value, key) for (key, value) in word_index.items()])"
   ]
  },
  {
   "cell_type": "markdown",
   "metadata": {},
   "source": [
    "ดึงค่าน้ำหนักจากชั้นฝังตรึงคือชั้นที่ 0"
   ]
  },
  {
   "cell_type": "code",
   "execution_count": 56,
   "metadata": {},
   "outputs": [
    {
     "name": "stdout",
     "output_type": "stream",
     "text": [
      "(10000, 16)\n"
     ]
    }
   ],
   "source": [
    "e = model.layers[0]\n",
    "weights = e.get_weights()[0]\n",
    "print(weights.shape) # shape: (vocab_size, embedding_dim)"
   ]
  },
  {
   "cell_type": "markdown",
   "metadata": {},
   "source": [
    "เขียนข้อมูลคำศัพท์และดัชนีลงในไฟล์ที่จะถูกอ่านโดยเครื่องมือ tensorflow projector โดยไฟล์ชื่อ 'vecs.tsv' มีข้อมูลจากแอเรย์ของชั้นฝังตรึง \n",
    "คือค่าสัมประสิทธิ์ของแต่ละมิติในเวกเตอร์แต่ละคำนั่นเอง และ 'meta.tsv' คือตัวคำศัพท์ ทั้งสองไฟล์จะถูกสร้างที่ไดเรคทอรีเดียวกับที่รันสมุดบันทึกนี้ "
   ]
  },
  {
   "cell_type": "code",
   "execution_count": 57,
   "metadata": {},
   "outputs": [],
   "source": [
    "import io\n",
    "out_v = io.open('vecs.tsv', 'w', encoding='utf-8')\n",
    "out_m = io.open('meta.tsv', 'w', encoding='utf-8')\n",
    "for word_num in range(1, vocab_size):\n",
    "    word = reverse_word_index[word_num]\n",
    "    embeddings = weights[word_num]\n",
    "    out_m.write(word + \"\\n\")\n",
    "    out_v.write('\\t'.join([str(x) for x in embeddings]) + \"\\n\")\n",
    "out_v.close()\n",
    "out_m.close()"
   ]
  },
  {
   "cell_type": "markdown",
   "metadata": {},
   "source": [
    "เปิดเบราเซอร์ชี้ไปที่ https://projector.tensorflow.org คลิปที่ปุ่ม [Load] ทางด้านซ้าย เลือกไฟล์ 'vecs.tsv', 'meta.tsv' \n",
    "สำหรับ vectors และ metadata ตามลำดับ จะเห็นการแทนแต่ละคำด้วยเวกเตอร์ที่แสดงเป็นจุดสีน้ำเงิน \n",
    "ตรวจสอบทิศทางของเวกเตอร์แทนคำที่มีความหมายใกล้เคียงกันดังแสดงในรูปที่ 5.13 \n",
    "\n",
    "<p />  \n",
    "<p align=\"center\">\n",
    "<img src=\"https://drive.google.com/uc?id=1SlyDF845m_qK2PQn0ZMF1hWtqRL74I3W\" width=750 />\n",
    "</p>\n",
    "<div align=\"center\">รูปที่ 5.13 การฉายเวกเตอร์ฝังตรึงที่แทนคำศัพท์</div>\n"
   ]
  },
  {
   "cell_type": "markdown",
   "metadata": {},
   "source": [
    "หลังจากทดลองใช้โครงข่ายประสาทเทียมเชิงลึกธรรมดาเป็นโมเดลเส้นฐานแล้ว ต่อมาจะแสดงการสร้างโมเดลลำดับโดยใช้ชั้นฝังตรึงร่วมกับชั้น LSTM สองทาง "
   ]
  },
  {
   "cell_type": "code",
   "execution_count": 58,
   "metadata": {
    "scrolled": true,
    "tags": [
     "remove_output"
    ]
   },
   "outputs": [
    {
     "name": "stdout",
     "output_type": "stream",
     "text": [
      "Model: \"sequential_4\"\n",
      "_________________________________________________________________\n",
      " Layer (type)                Output Shape              Param #   \n",
      "=================================================================\n",
      " embedding_2 (Embedding)     (None, 120, 64)           640000    \n",
      "                                                                 \n",
      " bidirectional_4 (Bidirectio  (None, 120, 128)         66048     \n",
      " nal)                                                            \n",
      "                                                                 \n",
      " bidirectional_5 (Bidirectio  (None, 64)               41216     \n",
      " nal)                                                            \n",
      "                                                                 \n",
      " dense_5 (Dense)             (None, 64)                4160      \n",
      "                                                                 \n",
      " dense_6 (Dense)             (None, 1)                 65        \n",
      "                                                                 \n",
      "=================================================================\n",
      "Total params: 751,489\n",
      "Trainable params: 751,489\n",
      "Non-trainable params: 0\n",
      "_________________________________________________________________\n"
     ]
    }
   ],
   "source": [
    "from tensorflow.keras import Sequential\n",
    "from tensorflow.keras.layers import Embedding,Bidirectional,LSTM, Dense\n",
    "model = Sequential([\n",
    "    Embedding(vocab_size, 64, input_length=max_length),\n",
    "    Bidirectional(LSTM(64, return_sequences=True)),\n",
    "    Bidirectional(LSTM(32)),\n",
    "    Dense(64, activation='relu'),\n",
    "    Dense(1, activation='sigmoid')\n",
    "])\n",
    "model.summary()"
   ]
  },
  {
   "cell_type": "markdown",
   "metadata": {},
   "source": [
    "```\n",
    "Model: \"sequential_4\"\n",
    "_________________________________________________________________\n",
    " Layer (type)                Output Shape              Param #   \n",
    "=================================================================\n",
    " embedding_2 (Embedding)     (None, 120, 64)           640000    \n",
    "                                                                 \n",
    " bidirectional_4 (Bidirectio  (None, 120, 128)         66048     \n",
    " nal)                                                            \n",
    "                                                                 \n",
    " bidirectional_5 (Bidirectio  (None, 64)               41216     \n",
    " nal)                                                            \n",
    "                                                                 \n",
    " dense_5 (Dense)             (None, 64)                4160      \n",
    "                                                                 \n",
    " dense_6 (Dense)             (None, 1)                 65        \n",
    "                                                                 \n",
    "=================================================================\n",
    "Total params: 751,489\n",
    "Trainable params: 751,489\n",
    "Non-trainable params: 0\n",
    "_________________________________________________________________\n",
    "```"
   ]
  },
  {
   "cell_type": "code",
   "execution_count": 59,
   "metadata": {},
   "outputs": [],
   "source": [
    "model.compile(loss='binary_crossentropy', optimizer='adam', metrics=['accuracy'])"
   ]
  },
  {
   "cell_type": "code",
   "execution_count": 60,
   "metadata": {
    "scrolled": true,
    "tags": [
     "remove_output"
    ]
   },
   "outputs": [
    {
     "name": "stdout",
     "output_type": "stream",
     "text": [
      "Epoch 1/10\n",
      "782/782 [==============================] - 170s 212ms/step - loss: 0.4565 - accuracy: 0.7840 - val_loss: 0.3847 - val_accuracy: 0.8244\n",
      "Epoch 2/10\n",
      "782/782 [==============================] - 174s 222ms/step - loss: 0.3021 - accuracy: 0.8790 - val_loss: 0.3582 - val_accuracy: 0.8477\n",
      "Epoch 3/10\n",
      "782/782 [==============================] - 169s 216ms/step - loss: 0.2246 - accuracy: 0.9140 - val_loss: 0.4105 - val_accuracy: 0.8318\n",
      "Epoch 4/10\n",
      "782/782 [==============================] - 166s 213ms/step - loss: 0.1544 - accuracy: 0.9432 - val_loss: 0.5065 - val_accuracy: 0.8238\n",
      "Epoch 5/10\n",
      "782/782 [==============================] - 170s 218ms/step - loss: 0.0996 - accuracy: 0.9648 - val_loss: 0.5780 - val_accuracy: 0.8241\n",
      "Epoch 6/10\n",
      "782/782 [==============================] - 159s 204ms/step - loss: 0.0632 - accuracy: 0.9790 - val_loss: 0.7208 - val_accuracy: 0.8221\n",
      "Epoch 7/10\n",
      "782/782 [==============================] - 162s 207ms/step - loss: 0.0555 - accuracy: 0.9815 - val_loss: 0.6706 - val_accuracy: 0.8111\n",
      "Epoch 8/10\n",
      "782/782 [==============================] - 164s 210ms/step - loss: 0.0426 - accuracy: 0.9850 - val_loss: 0.7742 - val_accuracy: 0.8104\n",
      "Epoch 9/10\n",
      "782/782 [==============================] - 169s 217ms/step - loss: 0.0346 - accuracy: 0.9885 - val_loss: 0.8725 - val_accuracy: 0.8221\n",
      "Epoch 10/10\n",
      "782/782 [==============================] - 155s 198ms/step - loss: 0.0205 - accuracy: 0.9936 - val_loss: 0.8885 - val_accuracy: 0.8210\n"
     ]
    }
   ],
   "source": [
    "num_epochs = 10\n",
    "history=model.fit(padded, training_labels_final, epochs=num_epochs, validation_data=(testing_padded, testing_labels_final))"
   ]
  },
  {
   "cell_type": "markdown",
   "metadata": {},
   "source": [
    "```{admonition} ตัวอย่างเอาต์พุต\n",
    ":class: tip\n",
    "<div style=\"font-size: 12pt\">\n",
    "<br>Epoch 1/10\n",
    "<br>782/782 [===...===] - 170s 212ms/step - loss: 0.4565 - accuracy: 0.7840 - val_loss: 0.3847 - val_accuracy: 0.8244\n",
    "<br>Epoch 2/10\n",
    "<br>782/782 [===...===] - 174s 222ms/step - loss: 0.3021 - accuracy: 0.8790 - val_loss: 0.3582 - val_accuracy: 0.8477\n",
    "<br>:\n",
    "<br>Epoch 10/10\n",
    "<br>782/782 [===...===] - 155s 198ms/step - loss: 0.0205 - accuracy: 0.9936 - val_loss: 0.8885 - val_accuracy: 0.8210\n",
    "</div>\n",
    "```"
   ]
  },
  {
   "cell_type": "markdown",
   "metadata": {},
   "source": [
    "สังเกตว่าการฝึกจะใช้เวลานานขึ้นกว่าเดิม พล็อตความแม่นยำและค่าสูญเสียต่อรอบการฝึกได้ดังรูปที่ 5.14 และ 5.15 ตามลำดับ"
   ]
  },
  {
   "cell_type": "code",
   "execution_count": 61,
   "metadata": {},
   "outputs": [],
   "source": [
    "import matplotlib.pyplot as plt\n",
    "\n",
    "def plot_graphs(history, string):\n",
    "  plt.plot(history.history[string])\n",
    "  plt.plot(history.history['val_'+string])\n",
    "  plt.xlabel(\"Epochs\")\n",
    "  plt.ylabel(string)\n",
    "  plt.legend([string, 'val_'+string])\n",
    "  plt.show()"
   ]
  },
  {
   "cell_type": "code",
   "execution_count": 62,
   "metadata": {},
   "outputs": [
    {
     "data": {
      "image/png": "[encoded data removed]",
      "text/plain": [
       "<Figure size 432x288 with 1 Axes>"
      ]
     },
     "metadata": {
      "needs_background": "light"
     },
     "output_type": "display_data"
    }
   ],
   "source": [
    "plot_graphs(history, 'accuracy')"
   ]
  },
  {
   "cell_type": "markdown",
   "metadata": {},
   "source": [
    "รูปที่ 5.14 ความแม่นยำของโมเดลลำดับเทียบกับจำนวนรอบการฝึก"
   ]
  },
  {
   "cell_type": "code",
   "execution_count": 63,
   "metadata": {},
   "outputs": [
    {
     "data": {
      "image/png": "[encoded data removed]",
      "text/plain": [
       "<Figure size 432x288 with 1 Axes>"
      ]
     },
     "metadata": {
      "needs_background": "light"
     },
     "output_type": "display_data"
    }
   ],
   "source": [
    "plot_graphs(history, 'loss')"
   ]
  },
  {
   "cell_type": "markdown",
   "metadata": {},
   "source": [
    "รูปที่ 5.15 ค่าสูญเสียของโมเดลลำดับเทียบกับจำนวนรอบการฝึก"
   ]
  },
  {
   "cell_type": "markdown",
   "metadata": {
    "id": "e_Ppvp6I4ImF"
   },
   "source": [
    "## 5.6 สรุปท้ายบท\n",
    "\n",
    "เนื้อหาในบทนี้กล่าวถึงสถาปัตยกรรมโครงข่ายประสาทเทียมที่ใช้กับข้อมูลลำดับเริ่มจากโมเดลพื้นฐานคือ RNN จนถึงโมเดลขั้นสูงขึ้นคือ GRU, LSTM \n",
    "และยกตัวอย่างการสร้างโมเดลบนกรอบการทำงานของ TF \n",
    "\n",
    "ถึงแม้ว่า RNN, GRU, LSTM จะสามารถทำงานกับข้อมูลลำดับได้อย่างมีประสิทธิภาพ สถาปัตยกรรมนี้ยังมีข้อด้อยในประเด็นดังนี้\n",
    "\n",
    "<ol>\n",
    "<li />การหายไปของเกรเดียนต์สำหรับโมเดลที่มีขั้นลำดับยาวมากยังคงเป็นปัญหา\n",
    "<li />โมเดลจำเป็นต้องประมวลผลตามลำดับขั้นเวลา จึงไม่สามารถใช้ประโยชน์จากตัวประมวลผลแบบขนานเช่น GPU\n",
    "<li />การถ่ายโอนการเรียนรู้โดยทั่วไปไม่ประสบผลสำเร็จ โมเดลต้องการการฝึกโดยข้อมูลจำเพาะสำหรับปัญหานั้น\n",
    "</ol>\n",
    "\n",
    "โดยเหตุนี้เองปัจจุบันจึงมีการนำเสนอสถาปัตยกรรมทางเลือกสำหรับปัญหาเช่น NLP โดยใช้ทรานส์ฟอร์มเมอร์ส (transformers)\n",
    "ซึ่งอาศัยกลไกของตัวเข้ารหัส ตัวถอดรหัส และความสนใจ (attention) ข้อแตกต่างหลักคือจะประมวลผลข้อมูลลำดับพร้อมกันทั้งชุด \n",
    "ดังนั้นสามารถใช้ประโยชน์จาก GPU ได้ อย่างไรก็ตามจะไม่สามารถใช้กับข้อมูลขั้นเวลาในรูปแบบเรียลไทม์ เช่นอินพุตที่รับโดยหุ่นยนต์ขณะทำงาน\n",
    "ทรานส์ฟอร์มเมอร์สเป็นเนื้อหาที่อยู่นอกขอบเขตหนังสือนี้"
   ]
  },
  {
   "cell_type": "markdown",
   "metadata": {
    "id": "WjQZmgdT4ImF"
   },
   "source": [
    "## โจทย์ปัญหา\n",
    "\n",
    "5-1 จากตัวอย่าง 5.1 - 5.3 ปรับแต่งโมเดลและ/หรือไฮเปอร์พารามิเตอร์เพื่อปรับปรุงค่าผิดพลาดให้น้อยลง โดยตั้งเป้าว่าควรน้อยกว่าค่าที่ได้จากโมเดล DNN \n",
    "ในภาคผนวก A \n",
    "\n",
    "5-2 ใช้โมเดลจากตัวอย่าง 5.1 - 5.3 พยากรณ์ข้อมูลจุดบอดบนดวงอาทิตย์ (sunspot) ดาวน์โหลดข้อมูลได้จากโค้ดด้านล่าง พล็อตข้อมูลได้ดังแสดงในรูปที่ P5.2"
   ]
  },
  {
   "cell_type": "code",
   "execution_count": 64,
   "metadata": {
    "tags": [
     "remove_output"
    ]
   },
   "outputs": [
    {
     "name": "stdout",
     "output_type": "stream",
     "text": [
      "--2022-12-04 17:26:47--  https://raw.githubusercontent.com/jbrownlee/Datasets/master/daily-min-temperatures.csv\n",
      "Resolving raw.githubusercontent.com (raw.githubusercontent.com)... 185.199.110.133, 185.199.108.133, 185.199.109.133, ...\n",
      "Connecting to raw.githubusercontent.com (raw.githubusercontent.com)|185.199.110.133|:443... connected.\n",
      "HTTP request sent, awaiting response... 200 OK\n",
      "Length: 67921 (66K) [text/plain]\n",
      "Saving to: ‘/tmp/daily-min-temperatures.csv’\n",
      "\n",
      "/tmp/daily-min-temp 100%[===================>]  66.33K  --.-KB/s    in 0.04s   \n",
      "\n",
      "2022-12-04 17:26:47 (1.76 MB/s) - ‘/tmp/daily-min-temperatures.csv’ saved [67921/67921]\n",
      "\n"
     ]
    }
   ],
   "source": [
    "!wget --no-check-certificate \\\n",
    "    https://raw.githubusercontent.com/jbrownlee/Datasets/master/daily-min-temperatures.csv \\\n",
    "    -O /tmp/daily-min-temperatures.csv"
   ]
  },
  {
   "cell_type": "code",
   "execution_count": 65,
   "metadata": {},
   "outputs": [
    {
     "data": {
      "image/png": "[encoded data removed]",
      "text/plain": [
       "<Figure size 576x360 with 1 Axes>"
      ]
     },
     "metadata": {
      "needs_background": "light"
     },
     "output_type": "display_data"
    }
   ],
   "source": [
    "import csv\n",
    "time_step = []\n",
    "temps = []\n",
    "\n",
    "with open('/tmp/daily-min-temperatures.csv') as csvfile:\n",
    "    reader = csv.reader(csvfile, delimiter=',')\n",
    "    next(reader)\n",
    "    step=0\n",
    "    for row in reader:\n",
    "        temps.append(float(row[1]))\n",
    "        time_step.append(step)\n",
    "        step = step + 1\n",
    "\n",
    "series = np.array(temps)\n",
    "time = np.array(time_step)\n",
    "plt.figure(figsize=(8,5))\n",
    "plot_series(time, series)"
   ]
  },
  {
   "cell_type": "markdown",
   "metadata": {},
   "source": [
    "<div align=\"center\">รูปที่ P5.1 ข้อมูลจุดบอดบนดวงอาทิตย์</div>"
   ]
  },
  {
   "cell_type": "markdown",
   "metadata": {},
   "source": [
    "5-3 พิจารณาโมเดลลำดับต่อไปนี้ว่าจัดอยู่ในประเภทใด (a-d) ในหัวข้อ 5.2.3 โดยมีอินพุตคือ $x$ และเอาต์พุตคือ $y$\n",
    "\n",
    "1. การรู้จำเสียง (speech recognition) : $x$ คือไฟล์สัญญาณเสียง $y$ คือสตริงประโยคที่ถอดความจากเสียง\n",
    "\n",
    "2. การกำเนิดดนตรี : $x$ คือเซตว่าง (ไม่มีอินพุต) $y$ คือโน้ตดนตรี\n",
    "    \n",
    "3. การวัดความพึงพอใจในบริการ : $x$ คือสตริงของประโยคจากลูกค้า $y$ คือจำนวนดาวที่ได้รับ\n",
    "    \n",
    "4. การแปลอังกฤษเป็นไทยโดยเครื่อง : $x$ คือประโยคภาษาอังกฤษ $y$ คือประโยคที่ถูกแปลเป็นภาษาไทย\n",
    "    \n",
    "5. การรู้จำกิจกรรมจากวีดิทัศน์ : $x$ คือคลิปวีดิทัศน์ $y$ คือการระบุกิจกรรมจากคลิป เช่น การแข่งขันฟุตบอล\n",
    "    \n",
    "6. การสั่งงานหลอดไฟโดยเสียง : $x$ คือไฟล์สัญญาณเสียง $y$ คือการปิด/เปิด/ปรับความสว่าง/เปลี่ยนสีหลอดไฟ"
   ]
  },
  {
   "cell_type": "markdown",
   "metadata": {},
   "source": [
    "5-4 จากโมเดลลำดับพื้นฐานที่ได้ศึกษาในบทนี้ เราจะพบข้อจำกัดโดยเฉพาะในด้านการแปลภาษา เมื่อข้อความอินพุตมีความยาวมาก \n",
    "เมื่อเปรียบเทียบการทำงานกับมนุษย์ที่ทำงานเป็นล่ามแปลภาษา เราจะพบว่าโดยทั่วไปมนุษย์จะไม่จดจำประโยคอินพุตที่ยาวมากทั้งหมดแล้วแปลในครั้งเดียว\n",
    "แต่จะตัดประโยคอินพุตเป็นช่วงแล้วแปลก่อนจะรับอินพุตต่อไป ซึ่งหลักการนี้ถูกใช้ในโมเดลที่ใช้หลักการของ \"ความสนใจ\" ที่เนื้อหาไม่ได้ถูกครอบคลุมในบทนี้ \n",
    "ผู้อ่านที่สนใจสามารถศึกษาเพิ่มเติมได้จาก {cite}`bahdanau2014neural`,{cite}`xu2015attend` อธิบายข้อได้เปรียบของการใช้ความสนใจเพื่อปรับปรุงสถาปัตยกรรมของโมเดลลำดับ \n"
   ]
  },
  {
   "cell_type": "code",
   "execution_count": null,
   "metadata": {},
   "outputs": [],
   "source": []
  }
 ],
 "metadata": {
  "celltoolbar": "Edit Metadata",
  "colab": {
   "collapsed_sections": [],
   "name": "chapter5.ipynb",
   "provenance": []
  },
  "kernelspec": {
   "display_name": "Python 3.9 (tensorflow)",
   "language": "python",
   "name": "tensorflow"
  },
  "language_info": {
   "codemirror_mode": {
    "name": "ipython",
    "version": 3
   },
   "file_extension": ".py",
   "mimetype": "text/x-python",
   "name": "python",
   "nbconvert_exporter": "python",
   "pygments_lexer": "ipython3",
   "version": "3.9.13"
  }
 },
 "nbformat": 4,
 "nbformat_minor": 1
}
