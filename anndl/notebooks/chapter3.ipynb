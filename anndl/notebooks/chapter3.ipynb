{
 "cells": [
  {
   "cell_type": "markdown",
   "metadata": {},
   "source": [
    "# บทที่ 3 การปรับปรุงโครงข่ายประสาทเทียม\n",
    "\n",
    "จากที่ได้เกริ่นนำในบทที่ผ่านมาว่าการออกแบบและใช้งานโครงข่ายประสาทเทียมในทางปฏิบัติจะเป็นกรรมวิธีที่วนรอบ \n",
    "ในช่วงเริ่มต้นของโครงการคงเป็นไปไม่ได้ที่จะกำหนดค่าของไฮเปอร์พารามิเตอร์ต่างๆ ได้อย่างเหมาะสมในทันที เช่นจำนวนชั้นแฝง \n",
    "จำนวนเซลล์ในชั้นเหล่านั้น อัตราการเรียนรู้ ฟังก์ชันกระตุ้น ฯลฯ แต่จะต้องผ่านการทดสอบและปรับแต่งแก้ไขจนกว่าจะได้ความแม่นยำตามเป้าหมาย \n",
    "ในยุคสมัยนี้ที่ทุกสิ่งทุกอย่างต้องดำเนินการแข่งกับเวลา การศึกษาเกี่ยวกับการปรับแต่งไฮเปอร์พารามิเตอร์จึงเป็นสิ่งที่จำเป็น\n",
    "เพื่อว่าเราจะทดสอบและแก้ไขเป็นจำนวนรอบน้อยที่สุด ดังนั้นเนื้อหาในบทนี้จะเน้นการปรับแต่งโมเดล DNN จากบทที่ 2 เพื่อให้มีประสิทธิภาพตามต้องการ \n",
    "โดยข้อกำหนดของแต่ละโจทย์ปัญหาอาจแตกต่างกันไปตามสมรรถนะของตัวประมวลผลและทรัพยากร จำนวนข้อมูลการฝึก เป็นต้น\n",
    "\n",
    "ก่อนที่จะกล่าวถึงการปรับปรุงโมเดล DNN ปัจจัยสำคัญอันดับแรกที่ต้องพิจารณาคือการบริหารข้อมูลอย่างไรให้เหมาะสม\n",
    "\n",
    "## 3.1 การจัดการข้อมูล\n",
    "\n",
    "เราได้เข้าใจแล้วว่าข้อมูลมีความสำคัญอย่างยิ่งยวดต่อการเรียนรู้เชิงลึก เพราะโมเดล DNN มิใช่ขั้นตอนวิธีที่เขียนเป็นคำสั่งเงื่อนไขตายตัว \n",
    "แต่จะถูกขับโดยข้อมูล คือการปรับค่าพารามิเตอร์ของโมเดลในขั้นตอนของการฝึกจนกระทั่งได้ความแม่นยำตามเกณฑ์ที่กำหนด ดังนั้นกล่าวได้ว่า\n",
    "ประสิทธิภาพของโมเดลขึ้นกับคุณภาพและปริมาณของข้อมูลอย่างมาก \n",
    "\n",
    "แนวทางการจัดการข้อมูลสำหรับการเรียนรู้เชิงลึกโดยทั่วไปจะแบ่งข้อมูลเป็น 3 ชุดหลักคือ\n",
    "1. ชุดข้อมูลสำหรับการฝึก (training set) ใช้ในขั้นตอนการฝึกตามแผนภาพการคำนวณข้างหน้าและย้อนกลับที่ได้อธิบายในบทที่ 2 \n",
    "โดยมีการวนรอบตามที่กำหนดเพื่อลดค่าสูญเสียและเพิ่มความแม่นยำ \n",
    "2. ชุดข้อมูลสำหรับการพัฒนา (development set) คือข้อมูลส่วนหนึ่งที่แยกไว้สำหรับตรวจสอบข้าม (cross validation) เพื่อปรับปรุงโมเดล \n",
    "หรือตรวจสอบว่าโมเดลใดให้ผลดีสุดกรณีมีหลายโมเดล\n",
    "3. ขุดข้อมูลสำหรับทดสอบ (test set) ใช้ในการทดสอบขั้นสุดท้ายเมื่อได้โมเดลที่พอใจแล้ว\n",
    "\n",
    "ในระบบขนาดเล็กที่ไม่ซับซ้อนมาก เพื่อความง่ายอาจรวมชุดข้อมูล 2,3 เข้าด้วยกันและเรียกเป็นชุดข้อมูลสำหรับทดสอบ \n",
    "\n",
    "การแบ่งข้อมูลทั้งหมดออกเป็นชุด 1,2,3 ขึ้นอยู่กับผู้ใช้ นิยมตั้งเป็นอัตราส่วนเช่น 60%, 20%, 20% เช่นมีข้อมูลจำนวน 100,000 ตัวอย่าง \n",
    "แบ่งเป็นใช้สำหรับฝึก 60,000 ตัวอย่าง สำหรับพัฒนาและทดสอบอย่างละ 20,000 ตัวอย่าง เป็นต้น ในกรณีที่มีข้อมูลจำนวนมาก เช่นล้านตัวอย่าง \n",
    "อาจลดอัตราส่วนชุดข้อมูลพัฒนาและทดสอบน้อยลงเช่นเหลือเพียงอย่างละ 1% \n",
    "\n",
    "ข้อควรระวังเกี่ยวกับการใช้ชุดข้อมูลฝึกและทดสอบคือ ข้อมูลต้องมาจากการแจกแจง (distribution) ที่เหมือนกัน \n",
    "ตัวอย่างของการใช้ชุดข้อมูลที่ไม่สอดคล้องกันคือ สมมุติว่าต้องการสร้างโมเดลจำแนกสุนัขและแมว เราค้นหาข้อมูลภาพจากอินเทอร์เน็ตเพื่อฝึกโมเดล \n",
    "ซึ่งเป็นภาพสัตว์เลี้ยงที่ส่วนใหญ่ถ่ายโดยช่างภาพมืออาชีพ มีความชัดเจนและรายละเอียดสูง\n",
    "แต่เมื่อนำไปทดสอบหรือใช้งานจากภาพผู้ใช้ที่อาจไม่มีคุณภาพดีเท่าเทียม เช่นเบลอ แสงน้อย จัดองค์ประกอบภาพไม่ดี ผลที่ได้ก็คงไม่เป็นตามที่ต้องการ \n",
    "\n",
    "### 3.1.1 ค่าเอนเอียงและความแปรปรวน\n",
    "\n",
    "รูปที่ 3.1 แสดงตัวอย่างการจำแนกข้อมูลในระนาบ 2 มิติ โดยข้อมูลสองประเภทแทนด้วยวงกลมและสี่เหลี่ยม ในรูป (a) ด้านซ้ายสุดเป็นการจำแนกโดยเส้นตรง\n",
    "จะเห็นว่าไม่สามารถแบ่งกลุ่มข้อมูลได้ดีเท่าที่ควร คือมีการฟิตตำ่ไป (underfit) เรียกกรณีนี้ว่า มีค่าเอนเอียงสูง (high bias) \n",
    "\n",
    "<p />  \n",
    "<p align=\"center\">\n",
    "<img src=\"https://drive.google.com/uc?id=17vghyzLUAh4xuVnZMRvSxEEmOY0nn8r6\" width=750 />\n",
    "</p>\n",
    "<div align=\"center\">รูปที่ 3.1 การจำแนกทวิภาคในระนาบ 2 มิติ</div>\n",
    "\n",
    "\n",
    "**หมายเหตุ :** คำว่าไบแอสหรือค่าเอนเอียงในบริบทนี้ไม่มีความเกี่ยวข้องกับค่าเอนเอียง b ที่เป็นพารามิเตอร์ของโมเดล\n",
    "\n",
    "หากพิจารณารูป (c) ด้านขวาสุดซึ่งเป็นการฟิตเกิน (overfit) ถึงแม้ว่าจะสามารถจำแนกข้อมูลฝึกได้อย่างสมบูรณ์แต่ก็มีความซับซ้อนเกินความจำเป็น\n",
    "ไม่สามารถคาดหวังว่าจะทำงานได้ดีกับข้อมูลทดสอบหรือข้อมูลใหม่ที่เข้ามา เรียกกรณีนี้ว่า มีความแปรปรวนสูง (high variance) \n",
    "ตัวจำแนกที่อยู่ระหว่างกลางคือรูป (c) ที่เป็นตัวเลือกที่เหมาะสมสำหรับปัญหานี้ กรณีเหล่านี้จะเกิดขึ้นเช่นเดียวกันในระบบหลายมิติ \n",
    "การยกตัวอย่างในระนาบ 2 มิติทำให้เห็นภาพได้ชัดเจนขึ้นเท่านั้น \n",
    "\n",
    "สาระสำคัญของเนื้อหาในหัวข้อย่อยนี้คือ \n",
    "ต้องการหลีกเลี่ยงทั้งกรณีค่าเอนเอียงสูงและความแปรปรวนสูง ในสมัยก่อนจะมีประเด็นที่นิยมกล่าวถึงกันเรียกว่า \n",
    "การประนีประนอมระหว่างค่าเอนเอียงและความแปรปรวน (bias-variance tradeoff) \n",
    "เนื่องจากการปรับค่าเอนเอียงลดลงมีผลกระทบทำให้ความแปรปรวนสูงขึ้น หรือกลับกัน แต่ในยุคของการเรียนรู้เชิงลึกจะถูกกล่าวถึงน้อยลง \n",
    "ทั้งนี้เนื่องจากการใช้โมเดลที่มีขนาดใหญ่สามารถช่วยลดค่าเอนเอียงโดยไม่กระทบความแปรปรวน \n",
    "ในทำนองเดียวกันการเพิ่มขนาดของข้อมูลช่วยลดความแปรปรวนได้โดยไม่กระทบกับค่าเอนเอียง\n",
    "\n",
    "รูปที่ 3.2 แสดงตัวอย่างการจำแนกทวิภาคภาพสุนัขและแมว โดยโมเดลจะให้เอาต์พุตเท่ากับ 0 สำหรับภาพสุนัขและ 1 สำหรับภาพแมว \n",
    "เราจะเปรียบเทียบค่าผิดพลาดของกรณี A,B,C,D กํบกรณีตรวจสอบโดยมนุษย์ โดยสมมุติว่ามนุษย์สามารถจำแนกภาพได้โดยมีความผิดพลาดเป็นศูนย์ \n",
    "\n",
    "<p />  \n",
    "<p align=\"center\">\n",
    "<img src=\"https://drive.google.com/uc?id=1CkNZsqNEPCHOYyRsjuCODrLbaWgiNipw\" width=500 />\n",
    "</p>\n",
    "<div align=\"center\">รูปที่ 3.2 ปัญหาการจำแนกภาพสุนัขและแมว</div>\n",
    "\n",
    "* A. ได้ค่าผิดพลาดจากชุดข้อมูลฝึกเท่ากับ 0.5% และค่าผิดพลาดจากชุดข้อมูลพัฒนาเท่ากับ 1% จัดได้ว่าเป็นโมเดลที่ดี \n",
    "คือได้ทั้งค่าเอนเอียงและความแปรปรวนต่ำ \n",
    "* B. ได้ค่าผิดพลาดจากชุดข้อมูลฝึกเท่ากับ 1% และค่าผิดพลาดจากชุดข้อมูลพัฒนาเท่ากับ 12% คือกรณีความแปรปรวนสูง \n",
    "จะเห็นว่าโมเดลมีความแม่นยำสูงกับข้อมูลฝึก แต่ทำงานได้ไม่ดีกับข้อมูลพัฒนาเนื่องจากการฟิตเกิน \n",
    "* C. ได้ค่าผิดพลาดจากชุดข้อมูลฝึกเท่ากับ 20% และค่าผิดพลาดจากชุดข้อมูลพัฒนาเท่ากับ 21% คือกรณีค่าเอนเอียงสูง \n",
    "โมเดลทำงานได้ไม่ดีตั้งแต่กับชุดข้อมูลการฝึก และก็ได้ผลใกล้เคียงกันกับชุดข้อมูลพัฒนา คือมีการฟิตต่ำไป\n",
    "* D. ได้ค่าผิดพลาดจากชุดข้อมูลฝึกเท่ากับ 20% และค่าผิดพลาดจากชุดข้อมูลพัฒนาเท่ากับ 30% คือกรณีทั้งค่าเอนเอียงและความแปรปรวนสูง \n",
    "เป็นโมเดลที่ด้อยที่สุดสำหรับทั้ง 4 กรณีที่ยกตัวอย่างมา\n",
    "\n",
    "### 3.1.2 วิธีพื้นฐานในการลดค่าเอนเอียงและความแปรปรวน\n",
    "\n",
    "เมื่อตรวจสอบสมรรถนะของโมเดลที่มีต่อข้อมูลชุดฝึกและพัฒนาดังเช่นในตัวอย่างด้านบน เราสามารถตัดสินเบื้องต้นเกี่ยวกับค่าเอนเอียงและความแปรปรวนของโมเดล \n",
    "และใช้วิธีการพื้นฐานในการแก้ปัญหาดังนี้\n",
    "\n",
    "หากพบว่าโมเดลมีค่าเอนเอียงสูง (ต้องการปรับปรุงสมรรถนะต่อข้อมูลฝึก)\n",
    "* เพิ่มขนาดของ DNN\n",
    "* เพิ่มจำนวนรอบการฝึก หรือทดลองเปลี่ยนตัวหาค่าเหมาะที่สุด\n",
    "* อาจทดลองเปลี่ยนสถาปัตยกรรมของโครงข่ายประสาทเทียม \n",
    "\n",
    "หากพบว่าโมเดลมีความแปรปรวนสูง (ต้องการปรับปรุงสมรรถนะต่อข้อมูลพัฒนา)\n",
    "* เพิ่มจำนวนข้อมูล\n",
    "* ลดการฟิตเกินโดยวิธีเช่นเรกูลาร์ไรเซชันหรือดรอปเอาต์ (จะได้กล่าวถึงต่อไปในบทนี้)\n",
    "* อาจทดลองเปลี่ยนสถาปัตยกรรมของโครงข่ายประสาทเทียม \n",
    "\n",
    "เมื่อปรับเปลี่ยนโมเดลแล้วต้องกลับไปตรวจสอบใหม่จนกว่าจะได้ค่าเอนเอียงและความแปรปรวนอยู่ในเกณฑ์ที่ยอมรับได้"
   ]
  },
  {
   "cell_type": "markdown",
   "metadata": {},
   "source": [
    "## 3.2 การปรับปรุงโมเดลความแปรปรวนสูง\n",
    "\n",
    "จากคำอธิบายก่อนหน้านี้ กรณีที่ไม่ต้องการเปลี่ยนสถาปัตยกรรมของโครงข่ายและไม่สามารถเพิ่มข้อมูล \n",
    "การปรับปรุงโมเดลที่มีความแปรปรวนสูงคือลดผลจากการฟิตเกิน ซึ่งมีวิธีการที่นิยมอยู่ 2 \n",
    "วิธีคือการทำเรกูลาร์ไรเซชันและการดรอปเอาต์เซลล์ของโครงข่าย\n",
    "\n",
    "### 3.2.1 การเรกูลาร์ไรเซชันโครงข่ายประสาทเทียม\n",
    "\n",
    "วิธีการเรกูลาร์ไรเซชัน (regularization) เป็นทางแก้หนึ่งสำหรับปัญหาฟิตเกินที่ทำให้เกิดความแปรปรวนสูง \n",
    "แนวทางคือการลดค่าน้ำหนักในเซลล์ของโครงข่ายประสาทเทียม เมื่อผลตอบสนองของบางเซลล์ถูกลดลงจะช่วยแก้การฟิตเกินลงได้\n",
    "(หลักการเช่นเดียวกันถูกใช้ในวิธีการดรอปเอาต์โดยตัดบางเซลล์ในโครงข่ายออก) หากเปรียบเทียบการจำแนกทวิภาคในรูปที่ 3.1 \n",
    "เรกูลาร์ไรเซชันจะช่วยเปลี่ยนเอาต์พุตที่มีความแปรปรวนสูง (c) เข้าสู่เอาต์พุตทางด้านซ้าย (a)\n",
    "โดยหากปรับพารามิเตอร์อย่างเหมาะสมคาดหวังที่จะได้การจำแนกประมาณในภาพกลาง (b) หรือหากมองในอีกแง่มุมหนึ่ง \n",
    "การลดค่าน้ำหนักทำให้ฟังก์ชันกระตุ้นเช่น $\\sigma()$ หรือ $tanh()$ ทำงานในช่วงที่เป็นเชิงเส้นมากขึ้น\n",
    "\n",
    "การลดค่าน้ำหนักทำได้โดยเพิ่มพจน์ลงโทษค่าน้ำหนักในฟังก์ชันมูลค่า ยกตัวอย่างกรณีโมเดลการถดถอยลอจิสติก ฟังก์ชันมููลค่าใหม่จะเขียนได้เป็นดังนี้\n",
    "\n",
    "$$\n",
    "J(w,b) = \\frac{1}{m}\\sum_{i=1}^m\\mathcal{L}(\\hat{y}^{(i)},y^{(i)})+\\frac{\\lambda}{2m}\\lVert w\\rVert_2^2 \\tag{3.1}\n",
    "$$\n",
    "\n",
    "โดยค่า $\\lambda$ เรียกว่าพารามิเตอร์การเรกูลาร์ไรเซชัน เป็นไฮเปอร์พารามิเตอร์ซึ่งต้องถูกเลือกโดยผู้พัฒนา \n",
    "เวกเตอร์ $w \\in \\mathbf{R}^{n_x}$ คือเวกเตอร์ของค่าน้ำหนัก \n",
    "และ $\\lVert w\\rVert_2^2 = \\sum_{j=1}^{n_x}w_j^2 = w^Tw$ \n",
    "คือกำลังสองของค่านอร์มสองของ $w$ ดังนั้น (3.1) ถูกเรียกแบบเต็มว่าการเรกูลาร์ไรเซชันแบบ L2\n",
    "\n",
    "ผู้อ่านอาจสงสัยว่าทำไมเราเพิ่มแต่พจน์ที่ขึ้นกับ $w$ ในฟังก์ชันมูลค่าโดยไม่สนใจค่าเอนเอียง $b$ เหตุผลคือค่าเอนเอียงเป็นเพียงตัวเลขสเกลาร์ตัวเดียว \n",
    "ค่าน้ำหนักเป็นเวกเตอร์ความยาว $n_x$ จึงมีผลกระทบต่อโครงข่ายโดยรวมมากกว่า เราสามารถใส่พจน์ลงโทษค่าเอนเอียงลงใน $J(w,b)$ \n",
    "ได้หากต้องการ แต่ก็เพียงทำให้สมการซับซ้อนขึ้นโดยไม่มีผลเด่นชัด\n",
    "\n",
    "การเรกูลาร์ไรเซชันมีรูปแบบอื่น เช่นแบบ L1 ที่พจน์สุดท้ายด้านขวาของ (3.1) เขียนอยู่ในรูป\n",
    "$$\n",
    "\\frac{\\lambda}{2m}\\lVert w \\rVert_1 = \\frac{\\lambda}{2m}\\sum_{i=1}{n_x}|w| \\tag{3.2}\n",
    "$$\n",
    "\n",
    "ผลจาการใช้เรกูลาร์ไรเซชันแบบ L1 คือทำให้เวกเตอร์ $w$ เป็นแบบมากเลขศูนย์ (sparse) เป็นเสมือนการบีบอัดโมเดล \n",
    "ในทางปฏิบัติจะพบการเรกูลาร์ไรเซชันแบบ L2 มากกว่า\n",
    "\n",
    "สำหรับโมเดล DNN เมื่อใช้เรกูลาร์ไรเซชันแบบ L2 ฟังก์ชันมูลค่าจะเขียนได้เป็นดังนี้\n",
    "$$\n",
    "J(W^{[1]},b^{[1]}, \\ldots,W^{[L]},b^{[L]}) = \\frac{1}{m}\\sum_{i=1}^{m}\\mathcal{L}(\\hat{y}^{(i)},y^{(i)})+\\frac{\\lambda}{2m}\\sum_{l=1}^{L}\\lVert W^{[l]}\\rVert_F^2 \\tag{3.3}\n",
    "$$\n",
    "จากทฤษฎีพีชคณิตเชิงเส้น นอร์มของเมทริกซ์ $W$ จะไม่เรียกว่านอร์ม L2 แต่มีชื่อเรียกว่า นอร์มโฟรเบนิอุส (Frobenius norm) ใช้สัญลักษณ์ $\\lVert . \\rVert_F$ นิยามได้เป็น\n",
    "$$\n",
    "\\lVert W^{[l]}\\rVert_F^2 = \\sum_{i=1}^{n^{[l]}} \\sum_{j=1}^{n^{[l-1]}} \\left(w_{i,j}^{[l]}\\right)^2 \\tag{3.4}\n",
    "$$\n",
    "\n",
    "จากขั้นตอนในแผนภาพการคำนวณย้อนหลังเมื่อมีการใช้เรกูลาร์ไรเซชันอธิบายได้ดังนี้ พิจารณาชั้น $l$ กรณีไม่มีเรกูลาร์ไรเซชัน \n",
    "ขั้นตอนวิธีการแพร่กระจายย้อนหลังจะให้ผลลัพธ์ $\\frac{\\partial J}{\\partial W^{[l]}}$ ซึ่งเราเขียนแทนโดยย่อว่า $dW^{[l]}$ \n",
    "เรียกพจน์นี้ว่า $[BP]$ ดังนั้นเมื่อเพิ่มพจน์เรกูลาร์ไรเซชัน จะได้ว่า\n",
    "$$\n",
    "dW^{[l]} = [BP] + \\frac{\\lambda}{m}W^{[l]} \\tag{3.5}\n",
    "$$\n",
    "และสมการอัพเดตเมทริกซ์ค่าน้ำหนัก\n",
    "$$\n",
    "W^{[l]} := W^{[l]} -\\alpha (dW^{[l]}) = W^{[l]} -\\alpha ([BP] + \\frac{\\lambda}{m}W^{[l]})\n",
    "$$\n",
    "เมื่อจัดรูปแล้วจะได้เป็น\n",
    "$$\n",
    "W^{[l]} := W^{[l]} -\\frac{\\alpha\\lambda}{m} W^{[l]} -\\lambda [BP] \\tag{3.6}\n",
    "$$\n",
    "\n",
    "จากสมการ (3.6) ทำให้เรกูลาร์ไรเซชันนี้มีชื่อเรียกอีกอย่างหนึ่งว่า \"การลดระดับค่าน้ำหนัก\" (weight decay) เนื่องจากเมทริกซ์น้ำหนักจะถูกปรับค่าด้วยตัวประกอบ \n",
    "$(1-\\frac{\\alpha\\lambda}{m})$ ที่มีค่าน้อยกว่าหนึ่งทุกครั้งของการอัพเดต "
   ]
  },
  {
   "cell_type": "markdown",
   "metadata": {},
   "source": [
    "**ตัวอย่าง 3.1**\n",
    "\n",
    "ในตัวอย่างนี้จะต้องการใช้ไลบรารีสนับสนุน mlxtend (https://github.com/rasbt/mlxtend) \n",
    "สำหรับพล็อตเส้นแสดงเขตการจำแนก สามารถติดตั้งไลบรารีโดยรันเซลล์ด้านล่าง"
   ]
  },
  {
   "cell_type": "code",
   "execution_count": null,
   "metadata": {},
   "outputs": [],
   "source": [
    "!pip install mlxtend"
   ]
  },
  {
   "cell_type": "markdown",
   "metadata": {},
   "source": [
    "นำเข้าไลบรารีทั้งหมดที่ใช้งาน"
   ]
  },
  {
   "cell_type": "code",
   "execution_count": 1,
   "metadata": {},
   "outputs": [],
   "source": [
    "import tensorflow as tf\n",
    "from tensorflow.keras.models import Sequential\n",
    "from tensorflow.keras.layers import Dense, Flatten\n",
    "from tensorflow.keras.optimizers import SGD, RMSprop, Adam\n",
    "import numpy as np\n",
    "import matplotlib.pyplot as plt\n",
    "import scipy.io\n",
    "from scipy.io import loadmat\n",
    "import sklearn\n",
    "import sklearn.datasets\n",
    "from mlxtend.plotting import plot_decision_regions"
   ]
  },
  {
   "cell_type": "code",
   "execution_count": 2,
   "metadata": {},
   "outputs": [],
   "source": [
    "%matplotlib inline\n",
    "plt.rcParams['figure.figsize'] = (7.0, 4.0) # set default size of plots\n",
    "plt.rcParams['image.interpolation'] = 'nearest'\n",
    "plt.rcParams['image.cmap'] = 'gray'"
   ]
  },
  {
   "cell_type": "markdown",
   "metadata": {},
   "source": [
    "ตัวอย่างนี้ใช้ข้อมูลในแบบฝึกหัดสัปดาห์แรกของคอร์สออนไลน์ \n",
    "\"Improving Deep Neural Networks: Hyperparameter tuning, Regularization and Optimization\" \n",
    "โดย Prof.Andrew NG สำหรับผู้สนใจสามารถลงทะเบียนเรียนได้ที่ Coursera \n",
    "ในแบบฝึกหัดเพิ่มความน่าสนใจของโจทย์เป็นตำแหน่งผู้เล่น 2 \n",
    "ทีมที่มีโอกาสโหม่งลูกฟุตบอลเมื่อผู้รักษาประตูเตะลูกมาในสนาม แต่โดยหลักการแล้วคือการจำแนกทวิภาคของข้อมูล \n",
    "2 กลุ่มในระนาบสองมิติ ในการสร้างและฝึกโมเดลจะใช้โค้ดไพธอนเช่นเดียวกับในบทที่ 2 \n",
    "ผู้เรียนต้องเพิ่มส่วนเรกูลาร์ไรเซชัน (3.3) ลงในโค้ด ซึ่งสามารถทำให้เข้าใจได้อย่างถ่องแท้ \n",
    "แม้ว่าจะต้องอาศัยประสบการณ์การพัฒนาโปรแกรมโดยภาษาไพธอนอยู่พอสมควร ดังนั้นสำหรับในตัวอย่างนี้เราจะใช้ไลบรารี TF \n",
    "สร้างโมเดล DNN ซึ่งมีตัวเลือกในการทำเรกูลาร์ไรเซชันให้กับแต่ละชั้นของโมเดล\n",
    "\n",
    "ข้อมูลถูกเก็บในไฟล์ \"data.mat\" ที่เราจะใส่ในไดเรคทอรี \"datasets/\" \n",
    "เขียนฟังก์ชัน ex31_load_data() เพื่อโหลดข้อมูลฝึกและทดสอบเข้าสู่แอเรย์พร้อมกับพล็อตในระนาบ 2 \n",
    "มิติดังแสดงในรูปที่ 3.3"
   ]
  },
  {
   "cell_type": "code",
   "execution_count": 4,
   "metadata": {},
   "outputs": [],
   "source": [
    "def ex31_load_dataset():\n",
    "    data = scipy.io.loadmat('datasets/data.mat')\n",
    "    train_X = data['X']\n",
    "    train_Y = data['y']\n",
    "    test_X = data['Xval']\n",
    "    test_Y = data['yval']\n",
    "    for i in range(len(train_Y)):\n",
    "        if train_Y[i,0] == 1:\n",
    "            plt.scatter(train_X[i,0],train_X[i,1],c='orange', marker='^',s=40)\n",
    "        else:\n",
    "            plt.scatter(train_X[i,0],train_X[i,1],c='blue', marker='s',s=40)\n",
    "    return train_X, train_Y, test_X, test_Y"
   ]
  },
  {
   "cell_type": "code",
   "execution_count": 5,
   "metadata": {},
   "outputs": [
    {
     "data": {
      "image/png": "[encoded data removed]",
      "text/plain": [
       "<Figure size 504x288 with 1 Axes>"
      ]
     },
     "metadata": {
      "needs_background": "light"
     },
     "output_type": "display_data"
    }
   ],
   "source": [
    "train_X, train_Y, test_X, test_Y = ex31_load_dataset()"
   ]
  },
  {
   "cell_type": "markdown",
   "metadata": {},
   "source": [
    "รูปที่ 3.3 ข้อมูลสองมิติที่ต้องการจำแนกในตัวอย่าง 3.1\n",
    "\n",
    "แอเรย์ข้อมูลที่คืนจากฟังก์ชัน ex31_load_dataset() เป็นชุดฝึก 211 จุดและชุดทดสอบ 200 จุด จากการประมาณโดยสายตา \n",
    "ข้อมูลในระนาบ 2 มิติในรูปที่ 3.3 สามารถถูกจำแนกได้โดยเส้นตรงในแนวทแยงมุม \n",
    "โดยพิจารณาจุดที่หลุดออกไปไกลจากกลุ่มเป็นเสมือนการรบกวน แต่โมเดลที่มีความแปรปรวนสูงจะมีแนวโน้มฟิตเกิน \n",
    "คือให้ความสำคัญกับจุดที่เป็นการรบกวนมากเกินไป \n",
    "\n",
    "เริ่มต้นโดยสร้างโมเดล DNN 3 ชั้นที่มีจำนวนเซลล์ 20, 30, 1 เป็นเส้นฐาน (baseline) โดยใช้ไลบรารี TF ดังนี้"
   ]
  },
  {
   "cell_type": "code",
   "execution_count": 6,
   "metadata": {},
   "outputs": [],
   "source": [
    "model = Sequential([\n",
    "    Flatten(input_shape=[2]),\n",
    "    Dense(20, activation='relu'),\n",
    "    Dense(30, activation = 'relu'),\n",
    "    Dense(1, activation = 'sigmoid')\n",
    "])"
   ]
  },
  {
   "cell_type": "markdown",
   "metadata": {},
   "source": [
    "คอมไพล์โมเดลตามรูปแบบการจำแนกทวิภาคที่ได้อธิบายในบทที่ 2 ผู้อ่านสามารถปรับอัตราการเรียนรู้ตามต้องการ"
   ]
  },
  {
   "cell_type": "code",
   "execution_count": 7,
   "metadata": {},
   "outputs": [],
   "source": [
    "model.compile(optimizer=SGD(learning_rate=0.01),loss='binary_crossentropy', metrics=['accuracy'])"
   ]
  },
  {
   "cell_type": "markdown",
   "metadata": {},
   "source": [
    "ฝึกโมเดลจำนวน 10000 รอบ เก็บข้อมูลฝึกในดิกชันนารี history (ตัวเลือก batch_size=None กำหนดเพื่อมิให้มีการแบ่งข้อมูลเป็นกลุ่มเล็ก \n",
    "ซึ่งจะได้กล่าวถึงต่อไปในบทนี้)"
   ]
  },
  {
   "cell_type": "code",
   "execution_count": 8,
   "metadata": {},
   "outputs": [],
   "source": [
    "history = model.fit(train_X, train_Y, epochs=10000, batch_size=None, validation_data=(test_X,test_Y),verbose=0)"
   ]
  },
  {
   "cell_type": "markdown",
   "metadata": {},
   "source": [
    "เพื่อความสะดวกจะสร้างฟังก์ชันสำหรับพล็อตความแม่นยำและค่าสูญเสีย โดยสามารถเรียกใช้ในตัวอย่างอื่นที่จะนำเสนอต่อไป"
   ]
  },
  {
   "cell_type": "code",
   "execution_count": 18,
   "metadata": {},
   "outputs": [],
   "source": [
    "def plot_acc_loss(history):\n",
    "    acc=history.history['accuracy']\n",
    "    val_acc=history.history['val_accuracy']\n",
    "    loss=history.history['loss']\n",
    "    val_loss=history.history['val_loss']\n",
    "    epochs=range(len(acc)) # Get number of epochs\n",
    "\n",
    "    acc_txt = str(round(acc[len(acc)-1]*100,2))\n",
    "    val_acc_txt = str(round(val_acc[len(val_acc)-1]*100,2))\n",
    "\n",
    "    fig, (ax1, ax2) = plt.subplots(1,2)\n",
    "    ax1.plot(epochs, acc,'r',epochs,val_acc,'b')\n",
    "    ax1.set_title('Training and validation accuracy')\n",
    "    ax1.legend([\"Training acc = \"+acc_txt+\" %\",\"Validation acc = \"+val_acc_txt+\" %\"])\n",
    "\n",
    "    loss_txt = str(round(loss[len(loss)-1],2))\n",
    "    val_loss_txt = str(round(val_loss[len(val_loss)-1],2))\n",
    "\n",
    "    ax2.plot(epochs, loss, 'r',epochs, val_loss, 'b')\n",
    "    ax2.legend([\"Training loss = \"+loss_txt,\"Validation loss = \"+val_loss_txt])\n",
    "    ax2.set_title('Training and validation loss');\n"
   ]
  },
  {
   "cell_type": "markdown",
   "metadata": {},
   "source": [
    "พล็อตความแม่นยำจากชุดข้อมูลฝึกและทดสอบดังแสดงในรูปที่ 3.4 "
   ]
  },
  {
   "cell_type": "code",
   "execution_count": 11,
   "metadata": {},
   "outputs": [
    {
     "data": {
      "image/png": "[encoded data removed]",
      "text/plain": [
       "<Figure size 504x288 with 2 Axes>"
      ]
     },
     "metadata": {
      "needs_background": "light"
     },
     "output_type": "display_data"
    }
   ],
   "source": [
    "plot_acc_loss(history)"
   ]
  },
  {
   "cell_type": "markdown",
   "metadata": {},
   "source": [
    "รูปที่ 3.4 ความแม่นยำและค่าสูญเสียจากโมเดลเส้นฐาน\n",
    "\n",
    "สามารถสังเกตผลจากการฟิตเกินได้ในพล็อตของค่าสูญเสียทางด้านขวาของรูปที่ 3.4 \n",
    "โดยขณะที่ค่าสูญเสียจากข้อมูลฝึกลดลงต่อเนื่องตามจำนวนรอบการฝึก \n",
    "ค่าสูญเสียจากข้อมูลทดสอบกลับมีแนวโน้มเพิ่มขึ้น\n",
    "เมื่อพล็อตเส้นแบ่งเขตเพื่อตรวจสอบสมรรถนะการจำแนกข้อมูลจากโมเดลเส้นฐานจะได้ดังในรูปที่ 3.5\n"
   ]
  },
  {
   "cell_type": "code",
   "execution_count": 12,
   "metadata": {},
   "outputs": [
    {
     "data": {
      "image/png": "[encoded data removed]",
      "text/plain": [
       "<Figure size 504x288 with 1 Axes>"
      ]
     },
     "metadata": {
      "needs_background": "light"
     },
     "output_type": "display_data"
    }
   ],
   "source": [
    "plot_decision_regions(test_X, np.squeeze(test_Y), clf=model, legend=2)\n",
    "plt.xlim([-0.7,0.5])\n",
    "plt.ylim([-0.7,0.7])\n",
    "plt.show()"
   ]
  },
  {
   "cell_type": "markdown",
   "metadata": {},
   "source": [
    "รูปที่ 3.5 เส้นแบ่งเขตการจำแนกข้อมูลจากโมเดลเส้นฐาน\n",
    "\n",
    "การทำเรกูลาร์ไรเซชันกับชั้นแฝงของโมเดลโดยไลบรารี TF มีตัวเลือกมากกว่าเนื้อหาที่อธิบาย \n",
    "เช่นนอกจากจะเลือกชนิด L1, L2 แล้วยังสามารถทำกับค่าน้ำหนัก ค่าเบี่ยงเบน หรือฟังก์ชันกระตุ้นก็ได้ \n",
    "ในตัวอย่างนี้เราจะเลือกทำกับค่าน้ำหนักโดยตัวเลือก kernel_regularizer สร้างโมเดล model_L2 ดังนี้ \n",
    "(ปรับค่าพารามิเตอร์ $\\lambda$ ตามต้องการ)"
   ]
  },
  {
   "cell_type": "code",
   "execution_count": 13,
   "metadata": {},
   "outputs": [],
   "source": [
    "from tensorflow.keras.regularizers import L2"
   ]
  },
  {
   "cell_type": "code",
   "execution_count": 14,
   "metadata": {},
   "outputs": [],
   "source": [
    "model_L2 = Sequential([\n",
    "    Flatten(input_shape=[2]),\n",
    "    Dense(20, kernel_regularizer=L2(0.01), activation='relu'),\n",
    "    Dense(30, kernel_regularizer=L2(0.01), activation = 'relu'),\n",
    "    Dense(1, activation = 'sigmoid')\n",
    "])"
   ]
  },
  {
   "cell_type": "markdown",
   "metadata": {},
   "source": [
    "คอมไพล์และฝึกจำนวน 10,000 รอบเท่ากับโมเดลเส้นฐาน"
   ]
  },
  {
   "cell_type": "code",
   "execution_count": 15,
   "metadata": {},
   "outputs": [],
   "source": [
    "model_L2.compile(optimizer=SGD(learning_rate=0.01),loss='binary_crossentropy', metrics=['accuracy'])"
   ]
  },
  {
   "cell_type": "code",
   "execution_count": 16,
   "metadata": {},
   "outputs": [],
   "source": [
    "history_L2 = model_L2.fit(train_X, train_Y, epochs=10000,batch_size=None, validation_data=(test_X,test_Y),verbose=0)"
   ]
  },
  {
   "cell_type": "markdown",
   "metadata": {},
   "source": [
    "พล็อตความแม่นยำจากชุดข้อมูลฝึกและทดสอบดังแสดงในรูปที่ 3.6"
   ]
  },
  {
   "cell_type": "code",
   "execution_count": 17,
   "metadata": {},
   "outputs": [
    {
     "data": {
      "image/png": "[encoded data removed]",
      "text/plain": [
       "<Figure size 504x288 with 2 Axes>"
      ]
     },
     "metadata": {
      "needs_background": "light"
     },
     "output_type": "display_data"
    }
   ],
   "source": [
    "plot_acc_loss(history_L2)"
   ]
  },
  {
   "cell_type": "markdown",
   "metadata": {},
   "source": [
    "รูปที่ 3.6 ความแม่นยำและค่าสูญเสียจากโมเดลเรกูลาร์ไรเซชัน L2\n",
    "\n"
   ]
  },
  {
   "cell_type": "code",
   "execution_count": 18,
   "metadata": {},
   "outputs": [
    {
     "data": {
      "image/png": "[encoded data removed]",
      "text/plain": [
       "<Figure size 504x288 with 1 Axes>"
      ]
     },
     "metadata": {
      "needs_background": "light"
     },
     "output_type": "display_data"
    }
   ],
   "source": [
    "plot_decision_regions(test_X, np.squeeze(test_Y), clf=model_L2, legend=2)\n",
    "plt.xlim([-0.7,0.5])\n",
    "plt.ylim([-0.7,0.7])\n",
    "plt.show()"
   ]
  },
  {
   "cell_type": "markdown",
   "metadata": {},
   "source": [
    "รูปที่ 3.7 เส้นแบ่งเขตการจำแนกข้อมูลจากโมเดลเรกูลาร์ไรเซชัน L2\n",
    "\n",
    "ค่าของความแม่นยำและค่าสูญเสียอาจแตกต่างกันไปเล็กน้อยในแต่ละครั้งของการรัน แต่สิ่งที่สังเกตได้คือเส้นขอบเขตในรูปที่ 3.7 \n",
    "จากโมเดลที่มีการเรกูลาร์ไรเซชันจะมีลักษณะเข้าใกล้เส้นตรงมากกว่า แสดงถึงโมเดลมีการฟิตเกินน้อยกว่า \n",
    "\n",
    "### 3.2.2 วิธีการดรอปเอาต์\n",
    "\n",
    "การลดการฟิตเกินอีกวิธีหนึ่งที่ใช้ได้ผลดีคือ ดรอปเอาต์ (dropout) แนวคิดคือต้องการกระจายค่านำ้หนักโดยไม่ขึ้นกับลักษณะเด่น\n",
    "ของอินพุตตัวอย่างใดมากเกินไป อธิบายได้โดยดูรูปที่ 3.8 ประกอบ สมมุติว่าโครงข่ายในรูปด้านบนซ้ายคือโมเดลที่ต้องการฝึก\n",
    "ในแต่ละตัวอย่างข้อมูลการฝึกจะตัดเซลล์ในแต่ละชั้นออกแบบสุ่มตามสัดส่วนที่กำหนด เช่น 30%, 50% พร้อมขจัดการเชื่อมต่อที่เป็นอินพุตและเอาต์พุตของเซลล์นั้น \n",
    "ตัวอย่างเซลล์และเส้นทางที่ถูกตัดออกแสดงโดยเส้นประ ผลคือจะได้โครงข่ายขนาดเล็กลง สังเกตว่าตำแหน่งที่ตัดเซลล์ออกจะไม่คงที่ \n",
    "เพราะเมื่อประมวลผลตัวอย่างข้อมูลใหม่ก็จะเลือกเซลล์ที่ถูกตัดออกตำแหน่งใหม่แบบสุ่ม \n",
    "\n",
    "<p />  \n",
    "<p align=\"center\">\n",
    "<img src=\"https://drive.google.com/uc?id=1EBQHzY354lMR25n3Ptzf22IjxMzLzQg7\" width=750 />\n",
    "</p>\n",
    "<div align=\"center\">รูปที่ 3.8 หลักการของวิธีการดรอปเอาต์</div>\n",
    "\n",
    "ในการอิมพลิเมนต์ดรอปเอาต์ วิธีหนึ่งที่นิยมใช้คือดรอปเอาต์ผกผัน (inverted dropout) ในกรณีที่สร้างโมเดลจากโค้ดไพธอนดังเช่นในบทที่ \n",
    "2 สมมุติว่าต้องการตัดเซลล์ในชั้น $l = 3$ สร้างเมทริกซ์ d3 โดยคำสั่ง\n",
    "```python\n",
    "d3 = np.random.rand(a3.shape[0],a3.shape[1]) < keep_prob\n",
    "```\n",
    "สังเกตว่า d3 มีขนาดเท่ากับ a3 และมีค่าขึ้นกับเงื่อนไขเปรียบเทียบค่าสุ่มที่กำเนิดจาก np.random.rand() กับตัวแปร \n",
    "keep_prob ซึ่งคือค่าสัดส่วนของเซลล์ที่ยังคงอยู่ตามที่เรากำหนด ตัวอย่างเช่นหากต้องการรักษาเซลล์ไว้ 80% \n",
    "(หรือตัดเซลล์ทิ้งไป 20%) ตั้งค่า keep_prob = 0.8 จากนั้นคำนวณเอาต์พุตจากฟังก์ชันกระตุ้นในชั้นที่ 3 ดังนี้\n",
    "```python\n",
    "a3 = np.multiply(a3,d3)\n",
    "```\n",
    "เป็นการคูณค่าเอาต์พุต a3 เดิมกับ d3 แบบสมาชิกต่อสมาชิก (คำสั่งทำงานได้ถึงแม้ว่าค่าใน d3 เป็นตรรกะ true/false)\n",
    "สุดท้ายคือการปรับมาตราส่วนเพื่อชดเชยเซลล์ที่ถูกตัดทิ้งไป เพื่อทำให้ค่าคาดหมายของ a3 คงเดิม\n",
    "```python\n",
    "a3 /= keep_prob\n",
    "```\n",
    "จุดสำคัญหนึ่งของวิธีการดรอปเอาต์คือ เราจะไม่ใช้ดรอปเอาต์ในขั้นตอนการพยากรณ์ข้อมูลทดสอบ \n",
    "เพราะจะเป็นเสมือนสร้างการรบกวนในการพยากรณ์ซึ่งไม่เป็นผลดี "
   ]
  },
  {
   "cell_type": "markdown",
   "metadata": {},
   "source": [
    "**ตัวอย่าง 3.2**\n",
    "\n",
    "ในการสร้างโมเดลโดยไลบรารี TF สามารถกำหนดชั้นดรอปเอาต์แทรกในโครงข่ายได้โดยง่าย โดยใส่อาร์กิวเมนต์ \n",
    "rate ค่าในช่วง 0-1 เป็นอัตราส่วนของเซลล์ที่ต้องการตัดทิ้ง (ตรงกันข้ามกับตัวแปร keep_prob ที่อธิบายด้านบน) \n",
    "ทดลองใช้ดรอปเอาต์เพื่อเปรียบเทียบกับโมเดลเส้นฐานและวิธีเรกูลาร์ไรเซชันในตัวอย่าง 3.1 รูปที่ 3.9 และ 3.10 \n",
    "แสดงผลที่ได้จากวิธีดรอปเอาต์ซึ่งจะเห็นว่าสามารถลดผลจากการฟิตเกินได้"
   ]
  },
  {
   "cell_type": "code",
   "execution_count": 19,
   "metadata": {},
   "outputs": [],
   "source": [
    "from tensorflow.keras.layers import Dropout"
   ]
  },
  {
   "cell_type": "code",
   "execution_count": 20,
   "metadata": {},
   "outputs": [],
   "source": [
    "model_DO = Sequential([\n",
    "    Flatten(input_shape=[2]),\n",
    "    Dense(20, activation='relu'),\n",
    "    Dropout(0.5),\n",
    "    Dense(30, activation = 'relu'),\n",
    "    Dropout(0.5),\n",
    "    Dense(1, activation = 'sigmoid')\n",
    "])"
   ]
  },
  {
   "cell_type": "code",
   "execution_count": 21,
   "metadata": {},
   "outputs": [],
   "source": [
    "model_DO.compile(optimizer=SGD(learning_rate=0.01),loss='binary_crossentropy', metrics=['accuracy'])"
   ]
  },
  {
   "cell_type": "code",
   "execution_count": 22,
   "metadata": {},
   "outputs": [],
   "source": [
    "history_DO = model_DO.fit(train_X, train_Y, epochs=10000, batch_size=None,validation_data=(test_X,test_Y),verbose=0)"
   ]
  },
  {
   "cell_type": "code",
   "execution_count": 23,
   "metadata": {},
   "outputs": [
    {
     "data": {
      "image/png": "[encoded data removed]",
      "text/plain": [
       "<Figure size 504x288 with 2 Axes>"
      ]
     },
     "metadata": {
      "needs_background": "light"
     },
     "output_type": "display_data"
    }
   ],
   "source": [
    "plot_acc_loss(history_DO)"
   ]
  },
  {
   "cell_type": "markdown",
   "metadata": {},
   "source": [
    "รูปที่ 3.9 ความแม่นยำและค่าสูญเสียจากโมเดลดรอปเอาต์"
   ]
  },
  {
   "cell_type": "code",
   "execution_count": 24,
   "metadata": {},
   "outputs": [
    {
     "data": {
      "image/png": "[encoded data removed]",
      "text/plain": [
       "<Figure size 504x288 with 1 Axes>"
      ]
     },
     "metadata": {
      "needs_background": "light"
     },
     "output_type": "display_data"
    }
   ],
   "source": [
    "plot_decision_regions(test_X, np.squeeze(test_Y), clf=model_DO, legend=2)\n",
    "plt.xlim([-0.7,0.5])\n",
    "plt.ylim([-0.7,0.7])\n",
    "plt.show()"
   ]
  },
  {
   "cell_type": "markdown",
   "metadata": {},
   "source": [
    "รูปที่ 3.10 เส้นแบ่งเขตการจำแนกข้อมูลจากโมเดลดรอปเอาต์\n",
    "\n",
    "### 3.2.3 การแก้ปัญหาฟิตเกินรูปแบบอื่น\n",
    "\n",
    "ในหัวข้อย่อยนี้จะกล่าวถึงวิธีการแก้ปัญหาฟิตเกินที่นอกเหนือจากการทำเรกูลาร์ไรเซชันและดรอปเอาต์ แนวทางแรกคือการเพิ่มข้อมูลฝึก\n",
    "หลักการของการเรียนรู้เชิงลึกคือการขับเคลื่อนโดยข้อมูล ในกรณีที่ไม่สามารถหาข้อมูลใหม่มาเพิ่มเติมได้ เราสามารถที่จะใช้การแต่งเติมข้อมูล (data augmentation) \n",
    "กับข้อมูลเดิมที่มีอยู่เพื่อเพิ่มความหลากหลายให้กับข้อมูลฝึก ตัวอย่างเช่นในการจำแนกภาพสุนัขและแมว \n",
    "อาจจะใช้โปรแกรมด้านการประมวลผลภาพเพื่อกลับองค์ประกอบจากซ้ายมาขวา (เหมือนมองผ่านกระจกเงา) ขยาย ย่อ หรือหมุนภาพ ไลบรารี TF \n",
    "มีฟังก์ชันสนับสนุนเพื่อช่วยในการแต่งเติมข้อมูลฝึกได้โดยง่าย\n",
    "\n",
    "อีกวิธีการหนึ่งที่สามารถลดการฟิตเกินได้โดยไม่ต้องแก้ไขโมเดลหรือข้อมูลคือการตรวจสอบค่าสูญเสียของชุดข้อมูลฝึกและชุดข้อมูลทดสอบในระหว่างการฝึก \n",
    "และหยุดการฝึกเมื่อค่าสูญเสียของชุดข้อมูลทดสอบมีแนวโน้มเพิ่มขึ้นแม้ว่าค่าสูญเสียของชุดข้อมูลฝึกยังลดลงดังแสดงในรูปที่ 3.11 \n",
    "เพราะการฝึกโมเดลต่อไปหลังจากจุดนี้ทำให้เกิดการฟิตเกิน หากใช้ไลบรารี TF เราสามารถกำหนดฟังก์ชันเรียกกลับเพื่อหยุดการฝึกได้โดยง่าย\n",
    "\n",
    "<p />  \n",
    "<p align=\"center\">\n",
    "<img src=\"https://drive.google.com/uc?id=19rXgC5tWMa4H0bWAvgRCTcMzS5PvrTm9\" width=550 />\n",
    "</p>\n",
    "<div align=\"center\">รูปที่ 3.11 วิธีการหยุดฝึกตั้งแต่ช่วงต้น</div>\n",
    "\n",
    "**ตัวอย่าง 3.3**\n",
    "\n",
    "จากโมเดลเส้นฐานในตัวอย่าง 3.1 ต้องการใช้ฟังก์ชันเรียกกลับเพื่อหยุดการฝึกเมื่อค่าสูญเสียจากชุดข้อมูลทดสอบมีแนวโน้มเพิ่มขึ้น \n",
    "ในทางปฏิบัติค่าสููญเสียอาจมีการรบกวนทำให้มีค่าเปลี่ยนแปลงขึ้นลงไม่สม่ำเสมอ ดังนั้นต้องมีการกรองการกระเพื่อมดังกล่าว\n",
    "\n",
    "นำเข้าฟังก์ชัน EarlyStopping ได้ดังนี้"
   ]
  },
  {
   "cell_type": "code",
   "execution_count": 25,
   "metadata": {},
   "outputs": [],
   "source": [
    "from tensorflow.keras.callbacks import EarlyStopping"
   ]
  },
  {
   "cell_type": "markdown",
   "metadata": {},
   "source": [
    "สร้างและคอมไพล์โมเดลเส้นฐานโดยใช้คำสั่งเช่นเดียวกับในตัวอย่าง 3.1"
   ]
  },
  {
   "cell_type": "code",
   "execution_count": 26,
   "metadata": {},
   "outputs": [],
   "source": [
    "model_ES = Sequential([\n",
    "    Flatten(input_shape=[2]),\n",
    "    Dense(20, activation='relu'),\n",
    "    Dense(30, activation = 'relu'),\n",
    "    Dense(1, activation = 'sigmoid')\n",
    "])\n",
    "\n",
    "model_ES.compile(optimizer=SGD(learning_rate=0.01),loss='binary_crossentropy', metrics=['accuracy'])"
   ]
  },
  {
   "cell_type": "markdown",
   "metadata": {},
   "source": [
    "เขียนโค้ดเพื่อสร้างฟังก์ชันเรียกกลับเป็น EarlyStopping() ใส่อาร์กิวเมนต์เพื่อเฝ้าสังเกตค่าสูญเสีย val_loss และตั้งค่า \n",
    "patience เพื่อกำหนดว่าจะหยุดการฝึกเมื่อค่าสูญเสียเพิ่มขึ้นเป็นจำนวนกี่รอบ "
   ]
  },
  {
   "cell_type": "code",
   "execution_count": 27,
   "metadata": {},
   "outputs": [],
   "source": [
    "early_stopping = EarlyStopping(monitor='val_loss',patience=5)"
   ]
  },
  {
   "cell_type": "markdown",
   "metadata": {},
   "source": [
    "ฝึกโมเดลโดยตั้ง callbacks เป็น [early_stopping] (ต้องอยู่ในวงเล็บสี่เหลี่ยมเนื่องจากอาจมีการเรียกกลับหลายฟังก์ชัน) "
   ]
  },
  {
   "cell_type": "code",
   "execution_count": 28,
   "metadata": {},
   "outputs": [
    {
     "name": "stdout",
     "output_type": "stream",
     "text": [
      "Epoch 1/10000\n",
      "7/7 [==============================] - 0s 17ms/step - loss: 0.6795 - accuracy: 0.6825 - val_loss: 0.6758 - val_accuracy: 0.7350\n",
      "Epoch 2/10000\n",
      "7/7 [==============================] - 0s 4ms/step - loss: 0.6784 - accuracy: 0.6825 - val_loss: 0.6742 - val_accuracy: 0.7750\n",
      "Epoch 3/10000\n",
      "7/7 [==============================] - 0s 4ms/step - loss: 0.6770 - accuracy: 0.7346 - val_loss: 0.6727 - val_accuracy: 0.7750\n",
      "Epoch 4/10000\n",
      "7/7 [==============================] - 0s 4ms/step - loss: 0.6758 - accuracy: 0.7583 - val_loss: 0.6713 - val_accuracy: 0.7700\n",
      "Epoch 5/10000\n",
      "7/7 [==============================] - 0s 4ms/step - loss: 0.6746 - accuracy: 0.7536 - val_loss: 0.6698 - val_accuracy: 0.7700\n",
      "Epoch 6/10000\n",
      "7/7 [==============================] - 0s 4ms/step - loss: 0.6732 - accuracy: 0.7488 - val_loss: 0.6684 - val_accuracy: 0.7700\n",
      "Epoch 7/10000\n",
      "7/7 [==============================] - 0s 4ms/step - loss: 0.6720 - accuracy: 0.7488 - val_loss: 0.6670 - val_accuracy: 0.7700\n",
      "Epoch 8/10000\n",
      "7/7 [==============================] - 0s 4ms/step - loss: 0.6707 - accuracy: 0.7488 - val_loss: 0.6655 - val_accuracy: 0.7700\n",
      "Epoch 9/10000\n",
      "7/7 [==============================] - 0s 4ms/step - loss: 0.6694 - accuracy: 0.7488 - val_loss: 0.6640 - val_accuracy: 0.7700\n",
      "Epoch 10/10000\n",
      "7/7 [==============================] - 0s 3ms/step - loss: 0.6682 - accuracy: 0.7488 - val_loss: 0.6626 - val_accuracy: 0.7700\n",
      "Epoch 11/10000\n",
      "7/7 [==============================] - 0s 4ms/step - loss: 0.6670 - accuracy: 0.7536 - val_loss: 0.6611 - val_accuracy: 0.7700\n",
      "Epoch 12/10000\n",
      "7/7 [==============================] - 0s 3ms/step - loss: 0.6657 - accuracy: 0.7536 - val_loss: 0.6597 - val_accuracy: 0.7700\n",
      "Epoch 13/10000\n",
      "7/7 [==============================] - 0s 4ms/step - loss: 0.6644 - accuracy: 0.7536 - val_loss: 0.6582 - val_accuracy: 0.7700\n",
      "Epoch 14/10000\n",
      "7/7 [==============================] - 0s 3ms/step - loss: 0.6632 - accuracy: 0.7536 - val_loss: 0.6567 - val_accuracy: 0.7750\n",
      "Epoch 15/10000\n",
      "7/7 [==============================] - 0s 4ms/step - loss: 0.6619 - accuracy: 0.7536 - val_loss: 0.6552 - val_accuracy: 0.7750\n",
      "Epoch 16/10000\n",
      "7/7 [==============================] - 0s 3ms/step - loss: 0.6606 - accuracy: 0.7536 - val_loss: 0.6537 - val_accuracy: 0.7750\n",
      "Epoch 17/10000\n",
      "7/7 [==============================] - 0s 4ms/step - loss: 0.6593 - accuracy: 0.7536 - val_loss: 0.6522 - val_accuracy: 0.7750\n",
      "Epoch 18/10000\n",
      "7/7 [==============================] - 0s 3ms/step - loss: 0.6580 - accuracy: 0.7536 - val_loss: 0.6507 - val_accuracy: 0.7750\n",
      "Epoch 19/10000\n",
      "7/7 [==============================] - 0s 3ms/step - loss: 0.6568 - accuracy: 0.7536 - val_loss: 0.6492 - val_accuracy: 0.7750\n",
      "Epoch 20/10000\n",
      "7/7 [==============================] - 0s 3ms/step - loss: 0.6555 - accuracy: 0.7583 - val_loss: 0.6478 - val_accuracy: 0.7700\n",
      "Epoch 21/10000\n",
      "7/7 [==============================] - 0s 3ms/step - loss: 0.6541 - accuracy: 0.7583 - val_loss: 0.6462 - val_accuracy: 0.7700\n",
      "Epoch 22/10000\n",
      "7/7 [==============================] - 0s 3ms/step - loss: 0.6528 - accuracy: 0.7583 - val_loss: 0.6447 - val_accuracy: 0.7700\n",
      "Epoch 23/10000\n",
      "7/7 [==============================] - 0s 3ms/step - loss: 0.6514 - accuracy: 0.7583 - val_loss: 0.6431 - val_accuracy: 0.7700\n",
      "Epoch 24/10000\n",
      "7/7 [==============================] - 0s 4ms/step - loss: 0.6500 - accuracy: 0.7630 - val_loss: 0.6416 - val_accuracy: 0.7700\n",
      "Epoch 25/10000\n",
      "7/7 [==============================] - 0s 3ms/step - loss: 0.6487 - accuracy: 0.7630 - val_loss: 0.6400 - val_accuracy: 0.7700\n",
      "Epoch 26/10000\n",
      "7/7 [==============================] - 0s 3ms/step - loss: 0.6472 - accuracy: 0.7678 - val_loss: 0.6384 - val_accuracy: 0.7700\n",
      "Epoch 27/10000\n",
      "7/7 [==============================] - 0s 3ms/step - loss: 0.6459 - accuracy: 0.7678 - val_loss: 0.6368 - val_accuracy: 0.7700\n",
      "Epoch 28/10000\n",
      "7/7 [==============================] - 0s 3ms/step - loss: 0.6444 - accuracy: 0.7678 - val_loss: 0.6352 - val_accuracy: 0.7750\n",
      "Epoch 29/10000\n",
      "7/7 [==============================] - 0s 3ms/step - loss: 0.6429 - accuracy: 0.7725 - val_loss: 0.6335 - val_accuracy: 0.7750\n",
      "Epoch 30/10000\n",
      "7/7 [==============================] - 0s 3ms/step - loss: 0.6414 - accuracy: 0.7678 - val_loss: 0.6318 - val_accuracy: 0.7800\n",
      "Epoch 31/10000\n",
      "7/7 [==============================] - 0s 4ms/step - loss: 0.6399 - accuracy: 0.7678 - val_loss: 0.6301 - val_accuracy: 0.7800\n",
      "Epoch 32/10000\n",
      "7/7 [==============================] - 0s 3ms/step - loss: 0.6383 - accuracy: 0.7725 - val_loss: 0.6284 - val_accuracy: 0.7800\n",
      "Epoch 33/10000\n",
      "7/7 [==============================] - 0s 3ms/step - loss: 0.6367 - accuracy: 0.7773 - val_loss: 0.6266 - val_accuracy: 0.7800\n",
      "Epoch 34/10000\n",
      "7/7 [==============================] - 0s 3ms/step - loss: 0.6351 - accuracy: 0.7773 - val_loss: 0.6249 - val_accuracy: 0.7800\n",
      "Epoch 35/10000\n",
      "7/7 [==============================] - 0s 3ms/step - loss: 0.6334 - accuracy: 0.7773 - val_loss: 0.6231 - val_accuracy: 0.7800\n",
      "Epoch 36/10000\n",
      "7/7 [==============================] - 0s 3ms/step - loss: 0.6317 - accuracy: 0.7773 - val_loss: 0.6214 - val_accuracy: 0.7900\n",
      "Epoch 37/10000\n",
      "7/7 [==============================] - 0s 3ms/step - loss: 0.6300 - accuracy: 0.7820 - val_loss: 0.6195 - val_accuracy: 0.7900\n",
      "Epoch 38/10000\n",
      "7/7 [==============================] - 0s 3ms/step - loss: 0.6282 - accuracy: 0.7820 - val_loss: 0.6176 - val_accuracy: 0.7950\n",
      "Epoch 39/10000\n",
      "7/7 [==============================] - 0s 3ms/step - loss: 0.6265 - accuracy: 0.7820 - val_loss: 0.6157 - val_accuracy: 0.7950\n",
      "Epoch 40/10000\n",
      "7/7 [==============================] - 0s 3ms/step - loss: 0.6248 - accuracy: 0.7867 - val_loss: 0.6137 - val_accuracy: 0.7950\n",
      "Epoch 41/10000\n",
      "7/7 [==============================] - 0s 4ms/step - loss: 0.6229 - accuracy: 0.7867 - val_loss: 0.6117 - val_accuracy: 0.7950\n",
      "Epoch 42/10000\n",
      "7/7 [==============================] - 0s 3ms/step - loss: 0.6209 - accuracy: 0.7867 - val_loss: 0.6096 - val_accuracy: 0.8000\n",
      "Epoch 43/10000\n",
      "7/7 [==============================] - 0s 3ms/step - loss: 0.6192 - accuracy: 0.7915 - val_loss: 0.6074 - val_accuracy: 0.7950\n",
      "Epoch 44/10000\n",
      "7/7 [==============================] - 0s 3ms/step - loss: 0.6171 - accuracy: 0.7962 - val_loss: 0.6052 - val_accuracy: 0.7950\n",
      "Epoch 45/10000\n",
      "7/7 [==============================] - 0s 3ms/step - loss: 0.6151 - accuracy: 0.8009 - val_loss: 0.6028 - val_accuracy: 0.7950\n",
      "Epoch 46/10000\n",
      "7/7 [==============================] - 0s 3ms/step - loss: 0.6130 - accuracy: 0.8009 - val_loss: 0.6006 - val_accuracy: 0.7950\n",
      "Epoch 47/10000\n",
      "7/7 [==============================] - 0s 3ms/step - loss: 0.6109 - accuracy: 0.8057 - val_loss: 0.5983 - val_accuracy: 0.8000\n",
      "Epoch 48/10000\n",
      "7/7 [==============================] - 0s 3ms/step - loss: 0.6088 - accuracy: 0.8057 - val_loss: 0.5959 - val_accuracy: 0.8000\n",
      "Epoch 49/10000\n",
      "7/7 [==============================] - 0s 3ms/step - loss: 0.6066 - accuracy: 0.8152 - val_loss: 0.5936 - val_accuracy: 0.8000\n",
      "Epoch 50/10000\n",
      "7/7 [==============================] - 0s 3ms/step - loss: 0.6044 - accuracy: 0.8152 - val_loss: 0.5912 - val_accuracy: 0.8000\n",
      "Epoch 51/10000\n",
      "7/7 [==============================] - 0s 3ms/step - loss: 0.6021 - accuracy: 0.8246 - val_loss: 0.5890 - val_accuracy: 0.8000\n",
      "Epoch 52/10000\n",
      "7/7 [==============================] - 0s 3ms/step - loss: 0.6000 - accuracy: 0.8199 - val_loss: 0.5866 - val_accuracy: 0.8000\n",
      "Epoch 53/10000\n",
      "7/7 [==============================] - 0s 3ms/step - loss: 0.5978 - accuracy: 0.8246 - val_loss: 0.5842 - val_accuracy: 0.8000\n",
      "Epoch 54/10000\n",
      "7/7 [==============================] - 0s 3ms/step - loss: 0.5955 - accuracy: 0.8199 - val_loss: 0.5817 - val_accuracy: 0.8000\n",
      "Epoch 55/10000\n",
      "7/7 [==============================] - 0s 3ms/step - loss: 0.5932 - accuracy: 0.8246 - val_loss: 0.5791 - val_accuracy: 0.8000\n",
      "Epoch 56/10000\n",
      "7/7 [==============================] - 0s 3ms/step - loss: 0.5909 - accuracy: 0.8294 - val_loss: 0.5767 - val_accuracy: 0.8050\n",
      "Epoch 57/10000\n",
      "7/7 [==============================] - 0s 3ms/step - loss: 0.5887 - accuracy: 0.8294 - val_loss: 0.5743 - val_accuracy: 0.8050\n",
      "Epoch 58/10000\n",
      "7/7 [==============================] - 0s 3ms/step - loss: 0.5865 - accuracy: 0.8294 - val_loss: 0.5721 - val_accuracy: 0.8000\n"
     ]
    },
    {
     "name": "stdout",
     "output_type": "stream",
     "text": [
      "Epoch 59/10000\n",
      "7/7 [==============================] - 0s 3ms/step - loss: 0.5843 - accuracy: 0.8294 - val_loss: 0.5698 - val_accuracy: 0.8000\n",
      "Epoch 60/10000\n",
      "7/7 [==============================] - 0s 4ms/step - loss: 0.5821 - accuracy: 0.8294 - val_loss: 0.5674 - val_accuracy: 0.8000\n",
      "Epoch 61/10000\n",
      "7/7 [==============================] - 0s 3ms/step - loss: 0.5800 - accuracy: 0.8294 - val_loss: 0.5651 - val_accuracy: 0.8000\n",
      "Epoch 62/10000\n",
      "7/7 [==============================] - 0s 3ms/step - loss: 0.5779 - accuracy: 0.8246 - val_loss: 0.5626 - val_accuracy: 0.8000\n",
      "Epoch 63/10000\n",
      "7/7 [==============================] - 0s 3ms/step - loss: 0.5756 - accuracy: 0.8294 - val_loss: 0.5605 - val_accuracy: 0.8000\n",
      "Epoch 64/10000\n",
      "7/7 [==============================] - 0s 3ms/step - loss: 0.5735 - accuracy: 0.8294 - val_loss: 0.5582 - val_accuracy: 0.8050\n",
      "Epoch 65/10000\n",
      "7/7 [==============================] - 0s 3ms/step - loss: 0.5713 - accuracy: 0.8294 - val_loss: 0.5559 - val_accuracy: 0.8050\n",
      "Epoch 66/10000\n",
      "7/7 [==============================] - 0s 3ms/step - loss: 0.5691 - accuracy: 0.8341 - val_loss: 0.5536 - val_accuracy: 0.8050\n",
      "Epoch 67/10000\n",
      "7/7 [==============================] - 0s 3ms/step - loss: 0.5671 - accuracy: 0.8294 - val_loss: 0.5511 - val_accuracy: 0.8100\n",
      "Epoch 68/10000\n",
      "7/7 [==============================] - 0s 4ms/step - loss: 0.5648 - accuracy: 0.8246 - val_loss: 0.5486 - val_accuracy: 0.8100\n",
      "Epoch 69/10000\n",
      "7/7 [==============================] - 0s 5ms/step - loss: 0.5625 - accuracy: 0.8294 - val_loss: 0.5463 - val_accuracy: 0.8100\n",
      "Epoch 70/10000\n",
      "7/7 [==============================] - 0s 4ms/step - loss: 0.5603 - accuracy: 0.8294 - val_loss: 0.5438 - val_accuracy: 0.8100\n",
      "Epoch 71/10000\n",
      "7/7 [==============================] - 0s 3ms/step - loss: 0.5579 - accuracy: 0.8294 - val_loss: 0.5415 - val_accuracy: 0.8100\n",
      "Epoch 72/10000\n",
      "7/7 [==============================] - 0s 3ms/step - loss: 0.5557 - accuracy: 0.8246 - val_loss: 0.5392 - val_accuracy: 0.8150\n",
      "Epoch 73/10000\n",
      "7/7 [==============================] - 0s 3ms/step - loss: 0.5536 - accuracy: 0.8294 - val_loss: 0.5368 - val_accuracy: 0.8150\n",
      "Epoch 74/10000\n",
      "7/7 [==============================] - 0s 3ms/step - loss: 0.5513 - accuracy: 0.8246 - val_loss: 0.5344 - val_accuracy: 0.8150\n",
      "Epoch 75/10000\n",
      "7/7 [==============================] - 0s 3ms/step - loss: 0.5490 - accuracy: 0.8294 - val_loss: 0.5321 - val_accuracy: 0.8150\n",
      "Epoch 76/10000\n",
      "7/7 [==============================] - 0s 3ms/step - loss: 0.5466 - accuracy: 0.8294 - val_loss: 0.5297 - val_accuracy: 0.8250\n",
      "Epoch 77/10000\n",
      "7/7 [==============================] - 0s 3ms/step - loss: 0.5444 - accuracy: 0.8294 - val_loss: 0.5273 - val_accuracy: 0.8250\n",
      "Epoch 78/10000\n",
      "7/7 [==============================] - 0s 3ms/step - loss: 0.5422 - accuracy: 0.8294 - val_loss: 0.5248 - val_accuracy: 0.8250\n",
      "Epoch 79/10000\n",
      "7/7 [==============================] - 0s 3ms/step - loss: 0.5401 - accuracy: 0.8294 - val_loss: 0.5224 - val_accuracy: 0.8250\n",
      "Epoch 80/10000\n",
      "7/7 [==============================] - 0s 3ms/step - loss: 0.5374 - accuracy: 0.8294 - val_loss: 0.5201 - val_accuracy: 0.8300\n",
      "Epoch 81/10000\n",
      "7/7 [==============================] - 0s 3ms/step - loss: 0.5353 - accuracy: 0.8294 - val_loss: 0.5176 - val_accuracy: 0.8300\n",
      "Epoch 82/10000\n",
      "7/7 [==============================] - 0s 3ms/step - loss: 0.5329 - accuracy: 0.8341 - val_loss: 0.5153 - val_accuracy: 0.8350\n",
      "Epoch 83/10000\n",
      "7/7 [==============================] - 0s 3ms/step - loss: 0.5305 - accuracy: 0.8294 - val_loss: 0.5130 - val_accuracy: 0.8300\n",
      "Epoch 84/10000\n",
      "7/7 [==============================] - 0s 3ms/step - loss: 0.5283 - accuracy: 0.8294 - val_loss: 0.5107 - val_accuracy: 0.8300\n",
      "Epoch 85/10000\n",
      "7/7 [==============================] - 0s 3ms/step - loss: 0.5259 - accuracy: 0.8294 - val_loss: 0.5084 - val_accuracy: 0.8300\n",
      "Epoch 86/10000\n",
      "7/7 [==============================] - 0s 3ms/step - loss: 0.5238 - accuracy: 0.8294 - val_loss: 0.5063 - val_accuracy: 0.8350\n",
      "Epoch 87/10000\n",
      "7/7 [==============================] - 0s 3ms/step - loss: 0.5212 - accuracy: 0.8294 - val_loss: 0.5039 - val_accuracy: 0.8350\n",
      "Epoch 88/10000\n",
      "7/7 [==============================] - 0s 3ms/step - loss: 0.5189 - accuracy: 0.8294 - val_loss: 0.5015 - val_accuracy: 0.8350\n",
      "Epoch 89/10000\n",
      "7/7 [==============================] - 0s 3ms/step - loss: 0.5165 - accuracy: 0.8294 - val_loss: 0.4991 - val_accuracy: 0.8350\n",
      "Epoch 90/10000\n",
      "7/7 [==============================] - 0s 3ms/step - loss: 0.5142 - accuracy: 0.8294 - val_loss: 0.4966 - val_accuracy: 0.8350\n",
      "Epoch 91/10000\n",
      "7/7 [==============================] - 0s 3ms/step - loss: 0.5119 - accuracy: 0.8389 - val_loss: 0.4941 - val_accuracy: 0.8350\n",
      "Epoch 92/10000\n",
      "7/7 [==============================] - 0s 3ms/step - loss: 0.5096 - accuracy: 0.8389 - val_loss: 0.4919 - val_accuracy: 0.8350\n",
      "Epoch 93/10000\n",
      "7/7 [==============================] - 0s 3ms/step - loss: 0.5072 - accuracy: 0.8436 - val_loss: 0.4896 - val_accuracy: 0.8350\n",
      "Epoch 94/10000\n",
      "7/7 [==============================] - 0s 3ms/step - loss: 0.5047 - accuracy: 0.8436 - val_loss: 0.4872 - val_accuracy: 0.8350\n",
      "Epoch 95/10000\n",
      "7/7 [==============================] - 0s 3ms/step - loss: 0.5023 - accuracy: 0.8389 - val_loss: 0.4848 - val_accuracy: 0.8350\n",
      "Epoch 96/10000\n",
      "7/7 [==============================] - 0s 3ms/step - loss: 0.4999 - accuracy: 0.8436 - val_loss: 0.4824 - val_accuracy: 0.8350\n",
      "Epoch 97/10000\n",
      "7/7 [==============================] - 0s 3ms/step - loss: 0.4978 - accuracy: 0.8436 - val_loss: 0.4799 - val_accuracy: 0.8400\n",
      "Epoch 98/10000\n",
      "7/7 [==============================] - 0s 3ms/step - loss: 0.4954 - accuracy: 0.8436 - val_loss: 0.4776 - val_accuracy: 0.8400\n",
      "Epoch 99/10000\n",
      "7/7 [==============================] - 0s 3ms/step - loss: 0.4928 - accuracy: 0.8389 - val_loss: 0.4753 - val_accuracy: 0.8400\n",
      "Epoch 100/10000\n",
      "7/7 [==============================] - 0s 3ms/step - loss: 0.4905 - accuracy: 0.8436 - val_loss: 0.4730 - val_accuracy: 0.8400\n",
      "Epoch 101/10000\n",
      "7/7 [==============================] - 0s 3ms/step - loss: 0.4882 - accuracy: 0.8436 - val_loss: 0.4706 - val_accuracy: 0.8400\n",
      "Epoch 102/10000\n",
      "7/7 [==============================] - 0s 3ms/step - loss: 0.4860 - accuracy: 0.8389 - val_loss: 0.4683 - val_accuracy: 0.8400\n",
      "Epoch 103/10000\n",
      "7/7 [==============================] - 0s 3ms/step - loss: 0.4835 - accuracy: 0.8436 - val_loss: 0.4661 - val_accuracy: 0.8400\n",
      "Epoch 104/10000\n",
      "7/7 [==============================] - 0s 3ms/step - loss: 0.4812 - accuracy: 0.8389 - val_loss: 0.4636 - val_accuracy: 0.8400\n",
      "Epoch 105/10000\n",
      "7/7 [==============================] - 0s 3ms/step - loss: 0.4789 - accuracy: 0.8436 - val_loss: 0.4613 - val_accuracy: 0.8400\n",
      "Epoch 106/10000\n",
      "7/7 [==============================] - 0s 3ms/step - loss: 0.4766 - accuracy: 0.8389 - val_loss: 0.4589 - val_accuracy: 0.8500\n",
      "Epoch 107/10000\n",
      "7/7 [==============================] - 0s 4ms/step - loss: 0.4742 - accuracy: 0.8389 - val_loss: 0.4567 - val_accuracy: 0.8450\n",
      "Epoch 108/10000\n",
      "7/7 [==============================] - 0s 3ms/step - loss: 0.4719 - accuracy: 0.8389 - val_loss: 0.4545 - val_accuracy: 0.8400\n",
      "Epoch 109/10000\n",
      "7/7 [==============================] - 0s 3ms/step - loss: 0.4696 - accuracy: 0.8389 - val_loss: 0.4521 - val_accuracy: 0.8500\n",
      "Epoch 110/10000\n",
      "7/7 [==============================] - 0s 3ms/step - loss: 0.4672 - accuracy: 0.8389 - val_loss: 0.4500 - val_accuracy: 0.8450\n",
      "Epoch 111/10000\n",
      "7/7 [==============================] - 0s 3ms/step - loss: 0.4650 - accuracy: 0.8389 - val_loss: 0.4478 - val_accuracy: 0.8500\n",
      "Epoch 112/10000\n",
      "7/7 [==============================] - 0s 3ms/step - loss: 0.4627 - accuracy: 0.8389 - val_loss: 0.4456 - val_accuracy: 0.8500\n",
      "Epoch 113/10000\n",
      "7/7 [==============================] - 0s 3ms/step - loss: 0.4606 - accuracy: 0.8389 - val_loss: 0.4435 - val_accuracy: 0.8500\n",
      "Epoch 114/10000\n",
      "7/7 [==============================] - 0s 4ms/step - loss: 0.4584 - accuracy: 0.8389 - val_loss: 0.4412 - val_accuracy: 0.8500\n",
      "Epoch 115/10000\n",
      "7/7 [==============================] - 0s 3ms/step - loss: 0.4561 - accuracy: 0.8436 - val_loss: 0.4393 - val_accuracy: 0.8450\n",
      "Epoch 116/10000\n",
      "7/7 [==============================] - 0s 3ms/step - loss: 0.4538 - accuracy: 0.8389 - val_loss: 0.4373 - val_accuracy: 0.8450\n",
      "Epoch 117/10000\n",
      "7/7 [==============================] - 0s 3ms/step - loss: 0.4517 - accuracy: 0.8389 - val_loss: 0.4351 - val_accuracy: 0.8500\n",
      "Epoch 118/10000\n",
      "7/7 [==============================] - 0s 3ms/step - loss: 0.4493 - accuracy: 0.8389 - val_loss: 0.4329 - val_accuracy: 0.8500\n",
      "Epoch 119/10000\n",
      "7/7 [==============================] - 0s 3ms/step - loss: 0.4472 - accuracy: 0.8436 - val_loss: 0.4308 - val_accuracy: 0.8500\n",
      "Epoch 120/10000\n",
      "7/7 [==============================] - 0s 3ms/step - loss: 0.4451 - accuracy: 0.8436 - val_loss: 0.4288 - val_accuracy: 0.8500\n",
      "Epoch 121/10000\n",
      "7/7 [==============================] - 0s 3ms/step - loss: 0.4433 - accuracy: 0.8389 - val_loss: 0.4265 - val_accuracy: 0.8500\n",
      "Epoch 122/10000\n",
      "7/7 [==============================] - 0s 3ms/step - loss: 0.4408 - accuracy: 0.8436 - val_loss: 0.4245 - val_accuracy: 0.8500\n",
      "Epoch 123/10000\n",
      "7/7 [==============================] - 0s 3ms/step - loss: 0.4387 - accuracy: 0.8436 - val_loss: 0.4225 - val_accuracy: 0.8500\n",
      "Epoch 124/10000\n",
      "7/7 [==============================] - 0s 3ms/step - loss: 0.4366 - accuracy: 0.8436 - val_loss: 0.4207 - val_accuracy: 0.8450\n",
      "Epoch 125/10000\n",
      "7/7 [==============================] - 0s 3ms/step - loss: 0.4346 - accuracy: 0.8436 - val_loss: 0.4186 - val_accuracy: 0.8450\n",
      "Epoch 126/10000\n",
      "7/7 [==============================] - 0s 3ms/step - loss: 0.4325 - accuracy: 0.8436 - val_loss: 0.4165 - val_accuracy: 0.8450\n",
      "Epoch 127/10000\n",
      "7/7 [==============================] - 0s 3ms/step - loss: 0.4299 - accuracy: 0.8436 - val_loss: 0.4146 - val_accuracy: 0.8450\n",
      "Epoch 128/10000\n",
      "7/7 [==============================] - 0s 3ms/step - loss: 0.4280 - accuracy: 0.8436 - val_loss: 0.4126 - val_accuracy: 0.8500\n",
      "Epoch 129/10000\n",
      "7/7 [==============================] - 0s 3ms/step - loss: 0.4261 - accuracy: 0.8436 - val_loss: 0.4105 - val_accuracy: 0.8500\n",
      "Epoch 130/10000\n",
      "7/7 [==============================] - 0s 3ms/step - loss: 0.4239 - accuracy: 0.8436 - val_loss: 0.4086 - val_accuracy: 0.8500\n",
      "Epoch 131/10000\n",
      "7/7 [==============================] - 0s 3ms/step - loss: 0.4218 - accuracy: 0.8436 - val_loss: 0.4068 - val_accuracy: 0.8500\n",
      "Epoch 132/10000\n",
      "7/7 [==============================] - 0s 3ms/step - loss: 0.4197 - accuracy: 0.8436 - val_loss: 0.4050 - val_accuracy: 0.8500\n",
      "Epoch 133/10000\n",
      "7/7 [==============================] - 0s 3ms/step - loss: 0.4180 - accuracy: 0.8436 - val_loss: 0.4031 - val_accuracy: 0.8550\n",
      "Epoch 134/10000\n",
      "7/7 [==============================] - 0s 3ms/step - loss: 0.4158 - accuracy: 0.8436 - val_loss: 0.4012 - val_accuracy: 0.8550\n",
      "Epoch 135/10000\n",
      "7/7 [==============================] - 0s 3ms/step - loss: 0.4140 - accuracy: 0.8531 - val_loss: 0.3993 - val_accuracy: 0.8550\n",
      "Epoch 136/10000\n",
      "7/7 [==============================] - 0s 3ms/step - loss: 0.4120 - accuracy: 0.8436 - val_loss: 0.3977 - val_accuracy: 0.8550\n",
      "Epoch 137/10000\n",
      "7/7 [==============================] - 0s 3ms/step - loss: 0.4098 - accuracy: 0.8531 - val_loss: 0.3959 - val_accuracy: 0.8600\n",
      "Epoch 138/10000\n",
      "7/7 [==============================] - 0s 3ms/step - loss: 0.4083 - accuracy: 0.8531 - val_loss: 0.3941 - val_accuracy: 0.8600\n",
      "Epoch 139/10000\n",
      "7/7 [==============================] - 0s 3ms/step - loss: 0.4059 - accuracy: 0.8531 - val_loss: 0.3925 - val_accuracy: 0.8600\n",
      "Epoch 140/10000\n",
      "7/7 [==============================] - 0s 3ms/step - loss: 0.4041 - accuracy: 0.8578 - val_loss: 0.3906 - val_accuracy: 0.8600\n",
      "Epoch 141/10000\n",
      "7/7 [==============================] - 0s 3ms/step - loss: 0.4023 - accuracy: 0.8578 - val_loss: 0.3888 - val_accuracy: 0.8650\n",
      "Epoch 142/10000\n",
      "7/7 [==============================] - 0s 3ms/step - loss: 0.4003 - accuracy: 0.8578 - val_loss: 0.3870 - val_accuracy: 0.8650\n",
      "Epoch 143/10000\n",
      "7/7 [==============================] - 0s 3ms/step - loss: 0.3984 - accuracy: 0.8578 - val_loss: 0.3854 - val_accuracy: 0.8650\n",
      "Epoch 144/10000\n",
      "7/7 [==============================] - 0s 3ms/step - loss: 0.3967 - accuracy: 0.8578 - val_loss: 0.3837 - val_accuracy: 0.8650\n",
      "Epoch 145/10000\n",
      "7/7 [==============================] - 0s 3ms/step - loss: 0.3948 - accuracy: 0.8578 - val_loss: 0.3819 - val_accuracy: 0.8650\n",
      "Epoch 146/10000\n",
      "7/7 [==============================] - 0s 3ms/step - loss: 0.3935 - accuracy: 0.8578 - val_loss: 0.3802 - val_accuracy: 0.8700\n",
      "Epoch 147/10000\n",
      "7/7 [==============================] - 0s 3ms/step - loss: 0.3913 - accuracy: 0.8578 - val_loss: 0.3785 - val_accuracy: 0.8750\n",
      "Epoch 148/10000\n",
      "7/7 [==============================] - 0s 3ms/step - loss: 0.3895 - accuracy: 0.8578 - val_loss: 0.3768 - val_accuracy: 0.8750\n",
      "Epoch 149/10000\n",
      "7/7 [==============================] - 0s 3ms/step - loss: 0.3877 - accuracy: 0.8578 - val_loss: 0.3754 - val_accuracy: 0.8750\n",
      "Epoch 150/10000\n",
      "7/7 [==============================] - 0s 3ms/step - loss: 0.3861 - accuracy: 0.8626 - val_loss: 0.3738 - val_accuracy: 0.8750\n",
      "Epoch 151/10000\n",
      "7/7 [==============================] - 0s 3ms/step - loss: 0.3842 - accuracy: 0.8626 - val_loss: 0.3723 - val_accuracy: 0.8800\n",
      "Epoch 152/10000\n",
      "7/7 [==============================] - 0s 3ms/step - loss: 0.3827 - accuracy: 0.8578 - val_loss: 0.3709 - val_accuracy: 0.8750\n",
      "Epoch 153/10000\n",
      "7/7 [==============================] - 0s 3ms/step - loss: 0.3810 - accuracy: 0.8626 - val_loss: 0.3696 - val_accuracy: 0.8750\n",
      "Epoch 154/10000\n",
      "7/7 [==============================] - 0s 3ms/step - loss: 0.3790 - accuracy: 0.8626 - val_loss: 0.3680 - val_accuracy: 0.8750\n",
      "Epoch 155/10000\n",
      "7/7 [==============================] - 0s 3ms/step - loss: 0.3775 - accuracy: 0.8673 - val_loss: 0.3665 - val_accuracy: 0.8750\n",
      "Epoch 156/10000\n",
      "7/7 [==============================] - 0s 3ms/step - loss: 0.3758 - accuracy: 0.8626 - val_loss: 0.3648 - val_accuracy: 0.8800\n",
      "Epoch 157/10000\n",
      "7/7 [==============================] - 0s 3ms/step - loss: 0.3744 - accuracy: 0.8626 - val_loss: 0.3632 - val_accuracy: 0.8800\n",
      "Epoch 158/10000\n",
      "7/7 [==============================] - 0s 3ms/step - loss: 0.3728 - accuracy: 0.8626 - val_loss: 0.3617 - val_accuracy: 0.8800\n",
      "Epoch 159/10000\n",
      "7/7 [==============================] - 0s 3ms/step - loss: 0.3709 - accuracy: 0.8626 - val_loss: 0.3604 - val_accuracy: 0.8800\n",
      "Epoch 160/10000\n",
      "7/7 [==============================] - 0s 3ms/step - loss: 0.3700 - accuracy: 0.8626 - val_loss: 0.3591 - val_accuracy: 0.8800\n",
      "Epoch 161/10000\n",
      "7/7 [==============================] - 0s 3ms/step - loss: 0.3679 - accuracy: 0.8673 - val_loss: 0.3576 - val_accuracy: 0.8800\n",
      "Epoch 162/10000\n",
      "7/7 [==============================] - 0s 4ms/step - loss: 0.3664 - accuracy: 0.8673 - val_loss: 0.3561 - val_accuracy: 0.8800\n",
      "Epoch 163/10000\n",
      "7/7 [==============================] - 0s 3ms/step - loss: 0.3649 - accuracy: 0.8673 - val_loss: 0.3547 - val_accuracy: 0.8900\n",
      "Epoch 164/10000\n",
      "7/7 [==============================] - 0s 3ms/step - loss: 0.3632 - accuracy: 0.8720 - val_loss: 0.3534 - val_accuracy: 0.8900\n",
      "Epoch 165/10000\n",
      "7/7 [==============================] - 0s 3ms/step - loss: 0.3617 - accuracy: 0.8626 - val_loss: 0.3519 - val_accuracy: 0.8900\n",
      "Epoch 166/10000\n",
      "7/7 [==============================] - 0s 3ms/step - loss: 0.3606 - accuracy: 0.8720 - val_loss: 0.3506 - val_accuracy: 0.8900\n",
      "Epoch 167/10000\n",
      "7/7 [==============================] - 0s 3ms/step - loss: 0.3587 - accuracy: 0.8720 - val_loss: 0.3493 - val_accuracy: 0.8900\n",
      "Epoch 168/10000\n",
      "7/7 [==============================] - 0s 3ms/step - loss: 0.3573 - accuracy: 0.8768 - val_loss: 0.3479 - val_accuracy: 0.8950\n",
      "Epoch 169/10000\n",
      "7/7 [==============================] - 0s 3ms/step - loss: 0.3560 - accuracy: 0.8673 - val_loss: 0.3468 - val_accuracy: 0.8950\n",
      "Epoch 170/10000\n",
      "7/7 [==============================] - 0s 3ms/step - loss: 0.3546 - accuracy: 0.8720 - val_loss: 0.3458 - val_accuracy: 0.8950\n",
      "Epoch 171/10000\n",
      "7/7 [==============================] - 0s 3ms/step - loss: 0.3533 - accuracy: 0.8673 - val_loss: 0.3443 - val_accuracy: 0.8950\n",
      "Epoch 172/10000\n",
      "7/7 [==============================] - 0s 3ms/step - loss: 0.3519 - accuracy: 0.8720 - val_loss: 0.3432 - val_accuracy: 0.8950\n",
      "Epoch 173/10000\n"
     ]
    },
    {
     "name": "stdout",
     "output_type": "stream",
     "text": [
      "7/7 [==============================] - 0s 3ms/step - loss: 0.3505 - accuracy: 0.8720 - val_loss: 0.3421 - val_accuracy: 0.8950\n",
      "Epoch 174/10000\n",
      "7/7 [==============================] - 0s 3ms/step - loss: 0.3491 - accuracy: 0.8720 - val_loss: 0.3408 - val_accuracy: 0.9000\n",
      "Epoch 175/10000\n",
      "7/7 [==============================] - 0s 3ms/step - loss: 0.3480 - accuracy: 0.8720 - val_loss: 0.3395 - val_accuracy: 0.9000\n",
      "Epoch 176/10000\n",
      "7/7 [==============================] - 0s 3ms/step - loss: 0.3465 - accuracy: 0.8720 - val_loss: 0.3384 - val_accuracy: 0.9000\n",
      "Epoch 177/10000\n",
      "7/7 [==============================] - 0s 3ms/step - loss: 0.3452 - accuracy: 0.8768 - val_loss: 0.3372 - val_accuracy: 0.9000\n",
      "Epoch 178/10000\n",
      "7/7 [==============================] - 0s 3ms/step - loss: 0.3441 - accuracy: 0.8720 - val_loss: 0.3362 - val_accuracy: 0.9000\n",
      "Epoch 179/10000\n",
      "7/7 [==============================] - 0s 4ms/step - loss: 0.3426 - accuracy: 0.8673 - val_loss: 0.3352 - val_accuracy: 0.9000\n",
      "Epoch 180/10000\n",
      "7/7 [==============================] - 0s 3ms/step - loss: 0.3413 - accuracy: 0.8720 - val_loss: 0.3339 - val_accuracy: 0.9000\n",
      "Epoch 181/10000\n",
      "7/7 [==============================] - 0s 3ms/step - loss: 0.3402 - accuracy: 0.8720 - val_loss: 0.3326 - val_accuracy: 0.9000\n",
      "Epoch 182/10000\n",
      "7/7 [==============================] - 0s 3ms/step - loss: 0.3391 - accuracy: 0.8720 - val_loss: 0.3314 - val_accuracy: 0.9000\n",
      "Epoch 183/10000\n",
      "7/7 [==============================] - 0s 3ms/step - loss: 0.3374 - accuracy: 0.8720 - val_loss: 0.3304 - val_accuracy: 0.9000\n",
      "Epoch 184/10000\n",
      "7/7 [==============================] - 0s 3ms/step - loss: 0.3363 - accuracy: 0.8720 - val_loss: 0.3293 - val_accuracy: 0.9000\n",
      "Epoch 185/10000\n",
      "7/7 [==============================] - 0s 3ms/step - loss: 0.3349 - accuracy: 0.8720 - val_loss: 0.3283 - val_accuracy: 0.9000\n",
      "Epoch 186/10000\n",
      "7/7 [==============================] - 0s 3ms/step - loss: 0.3338 - accuracy: 0.8720 - val_loss: 0.3272 - val_accuracy: 0.9000\n",
      "Epoch 187/10000\n",
      "7/7 [==============================] - 0s 3ms/step - loss: 0.3326 - accuracy: 0.8720 - val_loss: 0.3261 - val_accuracy: 0.9000\n",
      "Epoch 188/10000\n",
      "7/7 [==============================] - 0s 3ms/step - loss: 0.3316 - accuracy: 0.8720 - val_loss: 0.3252 - val_accuracy: 0.9000\n",
      "Epoch 189/10000\n",
      "7/7 [==============================] - 0s 3ms/step - loss: 0.3305 - accuracy: 0.8720 - val_loss: 0.3242 - val_accuracy: 0.9000\n",
      "Epoch 190/10000\n",
      "7/7 [==============================] - 0s 3ms/step - loss: 0.3295 - accuracy: 0.8720 - val_loss: 0.3232 - val_accuracy: 0.9000\n",
      "Epoch 191/10000\n",
      "7/7 [==============================] - 0s 3ms/step - loss: 0.3281 - accuracy: 0.8720 - val_loss: 0.3223 - val_accuracy: 0.9050\n",
      "Epoch 192/10000\n",
      "7/7 [==============================] - 0s 3ms/step - loss: 0.3270 - accuracy: 0.8768 - val_loss: 0.3214 - val_accuracy: 0.9050\n",
      "Epoch 193/10000\n",
      "7/7 [==============================] - 0s 3ms/step - loss: 0.3259 - accuracy: 0.8720 - val_loss: 0.3204 - val_accuracy: 0.9100\n",
      "Epoch 194/10000\n",
      "7/7 [==============================] - 0s 3ms/step - loss: 0.3249 - accuracy: 0.8768 - val_loss: 0.3196 - val_accuracy: 0.9100\n",
      "Epoch 195/10000\n",
      "7/7 [==============================] - 0s 3ms/step - loss: 0.3240 - accuracy: 0.8768 - val_loss: 0.3187 - val_accuracy: 0.9100\n",
      "Epoch 196/10000\n",
      "7/7 [==============================] - 0s 3ms/step - loss: 0.3229 - accuracy: 0.8768 - val_loss: 0.3178 - val_accuracy: 0.9100\n",
      "Epoch 197/10000\n",
      "7/7 [==============================] - 0s 3ms/step - loss: 0.3217 - accuracy: 0.8768 - val_loss: 0.3168 - val_accuracy: 0.9100\n",
      "Epoch 198/10000\n",
      "7/7 [==============================] - 0s 3ms/step - loss: 0.3204 - accuracy: 0.8720 - val_loss: 0.3158 - val_accuracy: 0.9100\n",
      "Epoch 199/10000\n",
      "7/7 [==============================] - 0s 3ms/step - loss: 0.3196 - accuracy: 0.8768 - val_loss: 0.3149 - val_accuracy: 0.9150\n",
      "Epoch 200/10000\n",
      "7/7 [==============================] - 0s 3ms/step - loss: 0.3183 - accuracy: 0.8768 - val_loss: 0.3140 - val_accuracy: 0.9150\n",
      "Epoch 201/10000\n",
      "7/7 [==============================] - 0s 3ms/step - loss: 0.3178 - accuracy: 0.8768 - val_loss: 0.3131 - val_accuracy: 0.9150\n",
      "Epoch 202/10000\n",
      "7/7 [==============================] - 0s 3ms/step - loss: 0.3166 - accuracy: 0.8768 - val_loss: 0.3123 - val_accuracy: 0.9150\n",
      "Epoch 203/10000\n",
      "7/7 [==============================] - 0s 3ms/step - loss: 0.3153 - accuracy: 0.8768 - val_loss: 0.3114 - val_accuracy: 0.9150\n",
      "Epoch 204/10000\n",
      "7/7 [==============================] - 0s 3ms/step - loss: 0.3144 - accuracy: 0.8768 - val_loss: 0.3106 - val_accuracy: 0.9150\n",
      "Epoch 205/10000\n",
      "7/7 [==============================] - 0s 3ms/step - loss: 0.3135 - accuracy: 0.8768 - val_loss: 0.3097 - val_accuracy: 0.9150\n",
      "Epoch 206/10000\n",
      "7/7 [==============================] - 0s 3ms/step - loss: 0.3125 - accuracy: 0.8768 - val_loss: 0.3089 - val_accuracy: 0.9150\n",
      "Epoch 207/10000\n",
      "7/7 [==============================] - 0s 3ms/step - loss: 0.3115 - accuracy: 0.8768 - val_loss: 0.3081 - val_accuracy: 0.9150\n",
      "Epoch 208/10000\n",
      "7/7 [==============================] - 0s 3ms/step - loss: 0.3108 - accuracy: 0.8768 - val_loss: 0.3072 - val_accuracy: 0.9150\n",
      "Epoch 209/10000\n",
      "7/7 [==============================] - 0s 3ms/step - loss: 0.3098 - accuracy: 0.8768 - val_loss: 0.3064 - val_accuracy: 0.9150\n",
      "Epoch 210/10000\n",
      "7/7 [==============================] - 0s 3ms/step - loss: 0.3086 - accuracy: 0.8768 - val_loss: 0.3056 - val_accuracy: 0.9150\n",
      "Epoch 211/10000\n",
      "7/7 [==============================] - 0s 3ms/step - loss: 0.3083 - accuracy: 0.8768 - val_loss: 0.3049 - val_accuracy: 0.9150\n",
      "Epoch 212/10000\n",
      "7/7 [==============================] - 0s 3ms/step - loss: 0.3074 - accuracy: 0.8768 - val_loss: 0.3041 - val_accuracy: 0.9200\n",
      "Epoch 213/10000\n",
      "7/7 [==============================] - 0s 3ms/step - loss: 0.3061 - accuracy: 0.8768 - val_loss: 0.3034 - val_accuracy: 0.9150\n",
      "Epoch 214/10000\n",
      "7/7 [==============================] - 0s 3ms/step - loss: 0.3051 - accuracy: 0.8768 - val_loss: 0.3027 - val_accuracy: 0.9150\n",
      "Epoch 215/10000\n",
      "7/7 [==============================] - 0s 3ms/step - loss: 0.3047 - accuracy: 0.8768 - val_loss: 0.3020 - val_accuracy: 0.9150\n",
      "Epoch 216/10000\n",
      "7/7 [==============================] - 0s 3ms/step - loss: 0.3038 - accuracy: 0.8768 - val_loss: 0.3012 - val_accuracy: 0.9200\n",
      "Epoch 217/10000\n",
      "7/7 [==============================] - 0s 3ms/step - loss: 0.3034 - accuracy: 0.8768 - val_loss: 0.3006 - val_accuracy: 0.9150\n",
      "Epoch 218/10000\n",
      "7/7 [==============================] - 0s 3ms/step - loss: 0.3019 - accuracy: 0.8768 - val_loss: 0.2999 - val_accuracy: 0.9150\n",
      "Epoch 219/10000\n",
      "7/7 [==============================] - 0s 3ms/step - loss: 0.3011 - accuracy: 0.8768 - val_loss: 0.2992 - val_accuracy: 0.9150\n",
      "Epoch 220/10000\n",
      "7/7 [==============================] - 0s 3ms/step - loss: 0.3002 - accuracy: 0.8768 - val_loss: 0.2984 - val_accuracy: 0.9150\n",
      "Epoch 221/10000\n",
      "7/7 [==============================] - 0s 3ms/step - loss: 0.2996 - accuracy: 0.8768 - val_loss: 0.2977 - val_accuracy: 0.9250\n",
      "Epoch 222/10000\n",
      "7/7 [==============================] - 0s 3ms/step - loss: 0.2984 - accuracy: 0.8768 - val_loss: 0.2970 - val_accuracy: 0.9250\n",
      "Epoch 223/10000\n",
      "7/7 [==============================] - 0s 3ms/step - loss: 0.2979 - accuracy: 0.8957 - val_loss: 0.2963 - val_accuracy: 0.9250\n",
      "Epoch 224/10000\n",
      "7/7 [==============================] - 0s 3ms/step - loss: 0.2973 - accuracy: 0.8768 - val_loss: 0.2956 - val_accuracy: 0.9300\n",
      "Epoch 225/10000\n",
      "7/7 [==============================] - 0s 3ms/step - loss: 0.2962 - accuracy: 0.8815 - val_loss: 0.2949 - val_accuracy: 0.9250\n",
      "Epoch 226/10000\n",
      "7/7 [==============================] - 0s 3ms/step - loss: 0.2957 - accuracy: 0.8957 - val_loss: 0.2943 - val_accuracy: 0.9250\n",
      "Epoch 227/10000\n",
      "7/7 [==============================] - 0s 3ms/step - loss: 0.2948 - accuracy: 0.8957 - val_loss: 0.2937 - val_accuracy: 0.9250\n",
      "Epoch 228/10000\n",
      "7/7 [==============================] - 0s 3ms/step - loss: 0.2939 - accuracy: 0.8957 - val_loss: 0.2931 - val_accuracy: 0.9250\n",
      "Epoch 229/10000\n",
      "7/7 [==============================] - 0s 3ms/step - loss: 0.2935 - accuracy: 0.9005 - val_loss: 0.2925 - val_accuracy: 0.9250\n",
      "Epoch 230/10000\n",
      "7/7 [==============================] - 0s 4ms/step - loss: 0.2927 - accuracy: 0.8957 - val_loss: 0.2920 - val_accuracy: 0.9300\n",
      "Epoch 231/10000\n",
      "7/7 [==============================] - 0s 3ms/step - loss: 0.2917 - accuracy: 0.8910 - val_loss: 0.2913 - val_accuracy: 0.9300\n",
      "Epoch 232/10000\n",
      "7/7 [==============================] - 0s 3ms/step - loss: 0.2910 - accuracy: 0.8957 - val_loss: 0.2907 - val_accuracy: 0.9300\n",
      "Epoch 233/10000\n",
      "7/7 [==============================] - 0s 3ms/step - loss: 0.2902 - accuracy: 0.8957 - val_loss: 0.2901 - val_accuracy: 0.9300\n",
      "Epoch 234/10000\n",
      "7/7 [==============================] - 0s 3ms/step - loss: 0.2901 - accuracy: 0.8957 - val_loss: 0.2895 - val_accuracy: 0.9300\n",
      "Epoch 235/10000\n",
      "7/7 [==============================] - 0s 3ms/step - loss: 0.2888 - accuracy: 0.8957 - val_loss: 0.2890 - val_accuracy: 0.9300\n",
      "Epoch 236/10000\n",
      "7/7 [==============================] - 0s 3ms/step - loss: 0.2882 - accuracy: 0.8957 - val_loss: 0.2884 - val_accuracy: 0.9300\n",
      "Epoch 237/10000\n",
      "7/7 [==============================] - 0s 3ms/step - loss: 0.2875 - accuracy: 0.8957 - val_loss: 0.2879 - val_accuracy: 0.9300\n",
      "Epoch 238/10000\n",
      "7/7 [==============================] - 0s 4ms/step - loss: 0.2868 - accuracy: 0.8957 - val_loss: 0.2874 - val_accuracy: 0.9300\n",
      "Epoch 239/10000\n",
      "7/7 [==============================] - 0s 3ms/step - loss: 0.2863 - accuracy: 0.8957 - val_loss: 0.2869 - val_accuracy: 0.9300\n",
      "Epoch 240/10000\n",
      "7/7 [==============================] - 0s 3ms/step - loss: 0.2857 - accuracy: 0.8957 - val_loss: 0.2864 - val_accuracy: 0.9300\n",
      "Epoch 241/10000\n",
      "7/7 [==============================] - 0s 3ms/step - loss: 0.2848 - accuracy: 0.9005 - val_loss: 0.2858 - val_accuracy: 0.9250\n",
      "Epoch 242/10000\n",
      "7/7 [==============================] - 0s 3ms/step - loss: 0.2847 - accuracy: 0.8957 - val_loss: 0.2853 - val_accuracy: 0.9250\n",
      "Epoch 243/10000\n",
      "7/7 [==============================] - 0s 3ms/step - loss: 0.2834 - accuracy: 0.9005 - val_loss: 0.2848 - val_accuracy: 0.9250\n",
      "Epoch 244/10000\n",
      "7/7 [==============================] - 0s 3ms/step - loss: 0.2831 - accuracy: 0.8957 - val_loss: 0.2842 - val_accuracy: 0.9200\n",
      "Epoch 245/10000\n",
      "7/7 [==============================] - 0s 3ms/step - loss: 0.2823 - accuracy: 0.9005 - val_loss: 0.2837 - val_accuracy: 0.9200\n",
      "Epoch 246/10000\n",
      "7/7 [==============================] - 0s 3ms/step - loss: 0.2819 - accuracy: 0.9005 - val_loss: 0.2833 - val_accuracy: 0.9200\n",
      "Epoch 247/10000\n",
      "7/7 [==============================] - 0s 3ms/step - loss: 0.2810 - accuracy: 0.8957 - val_loss: 0.2828 - val_accuracy: 0.9200\n",
      "Epoch 248/10000\n",
      "7/7 [==============================] - 0s 3ms/step - loss: 0.2805 - accuracy: 0.8957 - val_loss: 0.2824 - val_accuracy: 0.9200\n",
      "Epoch 249/10000\n",
      "7/7 [==============================] - 0s 3ms/step - loss: 0.2799 - accuracy: 0.9005 - val_loss: 0.2820 - val_accuracy: 0.9200\n",
      "Epoch 250/10000\n",
      "7/7 [==============================] - 0s 3ms/step - loss: 0.2796 - accuracy: 0.8957 - val_loss: 0.2816 - val_accuracy: 0.9200\n",
      "Epoch 251/10000\n",
      "7/7 [==============================] - 0s 3ms/step - loss: 0.2791 - accuracy: 0.9005 - val_loss: 0.2811 - val_accuracy: 0.9200\n",
      "Epoch 252/10000\n",
      "7/7 [==============================] - 0s 3ms/step - loss: 0.2783 - accuracy: 0.9005 - val_loss: 0.2807 - val_accuracy: 0.9250\n",
      "Epoch 253/10000\n",
      "7/7 [==============================] - 0s 3ms/step - loss: 0.2777 - accuracy: 0.9052 - val_loss: 0.2803 - val_accuracy: 0.9200\n",
      "Epoch 254/10000\n",
      "7/7 [==============================] - 0s 3ms/step - loss: 0.2772 - accuracy: 0.9052 - val_loss: 0.2799 - val_accuracy: 0.9200\n",
      "Epoch 255/10000\n",
      "7/7 [==============================] - 0s 3ms/step - loss: 0.2766 - accuracy: 0.9005 - val_loss: 0.2795 - val_accuracy: 0.9250\n",
      "Epoch 256/10000\n",
      "7/7 [==============================] - 0s 3ms/step - loss: 0.2760 - accuracy: 0.9052 - val_loss: 0.2791 - val_accuracy: 0.9250\n",
      "Epoch 257/10000\n",
      "7/7 [==============================] - 0s 3ms/step - loss: 0.2759 - accuracy: 0.9052 - val_loss: 0.2787 - val_accuracy: 0.9250\n",
      "Epoch 258/10000\n",
      "7/7 [==============================] - 0s 3ms/step - loss: 0.2753 - accuracy: 0.9005 - val_loss: 0.2783 - val_accuracy: 0.9150\n",
      "Epoch 259/10000\n",
      "7/7 [==============================] - 0s 3ms/step - loss: 0.2743 - accuracy: 0.9052 - val_loss: 0.2779 - val_accuracy: 0.9150\n",
      "Epoch 260/10000\n",
      "7/7 [==============================] - 0s 3ms/step - loss: 0.2740 - accuracy: 0.9052 - val_loss: 0.2775 - val_accuracy: 0.9200\n",
      "Epoch 261/10000\n",
      "7/7 [==============================] - 0s 3ms/step - loss: 0.2734 - accuracy: 0.9052 - val_loss: 0.2772 - val_accuracy: 0.9150\n",
      "Epoch 262/10000\n",
      "7/7 [==============================] - 0s 3ms/step - loss: 0.2732 - accuracy: 0.9052 - val_loss: 0.2768 - val_accuracy: 0.9150\n",
      "Epoch 263/10000\n",
      "7/7 [==============================] - 0s 3ms/step - loss: 0.2726 - accuracy: 0.9052 - val_loss: 0.2765 - val_accuracy: 0.9150\n",
      "Epoch 264/10000\n",
      "7/7 [==============================] - 0s 3ms/step - loss: 0.2726 - accuracy: 0.9052 - val_loss: 0.2761 - val_accuracy: 0.9200\n",
      "Epoch 265/10000\n",
      "7/7 [==============================] - 0s 3ms/step - loss: 0.2717 - accuracy: 0.9052 - val_loss: 0.2758 - val_accuracy: 0.9200\n",
      "Epoch 266/10000\n",
      "7/7 [==============================] - 0s 3ms/step - loss: 0.2714 - accuracy: 0.9052 - val_loss: 0.2754 - val_accuracy: 0.9200\n",
      "Epoch 267/10000\n",
      "7/7 [==============================] - 0s 3ms/step - loss: 0.2712 - accuracy: 0.9052 - val_loss: 0.2751 - val_accuracy: 0.9200\n",
      "Epoch 268/10000\n",
      "7/7 [==============================] - 0s 3ms/step - loss: 0.2711 - accuracy: 0.9052 - val_loss: 0.2748 - val_accuracy: 0.9200\n",
      "Epoch 269/10000\n",
      "7/7 [==============================] - 0s 3ms/step - loss: 0.2698 - accuracy: 0.9052 - val_loss: 0.2745 - val_accuracy: 0.9250\n",
      "Epoch 270/10000\n",
      "7/7 [==============================] - 0s 3ms/step - loss: 0.2696 - accuracy: 0.9052 - val_loss: 0.2741 - val_accuracy: 0.9250\n",
      "Epoch 271/10000\n",
      "7/7 [==============================] - 0s 3ms/step - loss: 0.2694 - accuracy: 0.9052 - val_loss: 0.2738 - val_accuracy: 0.9250\n",
      "Epoch 272/10000\n",
      "7/7 [==============================] - 0s 3ms/step - loss: 0.2686 - accuracy: 0.9100 - val_loss: 0.2735 - val_accuracy: 0.9200\n",
      "Epoch 273/10000\n",
      "7/7 [==============================] - 0s 3ms/step - loss: 0.2681 - accuracy: 0.9052 - val_loss: 0.2732 - val_accuracy: 0.9200\n",
      "Epoch 274/10000\n",
      "7/7 [==============================] - 0s 3ms/step - loss: 0.2675 - accuracy: 0.9100 - val_loss: 0.2729 - val_accuracy: 0.9200\n",
      "Epoch 275/10000\n",
      "7/7 [==============================] - 0s 3ms/step - loss: 0.2678 - accuracy: 0.9100 - val_loss: 0.2728 - val_accuracy: 0.9200\n",
      "Epoch 276/10000\n",
      "7/7 [==============================] - 0s 3ms/step - loss: 0.2669 - accuracy: 0.9147 - val_loss: 0.2725 - val_accuracy: 0.9200\n",
      "Epoch 277/10000\n",
      "7/7 [==============================] - 0s 3ms/step - loss: 0.2668 - accuracy: 0.9147 - val_loss: 0.2722 - val_accuracy: 0.9200\n",
      "Epoch 278/10000\n",
      "7/7 [==============================] - 0s 3ms/step - loss: 0.2665 - accuracy: 0.9100 - val_loss: 0.2720 - val_accuracy: 0.9200\n",
      "Epoch 279/10000\n",
      "7/7 [==============================] - 0s 3ms/step - loss: 0.2658 - accuracy: 0.9194 - val_loss: 0.2716 - val_accuracy: 0.9200\n",
      "Epoch 280/10000\n",
      "7/7 [==============================] - 0s 3ms/step - loss: 0.2651 - accuracy: 0.9147 - val_loss: 0.2714 - val_accuracy: 0.9200\n",
      "Epoch 281/10000\n",
      "7/7 [==============================] - 0s 3ms/step - loss: 0.2650 - accuracy: 0.9100 - val_loss: 0.2710 - val_accuracy: 0.9200\n",
      "Epoch 282/10000\n",
      "7/7 [==============================] - 0s 3ms/step - loss: 0.2649 - accuracy: 0.9100 - val_loss: 0.2708 - val_accuracy: 0.9200\n",
      "Epoch 283/10000\n",
      "7/7 [==============================] - 0s 3ms/step - loss: 0.2641 - accuracy: 0.9147 - val_loss: 0.2706 - val_accuracy: 0.9200\n",
      "Epoch 284/10000\n",
      "7/7 [==============================] - 0s 3ms/step - loss: 0.2636 - accuracy: 0.9194 - val_loss: 0.2704 - val_accuracy: 0.9200\n",
      "Epoch 285/10000\n",
      "7/7 [==============================] - 0s 3ms/step - loss: 0.2634 - accuracy: 0.9194 - val_loss: 0.2701 - val_accuracy: 0.9200\n",
      "Epoch 286/10000\n",
      "7/7 [==============================] - 0s 3ms/step - loss: 0.2637 - accuracy: 0.9194 - val_loss: 0.2698 - val_accuracy: 0.9200\n",
      "Epoch 287/10000\n"
     ]
    },
    {
     "name": "stdout",
     "output_type": "stream",
     "text": [
      "7/7 [==============================] - 0s 3ms/step - loss: 0.2625 - accuracy: 0.9194 - val_loss: 0.2695 - val_accuracy: 0.9200\n",
      "Epoch 288/10000\n",
      "7/7 [==============================] - 0s 3ms/step - loss: 0.2622 - accuracy: 0.9194 - val_loss: 0.2693 - val_accuracy: 0.9200\n",
      "Epoch 289/10000\n",
      "7/7 [==============================] - 0s 3ms/step - loss: 0.2617 - accuracy: 0.9194 - val_loss: 0.2690 - val_accuracy: 0.9200\n",
      "Epoch 290/10000\n",
      "7/7 [==============================] - 0s 3ms/step - loss: 0.2613 - accuracy: 0.9194 - val_loss: 0.2688 - val_accuracy: 0.9200\n",
      "Epoch 291/10000\n",
      "7/7 [==============================] - 0s 3ms/step - loss: 0.2611 - accuracy: 0.9194 - val_loss: 0.2686 - val_accuracy: 0.9200\n",
      "Epoch 292/10000\n",
      "7/7 [==============================] - 0s 3ms/step - loss: 0.2614 - accuracy: 0.9194 - val_loss: 0.2684 - val_accuracy: 0.9200\n",
      "Epoch 293/10000\n",
      "7/7 [==============================] - 0s 3ms/step - loss: 0.2603 - accuracy: 0.9194 - val_loss: 0.2682 - val_accuracy: 0.9200\n",
      "Epoch 294/10000\n",
      "7/7 [==============================] - 0s 3ms/step - loss: 0.2601 - accuracy: 0.9194 - val_loss: 0.2681 - val_accuracy: 0.9200\n",
      "Epoch 295/10000\n",
      "7/7 [==============================] - 0s 3ms/step - loss: 0.2596 - accuracy: 0.9194 - val_loss: 0.2679 - val_accuracy: 0.9200\n",
      "Epoch 296/10000\n",
      "7/7 [==============================] - 0s 3ms/step - loss: 0.2596 - accuracy: 0.9194 - val_loss: 0.2676 - val_accuracy: 0.9200\n",
      "Epoch 297/10000\n",
      "7/7 [==============================] - 0s 3ms/step - loss: 0.2590 - accuracy: 0.9194 - val_loss: 0.2673 - val_accuracy: 0.9200\n",
      "Epoch 298/10000\n",
      "7/7 [==============================] - 0s 3ms/step - loss: 0.2589 - accuracy: 0.9194 - val_loss: 0.2671 - val_accuracy: 0.9200\n",
      "Epoch 299/10000\n",
      "7/7 [==============================] - 0s 3ms/step - loss: 0.2587 - accuracy: 0.9194 - val_loss: 0.2669 - val_accuracy: 0.9200\n",
      "Epoch 300/10000\n",
      "7/7 [==============================] - 0s 3ms/step - loss: 0.2583 - accuracy: 0.9194 - val_loss: 0.2667 - val_accuracy: 0.9200\n",
      "Epoch 301/10000\n",
      "7/7 [==============================] - 0s 3ms/step - loss: 0.2578 - accuracy: 0.9194 - val_loss: 0.2666 - val_accuracy: 0.9200\n",
      "Epoch 302/10000\n",
      "7/7 [==============================] - 0s 3ms/step - loss: 0.2581 - accuracy: 0.9194 - val_loss: 0.2665 - val_accuracy: 0.9200\n",
      "Epoch 303/10000\n",
      "7/7 [==============================] - 0s 3ms/step - loss: 0.2576 - accuracy: 0.9194 - val_loss: 0.2663 - val_accuracy: 0.9250\n",
      "Epoch 304/10000\n",
      "7/7 [==============================] - 0s 3ms/step - loss: 0.2571 - accuracy: 0.9194 - val_loss: 0.2662 - val_accuracy: 0.9200\n",
      "Epoch 305/10000\n",
      "7/7 [==============================] - 0s 3ms/step - loss: 0.2568 - accuracy: 0.9194 - val_loss: 0.2660 - val_accuracy: 0.9200\n",
      "Epoch 306/10000\n",
      "7/7 [==============================] - 0s 3ms/step - loss: 0.2564 - accuracy: 0.9194 - val_loss: 0.2659 - val_accuracy: 0.9200\n",
      "Epoch 307/10000\n",
      "7/7 [==============================] - 0s 3ms/step - loss: 0.2561 - accuracy: 0.9194 - val_loss: 0.2657 - val_accuracy: 0.9250\n",
      "Epoch 308/10000\n",
      "7/7 [==============================] - 0s 3ms/step - loss: 0.2563 - accuracy: 0.9194 - val_loss: 0.2656 - val_accuracy: 0.9200\n",
      "Epoch 309/10000\n",
      "7/7 [==============================] - 0s 3ms/step - loss: 0.2561 - accuracy: 0.9194 - val_loss: 0.2656 - val_accuracy: 0.9200\n",
      "Epoch 310/10000\n",
      "7/7 [==============================] - 0s 3ms/step - loss: 0.2556 - accuracy: 0.9194 - val_loss: 0.2653 - val_accuracy: 0.9200\n",
      "Epoch 311/10000\n",
      "7/7 [==============================] - 0s 3ms/step - loss: 0.2553 - accuracy: 0.9194 - val_loss: 0.2653 - val_accuracy: 0.9200\n",
      "Epoch 312/10000\n",
      "7/7 [==============================] - 0s 3ms/step - loss: 0.2550 - accuracy: 0.9194 - val_loss: 0.2652 - val_accuracy: 0.9150\n",
      "Epoch 313/10000\n",
      "7/7 [==============================] - 0s 3ms/step - loss: 0.2547 - accuracy: 0.9194 - val_loss: 0.2649 - val_accuracy: 0.9200\n",
      "Epoch 314/10000\n",
      "7/7 [==============================] - 0s 3ms/step - loss: 0.2546 - accuracy: 0.9194 - val_loss: 0.2648 - val_accuracy: 0.9150\n",
      "Epoch 315/10000\n",
      "7/7 [==============================] - 0s 3ms/step - loss: 0.2541 - accuracy: 0.9194 - val_loss: 0.2646 - val_accuracy: 0.9250\n",
      "Epoch 316/10000\n",
      "7/7 [==============================] - 0s 3ms/step - loss: 0.2545 - accuracy: 0.9194 - val_loss: 0.2645 - val_accuracy: 0.9200\n",
      "Epoch 317/10000\n",
      "7/7 [==============================] - 0s 3ms/step - loss: 0.2539 - accuracy: 0.9194 - val_loss: 0.2643 - val_accuracy: 0.9200\n",
      "Epoch 318/10000\n",
      "7/7 [==============================] - 0s 3ms/step - loss: 0.2535 - accuracy: 0.9194 - val_loss: 0.2641 - val_accuracy: 0.9200\n",
      "Epoch 319/10000\n",
      "7/7 [==============================] - 0s 3ms/step - loss: 0.2537 - accuracy: 0.9147 - val_loss: 0.2640 - val_accuracy: 0.9200\n",
      "Epoch 320/10000\n",
      "7/7 [==============================] - 0s 3ms/step - loss: 0.2530 - accuracy: 0.9194 - val_loss: 0.2640 - val_accuracy: 0.9200\n",
      "Epoch 321/10000\n",
      "7/7 [==============================] - 0s 3ms/step - loss: 0.2525 - accuracy: 0.9194 - val_loss: 0.2638 - val_accuracy: 0.9200\n",
      "Epoch 322/10000\n",
      "7/7 [==============================] - 0s 3ms/step - loss: 0.2526 - accuracy: 0.9194 - val_loss: 0.2637 - val_accuracy: 0.9200\n",
      "Epoch 323/10000\n",
      "7/7 [==============================] - 0s 3ms/step - loss: 0.2525 - accuracy: 0.9194 - val_loss: 0.2637 - val_accuracy: 0.9200\n",
      "Epoch 324/10000\n",
      "7/7 [==============================] - 0s 3ms/step - loss: 0.2519 - accuracy: 0.9194 - val_loss: 0.2636 - val_accuracy: 0.9200\n",
      "Epoch 325/10000\n",
      "7/7 [==============================] - 0s 3ms/step - loss: 0.2518 - accuracy: 0.9194 - val_loss: 0.2635 - val_accuracy: 0.9200\n",
      "Epoch 326/10000\n",
      "7/7 [==============================] - 0s 3ms/step - loss: 0.2517 - accuracy: 0.9194 - val_loss: 0.2633 - val_accuracy: 0.9200\n",
      "Epoch 327/10000\n",
      "7/7 [==============================] - 0s 3ms/step - loss: 0.2514 - accuracy: 0.9194 - val_loss: 0.2632 - val_accuracy: 0.9200\n",
      "Epoch 328/10000\n",
      "7/7 [==============================] - 0s 3ms/step - loss: 0.2511 - accuracy: 0.9194 - val_loss: 0.2630 - val_accuracy: 0.9200\n",
      "Epoch 329/10000\n",
      "7/7 [==============================] - 0s 3ms/step - loss: 0.2508 - accuracy: 0.9194 - val_loss: 0.2630 - val_accuracy: 0.9200\n",
      "Epoch 330/10000\n",
      "7/7 [==============================] - 0s 3ms/step - loss: 0.2505 - accuracy: 0.9194 - val_loss: 0.2629 - val_accuracy: 0.9200\n",
      "Epoch 331/10000\n",
      "7/7 [==============================] - 0s 3ms/step - loss: 0.2504 - accuracy: 0.9194 - val_loss: 0.2628 - val_accuracy: 0.9200\n",
      "Epoch 332/10000\n",
      "7/7 [==============================] - 0s 3ms/step - loss: 0.2510 - accuracy: 0.9194 - val_loss: 0.2627 - val_accuracy: 0.9200\n",
      "Epoch 333/10000\n",
      "7/7 [==============================] - 0s 3ms/step - loss: 0.2500 - accuracy: 0.9194 - val_loss: 0.2626 - val_accuracy: 0.9250\n",
      "Epoch 334/10000\n",
      "7/7 [==============================] - 0s 3ms/step - loss: 0.2497 - accuracy: 0.9194 - val_loss: 0.2626 - val_accuracy: 0.9200\n",
      "Epoch 335/10000\n",
      "7/7 [==============================] - 0s 3ms/step - loss: 0.2499 - accuracy: 0.9194 - val_loss: 0.2624 - val_accuracy: 0.9250\n",
      "Epoch 336/10000\n",
      "7/7 [==============================] - 0s 3ms/step - loss: 0.2502 - accuracy: 0.9194 - val_loss: 0.2623 - val_accuracy: 0.9250\n",
      "Epoch 337/10000\n",
      "7/7 [==============================] - 0s 3ms/step - loss: 0.2492 - accuracy: 0.9194 - val_loss: 0.2622 - val_accuracy: 0.9250\n",
      "Epoch 338/10000\n",
      "7/7 [==============================] - 0s 3ms/step - loss: 0.2495 - accuracy: 0.9242 - val_loss: 0.2624 - val_accuracy: 0.9200\n",
      "Epoch 339/10000\n",
      "7/7 [==============================] - 0s 3ms/step - loss: 0.2496 - accuracy: 0.9194 - val_loss: 0.2622 - val_accuracy: 0.9250\n",
      "Epoch 340/10000\n",
      "7/7 [==============================] - 0s 3ms/step - loss: 0.2486 - accuracy: 0.9194 - val_loss: 0.2621 - val_accuracy: 0.9250\n",
      "Epoch 341/10000\n",
      "7/7 [==============================] - 0s 3ms/step - loss: 0.2487 - accuracy: 0.9194 - val_loss: 0.2621 - val_accuracy: 0.9250\n",
      "Epoch 342/10000\n",
      "7/7 [==============================] - 0s 3ms/step - loss: 0.2481 - accuracy: 0.9194 - val_loss: 0.2620 - val_accuracy: 0.9250\n",
      "Epoch 343/10000\n",
      "7/7 [==============================] - 0s 3ms/step - loss: 0.2486 - accuracy: 0.9147 - val_loss: 0.2619 - val_accuracy: 0.9250\n",
      "Epoch 344/10000\n",
      "7/7 [==============================] - 0s 3ms/step - loss: 0.2480 - accuracy: 0.9194 - val_loss: 0.2618 - val_accuracy: 0.9250\n",
      "Epoch 345/10000\n",
      "7/7 [==============================] - 0s 3ms/step - loss: 0.2478 - accuracy: 0.9194 - val_loss: 0.2617 - val_accuracy: 0.9250\n",
      "Epoch 346/10000\n",
      "7/7 [==============================] - 0s 3ms/step - loss: 0.2479 - accuracy: 0.9242 - val_loss: 0.2617 - val_accuracy: 0.9250\n",
      "Epoch 347/10000\n",
      "7/7 [==============================] - 0s 3ms/step - loss: 0.2472 - accuracy: 0.9242 - val_loss: 0.2616 - val_accuracy: 0.9250\n",
      "Epoch 348/10000\n",
      "7/7 [==============================] - 0s 3ms/step - loss: 0.2477 - accuracy: 0.9194 - val_loss: 0.2616 - val_accuracy: 0.9250\n",
      "Epoch 349/10000\n",
      "7/7 [==============================] - 0s 3ms/step - loss: 0.2472 - accuracy: 0.9194 - val_loss: 0.2618 - val_accuracy: 0.9250\n",
      "Epoch 350/10000\n",
      "7/7 [==============================] - 0s 3ms/step - loss: 0.2471 - accuracy: 0.9194 - val_loss: 0.2617 - val_accuracy: 0.9250\n",
      "Epoch 351/10000\n",
      "7/7 [==============================] - 0s 5ms/step - loss: 0.2468 - accuracy: 0.9194 - val_loss: 0.2618 - val_accuracy: 0.9250\n",
      "Epoch 352/10000\n",
      "7/7 [==============================] - 0s 7ms/step - loss: 0.2468 - accuracy: 0.9147 - val_loss: 0.2616 - val_accuracy: 0.9250\n",
      "Epoch 353/10000\n",
      "7/7 [==============================] - 0s 10ms/step - loss: 0.2465 - accuracy: 0.9194 - val_loss: 0.2615 - val_accuracy: 0.9250\n",
      "Epoch 354/10000\n",
      "7/7 [==============================] - 0s 5ms/step - loss: 0.2465 - accuracy: 0.9194 - val_loss: 0.2615 - val_accuracy: 0.9250\n",
      "Epoch 355/10000\n",
      "7/7 [==============================] - 0s 3ms/step - loss: 0.2468 - accuracy: 0.9194 - val_loss: 0.2614 - val_accuracy: 0.9250\n",
      "Epoch 356/10000\n",
      "7/7 [==============================] - 0s 3ms/step - loss: 0.2460 - accuracy: 0.9194 - val_loss: 0.2612 - val_accuracy: 0.9250\n",
      "Epoch 357/10000\n",
      "7/7 [==============================] - 0s 3ms/step - loss: 0.2461 - accuracy: 0.9242 - val_loss: 0.2614 - val_accuracy: 0.9250\n",
      "Epoch 358/10000\n",
      "7/7 [==============================] - 0s 3ms/step - loss: 0.2467 - accuracy: 0.9147 - val_loss: 0.2612 - val_accuracy: 0.9250\n",
      "Epoch 359/10000\n",
      "7/7 [==============================] - 0s 3ms/step - loss: 0.2462 - accuracy: 0.9147 - val_loss: 0.2614 - val_accuracy: 0.9250\n",
      "Epoch 360/10000\n",
      "7/7 [==============================] - 0s 3ms/step - loss: 0.2454 - accuracy: 0.9194 - val_loss: 0.2614 - val_accuracy: 0.9250\n",
      "Epoch 361/10000\n",
      "7/7 [==============================] - 0s 4ms/step - loss: 0.2456 - accuracy: 0.9194 - val_loss: 0.2610 - val_accuracy: 0.9250\n",
      "Epoch 362/10000\n",
      "7/7 [==============================] - 0s 4ms/step - loss: 0.2461 - accuracy: 0.9194 - val_loss: 0.2612 - val_accuracy: 0.9250\n",
      "Epoch 363/10000\n",
      "7/7 [==============================] - 0s 4ms/step - loss: 0.2455 - accuracy: 0.9194 - val_loss: 0.2611 - val_accuracy: 0.9250\n",
      "Epoch 364/10000\n",
      "7/7 [==============================] - 0s 4ms/step - loss: 0.2450 - accuracy: 0.9194 - val_loss: 0.2610 - val_accuracy: 0.9250\n",
      "Epoch 365/10000\n",
      "7/7 [==============================] - 0s 3ms/step - loss: 0.2451 - accuracy: 0.9147 - val_loss: 0.2609 - val_accuracy: 0.9300\n",
      "Epoch 366/10000\n",
      "7/7 [==============================] - 0s 3ms/step - loss: 0.2446 - accuracy: 0.9242 - val_loss: 0.2608 - val_accuracy: 0.9300\n",
      "Epoch 367/10000\n",
      "7/7 [==============================] - 0s 3ms/step - loss: 0.2446 - accuracy: 0.9242 - val_loss: 0.2609 - val_accuracy: 0.9250\n",
      "Epoch 368/10000\n",
      "7/7 [==============================] - 0s 3ms/step - loss: 0.2447 - accuracy: 0.9242 - val_loss: 0.2607 - val_accuracy: 0.9300\n",
      "Epoch 369/10000\n",
      "7/7 [==============================] - 0s 3ms/step - loss: 0.2443 - accuracy: 0.9289 - val_loss: 0.2606 - val_accuracy: 0.9300\n",
      "Epoch 370/10000\n",
      "7/7 [==============================] - 0s 3ms/step - loss: 0.2439 - accuracy: 0.9242 - val_loss: 0.2605 - val_accuracy: 0.9300\n",
      "Epoch 371/10000\n",
      "7/7 [==============================] - 0s 4ms/step - loss: 0.2438 - accuracy: 0.9194 - val_loss: 0.2605 - val_accuracy: 0.9300\n",
      "Epoch 372/10000\n",
      "7/7 [==============================] - 0s 4ms/step - loss: 0.2444 - accuracy: 0.9194 - val_loss: 0.2606 - val_accuracy: 0.9300\n",
      "Epoch 373/10000\n",
      "7/7 [==============================] - 0s 4ms/step - loss: 0.2445 - accuracy: 0.9194 - val_loss: 0.2608 - val_accuracy: 0.9250\n",
      "Epoch 374/10000\n",
      "7/7 [==============================] - 0s 4ms/step - loss: 0.2437 - accuracy: 0.9194 - val_loss: 0.2607 - val_accuracy: 0.9250\n",
      "Epoch 375/10000\n",
      "7/7 [==============================] - 0s 4ms/step - loss: 0.2439 - accuracy: 0.9242 - val_loss: 0.2605 - val_accuracy: 0.9300\n",
      "Epoch 376/10000\n",
      "7/7 [==============================] - 0s 4ms/step - loss: 0.2434 - accuracy: 0.9242 - val_loss: 0.2604 - val_accuracy: 0.9300\n",
      "Epoch 377/10000\n",
      "7/7 [==============================] - 0s 3ms/step - loss: 0.2433 - accuracy: 0.9194 - val_loss: 0.2605 - val_accuracy: 0.9300\n",
      "Epoch 378/10000\n",
      "7/7 [==============================] - 0s 3ms/step - loss: 0.2432 - accuracy: 0.9242 - val_loss: 0.2605 - val_accuracy: 0.9300\n",
      "Epoch 379/10000\n",
      "7/7 [==============================] - 0s 3ms/step - loss: 0.2434 - accuracy: 0.9289 - val_loss: 0.2604 - val_accuracy: 0.9300\n",
      "Epoch 380/10000\n",
      "7/7 [==============================] - 0s 4ms/step - loss: 0.2427 - accuracy: 0.9289 - val_loss: 0.2603 - val_accuracy: 0.9300\n",
      "Epoch 381/10000\n",
      "7/7 [==============================] - 0s 3ms/step - loss: 0.2426 - accuracy: 0.9242 - val_loss: 0.2602 - val_accuracy: 0.9300\n",
      "Epoch 382/10000\n",
      "7/7 [==============================] - 0s 3ms/step - loss: 0.2429 - accuracy: 0.9194 - val_loss: 0.2602 - val_accuracy: 0.9300\n",
      "Epoch 383/10000\n",
      "7/7 [==============================] - 0s 3ms/step - loss: 0.2424 - accuracy: 0.9194 - val_loss: 0.2604 - val_accuracy: 0.9300\n",
      "Epoch 384/10000\n",
      "7/7 [==============================] - 0s 3ms/step - loss: 0.2426 - accuracy: 0.9242 - val_loss: 0.2604 - val_accuracy: 0.9300\n",
      "Epoch 385/10000\n",
      "7/7 [==============================] - 0s 4ms/step - loss: 0.2426 - accuracy: 0.9289 - val_loss: 0.2604 - val_accuracy: 0.9300\n",
      "Epoch 386/10000\n",
      "7/7 [==============================] - 0s 3ms/step - loss: 0.2423 - accuracy: 0.9289 - val_loss: 0.2604 - val_accuracy: 0.9300\n",
      "Epoch 387/10000\n",
      "7/7 [==============================] - 0s 3ms/step - loss: 0.2427 - accuracy: 0.9242 - val_loss: 0.2602 - val_accuracy: 0.9300\n",
      "Epoch 388/10000\n",
      "7/7 [==============================] - 0s 3ms/step - loss: 0.2419 - accuracy: 0.9242 - val_loss: 0.2602 - val_accuracy: 0.9300\n",
      "Epoch 389/10000\n",
      "7/7 [==============================] - 0s 3ms/step - loss: 0.2420 - accuracy: 0.9242 - val_loss: 0.2603 - val_accuracy: 0.9300\n",
      "Epoch 390/10000\n",
      "7/7 [==============================] - 0s 3ms/step - loss: 0.2422 - accuracy: 0.9289 - val_loss: 0.2603 - val_accuracy: 0.9300\n",
      "Epoch 391/10000\n",
      "7/7 [==============================] - 0s 3ms/step - loss: 0.2418 - accuracy: 0.9289 - val_loss: 0.2602 - val_accuracy: 0.9300\n",
      "Epoch 392/10000\n",
      "7/7 [==============================] - 0s 3ms/step - loss: 0.2415 - accuracy: 0.9242 - val_loss: 0.2603 - val_accuracy: 0.9300\n"
     ]
    }
   ],
   "source": [
    "history_ES = model_ES.fit(train_X, train_Y, epochs=10000,batch_size=None,validation_data=(test_X,test_Y),callbacks=[early_stopping])"
   ]
  },
  {
   "cell_type": "markdown",
   "metadata": {},
   "source": [
    "ตรวจสอบจากเอาต์พุตจะพบว่ามีการหยุดฝึกเมื่อผ่านไปได้เพียง 409 รอบ (การรันแต่ละครั้งอาจได้ค่าที่แตกต่างกัน) \n",
    "พล็อตค่าความแม่นยำ ค่าสูญเสีย และผลการจำแนกข้อมูลได้ดังรูปที่ 3.12, 3.13 \n",
    "จะเห็นว่ามีผลคล้ายกับการทำเรกูลาร์ไรเซชันหรือดรอปเอาต์ คือสามารถลดการฟิตเกินลงได้"
   ]
  },
  {
   "cell_type": "code",
   "execution_count": 29,
   "metadata": {},
   "outputs": [
    {
     "data": {
      "image/png": "[encoded data removed]",
      "text/plain": [
       "<Figure size 504x288 with 2 Axes>"
      ]
     },
     "metadata": {
      "needs_background": "light"
     },
     "output_type": "display_data"
    }
   ],
   "source": [
    "plot_acc_loss(history_ES)"
   ]
  },
  {
   "cell_type": "markdown",
   "metadata": {},
   "source": [
    "รูปที่ 3.12 ความแม่นยำและค่าสูญเสียจากโมเดลที่หยุดการฝึกตั้งแต่ช่วงต้น"
   ]
  },
  {
   "cell_type": "code",
   "execution_count": 30,
   "metadata": {},
   "outputs": [
    {
     "data": {
      "image/png": "[encoded data removed]",
      "text/plain": [
       "<Figure size 504x288 with 1 Axes>"
      ]
     },
     "metadata": {
      "needs_background": "light"
     },
     "output_type": "display_data"
    }
   ],
   "source": [
    "plot_decision_regions(test_X, np.squeeze(test_Y), clf=model_ES, legend=2)\n",
    "plt.xlim([-0.7,0.5])\n",
    "plt.ylim([-0.7,0.7])\n",
    "plt.show()"
   ]
  },
  {
   "cell_type": "markdown",
   "metadata": {},
   "source": [
    "รูปที่ 3.13 เส้นแบ่งเขตการจำแนกข้อมูลจากโมเดลที่หยุดการฝึกตั้งแต่ช่วงต้น\n",
    "\n",
    "## 3.3 การเตรียมข้อมูลและตั้งค่าพารามิเตอร์\n",
    "\n",
    "ในหัวข้อนี้จะกล่าวถึงวิธีการปรับปรุงข้อมูลก่อนเริ่มผึกและการตั้งค่าน้ำหนักเพื่อช่วยในการฝึกโมเดลได้ดีขึ้น  \n",
    "\n",
    "### 3.3.1 การทำอินพุตให้เป็นบรรทัดฐาน\n",
    "\n",
    "ข้อสังเกตหนึ่งของอินพุตในระนาบ 2 มิติที่ใช้ในตัวอย่าง 3.1 - 3.3 คือทั้งสองแกนมีค่าเฉลี่ยเข้าใกล้ศูนย์ \n",
    "และความแปรปรวนประมาณใกล้เคียงกัน ซึ่งเป็นคุณสมบัติที่ช่วยในการลดค่าเกรเดียนต์ของฟังก์ชันมูลค่า \n",
    "คือทำให้สามารถใช้อัตราการเรียนรู้ที่มีค่ามากขึ้น ดังนั้นในกรณีทั่วไปที่อินพุตอาจมีค่าเฉลี่ยและความแปรปรวนแตกต่างกัน \n",
    "วิธีหนึ่งที่ช่วยลดเวลาการฝึกลงได้คือการทำอินพุตให้เป็นบรรทัดฐาน \n",
    "(normalizing) \n",
    "$$\n",
    "\\tilde{x} = \\frac{x - \\mu}{\\sigma} \\tag{3.7}\n",
    "$$\n",
    "โดยค่าเฉลี่ย $\\mu$ และความแปรปรวน $\\sigma$ คำนวณได้จาก\n",
    "$$\n",
    "\\mu = \\frac{1}{m}\\sum_{i=1}^mx^{(i)} \\tag{3.8}\n",
    "$$\n",
    "$$\n",
    "\\sigma^2 = \\frac{1}{m}\\sum_{i=1}^m(x^{(i)}-\\mu)^2 \\tag{3.9}\n",
    "$$\n",
    "\n",
    "### 3.3.2 การกำหนดค่าเริ่มต้นของพารามิเตอร์\n",
    "\n",
    "การกำหนดค่าเริ่มต้นของเมทริกซ์ค่าน้ำหนัก $W$ ที่เหมาะสมมีความสำคัญอย่างยิ่งต่อการฝึกโมเดลในการเรียนรู้เชิงลึก \n",
    "สิ่งที่ต้องคำนึงอย่างแรกคือไม่สามารถกำหนด $W = 0$ เป็นค่าเริ่มต้นได้ เพราะจะเกิดปัญหาจากความสมมาตร \n",
    "(แตกต่างจากค่าเอนเอียง $b$ ที่สามารถตั้งค่าเริ่มต้นเป็นศูนย์ได้) ค่าของ $W$ ต้องเป็นค่าสุ่มเพื่อไม่ให้เกิดความสมมาตรของโครงข่าย\n",
    "\n",
    "**ตัวอย่าง 3.4**\n",
    "\n",
    "สำหรับตัวอย่างในหัวข้อย่อยนี้จะเป็นปัญหาการจำแนกทวิภาคโดยใช้ข้อมูลจากไลบรารี sklearn ที่มีลักษณะเป็นวงกลมซ้อนกัน \n",
    "เขียนฟังก์ชัน load_circles_dataset() และเรียกใช้ฟังก์ชันที่จะพล็อตจุดข้อมูลดังในรูปที่ 3.14"
   ]
  },
  {
   "cell_type": "code",
   "execution_count": 4,
   "metadata": {},
   "outputs": [],
   "source": [
    "def load_circles_dataset():\n",
    "    np.random.seed(1)\n",
    "    train_X, train_Y = sklearn.datasets.make_circles(n_samples=300, noise=.05)\n",
    "    np.random.seed(2)\n",
    "    test_X, test_Y = sklearn.datasets.make_circles(n_samples=100, noise=.05)\n",
    "    train_Y = train_Y[:,np.newaxis]\n",
    "    test_Y = test_Y[:,np.newaxis]\n",
    "    \n",
    "    # Visualize the data\n",
    "    for i in range(len(train_Y)):\n",
    "        if train_Y[i,0] == 1:\n",
    "            plt.scatter(train_X[i,0],train_X[i,1],c='orange', marker='^',s=40)\n",
    "        else:\n",
    "            plt.scatter(train_X[i,0],train_X[i,1],c='blue', marker='s',s=40)    \n",
    "    \n",
    "    return train_X, train_Y, test_X, test_Y"
   ]
  },
  {
   "cell_type": "code",
   "execution_count": 6,
   "metadata": {},
   "outputs": [
    {
     "data": {
      "image/png": "[encoded data removed]",
      "text/plain": [
       "<Figure size 504x288 with 1 Axes>"
      ]
     },
     "metadata": {
      "needs_background": "light"
     },
     "output_type": "display_data"
    }
   ],
   "source": [
    "train_X, train_Y, test_X, test_Y = load_circles_dataset()"
   ]
  },
  {
   "cell_type": "markdown",
   "metadata": {},
   "source": [
    "รูปที่ 3.14 ชุดข้อมูลสองประเภทที่เรียงตัวเป็นวงกลมซ้อนกัน\n",
    "\n",
    "ในตัวอย่างนี้ต้องการแสดงว่าหากกำหนดค่าเริ่มต้นของค่าน้ำหนักเป็นศูนย์จะทำให้ไม่สามารถฝึกโมเดลให้เรียนรู้ได้เนื่องจากปัญหาการสมมาตร \n",
    "การสร้างโมเดลโดยไลบรารี TF สามารถกำหนดการตั้งค่าเริ่มต้นในแต่ละชั้นได้โดยใช้อาร์กิวเมนต์ kernel_initilizer และ bias_initializer \n",
    "สำหรับค่าน้ำหนัก $W$ และค่าเอนเอียง $b$ ตามลำดับ ตัวอย่างนี้จะทดลองกำหนดให้เป็นศูนย์ทั้งหมด"
   ]
  },
  {
   "cell_type": "code",
   "execution_count": 54,
   "metadata": {},
   "outputs": [],
   "source": [
    "model0 = Sequential([\n",
    "    Flatten(input_shape=[2]),\n",
    "    Dense(10, kernel_initializer='zeros',bias_initializer='zeros', activation='relu'),\n",
    "    Dense(5, kernel_initializer='zeros',bias_initializer='zeros', activation = 'relu'),\n",
    "    Dense(1, kernel_initializer='zeros',bias_initializer='zeros', activation = 'sigmoid')\n",
    "])"
   ]
  },
  {
   "cell_type": "markdown",
   "metadata": {},
   "source": [
    "คอมไพล์และฝึกโมเดลเป็นจำนวน 2,000 รอบ "
   ]
  },
  {
   "cell_type": "code",
   "execution_count": 55,
   "metadata": {},
   "outputs": [],
   "source": [
    "model0.compile(optimizer=SGD(learning_rate=0.01),loss='binary_crossentropy', metrics=['accuracy'])"
   ]
  },
  {
   "cell_type": "code",
   "execution_count": 56,
   "metadata": {},
   "outputs": [],
   "source": [
    "history0 = model0.fit(train_X, train_Y, epochs=2000, validation_data=(test_X,test_Y),verbose=0)"
   ]
  },
  {
   "cell_type": "markdown",
   "metadata": {},
   "source": [
    "เมื่อพล็อตค่าความแม่นยำและค่าสูญเสียจะได้ดังรูปที่ 3.15 จะเห็นได้ว่าค่าความแม่นยำและค่าสูญเสียไม่มีแนวโน้มในทิศทางดีขึ้นเมื่อผ่านการฝึกตามจำนวนรอบ \n",
    "ดังนั้นจึงคาดเดาได้ว่าโมเดลไม่สามารถจำแนกประเภทข้อมูลได้ ยืนยันได้จากพล็อตในรูปที่ 3.16 ซึ่งไม่มีการแสดงเส้นแบ่งเขตในการจำแนกประเภท "
   ]
  },
  {
   "cell_type": "code",
   "execution_count": 58,
   "metadata": {},
   "outputs": [
    {
     "data": {
      "image/png": "[encoded data removed]",
      "text/plain": [
       "<Figure size 504x288 with 2 Axes>"
      ]
     },
     "metadata": {
      "needs_background": "light"
     },
     "output_type": "display_data"
    }
   ],
   "source": [
    "plot_acc_loss(history0)"
   ]
  },
  {
   "cell_type": "markdown",
   "metadata": {},
   "source": [
    "รูปที่ 3.15 ค่าความแม่นยำและค่าสูญเสียจากการฝึกเมื่อกำหนดค่าเริ่มต้น $W = 0$"
   ]
  },
  {
   "cell_type": "code",
   "execution_count": 59,
   "metadata": {},
   "outputs": [
    {
     "data": {
      "image/png": "[encoded data removed]",
      "text/plain": [
       "<Figure size 504x288 with 1 Axes>"
      ]
     },
     "metadata": {
      "needs_background": "light"
     },
     "output_type": "display_data"
    }
   ],
   "source": [
    "plot_decision_regions(test_X, np.squeeze(test_Y), clf=model0, legend=2)\n",
    "plt.xlim([-1.5,1.5])\n",
    "plt.ylim([-1.5,1.5])\n",
    "plt.show()"
   ]
  },
  {
   "cell_type": "markdown",
   "metadata": {},
   "source": [
    "รูปที่ 3.16 ผลการจำแนกข้อมูลของโมเดลที่กำหนดค่าเริ่มต้น $W = 0$\n",
    "\n",
    "จากตัวอย่างที่ผ่านมาสรุปได้ว่าจะต้องตั้งค่าเริ่มต้นของน้ำหนักเป็นค่าสุ่มเพื่อไม่ให้เกิดปัญหาสมมาตร \n",
    "ประเด็นต่อมาคือหากกำหนดค่าเริ่มต้นของ $W$ ไม่เหมาะสมจะเกิดกรณีที่เรียกว่า การสูญหาย (vanishing) หรือการเพิ่มสูง \n",
    "(explode) ของค่าเกรเดียนต์ โดยเฉพาะเมื่อโมเดลมีความลึกมาก คือมีจำนวนชั้นแฝงมาก ผลคือการฝึกจะใช้เวลานานและไม่ได้ผลดี \n",
    "\n",
    "**ตัวอย่าง 3.5**\n",
    "\n",
    "ในตัวอย่างนี้จะทดลองกับข้อมูลเดิมในตัวอย่างที่ผ่านมา โดยตั้งค่าเริ่มต้นของน้ำหนักเป็นค่าสุ่มในช่วง 0.0 - 10.0 ส่วนค่าเอนเอียงสามารถตั้งให้เป็นศูนย์ได้ \n",
    "คอมไพล์และฝึกโมเดลจำนวน 2,000 รอบเท่าเดิม "
   ]
  },
  {
   "cell_type": "code",
   "execution_count": 60,
   "metadata": {},
   "outputs": [],
   "source": [
    "initializer = tf.keras.initializers.RandomUniform(minval=0., maxval=10)"
   ]
  },
  {
   "cell_type": "code",
   "execution_count": 61,
   "metadata": {},
   "outputs": [],
   "source": [
    "model1 = Sequential([\n",
    "    Flatten(input_shape=[2]),\n",
    "    Dense(10, kernel_initializer=initializer,bias_initializer='zeros', activation='relu'),\n",
    "    Dense(5, kernel_initializer=initializer,bias_initializer='zeros', activation = 'relu'),\n",
    "    Dense(1, kernel_initializer=initializer,bias_initializer='zeros', activation = 'sigmoid')\n",
    "])"
   ]
  },
  {
   "cell_type": "code",
   "execution_count": 62,
   "metadata": {},
   "outputs": [],
   "source": [
    "model1.compile(optimizer=SGD(learning_rate=0.01),loss='binary_crossentropy', metrics=['accuracy'])"
   ]
  },
  {
   "cell_type": "code",
   "execution_count": 63,
   "metadata": {},
   "outputs": [],
   "source": [
    "history1 = model1.fit(train_X, train_Y, epochs=2000, validation_data=(test_X,test_Y),verbose=0)"
   ]
  },
  {
   "cell_type": "markdown",
   "metadata": {},
   "source": [
    "เมื่อพล็อตความแม่นยำและค่าสูญเสียในรูปที่ 3.17 จะเห็นว่าหลังจากฝึก 2,000 รอบ โมเดลสามารถเรียนรู้ได้ในระดับหนึ่ง \n",
    "แต่ค่าความแม่นยำยังไม่เป็นที่น่าพอใจ สามารถตรวจสอบผลการจำแนกได้ดังในรูปที่ 3.18"
   ]
  },
  {
   "cell_type": "code",
   "execution_count": 64,
   "metadata": {},
   "outputs": [
    {
     "data": {
      "image/png": "[encoded data removed]",
      "text/plain": [
       "<Figure size 504x288 with 2 Axes>"
      ]
     },
     "metadata": {
      "needs_background": "light"
     },
     "output_type": "display_data"
    }
   ],
   "source": [
    "plot_acc_loss(history1)"
   ]
  },
  {
   "cell_type": "markdown",
   "metadata": {},
   "source": [
    "รูปที่ 3.17 ค่าความแม่นยำและค่าสูญเสียจากการฝึกเมื่อกำหนดค่าเริ่มต้น $W \\in [0,10]$"
   ]
  },
  {
   "cell_type": "code",
   "execution_count": 65,
   "metadata": {},
   "outputs": [
    {
     "data": {
      "image/png": "[encoded data removed]",
      "text/plain": [
       "<Figure size 504x288 with 1 Axes>"
      ]
     },
     "metadata": {
      "needs_background": "light"
     },
     "output_type": "display_data"
    }
   ],
   "source": [
    "plot_decision_regions(test_X, np.squeeze(test_Y), clf=model1, legend=2)\n",
    "plt.xlim([-1.5,1.5])\n",
    "plt.ylim([-1.5,1.5])\n",
    "plt.show()"
   ]
  },
  {
   "cell_type": "markdown",
   "metadata": {},
   "source": [
    "รูปที่ 3.18 ผลการจำแนกข้อมูลของโมเดลที่กำหนดค่าเริ่มต้น $W \\in [0,10]$\n",
    "\n",
    "จากตัวอย่างที่ผ่านมาจะเห็นว่าค่าเริ่มต้นของ $W$ มีผลต่อการฝึกโมเดล \n",
    "เราต้องการกำหนดค่าที่เหมาะสมเพื่อมิให้เกิดปัญหาการสูญหายหรือการเพิ่มสูงของค่าเกรเดียนต์ ซึ่งไลบรารี TF \n",
    "มีตัวเลือกให้หลายรูปแบบตามที่มีผู้นำเสนอในบทความ\n",
    "\n",
    "เพื่อให้เข้าใจได้ง่ายขึ้น พิจารณาเอาต์พุตที่เป็นผลรวมเชิงเส้นของอินพุตกับค่าน้ำหนัก\n",
    "$$\n",
    "z = w_1x_1 + w_2x_2 + \\ldots + w_nx_n \\tag{3.10}\n",
    "$$\n",
    "\n",
    "หากต้องการให้เอาต์พุตมีค่าในช่วงที่เหมาะสม เมื่อจำนวน $n$ มากขึ้นจะต้องการให้ค่าน้ำหนักลดลง \n",
    "ดังนั้นนอกจากเลือกค่าของ $W$ เป็นค่าสุ่มแล้ว จะปรับมาตราส่วนค่าเริ่มต้นขึ้นกับ $n$ แนวคิดที่มีผู้นำเสนอคืิอ \n",
    "กำหนดค่าความแปรปรวนของ $W$\n",
    "$$\n",
    "Var(w_i) = \\frac{1}{n} \\tag{3.11}\n",
    "$$ \n",
    "เมื่อฟังก์ชันกระตุ้นเป็นแบบ $tanh$ มีชื่อเรียกว่า \"Xavier initialization\" ตามชื่อผู้เสนอในบทความ \n",
    "\n",
    "ส่วนกรณีฟังก์ชันกระตุ้นเป็นแบบ ReLU จะกำหนด\n",
    "$$\n",
    "Var(w_i) = \\frac{2}{n} \\tag{3.12}\n",
    "$$ \n",
    "เรียกว่า \"He initialization\" ตามชื่อผู้เสนอ \n",
    "สังเกตว่าหากเป็นชั้นที่ $l$ ค่าของ $W^{[l]}$ จะถูกตั้งให้มีความแปรปรวน$\\frac{1}{n^{[l-1]}}$ (Xavier) หรือ \n",
    "$\\frac{2}{n^{[l-1]}}$ (He) ถ้าเขียนโค้ดไพธอนเองจะมีลักษณะดังนี้\n",
    "```python\n",
    "W_l = np.random.randn(layers_dims[l],layers_dims[l-1])*np.sqrt(1./layers_dims[l-1]) # Xavier\n",
    "W_l = np.random.randn(layers_dims[l],layers_dims[l-1])*np.sqrt(2./layers_dims[l-1]) # He\n",
    "```\n",
    "\n",
    "**ตัวอย่าง 3.6**\n",
    "\n",
    "จากข้อมูลเดิมในตัวอย่างก่อนหน้านี้ ทดลองตั้งค่าเริ่มต้น $W$ โดยกำหนดค่าความแปรปรวนแบบ He ทำได้โดยตั้ง initializer เป็นแบบ HeNormal()"
   ]
  },
  {
   "cell_type": "code",
   "execution_count": 43,
   "metadata": {},
   "outputs": [],
   "source": [
    "he_initializer = tf.keras.initializers.HeNormal()"
   ]
  },
  {
   "cell_type": "code",
   "execution_count": 49,
   "metadata": {},
   "outputs": [],
   "source": [
    "model2 = Sequential([\n",
    "    Flatten(input_shape=[2]),\n",
    "    Dense(10, kernel_initializer=he_initializer,bias_initializer='zeros', activation='relu'),\n",
    "    Dense(5, kernel_initializer=he_initializer,bias_initializer='zeros', activation = 'relu'),\n",
    "    Dense(1, kernel_initializer=he_initializer,bias_initializer='zeros', activation = 'sigmoid')\n",
    "])"
   ]
  },
  {
   "cell_type": "markdown",
   "metadata": {},
   "source": [
    "ฝึกโมเดลด้วยจำนวนรอบเท่าเดิม ตรวจสอบความแม่นยำและค่าสูญเสีย (รูปที่ 3.19) รวมถึงพล็อตขอบเขตการจำแนก (รูปที่ 3.20) \n",
    "จะพบว่าได้โมเดลที่พยากรณ์ได้แม่นยำขึ้น"
   ]
  },
  {
   "cell_type": "code",
   "execution_count": 50,
   "metadata": {},
   "outputs": [],
   "source": [
    "model2.compile(optimizer=SGD(learning_rate=0.01),loss='binary_crossentropy', metrics=['accuracy'])"
   ]
  },
  {
   "cell_type": "code",
   "execution_count": 51,
   "metadata": {},
   "outputs": [],
   "source": [
    "history2 = model2.fit(train_X, train_Y, epochs=2000, validation_data=(test_X,test_Y),verbose=0)"
   ]
  },
  {
   "cell_type": "code",
   "execution_count": 52,
   "metadata": {},
   "outputs": [
    {
     "data": {
      "image/png": "[encoded data removed]",
      "text/plain": [
       "<Figure size 504x288 with 2 Axes>"
      ]
     },
     "metadata": {
      "needs_background": "light"
     },
     "output_type": "display_data"
    }
   ],
   "source": [
    "plot_acc_loss(history2)"
   ]
  },
  {
   "cell_type": "markdown",
   "metadata": {},
   "source": [
    "รูปที่ 3.19 ค่าความแม่นยำและค่าสูญเสียจากการฝึกเมื่อกำหนดค่าเริ่มต้นของ $W$ แบบ HeNormal()"
   ]
  },
  {
   "cell_type": "code",
   "execution_count": 53,
   "metadata": {},
   "outputs": [
    {
     "data": {
      "image/png": "[encoded data removed]",
      "text/plain": [
       "<Figure size 504x288 with 1 Axes>"
      ]
     },
     "metadata": {
      "needs_background": "light"
     },
     "output_type": "display_data"
    }
   ],
   "source": [
    "plot_decision_regions(test_X, np.squeeze(test_Y), clf=model2, legend=2)\n",
    "plt.xlim([-1.5,1.5])\n",
    "plt.ylim([-1.5,1.5])\n",
    "plt.show()"
   ]
  },
  {
   "cell_type": "markdown",
   "metadata": {},
   "source": [
    "รูปที่ 3.20 ผลการจำแนกข้อมูลของโมเดลที่ตั้งค่า $W$ โดยตัวเลือก HeNormal()\n",
    "\n",
    "## 3.4 ขั้นตอนวิธีหาค่าเหมาะที่สุด\n",
    "\n",
    "ตั้งแต่บทที่ 2 เราได้อธิบายวิธีลดค่าเกรเดียนต์ ซึ่งเป็นวิธีการพื้นฐานในการปรับค่าน้ำหนักในทิศทางเข้าสู่ค่าต่ำสุดของฟังก์ชันมูลค่า \n",
    "ในเวลาต่อมาได้มีการนำเสนอขั้นตอนวิธีที่ปรับปรุงให้ทำงานดีขึ้น รวมถึงการจัดข้อมูลเป็นกลุ่มเพื่อลดเวลาการฝึก \n",
    "ในหัวข้อนี้จะกล่าวถึงขั้นตอนวิธีหาค่าเหมาะที่สุดประเภทต่างๆ ที่สามารถเลือกได้จากไลบรารี TF และการฝึกโดยแบ่งกลุ่มข้อมูล\n",
    "\n",
    "### 3.4.1 การแบ่งข้อมูลเป็นกลุ่มย่อย\n",
    "\n",
    "งานด้านการเรียนรู้เชิงลึกมักเกี่ยวข้องกับชุดข้อมูลขนาดใหญ่ เป็นผลทำให้ต้องฝึกโมเดลเป็นเวลานานมากเมื่อใช้ขั้นตอนวิธีลดค่าเกรเดียนต์มาตรฐาน \n",
    "ถึงแม้ว่าการคำนวณเชิงเวกเตอร์จะช่วยลดเวลาในการประมวลผลลงได้ แต่สำหรับกรณีที่ตัวอย่างข้อมูลมีจำนวนมาก เช่น แปดล้านตัวอย่าง \n",
    "เราจะต้องประมวลผลสิบล้านตัวอย่างข้อมูลก่อนที่จะคำนวณหนึ่งขั้นของการลดค่าเกรเดียนต์ \n",
    "\n",
    "เราสามารถลดเวลาฝึกโมเดลได้โดยแบ่งข้อมูลทั้งหมดเป็นกลุ่มย่อย เรียกว่ากลุ่มเล็ก (mini-batch) \n",
    "ซึ่งอาจเป็นจำนวนเท่าไรก็ได้ขึ้นกับว่าชุดข้อมูลทั้งหมดมีมากน้อยเพียงใด ในทางปฏิบัตินิยมเลือกจำนวนเป็นค่ายกกำลังของฐานสอง \n",
    "แต่เพื่อความเข้าใจง่ายจะยกตัวอย่างว่าเลือกจำนวนข้อมูลในกลุ่มเล็กหนึ่งเท่ากับ 2,000 ตัวอย่าง\n",
    "ดังนั้นข้อมูลทั้งหมด 8,000,000 ตัวอย่างจะถูกแบ่งได้เป็น 4,000 กลุ่มเล็ก \n",
    "สัญกรณ์ที่จะใช้แสดงหมายเลขกลุ่มคือเลขยกกำลังภายในวงเล็บปีกกา \n",
    "เช่นกลุ่มเล็กของอินพุต $X^{\\{1\\}},X^{\\{2\\}}, \\ldots, X^{\\{4000\\}}$ และเลเบล $ํY^{\\{1\\}},Y^{\\{2\\}}, \\ldots, Y^{\\{4000\\}}$\n",
    "\n",
    "**หมายเหตุ :** ต้องไม่สับสนกับสัญกรณ์เลขยกกำลังในวงเล็บประเภทอื่นที่ใช้ก่อนหน้านี้ คือ $x^{(i)} $ แทนอินพุตตัวอย่างที่ $i$ \n",
    " และ $a^{[l]}$ แทนเอาต์พุตของชั้นที่ $l$\n",
    "\n",
    "โดยวิธีการแบ่งกลุ่มข้อมูลนี้ ขั้นตอนวิธีลดค่าเกรเดียนต์ปกติอาจถูกเรียกเต็มว่า การลดค่าเกรเดียนต์แบบกลุ่ม (batch) ซึ่งหมายถึงกลุ่มข้อมูลทั้งชุด \n",
    "ส่วนกรณีสุดทางอีกด้านหนึ่งคือเลือกขนาดข้อมูลในกลุ่มเล็กเท่ากับหนึ่งถูกเรียกว่า การลดค่าเกรเดียนต์แบบสโทแคสติก (stochastic) \n",
    "รูปที่ 3.21 เปรียบเทียบขั้นการลดค่าเกรเดียนต์ระหว่างกรณีทั้งสอง \n",
    "จะเห็นว่าวิธีแบบกลุ่มทางด้านซ้ายมีทิศทางในการลดค่าเกรเดียนต์ลงอย่างต่อเนื่อง (เมื่อเลือกขนาดของขั้นไม่ใหญ่เกินไป) แต่จะใช้เวลานาน\n",
    "ส่วนวิธีแบบสโทแคสติกที่ใช้เวลาน้อยกว่าจะมีการแกว่งของทิศทางค่อนข้างมากแม้จะมีแนวโน้มสู่ค่าต่ำสุด \n",
    "และเมื่อเวลาผ่านไปจะไม่เข้าสู่ค่าต่ำสุดอย่างสมบูรณ์แต่จะวนเวียนอยู่โดยรอบ ในทางปฏิบัติมักเลือกทางสายกลาง คือแบ่งข้อมูลเป็นกลุ่มเล็กมากกว่า \n",
    "1 แต่ไม่เท่ากับกลุ่มข้อมูลทั้งหมด (เว้นแต่ว่าชุดข้อมูลทั้งหมดมีขนาดไม่ใหญ่มาก) \n",
    "อีกเหตุผลหนึ่งที่ไม่ควรเลือกวิธีสโทแคสติกคือเราจะเสียสมรรถนะการคำนวณเชิงเวกเตอร์ไป เพราะในหนึ่งลูปจะประมวลผลข้อมูลเพียงตัวอย่างเดียว\n",
    "\n",
    "<p />  \n",
    "<p align=\"center\">\n",
    "<img src=\"https://drive.google.com/uc?id=1WPIif-YhJ9zvYvcQikL23YT2wStK41Nk\" width=550 />\n",
    "</p>\n",
    "<div align=\"center\">รูปที่ 3.21 เปรียบเทียบการลดค่าเกรเดียนต์ระหว่างวิธีแบบกลุ่มกับวิธีสโทแคสติก</div>\n",
    "\n",
    "ไลบรารี TF สนับสนุนการแบ่งกลุ่มข้อมูลโดยมีตัวเลือก batch_size ที่กำหนดได้ใน model.fit() หากไม่มีการกำหนดจะใช้ค่าโดยปริยาย \n",
    "คือ 32 ถ้าต้องการให้กลุ่มเท่ากับข้อมูลทั้งชุดให้กำหนด batch_size = None \n",
    "เนื่องจากตัวอย่างในบทนี้ใช้ข้อมูลขนาดเล็กจึงไม่เห็นผลที่ชัดเจนจากการแบ่งกลุ่มข้อมูล\n",
    "\n",
    "### 3.4.2 วิธีโมเมนตัม\n",
    "\n",
    "จากหัวข้อย่อยที่ผ่านมาจะเห็นว่าผลจากการแบ่งข้อมูลฝึกเป็นกลุ่มเล็กทำให้แต่ละขั้นของการลดค่าเกรเดียนต์มีการแกว่งมากขึ้น \n",
    "สร้างปัญหาให้กับการเลือกอัตราการเรียนรู้ที่เหมาะสม เพราะหากขั้นใหญ่เกินไปอาจทำให้ขั้นตอนวิธีไม่ลู่เข้าสู่ค่าเหมาะที่สุด \n",
    "หรือหากเล็กเกินไปก็จะใช้เวลานานหรือติดอยู่ที่ค่าต่ำสุดเฉพาะที่ (local minimum)\n",
    "\n",
    "เพื่อความเข้าใจจะยกตัวอย่างที่ทำให้ง่ายขึ้นดังรูปที่ 3.22 โดยสมมุติว่าพารามิเตอร์อยู่ในระนาบ 2 มิติและมีค่าต่ำสุดที่ศูนย์กลางของคอนทัวร์ \n",
    "ลูกศรแสดงค่าของพารามิเตอร์ที่ถูกปรับในแต่ละขั้น สังเกตได้ว่าค่ามีการแกว่งค่อนข้างมากในแกนที่ตั้งฉากกับแนวโน้มเข้าสู่คำต่ำสุด \n",
    "แนวคิดคือต้องการใช้อัตราการเรียนรู้ที่แตกต่างกันสำหรับแต่ละแกน โดยใช้อัตราที่สูงกว่าทิศทางที่มีแนวโน้มเข้าสู่ค่าต่ำสุดอย่างสม่ำเสมอ\n",
    "\n",
    "<p />  \n",
    "<p align=\"center\">\n",
    "<img src=\"https://drive.google.com/uc?id=1UlHqITFRCcqTUkTaZ-A4xGPdpHNwnXRb\" width=450 />\n",
    "</p>\n",
    "<div align=\"center\">รูปที่ 3.22 อัตราการเรียนรู้สำหรับการลดค่าเกรเดียนต์</div>\n",
    "\n",
    "วิธีการปรับปรุงตัวหาค่าเหมาะที่สุดโดยลดผลกระทบจากการแกว่งของพารามิเตอร์อาศัยหลักการของค่าเฉลี่ยที่ให้น้ำหนักแบบเลขชี้กำลัง \n",
    "(exponentially weighted averages) เรียกโดยย่อว่า EWA ที่รวมรายละเอียดไว้ในภาคผนวก A \n",
    "วิธีแรกที่จะกล่าวถึงคือการเพิ่มโมเมนตัม (momentum)ให้กับการลดค่าเกรเดียนต์ ต่อไปจะเรียกว่าวิธีโมเมนตัมเพื่อความกระชับ \n",
    "โดยทั่วไปแล้ววิธีโมเมนตัมสามารถทำงานเร็วกว่าการลดค่าเกรเดียนต์แบบปกติ ช่วยลดเวลาในการฝึกโมเดลลงได้\n",
    "\n",
    "จากตัวอย่างในรูปที่ 3.22 การแกว่งในทิศทางของแกนที่ตั้งฉากกับแนวโน้มสู่ค่าต่ำสุดทำให้เราไม่สามารถใช้อัตราการเรียนรู้ที่เร็วได้ \n",
    "เพราะอาจทำให้ขั้นตอนวิธีไม่เสถียร ดังนั้นจึงต้องการกรองการรบกวนนี้โดย EWA ขั้นตอนวิธีโมเมนตัมมีเค้าโครงดังนี้\n",
    "\n",
    "* กำหนดตัวแปร $V_{dW}, V_{db}$ ที่จะใช้ปรับค่าพารามิเตอร์ $W, b$ ในแต่ละขั้น โดยตั้งค่าเริ่มต้นเป็นศูนย์\n",
    "\n",
    "ในการวนรอบที่ $k$:\n",
    "* คำนวณค่า $dW, db$ สำหรับข้อมูลกลุ่มย่อยขณะนั้น\n",
    "* คำนวณการเปลี่ยนแปลงของตัวแปร $V_{dW}, V_{db}$\n",
    "$$\n",
    "V_{dW} = \\beta_1 V_{dW} + (1 - \\beta_1)dW \\tag{3.13}\n",
    "$$\n",
    "$$\n",
    "V_{db} = \\beta_1 V_{db} + (1 - \\beta_1)db \\tag{3.14}\n",
    "$$\n",
    "* ปรับค่าพารามิเตอร์โดยใช้ $V_{dW}, V_{db}$ แทนค่าที่เปลี่ยนแปลงในแต่ละขั้น\n",
    "$$\n",
    "W := W - \\alpha V_{dW} \\tag{3.15}\n",
    "$$\n",
    "$$\n",
    "b := b - \\alpha V_{db} \\tag{3.16}\n",
    "$$\n",
    "\n",
    "โดย $\\beta_1$ คือค่าไฮเปอร์พารามิเตอร์ใหม่สำหรับวิธีโมเมนตัม ทำหน้าที่เหมือนกับ $\\beta$ ในภาคผนวก A \n",
    "แต่เหตุผลที่ใช้ตัวห้อย 1 เพื่อมิให้สับสนกับไฮเปอร์พารามิเตอร์ตัวอื่นที่เพิ่มขึ้นเมื่อขยายไปยังวิธีการอื่นที่จะกล่าวถึงต่อไป\n",
    "ผลของการปรับพารามิเตอร์โดยวิธีโมเมนตัมคือทำให้การแกว่งลดลงจากการใช้ค่าเฉลี่ยแทนค่าของ $dW, db$ \n",
    "\n",
    "สำหรับผู้ที่มีความรู้ด้านฟิสิกส์สามารถเข้าใจหลักการของวิธีโมเมนตัมได้โดยเปรียบพจน์ $dW, db$ \n",
    "กับความเร่งของลูกบอลที่ไหลลงเนินสู่จุดต่ำสุด (หากมองรูปที่ 3.22 เป็นรูปชาม 3 มิติ) และพจน์โมเมนตัม $V_{dW}, V_{db}$\n",
    "เปรียบได้กับความเร็วของลูกบอล ดังนั้น $\\beta_1$ เปรียบได้กับแรงเสียดทานที่จะป้องกันมิให้ลูกบอลมีความเร็วเพิ่มขึ้นโดยไร้ขีดจำกัด \n",
    "\n",
    "สังเกตว่าไฮเปอร์พารามิเตอร์ของวิธีโมเมนตัมจะเพิ่มเป็น 2 ตัวคืออัตราการเรียนรู้ $\\alpha$ และตัวควบคุม EWA คือ $\\beta_1$ \n",
    "ค่าที่นิยมใช้คือ $\\beta_1 = 0.9$ และสำหรับวิธีโมเมนตัมในทางปฎิบัติมักไม่มีการแก้ไขค่าเอนเอียง\n",
    "เนื่องจากไม่มีผลกระทบมากนัก\n",
    "\n",
    "บางครั้งเราอาจพบการอิมพลิเมนต์วิธีโมเมนตัมที่แตกต่างจาก (3.13)-(3.14) เล็กน้อย คือละทิ้งตัวประกอบ $(1-\\beta_1)$ \n",
    "$$\n",
    "V_{dW} = \\beta_1 V_{dW} + dW \\tag{3.17}\n",
    "$$\n",
    "$$\n",
    "V_{db} = \\beta_1 V_{db} + db \\tag{3.18}\n",
    "$$\n",
    "โดยวิธีการนี้ค่าของ $\\alpha$ จะต้องถูกชดเชยโดยค่า $(1-\\beta_1)^{-1}$ ซึ่งอาจทำให้การปรับแต่งไฮเปอร์พารามิเตอร์ยุ่งยากขึ้น \n",
    "\n",
    "ในการเรียกใช้วิธีโมเมนตัมสำหรับไลบรารี TF จะมีตัวเลือก momentum ในตัวหาค่าเหมาะที่สุดแบบ SGD()\n",
    "ซึ่งเมื่อกำหนดค่ามากกว่าศูนย์จะเพิ่มพจน์โมเมนตัมในการปรับค่า (โจทย์ปัญหา 3-6)"
   ]
  },
  {
   "cell_type": "markdown",
   "metadata": {},
   "source": [
    "### 3.4.3 วิธีการแพร่กระจายแบบรากกำลังสองเฉลี่ย\n",
    "\n",
    "ขั้นตอนวิธีการหาค่าเหมาะที่สุดอีกรูปแบบหนึ่งที่ทำให้การลดค่าเกรเดียนต์ทำงานเร็วขึ้นคือ วิธีการแพร่กระจายแบบรากกำลังสองเฉลี่ย\n",
    "(root mean square propagation) นิยมเรียกย่อว่า RMSprop \n",
    "\n",
    "อ้างถึงรูปที่ 3.22 เพื่อความง่ายในการอธิบายจะสมมุติว่าค่าพารามิเตอร์ในทิศทางที่มีการแกว่งคือ $b$ \n",
    "และค่าที่มีแนวโน้มเข้าสู่ศูนย์กลางของคอนทัวร์อย่างสม่ำเสมอคือ $W$ (ในความเป็นจริงจะเป็นระบบหลายมิติที่ไม่สามารถบรรยายโดยภาพได้ \n",
    "ค่าพารามิเตอร์ที่แกว่งมาก/น้อยเป็นเซ็ตย่อยของพารามิเตอร์ทั้งหมด) ดังนั้้นความต้องการคือกำหนดอัตราการเรียนรู้ต่ำในทิศทางของ \n",
    "$b$ และอัตราสูงกว่าในทิศทางของ $W$ ขั้นตอนวิธี RMSprop มีเค้าโครงดังนี้\n",
    "\n",
    "* กำหนดตัวแปร $S_{dW}, S_{db}$ ที่จะใช้ปรับค่าพารามิเตอร์ $W, b$ ในแต่ละขั้น โดยตั้งค่าเริ่มต้นเป็นศูนย์\n",
    "\n",
    "ในการวนรอบที่ $k$:\n",
    "* คำนวณค่า $dW, db$ สำหรับข้อมูลกลุ่มย่อยขณะนั้น\n",
    "* คำนวณการเปลี่ยนแปลงของตัวแปร $S_{dW}, S_{db}$\n",
    "$$\n",
    "S_{dW} = \\beta_2 S_{dW} + (1 - \\beta_2)(dW)^2 \\tag{3.19}\n",
    "$$\n",
    "$$\n",
    "S_{db} = \\beta_2 S_{db} + (1 - \\beta_2)(db)^2 \\tag{3.20}\n",
    "$$\n",
    "โดย $dW^2, db^2$ คือการยกกำลังสองสำหรับแต่ละสมาชิก (element-wise) และไฮเปอร์พารามิเตอร์สำหรับวิธี \n",
    "RMSprop คือ $\\beta_2$ จะใช้ตัวห้อย 2 เพื่อให้แตกต่างจากที่ใช้ในวิธีโมเมนตัม \n",
    "\n",
    "* ปรับค่าพารามิเตอร์โดยใช้ $dW, db$ ที่ถูกปรับมาตราส่วนโดยรากกำลังสองของ $S_{dW}, S_{db}$ \n",
    "สำหรับค่า $\\epsilon$ เป็นค่าน้อยเช่น $10^{-8}$ มีไว้เพื่อป้องกันปัญหาจากการหารด้วยศููนย์\n",
    "$$\n",
    "W := W - \\alpha \\frac{dW}{\\sqrt{S_{dW}}+\\epsilon} \\tag{3.21}\n",
    "$$\n",
    "$$\n",
    "b := b - \\alpha \\frac{db}{\\sqrt{S_{db}}+\\epsilon}  \\tag{3.22}\n",
    "$$\n",
    "\n",
    "เมื่อดูเค้าโครงแล้วคงพอเข้าใจถึงเหตุผลที่เรียกวิธีการนี้ว่า \"การแพร่กระจายแบบรากกำลังสองเฉลี่ย\" จากข้อสมมุติก่อนหน้านี้ \n",
    "ในทิศทางของพารามิเตอร์ $b$ ที่มีการแกว่งมากกว่า $W$ ทำให้ค่ากำลังสองของความชัน $(db)^2$ \n",
    "จะมีค่าสูงกว่า $(dW)^2$ ส่งผลให้ $S_{db}$ มีค่าสูงกว่า $S_{dW}$ \n",
    "ดังนั้นอัตราการปรับค่าพารามิเตอร์ $b$ จะต่ำกว่าอัตราการปรับค่า $W$ เนื่องจากถูกหารด้วยพจน์ $\\sqrt{S_{db}}$ \n",
    "ที่มีค่าสูงกว่า $\\sqrt{S_{dW}}$ \n",
    "\n",
    "สรุปสำหรับกรณีทั่วไป ตัวหาค่าเหมาะที่สุดแบบ RMSprop จะปรับอัตราการเรียนรู้ของพารามิเตอร์ที่มีการแกว่ง (ความชันสูง) \n",
    "ให้น้อยกว่าอัตราของพารามิเตอร์ที่เรียบ (ความชันต่ำ) \n",
    "ซึ่งจะช่วยทำให้การลดค่าเกรเดียนต์ทำได้เร็วขึ้นโดยไม่เกิดการลู่ออกของพารามิเตอร์ที่มีการแกว่งมาก\n",
    "\n",
    "ในไลบรารี TF มีตัวหาค่าเหมาะที่สุดแบบ rmsprop ให้เลือกใช้ โดยใน model.compile() กำหนด optimizer=RMSprop \n",
    "หรือสร้างออปเจ็กในบรรทัดต่างหากเพื่อกำหนดค่าอาร์กิวเมนต์ได้ \n",
    "\n",
    "### 3.4.4 วิธีการ Adam\n",
    "\n",
    "Adam มิใช่ชื่อบุคคลหรือรัสพจน์แต่เป็นขั้นตอนวิธีหาค่าเหมาะที่สุดที่อนุพัทธ์จาก \"adaptive moment estimation\" \n",
    "เป็นเสมือนการต่อยอดจากวิธีโมเมนตัมและ RMSprop มีเค้าโครงเป็นดังนี้\n",
    "\n",
    "* กำหนดตัวแปร $V_{dW}, V_{db}, S_{dW}, S_{db}$ ที่จะใช้ปรับค่าพารามิเตอร์ $W, b$ ในแต่ละขั้น โดยตั้งค่าเริ่มต้นเป็นศูนย์\n",
    "\n",
    "ในการวนรอบที่ $k$:\n",
    "* คำนวณค่า $dW, db$ สำหรับข้อมูลกลุ่มย่อยขณะนั้น\n",
    "* คำนวณการเปลี่ยนแปลงของตัวแปร $V_{dW}, V_{db}, S_{dW}, S_{db}$\n",
    "$$\n",
    "V_{dW} = \\beta_1 V_{dW} + (1 - \\beta_1)dW \\tag{3.33}\n",
    "$$\n",
    "$$\n",
    "V_{db} = \\beta_1 V_{db} + (1 - \\beta_1)db \\tag{3.34}\n",
    "$$\n",
    "$$\n",
    "S_{dW} = \\beta_2 S_{dW} + (1 - \\beta_2)(dW)^2 \\tag{3.35}\n",
    "$$\n",
    "$$\n",
    "S_{db} = \\beta_2 S_{db} + (1 - \\beta_2)(db)^2 \\tag{3.36}\n",
    "$$\n",
    "โดย $dW^2, db^2$ คือการยกกำลังสองสำหรับแต่ละสมาชิก (element-wise) และสำหรับวิธี Adam \n",
    "จะใช้การแก้ไขค่าเอนเอียงกับ $V_{dW}, V_{db}, S_{dW}, S_{db}$ แทนด้วยตัวแปร \n",
    "$V_{dWc}, V_{dbc},S_{dWc}, S_{dbc}$\n",
    "$$\n",
    "V_{dWc}= \\frac{V_{dW}}{(1-\\beta_1^k)} \\tag{3.37}\n",
    "$$\n",
    "$$\n",
    "V_{dbc} = \\frac{V_{db}}{(1-\\beta_1^k)} \\tag{3.38}\n",
    "$$\n",
    "$$\n",
    "S_{dWc} = \\frac{S_{dW}}{(1-\\beta_2^k)} \\tag{3.39}\n",
    "$$\n",
    "$$\n",
    "S_{dbc} = \\frac{S_{db}}{(1-\\beta_2^k)} \\tag{3.40}\n",
    "$$\n",
    "* ปรับค่าพารามิเตอร์โดยใช้ $V_{dWc}, V_{dbc}$ \n",
    "ที่ถูกปรับมาตราส่วนโดยรากกำลังสองของ $S_{dWc}, S_{dbc}$ \n",
    "สำหรับค่า $\\epsilon$ เป็นค่าน้อยเช่น $10^{-8}$ มีไว้เพื่อป้องกันปัญหาจากการหารด้วยศููนย์\n",
    "$$\n",
    "W := W - \\alpha \\frac{V_{dWc}}{\\sqrt{S_{dWc}}+\\epsilon} \\tag{3.41}\n",
    "$$\n",
    "$$\n",
    "b := b - \\alpha \\frac{V_{dbc}}{\\sqrt{S_{dbc}}+\\epsilon}  \\tag{3.42}\n",
    "$$\n",
    "\n",
    "จะเห็นว่าวิธีการ Adam มีไฮเปอร์พารามิเตอร์หลายตัว ค่าที่แนะนำในเบื้องต้นคือ\n",
    "\n",
    "* อัตราการเรียนรู้ $\\alpha$ ต้องมีการปรับแต่ง\n",
    "* ตั้งค่า $\\beta_1 = 0.9$ \n",
    "* ตั้งค่า $\\beta_2 = 0.999$ \n",
    "* กำหนด $\\epsilon = 10^{-8}$ (ค่านี้ไม่มีผลมากนักกับสมรรถนะ)\n",
    "\n",
    "**ตัวอย่าง 3.7**\n",
    "\n",
    "ต้องการทดลองใช้ขั้นตอนวิธีหาค่าเหมาะที่สุด 3 แบบกับข้อมูลที่มีให้ในไลบรารี sklearn คือ moons \n",
    "เป็นการจำแนกทวิภาคจุดข้อมูลที่มีลักษณะเหมือนจันทร์เสี้ยว 2 ดวงคาบเกี่ยวกันดังเช่นในรูปที่ 3.23 เขียนฟังก์ชัน \n",
    "load_moons_dataset() และเรียกใช้เพื่อจัดรูปข้อมูลสำหรับฝึกและทดสอบ "
   ]
  },
  {
   "cell_type": "code",
   "execution_count": 3,
   "metadata": {},
   "outputs": [],
   "source": [
    "def load_moons_dataset():\n",
    "    np.random.seed(3)\n",
    "    train_X, train_Y = sklearn.datasets.make_moons(n_samples=300, noise=.2) #300 #0.2 \n",
    "    np.random.seed(2)\n",
    "    test_X, test_Y = sklearn.datasets.make_moons(n_samples=100, noise=.2) #100 #0.2 \n",
    "    train_Y = train_Y[:,np.newaxis]\n",
    "    test_Y = test_Y[:,np.newaxis]\n",
    "    \n",
    "    for i in range(len(train_Y)):\n",
    "        if train_Y[i,0] == 1:\n",
    "            plt.scatter(train_X[i,0],train_X[i,1],c='orange', marker='^',s=40)\n",
    "        else:\n",
    "            plt.scatter(train_X[i,0],train_X[i,1],c='blue', marker='s',s=40)    \n",
    "    \n",
    "    return train_X, train_Y, test_X, test_Y"
   ]
  },
  {
   "cell_type": "code",
   "execution_count": 4,
   "metadata": {},
   "outputs": [
    {
     "data": {
      "image/png": "[encoded data removed]",
      "text/plain": [
       "<Figure size 504x288 with 1 Axes>"
      ]
     },
     "metadata": {
      "needs_background": "light"
     },
     "output_type": "display_data"
    }
   ],
   "source": [
    "train_X, train_Y, test_X, test_Y = load_moons_dataset()"
   ]
  },
  {
   "cell_type": "markdown",
   "metadata": {},
   "source": [
    "รูปที่ 3.23 ชุดข้อมูลสองประเภทที่เรียงตัวรูปจันทร์เสี้ยว 2 ดวง\n",
    "\n",
    "สร้างโมเดล 3 ชั้นที่มีเซลล์แต่ละชั้นเท่ากับ 5,2,1 "
   ]
  },
  {
   "cell_type": "code",
   "execution_count": null,
   "metadata": {},
   "outputs": [],
   "source": [
    "model = Sequential([\n",
    "    Flatten(input_shape=[2]),\n",
    "    Dense(5,  activation='relu'),\n",
    "    Dense(2,  activation = 'relu'),\n",
    "    Dense(1, activation = 'sigmoid')\n",
    "])"
   ]
  },
  {
   "cell_type": "markdown",
   "metadata": {},
   "source": [
    "การกำหนดตัวหาค่าเหมาะที่สุดจะอยู่ในขั้้นตอนคอมไพล์ โดยจะเปรียบเทียบระหว่างวิธี SGD() ที่ตั้งค่า momentum=0.9 \n",
    "วิธี RMSprop() และวิธี Adam() ใช้อัตราการเรียนรู้ 0.01 ผู้อ่านสามารถเลือกระหว่าง 3 คำสั่งในเซลล์นี้ \n",
    "โดยสามารถทดลองเพิ่มการกำหนดค่าไฮเปอร์พารามิเตอร์ได้ตามต้องการ \n"
   ]
  },
  {
   "cell_type": "code",
   "execution_count": null,
   "metadata": {},
   "outputs": [],
   "source": [
    "# choose your optimizer\n",
    "model.compile(optimizer=SGD(learning_rate=0.01,momentum=0.9),loss='binary_crossentropy', metrics=['accuracy'])\n",
    "model.compile(optimizer=RMSprop(learning_rate=0.01),loss='binary_crossentropy', metrics=['accuracy'])\n",
    "model.compile(optimizer=Adam(learning_rate=0.01),loss='binary_crossentropy', metrics=['accuracy'])"
   ]
  },
  {
   "cell_type": "markdown",
   "metadata": {},
   "source": [
    "ผึกจำนวน 5000 รอบ โดยแบ่งข้อมูลฝึกเป็นกลุ่มเล็กขนาด 32 พล็อตค่าความแม่นยำและค่าสูญเสียจากการฝึก รวมถึงเส้นแบ่งอาณาเขตเปรียบเทียบกันได้ผลดังในรูปที่ \n",
    "3.24 พบว่ามีสมรรถนะใกล้เคียงกัน  "
   ]
  },
  {
   "cell_type": "code",
   "execution_count": null,
   "metadata": {},
   "outputs": [],
   "source": [
    "history = model.fit(train_X, train_Y, epochs=5000, batch_size=32,validation_data=(test_X,test_Y),verbose=0)\n",
    "plot_acc_loss(history)"
   ]
  },
  {
   "cell_type": "code",
   "execution_count": null,
   "metadata": {},
   "outputs": [],
   "source": [
    "plot_decision_regions(test_X, np.squeeze(test_Y), clf=model, legend=2)\n",
    "plt.xlim([-1.5,2.5])\n",
    "plt.ylim([-1.0,1.5])\n",
    "plt.show()"
   ]
  },
  {
   "cell_type": "markdown",
   "metadata": {},
   "source": [
    "<p />  \n",
    "<p align=\"center\">\n",
    "<img src=\"https://drive.google.com/uc?id=1zjvOGP62DQD2SDS_3Yf2torQ6sMF9OKA\" width750 />\n",
    "</p>\n",
    "<div align=\"center\">รูปที่ 3.24 เปรียบเทียบผลจากการใช้ตัวหาค่าเหมาะที่สุด 3 ประเภท</div>\n",
    "\n",
    "### 3.4.5 การลดระดับอัตราการเรียนรู้\n",
    "\n",
    "ในตัวอย่างที่ผ่านมาเราได้กำหนดอัตราการเรียนรู้เป็นค่าคงที่ตลอดการฝึก ข้อเสียคือเมื่อมีการแบ่งข้อมูลกลุ่มเล็กหรือใช้วิธีสโทแคสติก (รูปที่ 3.21) \n",
    "ค่าพารามิเตอร์ที่ถูกปรับแต่ละขั้นยังคงมีขนาดใหญ่แม้เข้าใกล้จุดต่ำสุด ดังนั้นเราสามารถปรับปรุงสมรรถนะของโมเดลได้โดยปรับค่าของอัตราเรียนรู้ให้มีค่าลดลงตามจำนวนรอบการฝึก\n",
    "หลักการนี้เรียกว่า การลดระดับอัตราการเรียนรู้ (learning rate decay)\n",
    "\n",
    "วิธีการพื้นฐานคือ ตั้งค่าอัตราการเรียนรู้ให้ขึ้นกับรอบของการประมวลผลข้อมูลทั้งชุด (ภาษาอังกฤษใช้คำว่า \"epoch\") \n",
    "\n",
    "$$\n",
    "\\alpha = \\frac{1}{1+decay\\_rate*epoch\\_no}\\alpha_0 \\tag{3.43}\n",
    "$$\n",
    "\n",
    "โดย $\\alpha_0$ คือค่าเริ่มต้นของอัตราการเรียนรู้ $decay\\_rate$ คืออัตราการลดระดับ และ $epoch\\_no$ คือหมายเลขของจำนวนรอบการฝึกเริ่มจาก \n",
    "$1,2,\\ldots$ ตัวอย่างเช่นเมื่อกำหนด $\\alpha_0 = 0.2, decay\\_rate = 1$ \n",
    "ค่าอัตราการเรียนรู้เทียบกับจำนวนรอบจะมีค่า $0.1, 0.067, 0.05, 0.04, \\ldots $\n",
    "\n",
    "วิธีการอื่นที่มีการใช้งานกันคือการลดระดับเชิงเลขชี้กำลัง \n",
    "\n",
    "$$\n",
    "\\alpha = 0.95^{epoch\\_no}\\alpha_0 \\tag{3.44}\n",
    "$$\n",
    "\n",
    "หรือในรูปตัวประกอบการลดระดับอื่นๆ เช่น\n",
    "\n",
    "$$\n",
    "\\alpha = \\frac{k}{\\sqrt{epoch\\_no}} \\alpha_0 \\tag{3.45}\n",
    "$$\n",
    "\n",
    "โดย $k$ คือค่าคงที่ การลดระดับอัตราการเรียนรู้อาจเป็นแบบไม่ต่อเนื่องก็ได้ สังเกตว่าใน (3.43)-(3.45) \n",
    "การลดระดับจะอยู่ในรูปสมการทางคณิตศาสตร์ อีกวิธีหนึ่งที่นิยมใช้คือการวัดค่าความแม่นยำหรือค่าสูญเสียระหว่างการฝึก \n",
    "เพื่อปรับค่าอัตราการเรียนรู้ให้เหมาะสม หากใช้ไลบรารี TF สามารถเขียนฟังก์ชันเรียกกลับเพื่อทำงานดังกล่าวได้ "
   ]
  },
  {
   "cell_type": "markdown",
   "metadata": {},
   "source": [
    "## 3.5 การทำกลุ่มให้เป็นบรรทัดฐาน\n",
    "\n",
    "หัวข้อ 3.3.1 ได้กล่าวถึงการทำอินพุตให้เป็นบรรทัดฐานโดยหักค่าเฉลี่ยและใช้ความแปรปรวนปรับมาตราส่วน \n",
    "ซึ่งสามารถช่วยทำให้การฝึกข้อมูลทำงานเร็วขึ้น เราสามารถขยายหลักการนี้เพื่อใช้กับชั้นแฝงภายในโครงข่ายประสาทเทียมได้ \n",
    "เรียกวิธีนี้ว่า การทำกลุ่มให้เป็นบรรทัดฐาน (batch normalization) ถูกนำเสนอโดย Sergey Ioffe \n",
    "และ Christian Szegedy ในปี ค.ศ. 2015 ต่อไปจะเรียกโดยย่อว่า แบตช์นอร์ม \n",
    "\n",
    "แนวคิดของวิธีแบตช์นอร์มคือ พิจารณาชั้นแฝง $l$ ใน DNN ในการฝึกเพื่อปรับค่าพารามิเตอร์ $W^{[l]},b^{[l]}$ \n",
    "อินพุตของชั้นแฝงนี้คือ $a^{[l-1]}$ ซึ่งจากหลักการที่อธิบายในหัวข้อ 3.3.1 ต้องการเลื่อนและปรับมาตราส่วนข้อมูล $a^{[l-1]}$ \n",
    "เพื่อให้การปรับค่าพารามิเตอร์ $W^{[l]},b^{[l]}$ ทำได้อย่างมีประสิทธิภาพขึ้น อย่างไรก็ตามในการใช้วิธีแบตช์นอร์ม \n",
    "พบว่านิยมปรับค่าของ $z^{[l-1]}$ ซึ่งเป็นเอาต์พุตเชิงเส้นของชั้นก่อนหน้าก่อนจะผ่านฟังก์ชันกระตุ้น \n",
    "\n",
    "การอิมพลิเมนต์แบตช์นอร์มทำได้ดังนี้ พิจารณาชั้น $l$ ของ DNN เอาต์พุตในส่วนเชิงเส้นคือ $z^{(1)}, \\ldots, z^{(m)}$\n",
    "(เพื่อให้อ่านง่ายขึ้นจะละเว้นการระบุชั้น โดยเขียน $z^{(i)}$ แทน $z^{[l](i)}$) \n",
    "\n",
    "* คำนวณค่าเฉลี่ย\n",
    "$$\n",
    "\\mu = \\frac{1}{m}\\sum_{i=1}^mz^{(i)} \\tag{3.46}\n",
    "$$\n",
    "\n",
    "* คำนวณค่าความแปรปรวน\n",
    "$$\n",
    "\\sigma^2 = \\frac{1}{m}\\sum_{i=1}^m(z^{(i)}-\\mu)^2 \\tag{3.47}\n",
    "$$\n",
    "\n",
    "*ปรับค่าเอาต์พุต $z^{(i)}$ ให้เป็นบรรทัดฐาน\n",
    "$$\n",
    "z_{norm}^{(i)} = \\frac{z^{(i)}-\\mu}{\\sqrt{\\sigma^2+\\epsilon}} \\tag{3.48}\n",
    "$$\n",
    "\n",
    "โดย $\\epsilon$ ที่มีค่าน้อย ใส่ไว้เพื่อความเสถียรเชิงเลขกรณีที่ $\\sigma^2 = 0$ \n",
    "แต่ว่าในกรณีของเซลล์ชั้นแฝงเราไม่ต้องการให้เอาต์พุตมีค่าเฉลี่ยเป็นศูนย์และความแปรปรวนหนึ่งหน่วยตลอดเวลา \n",
    "ดังนั้นจะปรับค่าเป็น\n",
    "$$\n",
    "\\tilde{z}^{(i)} = \\gamma z_{norm}^{(i)} + \\beta \\tag{3.49}\n",
    "$$\n",
    "\n",
    "และใช้ค่านี้ผ่านเข้าฟังก์ชันกระตุ้นแทน $z^{(i)}$ เดิม โดยค่าของ $\\gamma, \\beta$ คือพารามิเตอร์ที่เรียนรู้ได้ (learnable parameters) \n",
    "คือสามารถใช้ขั้นตอนวิธีลดค่าเกรเดียนต์ประเภทต่างๆ ที่กล่าวถึงแล้วในการปรับค่าพารามิเตอร์เข้าสู่ค่าเหมาะที่สุด \n",
    "สังเกตว่าค่า $\\beta$ ในวิธีแบตช์นอร์มนี้ไม่มีส่วนเกี่ยวข้องใดๆ กับ $\\beta$ ของวิธี EWA ที่กล่าวถึงในหัวข้อก่อนหน้านี้ \n",
    "เหตุผลเพียงต้องการคงไว้ให้เหมือนในบทความต้นกำเนิดสำหรับผู้ที่ต้องการศึกษาเพิ่มเติมจากบทความ \n",
    "\n",
    "ผลกระทบของ $\\gamma, \\beta$ คือช่วยทำให้เราสามารถปรับ $\\tilde{z}^{(i)}$ \n",
    "ให้มีค่าเฉลี่ยและค่าความแปรปรวนตามต้องการก่อนผ่านเข้าสู่ฟังก์ชันกระตุ้นของชั้นแฝงนั้น \n",
    "ซึ่งวิธีการแบตช์นอร์มสามารถถูกใช้กับชั้นแฝงใดๆ ของ DNN \n",
    "ในการอิมพลิเมนต์โดยเขียนโค้ดเองอาจลดทอนความซับซ้อนของสมการลงได้เมื่อพิจารณาว่าค่าเอนเอียง $b$ และตัวแปร $\\beta$ มีความซ้ำซ้อนกัน \n",
    "ทำให้สามารถตัดค่าเอนเอียง $b$ ทิ้งไปได้ อย่างไรก็ตาม ในการใช้ไลบรารีเช่น TF เราสามารถกำหนดชั้นแบตช์นอร์มได้โดยไม่จำเป็นต้องอิมพลิเมนต์ \n",
    "(3.46) - (3.49) เพียงสอดแทรกชั้น BatchNormalization() ในโมเดลตามตำแหน่งที่ต้องการ"
   ]
  },
  {
   "cell_type": "markdown",
   "metadata": {},
   "source": [
    "**ตัวอย่าง 3.8**\n",
    "\n",
    "ในตัวอย่างนี้จะสร้างโมเดล DNN สำหรับจำแนกเซตข้อมูล The Street View House Number (SVHN) จากเว็บไซต์ \n",
    "http://ufldl.stanford.edu/housenumbers/ โดยภาพจะเป็นเลขที่บ้านจริงที่เก็บภาพจาก Google Street View ซึ่งเป็นปัญหาที่ยากกว่าภาพจาก \n",
    "MNIST ถึงแม้ว่าจะเป็นการจำแนกตัวเลข 0 - 9 เช่นเดียวกัน แต่ละภาพมีขนาด 32 x 32 ตัวอย่างภาพแสดงในรูปที่ 3.25\n",
    "\n",
    "<p />  \n",
    "<p align=\"center\">\n",
    "<img src=\"https://drive.google.com/uc?id=1zUgIFiiVQ61syZAghK1hVELEWz6ZvLRT\" width750 />\n",
    "</p>\n",
    "<div align=\"center\">รูปที่ 3.25 ตัวอย่างภาพจากเซตข้อมูล The Street View House Number (SVHN) \n",
    "<br>http://ufldl.stanford.edu/housenumbers/</div>\n",
    "\n",
    "เข้าไปที่ลิงก์ของเว็บไซต์เพื่อดาวน์โหลดไฟล์ train_32x32.mat, test_32x32.mat เก็บในไดเรคทอรีย่อย /data \n",
    "หลังจากนั้นใช้ฟังก์ชัน loadmat() ของไลบรารี scipy.io เพื่อโหลดภาพ"
   ]
  },
  {
   "cell_type": "code",
   "execution_count": 3,
   "metadata": {},
   "outputs": [],
   "source": [
    "train = loadmat('data/train_32x32.mat')\n",
    "test = loadmat('data/test_32x32.mat')"
   ]
  },
  {
   "cell_type": "markdown",
   "metadata": {},
   "source": [
    "โดย train และ test คือดิกชันนารีที่มีคีย์ x และ y สำหรับภาพอินพุตและเลเบลตามลำดับ โดยมีจำนวนตัวอย่างฝึก 73257 และตัวอย่างทดสอบ 26032\n",
    "ขั้นต่อมาคือแยกภาพและเลเบลสำหรับฝึกและทดสอบจากดิกชันนารี \n",
    "และเพื่อให้สอดคล้องกับรูปเทนเซอร์ที่ใช้กับโมเดล TF จะต้องสลับแกนให้จำนวนตัวอย่างเป็นมิติแรก"
   ]
  },
  {
   "cell_type": "code",
   "execution_count": 5,
   "metadata": {},
   "outputs": [],
   "source": [
    "train_images_rgb, train_labels = train['X'],train['y']\n",
    "test_images_rgb, test_labels = test['X'],test['y']\n",
    "\n",
    "train_images_rgb = np.moveaxis(train_images_rgb, 3,0) # permute axis so that number of samples come first\n",
    "test_images_rgb = np.moveaxis(test_images_rgb, 3,0)\n",
    "N = train_images_rgb.shape[0]"
   ]
  },
  {
   "cell_type": "markdown",
   "metadata": {},
   "source": [
    "เนื่องจากภาพสีไม่มีความสำคัญสำหรับการจำแนกในโจทย์ปัญหานี้ เราจะแปลงภาพเป็นสีเทาและปรับมาตราส่วนให้แต่ละพิกเซลมีค่า 0 - 1 \n",
    "เพื่อทำให้ฝึกโมเดลได้มีประสิทธิภาพมากขึ้น (ป้องกันปัญหาค่าเกรเดียนต์สูงเกิน) ทดลองสุ่มภาพเพื่อแสดงจำนวน 10 ภาพ"
   ]
  },
  {
   "cell_type": "code",
   "execution_count": 8,
   "metadata": {},
   "outputs": [
    {
     "data": {
      "image/png": "[encoded data removed]",
      "text/plain": [
       "<Figure size 720x72 with 10 Axes>"
      ]
     },
     "metadata": {
      "needs_background": "light"
     },
     "output_type": "display_data"
    }
   ],
   "source": [
    "train_images = np.mean(train_images_rgb,axis=-1,keepdims=True)/255.\n",
    "test_images = np.mean(test_images_rgb,axis=-1,keepdims=True)/255.\n",
    "m = np.random.choice(N,10)\n",
    "fig, ax = plt.subplots(1, 10, figsize=(10, 1))\n",
    "for i in range(10):\n",
    "    ax[i].set_axis_off()\n",
    "    ax[i].set_title(np.array2string(train_labels[m[i]]))\n",
    "    ax[i].imshow(np.squeeze(train_images[m[i]]),cmap='gray')"
   ]
  },
  {
   "cell_type": "markdown",
   "metadata": {},
   "source": [
    "มีอีกจุดหนึ่งที่ต้องแก้ไขสำหรับชุดข้อมูลนี้คือภาพที่แสดงเลข 0 จะมีเลเบลเป็น 10 เราจะเปลี่ยนเลเบลเป็น 0 "
   ]
  },
  {
   "cell_type": "code",
   "execution_count": 9,
   "metadata": {},
   "outputs": [],
   "source": [
    "train_labels = np.where(train_labels==10,0,train_labels)\n",
    "test_labels = np.where(test_labels==10,0,test_labels)"
   ]
  },
  {
   "cell_type": "markdown",
   "metadata": {},
   "source": [
    "นำเข้าไลบรารีทั้งหมดที่ต้องการใช้ในการสร้างโมเดล DNN"
   ]
  },
  {
   "cell_type": "code",
   "execution_count": 10,
   "metadata": {},
   "outputs": [],
   "source": [
    "from tensorflow.keras.models import Sequential\n",
    "from tensorflow.keras.layers import Dense, Flatten, BatchNormalization\n",
    "from tensorflow.keras.callbacks import Callback, EarlyStopping, LearningRateScheduler \n",
    "from tensorflow.keras.optimizers import Adam"
   ]
  },
  {
   "cell_type": "markdown",
   "metadata": {},
   "source": [
    "เราจะทดลองใช้โมเดลที่มีชั้นปกติ 4 ชั้น มีเซลล์ 128, 256, 128, 10 และคั่นแต่ละชั้นแฝงด้วยชั้นแบตช์นอร์ม \n",
    "แต่ละชั้นใช้ฟังก์ชันกระตุ้นแบบ ReLU ยกเว้นชั้นเอาต์พุตที่เป็นแบบ softmax\n",
    "(ผู้อ่านสามารถทดลองปรับหรือเพิ่มชั้นในโมเดลตามใจชอบ)"
   ]
  },
  {
   "cell_type": "code",
   "execution_count": 11,
   "metadata": {},
   "outputs": [],
   "source": [
    "model = Sequential([\n",
    "    Flatten(input_shape=(32,32,1)),\n",
    "    Dense(128, activation='relu'),\n",
    "    BatchNormalization(),\n",
    "    Dense(256, activation = 'relu'),\n",
    "    BatchNormalization(),\n",
    "    Dense(128, activation = 'relu'),\n",
    "    BatchNormalization(),\n",
    "    Dense(10, activation = 'softmax')    \n",
    "])\n"
   ]
  },
  {
   "cell_type": "code",
   "execution_count": 12,
   "metadata": {},
   "outputs": [
    {
     "name": "stdout",
     "output_type": "stream",
     "text": [
      "Model: \"sequential\"\n",
      "_________________________________________________________________\n",
      "Layer (type)                 Output Shape              Param #   \n",
      "=================================================================\n",
      "flatten (Flatten)            (None, 1024)              0         \n",
      "_________________________________________________________________\n",
      "dense (Dense)                (None, 128)               131200    \n",
      "_________________________________________________________________\n",
      "batch_normalization (BatchNo (None, 128)               512       \n",
      "_________________________________________________________________\n",
      "dense_1 (Dense)              (None, 256)               33024     \n",
      "_________________________________________________________________\n",
      "batch_normalization_1 (Batch (None, 256)               1024      \n",
      "_________________________________________________________________\n",
      "dense_2 (Dense)              (None, 128)               32896     \n",
      "_________________________________________________________________\n",
      "batch_normalization_2 (Batch (None, 128)               512       \n",
      "_________________________________________________________________\n",
      "dense_3 (Dense)              (None, 10)                1290      \n",
      "=================================================================\n",
      "Total params: 200,458\n",
      "Trainable params: 199,434\n",
      "Non-trainable params: 1,024\n",
      "_________________________________________________________________\n"
     ]
    }
   ],
   "source": [
    "model.summary()"
   ]
  },
  {
   "cell_type": "markdown",
   "metadata": {},
   "source": [
    "คอมไพล์โดยเลือกตัวหาค่าเหมาะที่สุดแบบ Adam อัตราการเรียนรู้ 0.001 "
   ]
  },
  {
   "cell_type": "code",
   "execution_count": 13,
   "metadata": {},
   "outputs": [],
   "source": [
    "model.compile(optimizer=Adam(learning_rate=0.001),\n",
    "             loss='sparse_categorical_crossentropy',\n",
    "             metrics=['accuracy'])"
   ]
  },
  {
   "cell_type": "markdown",
   "metadata": {},
   "source": [
    "ในการฝึกเราจะใช้วิธีการลดระดับอัตราการเรียนรู้ตามสมการ (3.43) โดยกำหนด $decay\\_rate = 1$ เขียนเป็นฟังก์ชัน scheduler() ได้ดังนี้"
   ]
  },
  {
   "cell_type": "code",
   "execution_count": 14,
   "metadata": {},
   "outputs": [],
   "source": [
    "def scheduler(epoch, lr):\n",
    "    return lr * (1/(1+epoch))"
   ]
  },
  {
   "cell_type": "markdown",
   "metadata": {},
   "source": [
    "สร้างเป็นฟังก์ชันเรียกกลับ LearningRateScheduler() "
   ]
  },
  {
   "cell_type": "code",
   "execution_count": 15,
   "metadata": {},
   "outputs": [],
   "source": [
    "lr_scheduler = LearningRateScheduler(scheduler, verbose=1)"
   ]
  },
  {
   "cell_type": "markdown",
   "metadata": {},
   "source": [
    "สำหรับฟังก์ชันเรียกกลับอีกตัวหนึ่งจะใช้เป็นแบบ EarlyStopping() เพื่อลดการฟิตเกิน"
   ]
  },
  {
   "cell_type": "code",
   "execution_count": 16,
   "metadata": {},
   "outputs": [],
   "source": [
    "early_stopping = EarlyStopping(patience=3, monitor='val_accuracy', mode='max')"
   ]
  },
  {
   "cell_type": "markdown",
   "metadata": {},
   "source": [
    "ใส่ค่าอาร์กิวเมนต์ของ model.fit() โดยเลืกจำนวนการฝึก 30 รอบ ขนาดกลุ่มเล็ก 256 แบ่งข้อมูล 15% สำหรับตรวจสอบ \n",
    "และกำหนดค่าฟังก์ชันเรียกกลับที่สร้างไว้"
   ]
  },
  {
   "cell_type": "code",
   "execution_count": 17,
   "metadata": {},
   "outputs": [
    {
     "name": "stdout",
     "output_type": "stream",
     "text": [
      "Epoch 1/30\n",
      "\n",
      "Epoch 00001: LearningRateScheduler setting learning rate to 0.0010000000474974513.\n",
      "244/244 [==============================] - 2s 5ms/step - loss: 1.2752 - accuracy: 0.5945 - val_loss: 1.5027 - val_accuracy: 0.5138\n",
      "Epoch 2/30\n",
      "\n",
      "Epoch 00002: LearningRateScheduler setting learning rate to 0.0005000000237487257.\n",
      "244/244 [==============================] - 1s 4ms/step - loss: 0.7923 - accuracy: 0.7576 - val_loss: 1.1212 - val_accuracy: 0.6352\n",
      "Epoch 3/30\n",
      "\n",
      "Epoch 00003: LearningRateScheduler setting learning rate to 0.00016666667458290854.\n",
      "244/244 [==============================] - 1s 4ms/step - loss: 0.6693 - accuracy: 0.7987 - val_loss: 0.8090 - val_accuracy: 0.7485\n",
      "Epoch 4/30\n",
      "\n",
      "Epoch 00004: LearningRateScheduler setting learning rate to 4.166666985838674e-05.\n",
      "244/244 [==============================] - 1s 4ms/step - loss: 0.6211 - accuracy: 0.8133 - val_loss: 0.6745 - val_accuracy: 0.7954\n",
      "Epoch 5/30\n",
      "\n",
      "Epoch 00005: LearningRateScheduler setting learning rate to 8.333333971677348e-06.\n",
      "244/244 [==============================] - 1s 4ms/step - loss: 0.6061 - accuracy: 0.8182 - val_loss: 0.6576 - val_accuracy: 0.7987\n",
      "Epoch 6/30\n",
      "\n",
      "Epoch 00006: LearningRateScheduler setting learning rate to 1.388889055912538e-06.\n",
      "244/244 [==============================] - 1s 4ms/step - loss: 0.6031 - accuracy: 0.8181 - val_loss: 0.6550 - val_accuracy: 0.7987\n",
      "Epoch 7/30\n",
      "\n",
      "Epoch 00007: LearningRateScheduler setting learning rate to 1.9841271685956077e-07.\n",
      "244/244 [==============================] - 1s 4ms/step - loss: 0.6030 - accuracy: 0.8183 - val_loss: 0.6547 - val_accuracy: 0.7988\n",
      "Epoch 8/30\n",
      "\n",
      "Epoch 00008: LearningRateScheduler setting learning rate to 2.4801590114975625e-08.\n",
      "244/244 [==============================] - 1s 4ms/step - loss: 0.6013 - accuracy: 0.8182 - val_loss: 0.6549 - val_accuracy: 0.7983\n",
      "Epoch 9/30\n",
      "\n",
      "Epoch 00009: LearningRateScheduler setting learning rate to 2.7557322349972915e-09.\n",
      "244/244 [==============================] - 1s 4ms/step - loss: 0.6016 - accuracy: 0.8191 - val_loss: 0.6549 - val_accuracy: 0.7989\n",
      "Epoch 10/30\n",
      "\n",
      "Epoch 00010: LearningRateScheduler setting learning rate to 2.75573230901216e-10.\n",
      "244/244 [==============================] - 1s 4ms/step - loss: 0.6030 - accuracy: 0.8184 - val_loss: 0.6546 - val_accuracy: 0.7983\n",
      "Epoch 11/30\n",
      "\n",
      "Epoch 00011: LearningRateScheduler setting learning rate to 2.5052111900110546e-11.\n",
      "244/244 [==============================] - 1s 4ms/step - loss: 0.6018 - accuracy: 0.8196 - val_loss: 0.6548 - val_accuracy: 0.7987\n",
      "Epoch 12/30\n",
      "\n",
      "Epoch 00012: LearningRateScheduler setting learning rate to 2.087675952250345e-12.\n",
      "244/244 [==============================] - 1s 4ms/step - loss: 0.6019 - accuracy: 0.8183 - val_loss: 0.6546 - val_accuracy: 0.7988\n"
     ]
    }
   ],
   "source": [
    "history=model.fit(train_images, train_labels, epochs=30, batch_size=256, validation_split = 0.15,\n",
    "                  callbacks=[lr_scheduler,early_stopping])"
   ]
  },
  {
   "cell_type": "markdown",
   "metadata": {},
   "source": [
    "จากเอาต์พุตจะเห็นว่าในแต่ละรอบค่าอัตราการเรียนรู้ลดลงตาม (3.43) และจะหยุดการฝึกเมื่อเงื่อนไขที่กำหนดใน EarlyStopping() เป็นจริง \n",
    "พล็อตค่าความแม่นยำและค่าสูญเสียได้ดังในรูปที่ 3.26"
   ]
  },
  {
   "cell_type": "code",
   "execution_count": 19,
   "metadata": {},
   "outputs": [
    {
     "data": {
      "image/png": "[encoded data removed]",
      "text/plain": [
       "<Figure size 504x288 with 2 Axes>"
      ]
     },
     "metadata": {
      "needs_background": "light"
     },
     "output_type": "display_data"
    }
   ],
   "source": [
    "plot_acc_loss(history)"
   ]
  },
  {
   "cell_type": "markdown",
   "metadata": {},
   "source": [
    "รูปที่ 3.26 ค่าความแม่นยำและค่าสูญเสียสำหรับตัวอย่าง 3.8 \n",
    "\n",
    "เราสามารถประเมินความแม่นยำและค่าสูญเสียจากภาพที่ใช้ทดสอบโดยคำสั่ง model.evaluate() "
   ]
  },
  {
   "cell_type": "code",
   "execution_count": 20,
   "metadata": {},
   "outputs": [
    {
     "name": "stdout",
     "output_type": "stream",
     "text": [
      "Test loss: 0.738\n",
      "Test accuracy: 77.86%\n"
     ]
    }
   ],
   "source": [
    "test_loss, test_acc = model.evaluate(test_images, test_labels, verbose=0)\n",
    "print(\"Test loss: {:.3f}\\nTest accuracy: {:.2f}%\".format(test_loss, 100 * test_acc))"
   ]
  },
  {
   "cell_type": "markdown",
   "metadata": {},
   "source": [
    "รูปที่ 3.27 แสดงการสุ่มภาพจำนวน 5 ภาพจากชุดข้อมูลทดสอบ และดูผลการพยากรณ์จากโมเดลเปรียบเทียบกับเลเบลจริง \n",
    "กราฟแท่งทางด้านขวาแสดงค่าความน่าจะเป็นจากชั้นเอาต์พุตของโมเดล ซึ่งค่าสูงสุดคือตัวเลขที่โมเดลพยากรณ์\n",
    "รันเซลล์ด้านล่างหลายครั้งเพื่อเปลี่ยนภาพ สังเกตภาพที่โมเดลพยากรณ์ไม่ถูกต้องว่ามีองค์ประกอบใดที่สร้างความสับสน "
   ]
  },
  {
   "cell_type": "code",
   "execution_count": 22,
   "metadata": {},
   "outputs": [
    {
     "data": {
      "image/png": "[encoded data removed]",
      "text/plain": [
       "<Figure size 864x864 with 10 Axes>"
      ]
     },
     "metadata": {
      "needs_background": "light"
     },
     "output_type": "display_data"
    }
   ],
   "source": [
    "num_test_images = test_images.shape[0]\n",
    "random_inx = np.random.choice(num_test_images, 5)\n",
    "random_test_images = test_images[random_inx, ...]\n",
    "random_test_labels = test_labels[random_inx, ...]\n",
    "\n",
    "DNN_predictions = model.predict(random_test_images) \n",
    "\n",
    "fig, axes = plt.subplots(5, 2, figsize=(12, 12))\n",
    "fig.subplots_adjust(hspace=0.4, wspace=-0.2)\n",
    "\n",
    "for i, (prediction, image, label) in enumerate(zip(DNN_predictions, random_test_images, random_test_labels)):\n",
    "    axes[i, 0].imshow(np.squeeze(image),cmap='gray')\n",
    "    axes[i, 0].get_xaxis().set_visible(False)\n",
    "    axes[i, 0].get_yaxis().set_visible(False)\n",
    "    axes[i, 0].text(10., -1.5, f'Digit {label}')\n",
    "    axes[i, 1].bar(np.arange(len(prediction)), prediction)\n",
    "    axes[i, 1].set_xticks(np.arange(len(prediction)))\n",
    "    axes[i, 1].set_title(f\"Model prediction: {np.argmax(prediction)}\")\n",
    "\n",
    "plt.show()"
   ]
  },
  {
   "cell_type": "markdown",
   "metadata": {},
   "source": [
    "รูปที่ 3.27 ผลการพยากรณ์ภาพโดยโมเดล DNN\n",
    "\n",
    "## 3.6 สรุปท้ายบท\n",
    "\n",
    "เนื้อหาในบทนี้กล่าวถึงการปรับปรุงโมเดล DNN เพื่อเพิ่มประสิทธิภาพการเรียนรู้ โดยประกอบด้วยหลายส่วนตั้งแต่การจัดรูปข้อมูลเพื่อช่วยให้การฝึกง่ายและเร็วขึ้น \n",
    "การลดการฟิตเกินโดยทำเรกูลาร์ไรเซชันแบบต่างๆ วิธีดรอปเอาต์ และการหยุดฝึกตามเงื่อนไขที่กำหนด \n",
    "การกำหนดค่าเริ่มต้นของพารามิเตอร์สามารถช่วยให้ขั้นตอนวิธีลดค่าเกรเดียนต์ทำงานเร็วขึ้นโดยไม่ทำให้เกรเดียนต์มีค่ามากหรือน้อยเกินไป \n",
    "\n",
    "จากขั้นตอนวิธีลดค่าเกรเดียนต์ขั้นพื้นฐานได้มีการปรับปรุงสมรรถนะโดยเพิ่มพจน์ที่ช่วยลดทอนการแกว่งของความชันพารามิเตอร์ โดยทั่วไปวิธีการโมเมนตัม \n",
    "RMSprop หรือ Adam จะให้ผลดีกว่า SGD ดังนั้นจึงเป็นที่นิยมในการฝึกโมเดล โดยอาจใช้ร่วมกับวิธีการลดระดับอัตราการเรียนรู้ตามจำนวนรอบการฝึก \n",
    "\n",
    "การเพิ่มชั้นแบตช์นอร์มเป็นอีกวิธีหนึ่งในการปรับปรุงโมเดล โดยหลักการคือทำให้ค่าเฉลี่ยและความแปรปรวนของเอาต์พุตของชั้นแฝงเป็นพารามิเตอร์ที่เรียนรู้ได้ \n",
    "ทำให้มีค่าเหมาะสมสำหรับฟังก์ชันกระตุ้นในชั้นแฝงนั้น \n",
    "\n",
    "ถึงแม้ว่าโดยภาพรวมแล้วโมเดล DNN จะประกอบด้วยไฮเปอร์พารามิเตอร์หลายตัว แต่จะพบว่าบางตัวไม่มีผลกระทบเด่นชัดกับสมรรถนะการเรียนรู้ \n",
    "ตัวอย่างเช่นค่า $\\epsilon$ ที่ใส่ไว้เพื่อป้องกันการหารด้วยค่าศูนย์จะไม่เห็นความแตกต่างระหว่างค่า $10^{-6}, 10^{-7}, 10^{-8}$ \n",
    "ดังนั้นจึงไม่ควรเสียเวลาเพื่อแปรค่าไฮเปอร์พารามิเตอร์ตัวนี้ แตกต่างจากอัตราการเรียนรู้ $\\alpha$ ซึ่งอาจต้องใช้เวลาในการปรับแต่งเพื่อให้ได้ผลดี\n",
    "\n",
    "การปรับแต่งค่าไฮเปอร์พารามิเตอร์เป็นเพียงการทำให้โมเดลมีคุณภาพดีที่สุดเท่าที่จะทำได้สำหรับสถาปัตยกรรมโครงข่ายประสาทเทียมที่ใช้อยู่ \n",
    "หากพบว่าความแม่นยำยังไม่เป็นที่พอใจอาจต้องพิจารณาสถาปัตยกรรมอื่นที่เหมาะสมสำหรับโจทย์ปัญหานั้น ตัวอย่างเช่นในการจำแนกภาพโดยทั่วไป \n",
    "เรามักจะพบว่าการปรับแต่งไฮเปอร์พารามิเตอร์ไม่สามารถช่วยให้โมเดล DNN มีความแม่นยำสูงเกิน 90% ได้ \n",
    "ในบทต่อไปจะกล่าวถึงสถาปัตยกรรมที่เหมาะสมกว่าสำหรับงานจำแนกภาพ\n"
   ]
  },
  {
   "cell_type": "markdown",
   "metadata": {},
   "source": [
    "## โจทย์ปัญหา\n",
    "\n",
    "3-1 จากชุดข้อมูลที่มีให้ในไลบรารี sklearn ดังโจทย์ปัญหาข้อ 2-4 เขียนโค้ดไพธอนเพื่อสุ่มแยกข้อมูลเป็นชุดฝึกและชุดทดสอบตามอัตราส่วนที่กำหนด \n",
    "เช่น 80%, 20 % \n",
    "\n",
    "3-2 ในการฝึกโมเดลโดยไลบรารี TF เราสามารถกันข้อมูลส่วนหนึ่งเป็นชุดสำหรับตรวจสอบได้โดยใช้อาร์กิวเมนต์ \n",
    "validation_split ในเมธอด model.fit() เช่น validation_split=0.2 จะแยกข้อมูล 20% จากข้อมูลทั้งหมดสำหรับใช้ตรวจสอบ \n",
    "สร้างโมเดลเพื่อฝึกโดยใช้ข้อมูลจากโจทย์ข้อ 3-1 เปรียบเทียบระหว่างโมเดลเส้นฐาน การทำเรกูลาร์ไรเซชัน และดรอปเอาต์\n",
    "\n",
    "3-3 จากตัวอย่าง 3.5 ทดลองฝึกโมเดลด้วยจำนวนรอบที่มากขึ้น ผลการจำแนกมีความแม่นยำมากขึ้นหรือไม่ อธิบาย\n",
    "\n",
    "3-4 จากตัวอย่าง 3.5 ตั้งค่าเริ่มต้นของค่าน้ำหนัก $W \\in [a,b]$ โดยทดลองแปรค่าต่ำสุดและสูงสุด (อาจเลือกเป็นค่าลบได้โดย $a<b$) เพื่อดูผลที่เกิดขึ้น \n",
    "ท่านสามารถหาค่าของ $a, b$ ที่ให้ผลการพยากรณ์เป็นที่น่าพอใจได้หรือไม่\n",
    "\n",
    "3-5 มีการนำเสนอการตั้งค่าเริ่มต้นเพื่อกำหนดความแปรปรวนของ $W^{[l]}$ ในรูปแบบอื่นเช่น $\\frac{2}{n^{[l-1]}+n^{[l]}}$ \n",
    "สามารถทดลองใช้โดยตั้งค่า initializer เป็นแบบ GlorotNormal ทดลองใช้เพื่อเปรียบเทียบผลกับตัวอย่าง 3.6 \n",
    "\n",
    "3-6 ในการใช้ไลบรารี TF สามารถเปิดใช้วิธีโมเมนตัมในตัวหาค่าเหมาะที่สุดแบบ SGD() โดยกำหนดค่า momentum \n",
    "ให้มีค่ามากกว่าศูนย์ โดยการปรับค่าพารามิเตอร์ $w$ สำหรับเกรเดียนต์ $g$ จะเป็นดังนี้\n",
    "\n",
    "velocity = momentum*velocity - learning_rate*g\n",
    "w = w + velocity\n",
    "\n",
    "* เชื่อมโยงความสัมพันธ์ของโค้ดนี้กับเค้าโครงที่นำเสนอในหัวข้อย่อย 3.4.2 \n",
    "* ทดลองใช้โมเมนตัมกับข้อมูลในตัวอย่าง 3.6 เปรียบเทียบข้อมูลจากการฝึกเพื่อตรวจสอบว่าตัวหาค่าเหมาะที่สุดทำงานเร็วขึ้นหรือไม่\n",
    "\n",
    "3-7 วิธีการโมเมนตัมที่ถูกขยายเป็นขั้นสูงขึ้นเรียกว่า nesterov ซึ่งเลือกใช้ได้ในไลบรารี TF การเปิดใช้งานทำได้โดยตั้งค่า nesterov=True \n",
    "เป็นอาร์กิวเมนต์ของ SGD() กฏการปรับค่าเป็นดังนี้\n",
    "\n",
    "velocity = momentum * velocity - learning_rate * g\n",
    "w = w + momentum * velocity - learning_rate * g\n",
    "\n",
    "ทดลองใช้วิธี nesterov กับข้อมูลในตัวอย่าง 3.6\n",
    "\n",
    "3-8 จากตัวอย่าง 3.7 เลือกตัวหาค่าเหมาะที่สุดวิธีที่ท่านชอบ เขียนฟังก์ชันเรียกกลับเพื่อปรับค่าอัตราการเรียนรู้ให้ลดลงโดยใช้ไลบรารี\n",
    "tf.keras.callbacks.LearningRateScheduler()\n",
    "\n",
    "3-9 ทดลองปรับเปลี่ยนหรือเพิ่มเติมชั้นและไฮเปอร์พารามิเตอร์ของโมเดลในตัวอย่าง 3.8 ค่าความแม่นยำที่ดีที่สุดที่ท่านทำได้คือเท่าไร\n",
    "\n",
    "\n"
   ]
  },
  {
   "cell_type": "markdown",
   "metadata": {},
   "source": [
    "<p align=\"center\">\n",
    "<img src=\"https://drive.google.com/thumbnail?id=13bzT7Rmy3bzvE7TiS0yfQo94kpxMuipF\" alt=\"dewninja\"/>\n",
    "</p>\n",
    "<div align=\"center\">dew.ninja 2022</div>"
   ]
  }
 ],
 "metadata": {
  "kernelspec": {
   "display_name": "Python 3.9 (tensorflow)",
   "language": "python",
   "name": "tensorflow"
  },
  "language_info": {
   "codemirror_mode": {
    "name": "ipython",
    "version": 3
   },
   "file_extension": ".py",
   "mimetype": "text/x-python",
   "name": "python",
   "nbconvert_exporter": "python",
   "pygments_lexer": "ipython3",
   "version": "3.9.9"
  }
 },
 "nbformat": 4,
 "nbformat_minor": 4
}
